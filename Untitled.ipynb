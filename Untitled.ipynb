{
 "cells": [
  {
   "cell_type": "code",
   "execution_count": 1,
   "metadata": {},
   "outputs": [],
   "source": [
    "import pandas as pd\n",
    "import numpy as np"
   ]
  },
  {
   "cell_type": "code",
   "execution_count": 4,
   "metadata": {},
   "outputs": [],
   "source": [
    "autoencoded = np.load('./Encoded/autoencoded_distilbert-base-uncased_1024.npy')"
   ]
  },
  {
   "cell_type": "code",
   "execution_count": 5,
   "metadata": {},
   "outputs": [
    {
     "data": {
      "text/plain": [
       "(555583, 1024)"
      ]
     },
     "execution_count": 5,
     "metadata": {},
     "output_type": "execute_result"
    }
   ],
   "source": [
    "autoencoded.shape"
   ]
  },
  {
   "cell_type": "code",
   "execution_count": 8,
   "metadata": {},
   "outputs": [],
   "source": [
    "bgm = BayesianGaussianMixture(n_components=10)"
   ]
  },
  {
   "cell_type": "code",
   "execution_count": 13,
   "metadata": {},
   "outputs": [
    {
     "name": "stdout",
     "output_type": "stream",
     "text": [
      "CPU times: user 2min 30s, sys: 2min 7s, total: 4min 37s\n",
      "Wall time: 11.3 s\n"
     ]
    },
    {
     "data": {
      "text/plain": [
       "BayesianGaussianMixture(covariance_prior=None, covariance_type='full',\n",
       "                        degrees_of_freedom_prior=None, init_params='kmeans',\n",
       "                        max_iter=100, mean_precision_prior=None,\n",
       "                        mean_prior=None, n_components=10, n_init=1,\n",
       "                        random_state=None, reg_covar=1e-06, tol=0.001,\n",
       "                        verbose=0, verbose_interval=10, warm_start=False,\n",
       "                        weight_concentration_prior=None,\n",
       "                        weight_concentration_prior_type='dirichlet_process')"
      ]
     },
     "execution_count": 13,
     "metadata": {},
     "output_type": "execute_result"
    }
   ],
   "source": [
    "%%time\n",
    "bgm.fit(autoencoded[:10000])"
   ]
  },
  {
   "cell_type": "code",
   "execution_count": 14,
   "metadata": {},
   "outputs": [
    {
     "data": {
      "text/plain": [
       "array([0.19448054, 0.07378346, 0.10556191, 0.10034776, 0.05845845,\n",
       "       0.15825366, 0.10656698, 0.12068977, 0.06072006, 0.02113741])"
      ]
     },
     "execution_count": 14,
     "metadata": {},
     "output_type": "execute_result"
    }
   ],
   "source": [
    "(bgm.weights_)"
   ]
  },
  {
   "cell_type": "code",
   "execution_count": 68,
   "metadata": {},
   "outputs": [],
   "source": [
    "kmeans = KMeans(n_clusters=50)"
   ]
  },
  {
   "cell_type": "code",
   "execution_count": 69,
   "metadata": {},
   "outputs": [],
   "source": [
    "ypred = kmeans.fit_predict(autoencoded[:100000])"
   ]
  },
  {
   "cell_type": "code",
   "execution_count": 70,
   "metadata": {},
   "outputs": [
    {
     "data": {
      "text/html": [
       "<div>\n",
       "<style scoped>\n",
       "    .dataframe tbody tr th:only-of-type {\n",
       "        vertical-align: middle;\n",
       "    }\n",
       "\n",
       "    .dataframe tbody tr th {\n",
       "        vertical-align: top;\n",
       "    }\n",
       "\n",
       "    .dataframe thead th {\n",
       "        text-align: right;\n",
       "    }\n",
       "</style>\n",
       "<table border=\"1\" class=\"dataframe\">\n",
       "  <thead>\n",
       "    <tr style=\"text-align: right;\">\n",
       "      <th></th>\n",
       "      <th>0</th>\n",
       "    </tr>\n",
       "  </thead>\n",
       "  <tbody>\n",
       "    <tr>\n",
       "      <th>0</th>\n",
       "      <td>17</td>\n",
       "    </tr>\n",
       "    <tr>\n",
       "      <th>1</th>\n",
       "      <td>37</td>\n",
       "    </tr>\n",
       "    <tr>\n",
       "      <th>2</th>\n",
       "      <td>35</td>\n",
       "    </tr>\n",
       "    <tr>\n",
       "      <th>3</th>\n",
       "      <td>37</td>\n",
       "    </tr>\n",
       "    <tr>\n",
       "      <th>4</th>\n",
       "      <td>1</td>\n",
       "    </tr>\n",
       "    <tr>\n",
       "      <th>...</th>\n",
       "      <td>...</td>\n",
       "    </tr>\n",
       "    <tr>\n",
       "      <th>99995</th>\n",
       "      <td>47</td>\n",
       "    </tr>\n",
       "    <tr>\n",
       "      <th>99996</th>\n",
       "      <td>37</td>\n",
       "    </tr>\n",
       "    <tr>\n",
       "      <th>99997</th>\n",
       "      <td>45</td>\n",
       "    </tr>\n",
       "    <tr>\n",
       "      <th>99998</th>\n",
       "      <td>25</td>\n",
       "    </tr>\n",
       "    <tr>\n",
       "      <th>99999</th>\n",
       "      <td>48</td>\n",
       "    </tr>\n",
       "  </tbody>\n",
       "</table>\n",
       "<p>100000 rows × 1 columns</p>\n",
       "</div>"
      ],
      "text/plain": [
       "        0\n",
       "0      17\n",
       "1      37\n",
       "2      35\n",
       "3      37\n",
       "4       1\n",
       "...    ..\n",
       "99995  47\n",
       "99996  37\n",
       "99997  45\n",
       "99998  25\n",
       "99999  48\n",
       "\n",
       "[100000 rows x 1 columns]"
      ]
     },
     "execution_count": 70,
     "metadata": {},
     "output_type": "execute_result"
    }
   ],
   "source": [
    "pd.DataFrame(ypred)"
   ]
  },
  {
   "cell_type": "code",
   "execution_count": 21,
   "metadata": {},
   "outputs": [],
   "source": [
    "tokenized = pd.read_pickle('./Tokenized/distilbert-base-uncased.pkl')"
   ]
  },
  {
   "cell_type": "code",
   "execution_count": 22,
   "metadata": {},
   "outputs": [
    {
     "data": {
      "text/plain": [
       "(555583, 3)"
      ]
     },
     "execution_count": 22,
     "metadata": {},
     "output_type": "execute_result"
    }
   ],
   "source": [
    "tokenized.shape"
   ]
  },
  {
   "cell_type": "code",
   "execution_count": 71,
   "metadata": {},
   "outputs": [],
   "source": [
    "test = tokenized[:100000].copy()"
   ]
  },
  {
   "cell_type": "code",
   "execution_count": 72,
   "metadata": {},
   "outputs": [],
   "source": [
    "test['clusters'] = pd.Series(ypred)"
   ]
  },
  {
   "cell_type": "code",
   "execution_count": 73,
   "metadata": {},
   "outputs": [
    {
     "data": {
      "text/html": [
       "<div>\n",
       "<style scoped>\n",
       "    .dataframe tbody tr th:only-of-type {\n",
       "        vertical-align: middle;\n",
       "    }\n",
       "\n",
       "    .dataframe tbody tr th {\n",
       "        vertical-align: top;\n",
       "    }\n",
       "\n",
       "    .dataframe thead th {\n",
       "        text-align: right;\n",
       "    }\n",
       "</style>\n",
       "<table border=\"1\" class=\"dataframe\">\n",
       "  <thead>\n",
       "    <tr style=\"text-align: right;\">\n",
       "      <th></th>\n",
       "      <th>input_ids</th>\n",
       "      <th>attention_mask</th>\n",
       "      <th>id</th>\n",
       "      <th>clusters</th>\n",
       "    </tr>\n",
       "  </thead>\n",
       "  <tbody>\n",
       "    <tr>\n",
       "      <th>0</th>\n",
       "      <td>[101, 2026, 7116, 2005, 21156, 2098, 2296, 246...</td>\n",
       "      <td>[1, 1, 1, 1, 1, 1, 1, 1, 1, 1, 1, 1, 1, 1, 1, ...</td>\n",
       "      <td>c67482ba-2019-04-18T13:32:05Z-00000-000</td>\n",
       "      <td>17</td>\n",
       "    </tr>\n",
       "    <tr>\n",
       "      <th>1</th>\n",
       "      <td>[101, 2129, 2079, 2017, 16599, 1996, 2082, 209...</td>\n",
       "      <td>[1, 1, 1, 1, 1, 1, 1, 1, 1, 1, 1, 1, 1, 1, 1, ...</td>\n",
       "      <td>c67482ba-2019-04-18T13:32:05Z-00001-000</td>\n",
       "      <td>37</td>\n",
       "    </tr>\n",
       "    <tr>\n",
       "      <th>2</th>\n",
       "      <td>[101, 2816, 2031, 2053, 17075, 3037, 1999, 434...</td>\n",
       "      <td>[1, 1, 1, 1, 1, 1, 1, 1, 1, 1, 1, 1, 1, 1, 1, ...</td>\n",
       "      <td>c67482ba-2019-04-18T13:32:05Z-00002-000</td>\n",
       "      <td>35</td>\n",
       "    </tr>\n",
       "    <tr>\n",
       "      <th>3</th>\n",
       "      <td>[101, 2004, 1037, 3026, 2012, 2026, 2082, 1012...</td>\n",
       "      <td>[1, 1, 1, 1, 1, 1, 1, 1, 1, 1, 1, 1, 1, 1, 1, ...</td>\n",
       "      <td>c67482ba-2019-04-18T13:32:05Z-00003-000</td>\n",
       "      <td>37</td>\n",
       "    </tr>\n",
       "    <tr>\n",
       "      <th>4</th>\n",
       "      <td>[101, 1996, 5813, 2109, 2011, 4013, 1008, 1598...</td>\n",
       "      <td>[1, 1, 1, 1, 1, 1, 1, 1, 1, 1, 1, 1, 1, 1, 1, ...</td>\n",
       "      <td>4d3d4471-2019-04-18T11:45:01Z-00000-000</td>\n",
       "      <td>1</td>\n",
       "    </tr>\n",
       "    <tr>\n",
       "      <th>...</th>\n",
       "      <td>...</td>\n",
       "      <td>...</td>\n",
       "      <td>...</td>\n",
       "      <td>...</td>\n",
       "    </tr>\n",
       "    <tr>\n",
       "      <th>99995</th>\n",
       "      <td>[101, 1000, 13367, 6001, 2228, 2008, 2138, 202...</td>\n",
       "      <td>[1, 1, 1, 1, 1, 1, 1, 1, 1, 1, 1, 1, 1, 1, 1, ...</td>\n",
       "      <td>47a0de52-2019-04-18T17:24:53Z-00004-000</td>\n",
       "      <td>47</td>\n",
       "    </tr>\n",
       "    <tr>\n",
       "      <th>99996</th>\n",
       "      <td>[101, 13367, 6001, 2228, 2008, 2138, 2027, 100...</td>\n",
       "      <td>[1, 1, 1, 1, 1, 1, 1, 1, 1, 1, 1, 1, 1, 1, 1, ...</td>\n",
       "      <td>47a0de52-2019-04-18T17:24:53Z-00005-000</td>\n",
       "      <td>37</td>\n",
       "    </tr>\n",
       "    <tr>\n",
       "      <th>99997</th>\n",
       "      <td>[101, 3531, 2123, 1005, 1056, 2202, 1996, 2206...</td>\n",
       "      <td>[1, 1, 1, 1, 1, 1, 1, 1, 1, 1, 1, 1, 1, 1, 1, ...</td>\n",
       "      <td>47a0de52-2019-04-18T17:24:53Z-00000-000</td>\n",
       "      <td>45</td>\n",
       "    </tr>\n",
       "    <tr>\n",
       "      <th>99998</th>\n",
       "      <td>[101, 2034, 1010, 1045, 2066, 2000, 4067, 2026...</td>\n",
       "      <td>[1, 1, 1, 1, 1, 1, 1, 1, 1, 1, 1, 1, 1, 1, 1, ...</td>\n",
       "      <td>e2769e38-2019-04-18T19:49:34Z-00006-000</td>\n",
       "      <td>25</td>\n",
       "    </tr>\n",
       "    <tr>\n",
       "      <th>99999</th>\n",
       "      <td>[101, 2748, 2008, 2003, 2026, 5813, 1012, 2008...</td>\n",
       "      <td>[1, 1, 1, 1, 1, 1, 1, 1, 1, 1, 1, 1, 1, 1, 1, ...</td>\n",
       "      <td>e2769e38-2019-04-18T19:49:34Z-00007-000</td>\n",
       "      <td>48</td>\n",
       "    </tr>\n",
       "  </tbody>\n",
       "</table>\n",
       "<p>100000 rows × 4 columns</p>\n",
       "</div>"
      ],
      "text/plain": [
       "                                               input_ids  \\\n",
       "0      [101, 2026, 7116, 2005, 21156, 2098, 2296, 246...   \n",
       "1      [101, 2129, 2079, 2017, 16599, 1996, 2082, 209...   \n",
       "2      [101, 2816, 2031, 2053, 17075, 3037, 1999, 434...   \n",
       "3      [101, 2004, 1037, 3026, 2012, 2026, 2082, 1012...   \n",
       "4      [101, 1996, 5813, 2109, 2011, 4013, 1008, 1598...   \n",
       "...                                                  ...   \n",
       "99995  [101, 1000, 13367, 6001, 2228, 2008, 2138, 202...   \n",
       "99996  [101, 13367, 6001, 2228, 2008, 2138, 2027, 100...   \n",
       "99997  [101, 3531, 2123, 1005, 1056, 2202, 1996, 2206...   \n",
       "99998  [101, 2034, 1010, 1045, 2066, 2000, 4067, 2026...   \n",
       "99999  [101, 2748, 2008, 2003, 2026, 5813, 1012, 2008...   \n",
       "\n",
       "                                          attention_mask  \\\n",
       "0      [1, 1, 1, 1, 1, 1, 1, 1, 1, 1, 1, 1, 1, 1, 1, ...   \n",
       "1      [1, 1, 1, 1, 1, 1, 1, 1, 1, 1, 1, 1, 1, 1, 1, ...   \n",
       "2      [1, 1, 1, 1, 1, 1, 1, 1, 1, 1, 1, 1, 1, 1, 1, ...   \n",
       "3      [1, 1, 1, 1, 1, 1, 1, 1, 1, 1, 1, 1, 1, 1, 1, ...   \n",
       "4      [1, 1, 1, 1, 1, 1, 1, 1, 1, 1, 1, 1, 1, 1, 1, ...   \n",
       "...                                                  ...   \n",
       "99995  [1, 1, 1, 1, 1, 1, 1, 1, 1, 1, 1, 1, 1, 1, 1, ...   \n",
       "99996  [1, 1, 1, 1, 1, 1, 1, 1, 1, 1, 1, 1, 1, 1, 1, ...   \n",
       "99997  [1, 1, 1, 1, 1, 1, 1, 1, 1, 1, 1, 1, 1, 1, 1, ...   \n",
       "99998  [1, 1, 1, 1, 1, 1, 1, 1, 1, 1, 1, 1, 1, 1, 1, ...   \n",
       "99999  [1, 1, 1, 1, 1, 1, 1, 1, 1, 1, 1, 1, 1, 1, 1, ...   \n",
       "\n",
       "                                            id  clusters  \n",
       "0      c67482ba-2019-04-18T13:32:05Z-00000-000        17  \n",
       "1      c67482ba-2019-04-18T13:32:05Z-00001-000        37  \n",
       "2      c67482ba-2019-04-18T13:32:05Z-00002-000        35  \n",
       "3      c67482ba-2019-04-18T13:32:05Z-00003-000        37  \n",
       "4      4d3d4471-2019-04-18T11:45:01Z-00000-000         1  \n",
       "...                                        ...       ...  \n",
       "99995  47a0de52-2019-04-18T17:24:53Z-00004-000        47  \n",
       "99996  47a0de52-2019-04-18T17:24:53Z-00005-000        37  \n",
       "99997  47a0de52-2019-04-18T17:24:53Z-00000-000        45  \n",
       "99998  e2769e38-2019-04-18T19:49:34Z-00006-000        25  \n",
       "99999  e2769e38-2019-04-18T19:49:34Z-00007-000        48  \n",
       "\n",
       "[100000 rows x 4 columns]"
      ]
     },
     "execution_count": 73,
     "metadata": {},
     "output_type": "execute_result"
    }
   ],
   "source": [
    "test"
   ]
  },
  {
   "cell_type": "code",
   "execution_count": 39,
   "metadata": {},
   "outputs": [],
   "source": [
    "arguments = pd.read_pickle('Data/dataset.pkl')"
   ]
  },
  {
   "cell_type": "code",
   "execution_count": 28,
   "metadata": {},
   "outputs": [],
   "source": [
    "from utils import return_args"
   ]
  },
  {
   "cell_type": "code",
   "execution_count": 42,
   "metadata": {},
   "outputs": [],
   "source": [
    "argset = "
   ]
  },
  {
   "cell_type": "code",
   "execution_count": 44,
   "metadata": {},
   "outputs": [],
   "source": [
    "def return_args(id_set):\n",
    "    l = list(id_set)\n",
    "    return arguments[arguments['id'].isin(l)].copy()"
   ]
  },
  {
   "cell_type": "code",
   "execution_count": 82,
   "metadata": {},
   "outputs": [
    {
     "data": {
      "text/plain": [
       "Abortion                                                              11\n",
       "Gay Marriage                                                           7\n",
       "Strangeness Debates                                                    4\n",
       "Embryonic Stem Cell Use                                                4\n",
       "Should Citizens be allowed to own guns                                 4\n",
       "                                                                      ..\n",
       "\"There is Only One Race, The Human Race\" Is an Incorrect Statement     1\n",
       "Should religion be integrated into schools?.                           1\n",
       "Flag Burning Should Be Illegal                                         1\n",
       "Depressing rap battle                                                  1\n",
       "Chris Paul is the best point guard in the NBA                          1\n",
       "Name: conclusion, Length: 1081, dtype: int64"
      ]
     },
     "execution_count": 82,
     "metadata": {},
     "output_type": "execute_result"
    }
   ],
   "source": [
    "return_args(set(test[test['clusters'] ==15]['id']))['conclusion'].value_counts()"
   ]
  },
  {
   "cell_type": "code",
   "execution_count": 67,
   "metadata": {},
   "outputs": [
    {
     "data": {
      "text/plain": [
       "56"
      ]
     },
     "execution_count": 67,
     "metadata": {},
     "output_type": "execute_result"
    }
   ],
   "source": [
    "sum(arguments['conclusion'].value_counts()>100)"
   ]
  },
  {
   "cell_type": "code",
   "execution_count": 83,
   "metadata": {},
   "outputs": [],
   "source": [
    "from sklearn.manifold import TSNE"
   ]
  },
  {
   "cell_type": "code",
   "execution_count": 88,
   "metadata": {},
   "outputs": [],
   "source": [
    "t = TSNE(n_components=3)"
   ]
  },
  {
   "cell_type": "code",
   "execution_count": null,
   "metadata": {},
   "outputs": [],
   "source": [
    "t.fit_transform(autoencoded[:100000])"
   ]
  },
  {
   "cell_type": "code",
   "execution_count": 3,
   "metadata": {},
   "outputs": [],
   "source": [
    "from utils import *\n",
    "tree = ET.parse('Data/topics-automatic-runs-task-1.xml')\n",
    "root = tree.getroot()\n",
    "topics = []\n",
    "for child in root:\n",
    "    d = {'topic':int(child[0].text), 'query':child[1].text}\n",
    "    topics.append(d)\n",
    "topics = pd.DataFrame(topics)"
   ]
  },
  {
   "cell_type": "code",
   "execution_count": 4,
   "metadata": {},
   "outputs": [
    {
     "data": {
      "text/html": [
       "<div>\n",
       "<style scoped>\n",
       "    .dataframe tbody tr th:only-of-type {\n",
       "        vertical-align: middle;\n",
       "    }\n",
       "\n",
       "    .dataframe tbody tr th {\n",
       "        vertical-align: top;\n",
       "    }\n",
       "\n",
       "    .dataframe thead th {\n",
       "        text-align: right;\n",
       "    }\n",
       "</style>\n",
       "<table border=\"1\" class=\"dataframe\">\n",
       "  <thead>\n",
       "    <tr style=\"text-align: right;\">\n",
       "      <th></th>\n",
       "      <th>topic</th>\n",
       "      <th>query</th>\n",
       "    </tr>\n",
       "  </thead>\n",
       "  <tbody>\n",
       "    <tr>\n",
       "      <th>0</th>\n",
       "      <td>1</td>\n",
       "      <td>Should Teachers Get Tenure?</td>\n",
       "    </tr>\n",
       "    <tr>\n",
       "      <th>1</th>\n",
       "      <td>2</td>\n",
       "      <td>Is Vaping with E-Cigarettes Safe?</td>\n",
       "    </tr>\n",
       "    <tr>\n",
       "      <th>2</th>\n",
       "      <td>3</td>\n",
       "      <td>Should Insider Trading Be Allowed?</td>\n",
       "    </tr>\n",
       "    <tr>\n",
       "      <th>3</th>\n",
       "      <td>4</td>\n",
       "      <td>Should Corporal Punishment Be Used in Schools?</td>\n",
       "    </tr>\n",
       "    <tr>\n",
       "      <th>4</th>\n",
       "      <td>5</td>\n",
       "      <td>Should Social Security Be Privatized?</td>\n",
       "    </tr>\n",
       "    <tr>\n",
       "      <th>5</th>\n",
       "      <td>6</td>\n",
       "      <td>Is a College Education Worth It?</td>\n",
       "    </tr>\n",
       "    <tr>\n",
       "      <th>6</th>\n",
       "      <td>7</td>\n",
       "      <td>Should Felons Who Have Completed Their Sentenc...</td>\n",
       "    </tr>\n",
       "    <tr>\n",
       "      <th>7</th>\n",
       "      <td>8</td>\n",
       "      <td>Should Abortion Be Legal?</td>\n",
       "    </tr>\n",
       "    <tr>\n",
       "      <th>8</th>\n",
       "      <td>9</td>\n",
       "      <td>Should Students Have to Wear School Uniforms?</td>\n",
       "    </tr>\n",
       "    <tr>\n",
       "      <th>9</th>\n",
       "      <td>10</td>\n",
       "      <td>Should Any Vaccines Be Required for Children?</td>\n",
       "    </tr>\n",
       "    <tr>\n",
       "      <th>10</th>\n",
       "      <td>11</td>\n",
       "      <td>Should Performance Enhancing Drugs Be Accepted...</td>\n",
       "    </tr>\n",
       "    <tr>\n",
       "      <th>11</th>\n",
       "      <td>12</td>\n",
       "      <td>Should birth control pills be available over t...</td>\n",
       "    </tr>\n",
       "    <tr>\n",
       "      <th>12</th>\n",
       "      <td>13</td>\n",
       "      <td>Can Alternative Energy Effectively Replace Fos...</td>\n",
       "    </tr>\n",
       "    <tr>\n",
       "      <th>13</th>\n",
       "      <td>14</td>\n",
       "      <td>Is Sexual Orientation Determined at Birth?</td>\n",
       "    </tr>\n",
       "    <tr>\n",
       "      <th>14</th>\n",
       "      <td>15</td>\n",
       "      <td>Should Animals Be Used for Scientific or Comme...</td>\n",
       "    </tr>\n",
       "    <tr>\n",
       "      <th>15</th>\n",
       "      <td>16</td>\n",
       "      <td>Should Prescription Drugs Be Advertised Direct...</td>\n",
       "    </tr>\n",
       "    <tr>\n",
       "      <th>16</th>\n",
       "      <td>17</td>\n",
       "      <td>Should Recreational Marijuana Be Legal?</td>\n",
       "    </tr>\n",
       "    <tr>\n",
       "      <th>17</th>\n",
       "      <td>18</td>\n",
       "      <td>Should Churches Remain Tax-Exempt?</td>\n",
       "    </tr>\n",
       "    <tr>\n",
       "      <th>18</th>\n",
       "      <td>19</td>\n",
       "      <td>Should Gay Marriage Be Legal?</td>\n",
       "    </tr>\n",
       "    <tr>\n",
       "      <th>19</th>\n",
       "      <td>20</td>\n",
       "      <td>Is Drinking Milk Healthy for Humans?</td>\n",
       "    </tr>\n",
       "    <tr>\n",
       "      <th>20</th>\n",
       "      <td>21</td>\n",
       "      <td>Is Human Activity Primarily Responsible for Gl...</td>\n",
       "    </tr>\n",
       "    <tr>\n",
       "      <th>21</th>\n",
       "      <td>22</td>\n",
       "      <td>Is a Two-State Solution an Acceptable Solution...</td>\n",
       "    </tr>\n",
       "    <tr>\n",
       "      <th>22</th>\n",
       "      <td>23</td>\n",
       "      <td>Should Euthanasia or Physician-Assisted Suicid...</td>\n",
       "    </tr>\n",
       "    <tr>\n",
       "      <th>23</th>\n",
       "      <td>24</td>\n",
       "      <td>Does Lowering the Federal Corporate Income Tax...</td>\n",
       "    </tr>\n",
       "    <tr>\n",
       "      <th>24</th>\n",
       "      <td>25</td>\n",
       "      <td>Should Tablets Replace Textbooks in Schools?</td>\n",
       "    </tr>\n",
       "    <tr>\n",
       "      <th>25</th>\n",
       "      <td>26</td>\n",
       "      <td>Do Standardized Tests Improve Education?</td>\n",
       "    </tr>\n",
       "    <tr>\n",
       "      <th>26</th>\n",
       "      <td>27</td>\n",
       "      <td>Should More Gun Control Laws Be Enacted?</td>\n",
       "    </tr>\n",
       "    <tr>\n",
       "      <th>27</th>\n",
       "      <td>28</td>\n",
       "      <td>Should Prostitution Be Legal?</td>\n",
       "    </tr>\n",
       "    <tr>\n",
       "      <th>28</th>\n",
       "      <td>29</td>\n",
       "      <td>Should the Government Allow Illegal Immigrants...</td>\n",
       "    </tr>\n",
       "    <tr>\n",
       "      <th>29</th>\n",
       "      <td>30</td>\n",
       "      <td>Should Adults Have the Right to Carry a Concea...</td>\n",
       "    </tr>\n",
       "    <tr>\n",
       "      <th>30</th>\n",
       "      <td>31</td>\n",
       "      <td>Is Obesity a Disease?</td>\n",
       "    </tr>\n",
       "    <tr>\n",
       "      <th>31</th>\n",
       "      <td>32</td>\n",
       "      <td>Do Electronic Voting Machines Improve the Voti...</td>\n",
       "    </tr>\n",
       "    <tr>\n",
       "      <th>32</th>\n",
       "      <td>33</td>\n",
       "      <td>Should People Become Vegetarian?</td>\n",
       "    </tr>\n",
       "    <tr>\n",
       "      <th>33</th>\n",
       "      <td>34</td>\n",
       "      <td>Are Social Networking Sites Good for Our Society?</td>\n",
       "    </tr>\n",
       "    <tr>\n",
       "      <th>34</th>\n",
       "      <td>35</td>\n",
       "      <td>Do Violent Video Games Contribute to Youth Vio...</td>\n",
       "    </tr>\n",
       "    <tr>\n",
       "      <th>35</th>\n",
       "      <td>36</td>\n",
       "      <td>Is Golf a Sport?</td>\n",
       "    </tr>\n",
       "    <tr>\n",
       "      <th>36</th>\n",
       "      <td>37</td>\n",
       "      <td>Is Cell Phone Radiation Safe?</td>\n",
       "    </tr>\n",
       "    <tr>\n",
       "      <th>37</th>\n",
       "      <td>38</td>\n",
       "      <td>Should Marijuana Be a Medical Option?</td>\n",
       "    </tr>\n",
       "    <tr>\n",
       "      <th>38</th>\n",
       "      <td>39</td>\n",
       "      <td>Should the Federal Minimum Wage Be Increased?</td>\n",
       "    </tr>\n",
       "    <tr>\n",
       "      <th>39</th>\n",
       "      <td>40</td>\n",
       "      <td>Should the Death Penalty Be Allowed?</td>\n",
       "    </tr>\n",
       "    <tr>\n",
       "      <th>40</th>\n",
       "      <td>41</td>\n",
       "      <td>Should Student Loan Debt Be Easier to Discharg...</td>\n",
       "    </tr>\n",
       "    <tr>\n",
       "      <th>41</th>\n",
       "      <td>42</td>\n",
       "      <td>Should Fighting Be Allowed in Hockey?</td>\n",
       "    </tr>\n",
       "    <tr>\n",
       "      <th>42</th>\n",
       "      <td>43</td>\n",
       "      <td>Should Bottled Water Be Banned?</td>\n",
       "    </tr>\n",
       "    <tr>\n",
       "      <th>43</th>\n",
       "      <td>44</td>\n",
       "      <td>Should Election Day be a National Holiday?</td>\n",
       "    </tr>\n",
       "    <tr>\n",
       "      <th>44</th>\n",
       "      <td>45</td>\n",
       "      <td>Should the Penny Stay in Circulation?</td>\n",
       "    </tr>\n",
       "    <tr>\n",
       "      <th>45</th>\n",
       "      <td>46</td>\n",
       "      <td>Should Net Neutrality Be Restored?</td>\n",
       "    </tr>\n",
       "    <tr>\n",
       "      <th>46</th>\n",
       "      <td>47</td>\n",
       "      <td>Is Homework Beneficial?</td>\n",
       "    </tr>\n",
       "    <tr>\n",
       "      <th>47</th>\n",
       "      <td>48</td>\n",
       "      <td>Should the the Voting Age be Lowered?</td>\n",
       "    </tr>\n",
       "    <tr>\n",
       "      <th>48</th>\n",
       "      <td>49</td>\n",
       "      <td>Should Body Cameras be Mandatory for Police?</td>\n",
       "    </tr>\n",
       "    <tr>\n",
       "      <th>49</th>\n",
       "      <td>50</td>\n",
       "      <td>Should Everyone Get a Universal Basic Income?</td>\n",
       "    </tr>\n",
       "  </tbody>\n",
       "</table>\n",
       "</div>"
      ],
      "text/plain": [
       "    topic                                              query\n",
       "0       1                        Should Teachers Get Tenure?\n",
       "1       2                  Is Vaping with E-Cigarettes Safe?\n",
       "2       3                 Should Insider Trading Be Allowed?\n",
       "3       4     Should Corporal Punishment Be Used in Schools?\n",
       "4       5              Should Social Security Be Privatized?\n",
       "5       6                   Is a College Education Worth It?\n",
       "6       7  Should Felons Who Have Completed Their Sentenc...\n",
       "7       8                          Should Abortion Be Legal?\n",
       "8       9      Should Students Have to Wear School Uniforms?\n",
       "9      10      Should Any Vaccines Be Required for Children?\n",
       "10     11  Should Performance Enhancing Drugs Be Accepted...\n",
       "11     12  Should birth control pills be available over t...\n",
       "12     13  Can Alternative Energy Effectively Replace Fos...\n",
       "13     14         Is Sexual Orientation Determined at Birth?\n",
       "14     15  Should Animals Be Used for Scientific or Comme...\n",
       "15     16  Should Prescription Drugs Be Advertised Direct...\n",
       "16     17            Should Recreational Marijuana Be Legal?\n",
       "17     18                 Should Churches Remain Tax-Exempt?\n",
       "18     19                      Should Gay Marriage Be Legal?\n",
       "19     20               Is Drinking Milk Healthy for Humans?\n",
       "20     21  Is Human Activity Primarily Responsible for Gl...\n",
       "21     22  Is a Two-State Solution an Acceptable Solution...\n",
       "22     23  Should Euthanasia or Physician-Assisted Suicid...\n",
       "23     24  Does Lowering the Federal Corporate Income Tax...\n",
       "24     25       Should Tablets Replace Textbooks in Schools?\n",
       "25     26           Do Standardized Tests Improve Education?\n",
       "26     27           Should More Gun Control Laws Be Enacted?\n",
       "27     28                      Should Prostitution Be Legal?\n",
       "28     29  Should the Government Allow Illegal Immigrants...\n",
       "29     30  Should Adults Have the Right to Carry a Concea...\n",
       "30     31                              Is Obesity a Disease?\n",
       "31     32  Do Electronic Voting Machines Improve the Voti...\n",
       "32     33                   Should People Become Vegetarian?\n",
       "33     34  Are Social Networking Sites Good for Our Society?\n",
       "34     35  Do Violent Video Games Contribute to Youth Vio...\n",
       "35     36                                   Is Golf a Sport?\n",
       "36     37                      Is Cell Phone Radiation Safe?\n",
       "37     38              Should Marijuana Be a Medical Option?\n",
       "38     39      Should the Federal Minimum Wage Be Increased?\n",
       "39     40               Should the Death Penalty Be Allowed?\n",
       "40     41  Should Student Loan Debt Be Easier to Discharg...\n",
       "41     42              Should Fighting Be Allowed in Hockey?\n",
       "42     43                    Should Bottled Water Be Banned?\n",
       "43     44         Should Election Day be a National Holiday?\n",
       "44     45              Should the Penny Stay in Circulation?\n",
       "45     46                 Should Net Neutrality Be Restored?\n",
       "46     47                            Is Homework Beneficial?\n",
       "47     48              Should the the Voting Age be Lowered?\n",
       "48     49       Should Body Cameras be Mandatory for Police?\n",
       "49     50      Should Everyone Get a Universal Basic Income?"
      ]
     },
     "execution_count": 4,
     "metadata": {},
     "output_type": "execute_result"
    }
   ],
   "source": [
    "topics"
   ]
  },
  {
   "cell_type": "code",
   "execution_count": 2,
   "metadata": {},
   "outputs": [
    {
     "name": "stdout",
     "output_type": "stream",
     "text": [
      "Requirement already up-to-date: spacy in /usr/local/lib/python3.6/dist-packages (2.2.3)\n",
      "Requirement already satisfied, skipping upgrade: numpy>=1.15.0 in /usr/local/lib/python3.6/dist-packages (from spacy) (1.18.1)\n",
      "Requirement already satisfied, skipping upgrade: wasabi<1.1.0,>=0.4.0 in /root/.local/lib/python3.6/site-packages (from spacy) (0.6.0)\n",
      "Requirement already satisfied, skipping upgrade: setuptools in /usr/local/lib/python3.6/dist-packages (from spacy) (44.0.0)\n",
      "Requirement already satisfied, skipping upgrade: cymem<2.1.0,>=2.0.2 in /root/.local/lib/python3.6/site-packages (from spacy) (2.0.3)\n",
      "Requirement already satisfied, skipping upgrade: blis<0.5.0,>=0.4.0 in /root/.local/lib/python3.6/site-packages (from spacy) (0.4.1)\n",
      "Requirement already satisfied, skipping upgrade: catalogue<1.1.0,>=0.0.7 in /root/.local/lib/python3.6/site-packages (from spacy) (1.0.0)\n",
      "Requirement already satisfied, skipping upgrade: srsly<1.1.0,>=0.1.0 in /root/.local/lib/python3.6/site-packages (from spacy) (1.0.2)\n",
      "Requirement already satisfied, skipping upgrade: murmurhash<1.1.0,>=0.28.0 in /root/.local/lib/python3.6/site-packages (from spacy) (1.0.2)\n",
      "Requirement already satisfied, skipping upgrade: preshed<3.1.0,>=3.0.2 in /root/.local/lib/python3.6/site-packages (from spacy) (3.0.2)\n",
      "Requirement already satisfied, skipping upgrade: plac<1.2.0,>=0.9.6 in /root/.local/lib/python3.6/site-packages (from spacy) (1.1.3)\n",
      "Requirement already satisfied, skipping upgrade: requests<3.0.0,>=2.13.0 in /usr/local/lib/python3.6/dist-packages (from spacy) (2.22.0)\n",
      "Requirement already satisfied, skipping upgrade: thinc<7.4.0,>=7.3.0 in /root/.local/lib/python3.6/site-packages (from spacy) (7.3.1)\n",
      "Requirement already satisfied, skipping upgrade: importlib-metadata>=0.20; python_version < \"3.8\" in /usr/local/lib/python3.6/dist-packages (from catalogue<1.1.0,>=0.0.7->spacy) (1.4.0)\n",
      "Requirement already satisfied, skipping upgrade: idna<2.9,>=2.5 in /usr/lib/python3/dist-packages (from requests<3.0.0,>=2.13.0->spacy) (2.6)\n",
      "Requirement already satisfied, skipping upgrade: chardet<3.1.0,>=3.0.2 in /usr/local/lib/python3.6/dist-packages (from requests<3.0.0,>=2.13.0->spacy) (3.0.4)\n",
      "Requirement already satisfied, skipping upgrade: certifi>=2017.4.17 in /usr/local/lib/python3.6/dist-packages (from requests<3.0.0,>=2.13.0->spacy) (2019.11.28)\n",
      "Requirement already satisfied, skipping upgrade: urllib3!=1.25.0,!=1.25.1,<1.26,>=1.21.1 in /usr/local/lib/python3.6/dist-packages (from requests<3.0.0,>=2.13.0->spacy) (1.25.7)\n",
      "Requirement already satisfied, skipping upgrade: tqdm<5.0.0,>=4.10.0 in /usr/local/lib/python3.6/dist-packages (from thinc<7.4.0,>=7.3.0->spacy) (4.43.0)\n",
      "Requirement already satisfied, skipping upgrade: zipp>=0.5 in /usr/local/lib/python3.6/dist-packages (from importlib-metadata>=0.20; python_version < \"3.8\"->catalogue<1.1.0,>=0.0.7->spacy) (0.6.0)\n",
      "Requirement already satisfied, skipping upgrade: more-itertools in /usr/local/lib/python3.6/dist-packages (from zipp>=0.5->importlib-metadata>=0.20; python_version < \"3.8\"->catalogue<1.1.0,>=0.0.7->spacy) (8.0.2)\n",
      "\u001b[33mWARNING: You are using pip version 19.3.1; however, version 20.0.2 is available.\n",
      "You should consider upgrading via the 'pip install --upgrade pip' command.\u001b[0m\n",
      "Collecting en_core_web_sm==2.2.5\n",
      "\u001b[?25l  Downloading https://github.com/explosion/spacy-models/releases/download/en_core_web_sm-2.2.5/en_core_web_sm-2.2.5.tar.gz (12.0MB)\n",
      "\u001b[K     |████████████████████████████████| 12.0MB 435kB/s eta 0:00:01\n",
      "\u001b[?25hRequirement already satisfied: spacy>=2.2.2 in /usr/local/lib/python3.6/dist-packages (from en_core_web_sm==2.2.5) (2.2.3)\n",
      "Requirement already satisfied: murmurhash<1.1.0,>=0.28.0 in /root/.local/lib/python3.6/site-packages (from spacy>=2.2.2->en_core_web_sm==2.2.5) (1.0.2)\n",
      "Requirement already satisfied: blis<0.5.0,>=0.4.0 in /root/.local/lib/python3.6/site-packages (from spacy>=2.2.2->en_core_web_sm==2.2.5) (0.4.1)\n",
      "Requirement already satisfied: plac<1.2.0,>=0.9.6 in /root/.local/lib/python3.6/site-packages (from spacy>=2.2.2->en_core_web_sm==2.2.5) (1.1.3)\n",
      "Requirement already satisfied: wasabi<1.1.0,>=0.4.0 in /root/.local/lib/python3.6/site-packages (from spacy>=2.2.2->en_core_web_sm==2.2.5) (0.6.0)\n",
      "Requirement already satisfied: setuptools in /usr/local/lib/python3.6/dist-packages (from spacy>=2.2.2->en_core_web_sm==2.2.5) (44.0.0)\n",
      "Requirement already satisfied: requests<3.0.0,>=2.13.0 in /usr/local/lib/python3.6/dist-packages (from spacy>=2.2.2->en_core_web_sm==2.2.5) (2.22.0)\n",
      "Requirement already satisfied: numpy>=1.15.0 in /usr/local/lib/python3.6/dist-packages (from spacy>=2.2.2->en_core_web_sm==2.2.5) (1.18.1)\n",
      "Requirement already satisfied: cymem<2.1.0,>=2.0.2 in /root/.local/lib/python3.6/site-packages (from spacy>=2.2.2->en_core_web_sm==2.2.5) (2.0.3)\n",
      "Requirement already satisfied: srsly<1.1.0,>=0.1.0 in /root/.local/lib/python3.6/site-packages (from spacy>=2.2.2->en_core_web_sm==2.2.5) (1.0.2)\n",
      "Requirement already satisfied: thinc<7.4.0,>=7.3.0 in /root/.local/lib/python3.6/site-packages (from spacy>=2.2.2->en_core_web_sm==2.2.5) (7.3.1)\n",
      "Requirement already satisfied: catalogue<1.1.0,>=0.0.7 in /root/.local/lib/python3.6/site-packages (from spacy>=2.2.2->en_core_web_sm==2.2.5) (1.0.0)\n",
      "Requirement already satisfied: preshed<3.1.0,>=3.0.2 in /root/.local/lib/python3.6/site-packages (from spacy>=2.2.2->en_core_web_sm==2.2.5) (3.0.2)\n",
      "Requirement already satisfied: certifi>=2017.4.17 in /usr/local/lib/python3.6/dist-packages (from requests<3.0.0,>=2.13.0->spacy>=2.2.2->en_core_web_sm==2.2.5) (2019.11.28)\n",
      "Requirement already satisfied: idna<2.9,>=2.5 in /usr/lib/python3/dist-packages (from requests<3.0.0,>=2.13.0->spacy>=2.2.2->en_core_web_sm==2.2.5) (2.6)\n",
      "Requirement already satisfied: urllib3!=1.25.0,!=1.25.1,<1.26,>=1.21.1 in /usr/local/lib/python3.6/dist-packages (from requests<3.0.0,>=2.13.0->spacy>=2.2.2->en_core_web_sm==2.2.5) (1.25.7)\n",
      "Requirement already satisfied: chardet<3.1.0,>=3.0.2 in /usr/local/lib/python3.6/dist-packages (from requests<3.0.0,>=2.13.0->spacy>=2.2.2->en_core_web_sm==2.2.5) (3.0.4)\n",
      "Requirement already satisfied: tqdm<5.0.0,>=4.10.0 in /usr/local/lib/python3.6/dist-packages (from thinc<7.4.0,>=7.3.0->spacy>=2.2.2->en_core_web_sm==2.2.5) (4.43.0)\n",
      "Requirement already satisfied: importlib-metadata>=0.20; python_version < \"3.8\" in /usr/local/lib/python3.6/dist-packages (from catalogue<1.1.0,>=0.0.7->spacy>=2.2.2->en_core_web_sm==2.2.5) (1.4.0)\n",
      "Requirement already satisfied: zipp>=0.5 in /usr/local/lib/python3.6/dist-packages (from importlib-metadata>=0.20; python_version < \"3.8\"->catalogue<1.1.0,>=0.0.7->spacy>=2.2.2->en_core_web_sm==2.2.5) (0.6.0)\n",
      "Requirement already satisfied: more-itertools in /usr/local/lib/python3.6/dist-packages (from zipp>=0.5->importlib-metadata>=0.20; python_version < \"3.8\"->catalogue<1.1.0,>=0.0.7->spacy>=2.2.2->en_core_web_sm==2.2.5) (8.0.2)\n",
      "Building wheels for collected packages: en-core-web-sm\n",
      "  Building wheel for en-core-web-sm (setup.py) ... \u001b[?25ldone\n",
      "\u001b[?25h  Created wheel for en-core-web-sm: filename=en_core_web_sm-2.2.5-cp36-none-any.whl size=12012548 sha256=908f7dd959262371b484961da9d7df7682ddddbf1fee79d81fc35ec76b44b9d8\n",
      "  Stored in directory: /tmp/pip-ephem-wheel-cache-nvdbn69e/wheels/6a/47/fb/6b5a0b8906d8e8779246c67d4658fd8a544d4a03a75520197a\n",
      "Successfully built en-core-web-sm\n",
      "Installing collected packages: en-core-web-sm\n",
      "Successfully installed en-core-web-sm-2.2.5\n",
      "\u001b[33mWARNING: You are using pip version 19.3.1; however, version 20.0.2 is available.\n",
      "You should consider upgrading via the 'pip install --upgrade pip' command.\u001b[0m\n",
      "\u001b[38;5;2m✔ Download and installation successful\u001b[0m\n",
      "You can now load the model via spacy.load('en_core_web_sm')\n"
     ]
    }
   ],
   "source": [
    "!pip install -U spacy\n",
    "!python -m spacy download en_core_web_sm"
   ]
  },
  {
   "cell_type": "code",
   "execution_count": 78,
   "metadata": {},
   "outputs": [],
   "source": [
    "s1 = topics['query'][20]"
   ]
  },
  {
   "cell_type": "code",
   "execution_count": 79,
   "metadata": {},
   "outputs": [
    {
     "data": {
      "text/plain": [
       "'Is Human Activity Primarily Responsible for Global Climate Change?'"
      ]
     },
     "execution_count": 79,
     "metadata": {},
     "output_type": "execute_result"
    }
   ],
   "source": [
    "s1"
   ]
  },
  {
   "cell_type": "code",
   "execution_count": 3,
   "metadata": {},
   "outputs": [],
   "source": [
    "import en_core_web_sm\n",
    "nlp = en_core_web_sm.load()"
   ]
  },
  {
   "cell_type": "code",
   "execution_count": 4,
   "metadata": {},
   "outputs": [],
   "source": [
    "import spacy"
   ]
  },
  {
   "cell_type": "code",
   "execution_count": 80,
   "metadata": {},
   "outputs": [
    {
     "name": "stdout",
     "output_type": "stream",
     "text": [
      "Should Teachers Get Tenure?\n",
      "['VERB', 'NOUN', 'AUX', 'NOUN', 'PUNCT']\n",
      "Is Vaping with E-Cigarettes Safe?\n",
      "['AUX', 'VERB', 'ADP', 'NOUN', 'NOUN', 'NOUN', 'PROPN', 'PUNCT']\n",
      "Should Insider Trading Be Allowed?\n",
      "['VERB', 'VERB', 'NOUN', 'AUX', 'VERB', 'PUNCT']\n",
      "Should Corporal Punishment Be Used in Schools?\n",
      "['VERB', 'PROPN', 'NOUN', 'AUX', 'VERB', 'ADP', 'NOUN', 'PUNCT']\n",
      "Should Social Security Be Privatized?\n",
      "['VERB', 'PROPN', 'PROPN', 'AUX', 'VERB', 'PUNCT']\n",
      "Is a College Education Worth It?\n",
      "['AUX', 'DET', 'PROPN', 'PROPN', 'PROPN', 'PRON', 'PUNCT']\n",
      "Should Felons Who Have Completed Their Sentence Be Allowed to Vote?\n",
      "['VERB', 'PROPN', 'PRON', 'AUX', 'VERB', 'DET', 'NOUN', 'AUX', 'VERB', 'PART', 'VERB', 'PUNCT']\n",
      "Should Abortion Be Legal?\n",
      "['VERB', 'NOUN', 'AUX', 'ADJ', 'PUNCT']\n",
      "Should Students Have to Wear School Uniforms?\n",
      "['VERB', 'NOUN', 'AUX', 'PART', 'VERB', 'PROPN', 'NOUN', 'PUNCT']\n",
      "Should Any Vaccines Be Required for Children?\n",
      "['VERB', 'DET', 'NOUN', 'AUX', 'VERB', 'ADP', 'NOUN', 'PUNCT']\n",
      "Should Performance Enhancing Drugs Be Accepted in Sports?\n",
      "['VERB', 'NOUN', 'VERB', 'NOUN', 'VERB', 'VERB', 'ADP', 'NOUN', 'PUNCT']\n",
      "Should birth control pills be available over the counter?\n",
      "['VERB', 'VERB', 'NOUN', 'NOUN', 'AUX', 'ADJ', 'ADP', 'DET', 'NOUN', 'PUNCT']\n",
      "Can Alternative Energy Effectively Replace Fossil Fuels?\n",
      "['VERB', 'PROPN', 'PROPN', 'ADV', 'VERB', 'PROPN', 'PROPN', 'PUNCT']\n",
      "Is Sexual Orientation Determined at Birth?\n",
      "['AUX', 'PROPN', 'PROPN', 'VERB', 'ADP', 'NOUN', 'PUNCT']\n",
      "Should Animals Be Used for Scientific or Commercial Testing?\n",
      "['VERB', 'NOUN', 'AUX', 'VERB', 'ADP', 'PROPN', 'CCONJ', 'ADJ', 'NOUN', 'PUNCT']\n",
      "Should Prescription Drugs Be Advertised Directly to Consumers?\n",
      "['VERB', 'PROPN', 'NOUN', 'AUX', 'VERB', 'ADV', 'ADP', 'NOUN', 'PUNCT']\n",
      "Should Recreational Marijuana Be Legal?\n",
      "['VERB', 'PROPN', 'PROPN', 'AUX', 'ADJ', 'PUNCT']\n",
      "Should Churches Remain Tax-Exempt?\n",
      "['VERB', 'NOUN', 'VERB', 'NOUN', 'PUNCT', 'PROPN', 'PUNCT']\n",
      "Should Gay Marriage Be Legal?\n",
      "['VERB', 'PROPN', 'NOUN', 'AUX', 'ADJ', 'PUNCT']\n",
      "Is Drinking Milk Healthy for Humans?\n",
      "['AUX', 'VERB', 'NOUN', 'ADJ', 'ADP', 'NOUN', 'PUNCT']\n",
      "Is Human Activity Primarily Responsible for Global Climate Change?\n",
      "['AUX', 'ADJ', 'NOUN', 'ADV', 'ADJ', 'ADP', 'PROPN', 'PROPN', 'PROPN', 'PUNCT']\n",
      "Is a Two-State Solution an Acceptable Solution to the Israeli-Palestinian Conflict?\n",
      "['AUX', 'DET', 'NUM', 'PUNCT', 'PROPN', 'PROPN', 'DET', 'ADJ', 'NOUN', 'ADP', 'DET', 'ADJ', 'PUNCT', 'ADJ', 'NOUN', 'PUNCT']\n",
      "Should Euthanasia or Physician-Assisted Suicide Be Legal?\n",
      "['VERB', 'PROPN', 'CCONJ', 'PROPN', 'PUNCT', 'VERB', 'NOUN', 'AUX', 'ADJ', 'PUNCT']\n",
      "Does Lowering the Federal Corporate Income Tax Rate Create Jobs?\n",
      "['AUX', 'VERB', 'DET', 'PROPN', 'PROPN', 'PROPN', 'PROPN', 'NOUN', 'VERB', 'NOUN', 'PUNCT']\n",
      "Should Tablets Replace Textbooks in Schools?\n",
      "['VERB', 'PROPN', 'VERB', 'NOUN', 'ADP', 'NOUN', 'PUNCT']\n",
      "Do Standardized Tests Improve Education?\n",
      "['AUX', 'VERB', 'NOUN', 'VERB', 'PROPN', 'PUNCT']\n",
      "Should More Gun Control Laws Be Enacted?\n",
      "['VERB', 'PROPN', 'PROPN', 'PROPN', 'NOUN', 'AUX', 'VERB', 'PUNCT']\n",
      "Should Prostitution Be Legal?\n",
      "['VERB', 'NOUN', 'AUX', 'ADJ', 'PUNCT']\n",
      "Should the Government Allow Illegal Immigrants to Become Citizens?\n",
      "['VERB', 'DET', 'PROPN', 'PROPN', 'PROPN', 'NOUN', 'PART', 'VERB', 'NOUN', 'PUNCT']\n",
      "Should Adults Have the Right to Carry a Concealed Handgun?\n",
      "['VERB', 'NOUN', 'AUX', 'DET', 'NOUN', 'PART', 'VERB', 'DET', 'VERB', 'PROPN', 'PUNCT']\n",
      "Is Obesity a Disease?\n",
      "['AUX', 'NOUN', 'DET', 'PROPN', 'PUNCT']\n",
      "Do Electronic Voting Machines Improve the Voting Process?\n",
      "['AUX', 'ADJ', 'PROPN', 'PROPN', 'VERB', 'DET', 'NOUN', 'NOUN', 'PUNCT']\n",
      "Should People Become Vegetarian?\n",
      "['VERB', 'NOUN', 'VERB', 'ADJ', 'PUNCT']\n",
      "Are Social Networking Sites Good for Our Society?\n",
      "['AUX', 'PROPN', 'NOUN', 'NOUN', 'ADJ', 'ADP', 'DET', 'PROPN', 'PUNCT']\n",
      "Do Violent Video Games Contribute to Youth Violence?\n",
      "['AUX', 'PROPN', 'NOUN', 'PROPN', 'PROPN', 'ADP', 'PROPN', 'NOUN', 'PUNCT']\n",
      "Is Golf a Sport?\n",
      "['AUX', 'PROPN', 'DET', 'PROPN', 'PUNCT']\n",
      "Is Cell Phone Radiation Safe?\n",
      "['AUX', 'PROPN', 'PROPN', 'PROPN', 'ADJ', 'PUNCT']\n",
      "Should Marijuana Be a Medical Option?\n",
      "['VERB', 'PROPN', 'AUX', 'DET', 'PROPN', 'PROPN', 'PUNCT']\n",
      "Should the Federal Minimum Wage Be Increased?\n",
      "['VERB', 'DET', 'PROPN', 'PROPN', 'PROPN', 'AUX', 'VERB', 'PUNCT']\n",
      "Should the Death Penalty Be Allowed?\n",
      "['VERB', 'DET', 'NOUN', 'NOUN', 'AUX', 'VERB', 'PUNCT']\n",
      "Should Student Loan Debt Be Easier to Discharge in Bankruptcy?\n",
      "['VERB', 'PROPN', 'PROPN', 'NOUN', 'AUX', 'ADJ', 'PART', 'VERB', 'ADP', 'PROPN', 'PUNCT']\n",
      "Should Fighting Be Allowed in Hockey?\n",
      "['VERB', 'VERB', 'AUX', 'VERB', 'ADP', 'PROPN', 'PUNCT']\n",
      "Should Bottled Water Be Banned?\n",
      "['VERB', 'PROPN', 'PROPN', 'AUX', 'VERB', 'PUNCT']\n",
      "Should Election Day be a National Holiday?\n",
      "['VERB', 'PROPN', 'PROPN', 'AUX', 'DET', 'PROPN', 'PROPN', 'PUNCT']\n",
      "Should the Penny Stay in Circulation?\n",
      "['VERB', 'DET', 'NOUN', 'VERB', 'ADP', 'PROPN', 'PUNCT']\n",
      "Should Net Neutrality Be Restored?\n",
      "['VERB', 'VERB', 'NOUN', 'AUX', 'VERB', 'PUNCT']\n",
      "Is Homework Beneficial?\n",
      "['AUX', 'PROPN', 'PROPN', 'PUNCT']\n",
      "Should the the Voting Age be Lowered?\n",
      "['VERB', 'DET', 'DET', 'PROPN', 'NOUN', 'AUX', 'VERB', 'PUNCT']\n",
      "Should Body Cameras be Mandatory for Police?\n",
      "['VERB', 'NOUN', 'NOUN', 'AUX', 'ADJ', 'ADP', 'NOUN', 'PUNCT']\n",
      "Should Everyone Get a Universal Basic Income?\n",
      "['VERB', 'PRON', 'AUX', 'DET', 'PROPN', 'PROPN', 'PROPN', 'PUNCT']\n"
     ]
    }
   ],
   "source": [
    "s = set()\n",
    "for i, row in topics .iterrows():\n",
    "    doc = nlp(row['query'])\n",
    "    print(row['query'])\n",
    "    print([token.pos_ for token in doc])"
   ]
  },
  {
   "cell_type": "code",
   "execution_count": 29,
   "metadata": {},
   "outputs": [
    {
     "data": {
      "text/plain": [
       "{'AUX ADJ NOUN ADV ADJ ADP PROPN PROPN PROPN PUNCT',\n",
       " 'AUX ADJ PROPN PROPN VERB DET NOUN NOUN PUNCT',\n",
       " 'AUX DET NUM PUNCT PROPN PROPN DET ADJ NOUN ADP DET ADJ PUNCT ADJ NOUN PUNCT',\n",
       " 'AUX DET PROPN PROPN PROPN PRON PUNCT',\n",
       " 'AUX NOUN DET PROPN PUNCT',\n",
       " 'AUX PROPN DET PROPN PUNCT',\n",
       " 'AUX PROPN NOUN NOUN ADJ ADP DET PROPN PUNCT',\n",
       " 'AUX PROPN NOUN PROPN PROPN ADP PROPN NOUN PUNCT',\n",
       " 'AUX PROPN PROPN PROPN ADJ PUNCT',\n",
       " 'AUX PROPN PROPN PUNCT',\n",
       " 'AUX PROPN PROPN VERB ADP NOUN PUNCT',\n",
       " 'AUX VERB ADP NOUN NOUN NOUN PROPN PUNCT',\n",
       " 'AUX VERB DET PROPN PROPN PROPN PROPN NOUN VERB NOUN PUNCT',\n",
       " 'AUX VERB NOUN ADJ ADP NOUN PUNCT',\n",
       " 'AUX VERB NOUN VERB PROPN PUNCT',\n",
       " 'VERB DET DET PROPN NOUN AUX VERB PUNCT',\n",
       " 'VERB DET NOUN AUX VERB ADP NOUN PUNCT',\n",
       " 'VERB DET NOUN NOUN AUX VERB PUNCT',\n",
       " 'VERB DET NOUN VERB ADP PROPN PUNCT',\n",
       " 'VERB DET PROPN PROPN PROPN AUX VERB PUNCT',\n",
       " 'VERB DET PROPN PROPN PROPN NOUN PART VERB NOUN PUNCT',\n",
       " 'VERB NOUN AUX ADJ PUNCT',\n",
       " 'VERB NOUN AUX DET NOUN PART VERB DET VERB PROPN PUNCT',\n",
       " 'VERB NOUN AUX NOUN PUNCT',\n",
       " 'VERB NOUN AUX PART VERB PROPN NOUN PUNCT',\n",
       " 'VERB NOUN AUX VERB ADP PROPN CCONJ ADJ NOUN PUNCT',\n",
       " 'VERB NOUN NOUN AUX ADJ ADP NOUN PUNCT',\n",
       " 'VERB NOUN VERB ADJ PUNCT',\n",
       " 'VERB NOUN VERB NOUN PUNCT PROPN PUNCT',\n",
       " 'VERB NOUN VERB NOUN VERB VERB ADP NOUN PUNCT',\n",
       " 'VERB PRON AUX DET PROPN PROPN PROPN PUNCT',\n",
       " 'VERB PROPN AUX DET PROPN PROPN PUNCT',\n",
       " 'VERB PROPN CCONJ PROPN PUNCT VERB NOUN AUX ADJ PUNCT',\n",
       " 'VERB PROPN NOUN AUX ADJ PUNCT',\n",
       " 'VERB PROPN NOUN AUX VERB ADP NOUN PUNCT',\n",
       " 'VERB PROPN NOUN AUX VERB ADV ADP NOUN PUNCT',\n",
       " 'VERB PROPN PRON AUX VERB DET NOUN AUX VERB PART VERB PUNCT',\n",
       " 'VERB PROPN PROPN ADV VERB PROPN PROPN PUNCT',\n",
       " 'VERB PROPN PROPN AUX ADJ PUNCT',\n",
       " 'VERB PROPN PROPN AUX DET PROPN PROPN PUNCT',\n",
       " 'VERB PROPN PROPN AUX VERB PUNCT',\n",
       " 'VERB PROPN PROPN NOUN AUX ADJ PART VERB ADP PROPN PUNCT',\n",
       " 'VERB PROPN PROPN PROPN NOUN AUX VERB PUNCT',\n",
       " 'VERB PROPN VERB NOUN ADP NOUN PUNCT',\n",
       " 'VERB VERB AUX VERB ADP PROPN PUNCT',\n",
       " 'VERB VERB NOUN AUX VERB PUNCT',\n",
       " 'VERB VERB NOUN NOUN AUX ADJ ADP DET NOUN PUNCT'}"
      ]
     },
     "execution_count": 29,
     "metadata": {},
     "output_type": "execute_result"
    }
   ],
   "source": [
    "s"
   ]
  },
  {
   "cell_type": "code",
   "execution_count": 36,
   "metadata": {},
   "outputs": [],
   "source": [
    "doc = nlp(\"can it okay\")"
   ]
  },
  {
   "cell_type": "code",
   "execution_count": 37,
   "metadata": {},
   "outputs": [
    {
     "name": "stdout",
     "output_type": "stream",
     "text": [
      "VERB\n",
      "PRON\n",
      "ADJ\n"
     ]
    }
   ],
   "source": [
    "for token in doc:\n",
    "    print(token.pos_)"
   ]
  },
  {
   "cell_type": "code",
   "execution_count": 40,
   "metadata": {},
   "outputs": [
    {
     "data": {
      "text/plain": [
       "50256"
      ]
     },
     "execution_count": 40,
     "metadata": {},
     "output_type": "execute_result"
    }
   ],
   "source": [
    "tokenizer.eos_token_id"
   ]
  },
  {
   "cell_type": "code",
   "execution_count": 39,
   "metadata": {},
   "outputs": [
    {
     "data": {
      "text/plain": [
       "50256"
      ]
     },
     "execution_count": 39,
     "metadata": {},
     "output_type": "execute_result"
    }
   ],
   "source": [
    "tokenizer.bos_token_id"
   ]
  },
  {
   "cell_type": "code",
   "execution_count": 1,
   "metadata": {},
   "outputs": [],
   "source": [
    "from pplm_utils import *\n",
    "from transformers import AutoConfig, AutoModelWithLMHead, AutoTokenizer"
   ]
  },
  {
   "cell_type": "code",
   "execution_count": 1,
   "metadata": {},
   "outputs": [
    {
     "data": {
      "text/html": [
       "<style>.container { width:95% !important; }</style>"
      ],
      "text/plain": [
       "<IPython.core.display.HTML object>"
      ]
     },
     "metadata": {},
     "output_type": "display_data"
    }
   ],
   "source": [
    "from IPython.core.display import display, HTML\n",
    "display(HTML(\"<style>.container { width:95% !important; }</style>\"))"
   ]
  },
  {
   "cell_type": "code",
   "execution_count": 3,
   "metadata": {},
   "outputs": [],
   "source": []
  },
  {
   "cell_type": "code",
   "execution_count": 20,
   "metadata": {},
   "outputs": [],
   "source": [
    "LM_MODEL_TO_USE = \"gpt2\""
   ]
  },
  {
   "cell_type": "code",
   "execution_count": 29,
   "metadata": {},
   "outputs": [],
   "source": [
    "prompt =  \"Should abortion be illegal?\""
   ]
  },
  {
   "cell_type": "code",
   "execution_count": 21,
   "metadata": {},
   "outputs": [],
   "source": [
    "config = AutoConfig.from_pretrained(LM_MODEL_TO_USE)\n",
    "config.output_hidden_states = True\n",
    "tokenizer = AutoTokenizer.from_pretrained(LM_MODEL_TO_USE)\n",
    "lm = AutoModelWithLMHead.from_pretrained(LM_MODEL_TO_USE, config=config)\n",
    "lm.eval()    \n",
    "for param in lm.parameters():\n",
    "    param.requires_grad = False\n"
   ]
  },
  {
   "cell_type": "code",
   "execution_count": 30,
   "metadata": {},
   "outputs": [],
   "source": [
    "tokenized_cond_text = tokenizer.encode(tokenizer.bos_token + prompt)"
   ]
  },
  {
   "cell_type": "code",
   "execution_count": 42,
   "metadata": {},
   "outputs": [
    {
     "data": {
      "text/plain": [
       "6"
      ]
     },
     "execution_count": 42,
     "metadata": {},
     "output_type": "execute_result"
    }
   ],
   "source": []
  },
  {
   "cell_type": "code",
   "execution_count": 24,
   "metadata": {},
   "outputs": [
    {
     "data": {
      "text/plain": [
       "'<|endoftext|>Abortion should be illegal.'"
      ]
     },
     "execution_count": 24,
     "metadata": {},
     "output_type": "execute_result"
    }
   ],
   "source": [
    "tokenizer.decode(tokenized_cond_text)"
   ]
  },
  {
   "cell_type": "code",
   "execution_count": 38,
   "metadata": {
    "scrolled": true
   },
   "outputs": [
    {
     "name": "stdout",
     "output_type": "stream",
     "text": [
      "CPU times: user 42min 22s, sys: 31.7 s, total: 42min 54s\n",
      "Wall time: 3min 46s\n"
     ]
    }
   ],
   "source": [
    "%%time\n",
    "unpert_gen_tok_text, pert_gen_tok_texts, grad_norms, loss_per_iter = full_text_generation(model=lm, tokenizer=tokenizer, context=tokenized_cond_text, bag_of_words='arg_bow', length=100, stepsize=0.02, temperature=1.0, \n",
    "                                                                                          top_k=10, num_iterations=15, grad_length=10000, horizon_length=1, gm_scale=0.9, kl_scale=0.01, repetition_penalty=1.2, gamma=1.5,\n",
    "                                                                                          no_cuda=True, device=\"cpu\")"
   ]
  },
  {
   "cell_type": "code",
   "execution_count": 43,
   "metadata": {},
   "outputs": [
    {
     "data": {
      "text/plain": [
       "tensor([  198,   464,  5617,  3078,   468,  8879,   326,   262,   826,   284,\n",
       "         1204,   286,   257,  2415,   318,  6861,   416, 10172,   642,    11,\n",
       "          543,  2585,    25,   366,  2949,  1048,  2236, 10129,   393,   450,\n",
       "        12818,  1194,   338,  7531,  1692,  2489,   526,   383,  2184,   635,\n",
       "          531,   340,   373,   407,  1598,  1771, 34904,   410,    13, 19136,\n",
       "          561,   423,   587, 24816,   611,   612,   550,   587,   645,  1181,\n",
       "           12,  5715,  3958,   319, 19985,   706,  1160,  2745,     6, 47110,\n",
       "          290,   772,   788,   691,   287,  2663,   810,   281, 36172,  1200,\n",
       "          714,  7866,  1231,  3315,  1337,   329,   379,  1551,  2237,  1933,\n",
       "          878, 32141,   357,  1169, 31076,   460,  2107,   510,  1566,  4082])"
      ]
     },
     "execution_count": 43,
     "metadata": {},
     "output_type": "execute_result"
    }
   ],
   "source": [
    "unpert_gen_tok_text[0][len(tokenized_cond_text):]"
   ]
  },
  {
   "cell_type": "code",
   "execution_count": 36,
   "metadata": {},
   "outputs": [
    {
     "data": {
      "text/plain": [
       "tensor([50256, 19926,  7950,   307,  5293,    30,   198,   464,  5617,  3078,\n",
       "          468,  8879,   326,   262,   826,   284,  1204,   286,   257, 31076,\n",
       "          318,  6861,   416, 10172,   642,    11])"
      ]
     },
     "execution_count": 36,
     "metadata": {},
     "output_type": "execute_result"
    }
   ],
   "source": [
    "pert_gen_tok_texts[0][0]"
   ]
  },
  {
   "cell_type": "code",
   "execution_count": 44,
   "metadata": {},
   "outputs": [
    {
     "name": "stdout",
     "output_type": "stream",
     "text": [
      "\n",
      "The Supreme Court has ruled that the right to life of a woman is protected by Article 5, which states: \"No person shall deny or abridge another's fundamental human rights.\" The court also said it was not clear whether Roe v. Wade would have been upheld if there had been no state-level ban on abortions after 20 weeks' gestation and even then only in cases where an unborn child could survive without medical care for at least six months before viability (the fetus can live up until birth\n"
     ]
    }
   ],
   "source": [
    "print(tokenizer.decode(unpert_gen_tok_text[0][len(tokenized_cond_text):]))"
   ]
  },
  {
   "cell_type": "code",
   "execution_count": 45,
   "metadata": {},
   "outputs": [
    {
     "name": "stdout",
     "output_type": "stream",
     "text": [
      "\n",
      "The Supreme Court has ruled that the right to life of a fetus is protected by Article 5, which states: \"No person shall make an attempt to deprive another human being from his or her liberty.\" The decision was made in 1973 and it's been interpreted since then. It says there are two kinds (abortionists) who can't get pregnant because they're pro-life but not antichoice; those with no religious beliefs would have legal rights under this law as well if their religion were true\n"
     ]
    }
   ],
   "source": [
    "print(tokenizer.decode(pert_gen_tok_texts[0][0][len(tokenized_cond_text):]))"
   ]
  },
  {
   "cell_type": "code",
   "execution_count": 15,
   "metadata": {},
   "outputs": [
    {
     "data": {
      "text/plain": [
       "[]"
      ]
     },
     "execution_count": 15,
     "metadata": {},
     "output_type": "execute_result"
    }
   ],
   "source": [
    "grad_norms"
   ]
  },
  {
   "cell_type": "code",
   "execution_count": null,
   "metadata": {},
   "outputs": [],
   "source": []
  }
 ],
 "metadata": {
  "kernelspec": {
   "display_name": "Python 3",
   "language": "python",
   "name": "python3"
  },
  "language_info": {
   "codemirror_mode": {
    "name": "ipython",
    "version": 3
   },
   "file_extension": ".py",
   "mimetype": "text/x-python",
   "name": "python",
   "nbconvert_exporter": "python",
   "pygments_lexer": "ipython3",
   "version": "3.6.9"
  }
 },
 "nbformat": 4,
 "nbformat_minor": 4
}
