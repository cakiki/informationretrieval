{
 "cells": [
  {
   "cell_type": "code",
   "execution_count": 1,
   "metadata": {},
   "outputs": [
    {
     "data": {
      "text/html": [
       "<style>.container { width:95% !important; }</style>"
      ],
      "text/plain": [
       "<IPython.core.display.HTML object>"
      ]
     },
     "metadata": {},
     "output_type": "display_data"
    }
   ],
   "source": [
    "from IPython.core.display import display, HTML\n",
    "display(HTML(\"<style>.container { width:95% !important; }</style>\"))"
   ]
  },
  {
   "cell_type": "code",
   "execution_count": 29,
   "metadata": {},
   "outputs": [],
   "source": [
    "import pandas as pd\n",
    "import numpy as np\n",
    "from elasticsearch import Elasticsearch, helpers\n",
    "from elasticsearch_dsl import Search, Q, SF\n",
    "from tqdm.notebook import tqdm_notebook\n",
    "from pathlib import Path"
   ]
  },
  {
   "cell_type": "code",
   "execution_count": 3,
   "metadata": {},
   "outputs": [],
   "source": [
    "def document_generator_from_dataframe(df, index, fields_to_index):\n",
    "    for _, row in df.iterrows():\n",
    "        row_as_dict = row.replace('', 'empty').to_dict()\n",
    "        yield {\n",
    "            \"_index\": index,\n",
    "            \"_id\": row['id'],\n",
    "            \"_source\": {k: row_as_dict[k] for k in fields_to_index}\n",
    "        }"
   ]
  },
  {
   "cell_type": "code",
   "execution_count": 8,
   "metadata": {},
   "outputs": [],
   "source": [
    "#Use compression which is useful for bulk loading, and set a maximum of 1000 connections to the node\n",
    "es = Elasticsearch(http_compress=True, maxsize=1000) "
   ]
  },
  {
   "cell_type": "code",
   "execution_count": 9,
   "metadata": {},
   "outputs": [
    {
     "data": {
      "text/plain": [
       "True"
      ]
     },
     "execution_count": 9,
     "metadata": {},
     "output_type": "execute_result"
    }
   ],
   "source": [
    "es.ping()"
   ]
  },
  {
   "cell_type": "code",
   "execution_count": 30,
   "metadata": {},
   "outputs": [
    {
     "name": "stdout",
     "output_type": "stream",
     "text": [
      "Pickled dataset already exists. Now loading dataset.pkl into Pandas DataFrame\n",
      " \n",
      "CPU times: user 668 ms, sys: 380 ms, total: 1.05 s\n",
      "Wall time: 1.05 s\n"
     ]
    }
   ],
   "source": [
    "%%time\n",
    "current_directory = Path('.')\n",
    "if not (current_directory / 'Data/dataset.pkl').exists():\n",
    "    print(\"Pickled dataset doesn't already exists. Now reading JSON file.\")\n",
    "\n",
    "    #Read in JSON file if pickled dataframe doesn't already exist\n",
    "    with open('./Data/args-me.json') as f:\n",
    "        d = json.load(f)\n",
    "        d = d['arguments']\n",
    "        context_subfields = [['context', k] for k in d[0]['context'].keys()]\n",
    "        dataset = pd.json_normalize(d, record_path='premises', meta=['id', 'conclusion', *context_subfields])\n",
    "        print(\"Now pickling Pandas DataFrame into dataset.pkl.\")\n",
    "        dataset.to_pickle('Data/dataset.pkl')\n",
    "        print(\"DataFrame pickled.\")\n",
    "        print(\" \")\n",
    "else:\n",
    "    #If pickle already exists, read it into dataframe\n",
    "    print(\"Pickled dataset already exists. Now loading dataset.pkl into Pandas DataFrame\")\n",
    "    dataset = pd.read_pickle('Data/dataset.pkl')\n",
    "    print(\" \")"
   ]
  },
  {
   "cell_type": "code",
   "execution_count": 31,
   "metadata": {},
   "outputs": [
    {
     "data": {
      "text/html": [
       "<div>\n",
       "<style scoped>\n",
       "    .dataframe tbody tr th:only-of-type {\n",
       "        vertical-align: middle;\n",
       "    }\n",
       "\n",
       "    .dataframe tbody tr th {\n",
       "        vertical-align: top;\n",
       "    }\n",
       "\n",
       "    .dataframe thead th {\n",
       "        text-align: right;\n",
       "    }\n",
       "</style>\n",
       "<table border=\"1\" class=\"dataframe\">\n",
       "  <thead>\n",
       "    <tr style=\"text-align: right;\">\n",
       "      <th></th>\n",
       "      <th>text</th>\n",
       "      <th>stance</th>\n",
       "      <th>id</th>\n",
       "      <th>conclusion</th>\n",
       "      <th>context.sourceId</th>\n",
       "      <th>context.previousArgumentInSourceId</th>\n",
       "      <th>context.acquisitionTime</th>\n",
       "      <th>context.discussionTitle</th>\n",
       "      <th>context.sourceTitle</th>\n",
       "      <th>context.sourceUrl</th>\n",
       "      <th>context.nextArgumentInSourceId</th>\n",
       "    </tr>\n",
       "  </thead>\n",
       "  <tbody>\n",
       "    <tr>\n",
       "      <th>0</th>\n",
       "      <td>My opponent forfeited every round. None of my ...</td>\n",
       "      <td>CON</td>\n",
       "      <td>c67482ba-2019-04-18T13:32:05Z-00000-000</td>\n",
       "      <td>Contraceptive Forms for High School Students</td>\n",
       "      <td>c67482ba-2019-04-18T13:32:05Z</td>\n",
       "      <td></td>\n",
       "      <td>2019-04-18T13:32:05Z</td>\n",
       "      <td>Contraceptive Forms for High School Students</td>\n",
       "      <td>Debate Argument: Contraceptive Forms for High ...</td>\n",
       "      <td>https://www.debate.org/debates/Contraceptive-F...</td>\n",
       "      <td>c67482ba-2019-04-18T13:32:05Z-00001-000</td>\n",
       "    </tr>\n",
       "    <tr>\n",
       "      <th>1</th>\n",
       "      <td>How do you propose the school will fund your p...</td>\n",
       "      <td>CON</td>\n",
       "      <td>c67482ba-2019-04-18T13:32:05Z-00001-000</td>\n",
       "      <td>Contraceptive Forms for High School Students</td>\n",
       "      <td>c67482ba-2019-04-18T13:32:05Z</td>\n",
       "      <td>c67482ba-2019-04-18T13:32:05Z-00000-000</td>\n",
       "      <td>2019-04-18T13:32:05Z</td>\n",
       "      <td>Contraceptive Forms for High School Students</td>\n",
       "      <td>Debate Argument: Contraceptive Forms for High ...</td>\n",
       "      <td>https://www.debate.org/debates/Contraceptive-F...</td>\n",
       "      <td>c67482ba-2019-04-18T13:32:05Z-00002-000</td>\n",
       "    </tr>\n",
       "  </tbody>\n",
       "</table>\n",
       "</div>"
      ],
      "text/plain": [
       "                                                text stance  \\\n",
       "0  My opponent forfeited every round. None of my ...    CON   \n",
       "1  How do you propose the school will fund your p...    CON   \n",
       "\n",
       "                                        id  \\\n",
       "0  c67482ba-2019-04-18T13:32:05Z-00000-000   \n",
       "1  c67482ba-2019-04-18T13:32:05Z-00001-000   \n",
       "\n",
       "                                     conclusion  \\\n",
       "0  Contraceptive Forms for High School Students   \n",
       "1  Contraceptive Forms for High School Students   \n",
       "\n",
       "                context.sourceId       context.previousArgumentInSourceId  \\\n",
       "0  c67482ba-2019-04-18T13:32:05Z                                            \n",
       "1  c67482ba-2019-04-18T13:32:05Z  c67482ba-2019-04-18T13:32:05Z-00000-000   \n",
       "\n",
       "  context.acquisitionTime                       context.discussionTitle  \\\n",
       "0    2019-04-18T13:32:05Z  Contraceptive Forms for High School Students   \n",
       "1    2019-04-18T13:32:05Z  Contraceptive Forms for High School Students   \n",
       "\n",
       "                                 context.sourceTitle  \\\n",
       "0  Debate Argument: Contraceptive Forms for High ...   \n",
       "1  Debate Argument: Contraceptive Forms for High ...   \n",
       "\n",
       "                                   context.sourceUrl  \\\n",
       "0  https://www.debate.org/debates/Contraceptive-F...   \n",
       "1  https://www.debate.org/debates/Contraceptive-F...   \n",
       "\n",
       "            context.nextArgumentInSourceId  \n",
       "0  c67482ba-2019-04-18T13:32:05Z-00001-000  \n",
       "1  c67482ba-2019-04-18T13:32:05Z-00002-000  "
      ]
     },
     "execution_count": 31,
     "metadata": {},
     "output_type": "execute_result"
    }
   ],
   "source": [
    "dataset[:2]"
   ]
  },
  {
   "cell_type": "code",
   "execution_count": 13,
   "metadata": {},
   "outputs": [],
   "source": [
    "gen = document_generator_from_dataframe(dataset, \"arg_index\", ['text', 'stance', 'context.sourceId', 'conclusion'])"
   ]
  },
  {
   "cell_type": "code",
   "execution_count": 14,
   "metadata": {},
   "outputs": [],
   "source": [
    "body = {\n",
    "    'settings' : {\n",
    "        'similarity' : {\n",
    "            'my_dirichlet' : {'type': 'LMDirichlet' }\n",
    "        }\n",
    "    },\n",
    "    \n",
    "    'mappings': {\n",
    "        \n",
    "        'properties' : {\n",
    "            \n",
    "            'text':             {'type': 'text', 'similarity': 'my_dirichlet'},\n",
    "            'stance':           {'type': 'keyword'},\n",
    "            'context.sourceId': {'type': 'keyword'},\n",
    "            'conclusion':       {'type': 'text'}\n",
    "        }\n",
    "    }\n",
    "}"
   ]
  },
  {
   "cell_type": "code",
   "execution_count": 15,
   "metadata": {},
   "outputs": [
    {
     "data": {
      "text/plain": [
       "{'acknowledged': True, 'shards_acknowledged': True, 'index': 'arg_index'}"
      ]
     },
     "execution_count": 15,
     "metadata": {},
     "output_type": "execute_result"
    }
   ],
   "source": [
    "es.indices.create(index='arg_index', body=body)"
   ]
  },
  {
   "cell_type": "code",
   "execution_count": 16,
   "metadata": {},
   "outputs": [
    {
     "name": "stdout",
     "output_type": "stream",
     "text": [
      "CPU times: user 3min 7s, sys: 98.2 ms, total: 3min 7s\n",
      "Wall time: 4min 31s\n"
     ]
    },
    {
     "data": {
      "text/plain": [
       "(387692, [])"
      ]
     },
     "execution_count": 16,
     "metadata": {},
     "output_type": "execute_result"
    }
   ],
   "source": [
    "%%time\n",
    "helpers.bulk(es, gen)"
   ]
  },
  {
   "cell_type": "code",
   "execution_count": 17,
   "metadata": {},
   "outputs": [
    {
     "data": {
      "text/plain": [
       "{'arg_index': {'mappings': {'properties': {'conclusion': {'type': 'text'},\n",
       "    'context': {'properties': {'sourceId': {'type': 'keyword'}}},\n",
       "    'stance': {'type': 'keyword'},\n",
       "    'text': {'type': 'text', 'similarity': 'my_dirichlet'}}}}}"
      ]
     },
     "execution_count": 17,
     "metadata": {},
     "output_type": "execute_result"
    }
   ],
   "source": [
    "es.indices.get_mapping(index=\"arg_index\")"
   ]
  },
  {
   "cell_type": "code",
   "execution_count": 42,
   "metadata": {},
   "outputs": [
    {
     "name": "stdout",
     "output_type": "stream",
     "text": [
      "CONCLUSION: A philosophy degree is useful - ARGUMENT ID:b4f62054-2019-04-18T17:17:42Z-00004-000 - SCORE: 9.3465395\n",
      "CONCLUSION: Students should have possibility to select in which lessons they can attend. (17-18 years old) - ARGUMENT ID:fd5843b7-2019-04-18T17:47:44Z-00002-000 - SCORE: 8.223627\n",
      "CONCLUSION: CO2 Emissions are good - ARGUMENT ID:c3104a40-2019-04-18T11:41:20Z-00002-000 - SCORE: 8.066863\n",
      "CONCLUSION: Global Nuclear War is Good - ARGUMENT ID:19b45e6e-2019-04-18T11:23:40Z-00001-000 - SCORE: 8.056856\n",
      "CONCLUSION: Free University Education - ARGUMENT ID:1b21a2f2-2019-04-18T15:02:36Z-00003-000 - SCORE: 8.053132\n",
      "CONCLUSION: For Higher Learning, online courses are a more beneficial option than universities - ARGUMENT ID:8f7d5736-2019-04-18T18:41:18Z-00003-000 - SCORE: 7.721984\n",
      "CONCLUSION: Science and Math Degrees Should be Respected More Than Liberal Arts Degrees - ARGUMENT ID:8885de0a-2019-04-18T18:31:51Z-00001-000 - SCORE: 7.595864\n",
      "CONCLUSION: Free University Education - ARGUMENT ID:1b21a2f2-2019-04-18T15:02:36Z-00005-000 - SCORE: 7.5645156\n",
      "CONCLUSION: Global warming exists. - ARGUMENT ID:b0e3c323-2019-04-18T16:00:28Z-00005-000 - SCORE: 7.477716\n",
      "CONCLUSION: Atheists block human progress, hold back science, and pose the greatest threat to science - ARGUMENT ID:60eb8ad6-2019-04-18T15:31:37Z-00002-000 - SCORE: 7.435449\n",
      "CPU times: user 8.98 ms, sys: 0 ns, total: 8.98 ms\n",
      "Wall time: 59.6 ms\n"
     ]
    }
   ],
   "source": [
    "%%time\n",
    "query = \"Computer Science is a bad university degree.\"\n",
    "s = Search(using=es, index=\"arg_index\")\n",
    "\n",
    "s.query = Q(\"match\", text=query)\n",
    "s = s[:10]\n",
    "\n",
    "response = s.execute()\n",
    "for hit in response:\n",
    "    print(f\"CONCLUSION: {hit.conclusion} - ARGUMENT ID:{hit.meta.id} - SCORE: {hit.meta.score}\")"
   ]
  },
  {
   "cell_type": "code",
   "execution_count": 39,
   "metadata": {},
   "outputs": [
    {
     "data": {
      "text/plain": [
       "['doc_type', 'id', 'index', 'score']"
      ]
     },
     "execution_count": 39,
     "metadata": {},
     "output_type": "execute_result"
    }
   ],
   "source": [
    "dir(hit.meta)"
   ]
  },
  {
   "cell_type": "code",
   "execution_count": null,
   "metadata": {},
   "outputs": [],
   "source": []
  }
 ],
 "metadata": {
  "kernelspec": {
   "display_name": "Python 3",
   "language": "python",
   "name": "python3"
  },
  "language_info": {
   "codemirror_mode": {
    "name": "ipython",
    "version": 3
   },
   "file_extension": ".py",
   "mimetype": "text/x-python",
   "name": "python",
   "nbconvert_exporter": "python",
   "pygments_lexer": "ipython3",
   "version": "3.6.9"
  }
 },
 "nbformat": 4,
 "nbformat_minor": 4
}
