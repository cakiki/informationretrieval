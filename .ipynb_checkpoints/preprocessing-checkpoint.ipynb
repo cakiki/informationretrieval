{
 "cells": [
  {
   "cell_type": "code",
   "execution_count": 2,
   "metadata": {},
   "outputs": [
    {
     "name": "stdout",
     "output_type": "stream",
     "text": [
      "\u001b[33mWARNING: You are using pip version 19.3.1; however, version 20.0.2 is available.\r\n",
      "You should consider upgrading via the 'pip install --upgrade pip' command.\u001b[0m\r\n"
     ]
    }
   ],
   "source": [
    "!pip install -q pandas transformers tensorflow-hub faiss-gpu annoy torch torchvision"
   ]
  },
  {
   "cell_type": "code",
   "execution_count": 1,
   "metadata": {},
   "outputs": [
    {
     "data": {
      "text/html": [
       "<style>.container { width:85% !important; }</style>"
      ],
      "text/plain": [
       "<IPython.core.display.HTML object>"
      ]
     },
     "metadata": {},
     "output_type": "display_data"
    }
   ],
   "source": [
    "from IPython.core.display import display, HTML\n",
    "display(HTML(\"<style>.container { width:85% !important; }</style>\"))"
   ]
  },
  {
   "cell_type": "code",
   "execution_count": 3,
   "metadata": {},
   "outputs": [],
   "source": [
    "import pandas as pd\n",
    "import numpy as np\n",
    "from urllib.request import urlopen\n",
    "import multiprocessing\n",
    "import json\n",
    "#import tensorflow as tf\n",
    "import torch\n",
    "import matplotlib.pyplot as plt\n",
    "from transformers import AutoModel, AutoTokenizer, ALL_PRETRAINED_CONFIG_ARCHIVE_MAP \n",
    "# from elasticsearch import Elasticsearch, helpers\n",
    "# from elasticsearch_dsl import Search\n",
    "import faiss\n",
    "import annoy\n",
    "from tqdm.notebook import tqdm_notebook as tqdmnb"
   ]
  },
  {
   "cell_type": "code",
   "execution_count": 4,
   "metadata": {},
   "outputs": [],
   "source": [
    "def encode_row(row, tokenizer):\n",
    "    argument = row['text']\n",
    "    encoded_dicts = []\n",
    "    while argument:\n",
    "        encoded = tokenizer.encode_plus(argument, return_overflowing_tokens=True, max_length=tokenizer.max_len, pad_to_max_length=True, return_token_type_ids=False)\n",
    "        argument = encoded.pop('overflowing_tokens', False)\n",
    "        encoded.pop('num_truncated_tokens', 0)\n",
    "        encoded_dicts.append(encoded)\n",
    "    return encoded_dicts\n",
    "\n",
    "def encode_dataframe(df):\n",
    "    df['encoded'] = df.apply(lambda x: encode_row(x, tokenizer=tokenizer), axis=1)\n",
    "    return df\n",
    "\n",
    "def parallel_encode(df, encode_df, n_cores=multiprocessing.cpu_count()):\n",
    "    df_chunk = np.array_split(df, n_cores)\n",
    "    pool = multiprocessing.Pool(n_cores)\n",
    "    df = pd.concat(tqdmnb(pool.imap(encode_df, df_chunk), total=n_cores))\n",
    "    pool.close()\n",
    "    pool.join()\n",
    "    return df"
   ]
  },
  {
   "cell_type": "code",
   "execution_count": 5,
   "metadata": {},
   "outputs": [
    {
     "name": "stdout",
     "output_type": "stream",
     "text": [
      "CPU times: user 20 s, sys: 1.52 s, total: 21.5 s\n",
      "Wall time: 21.6 s\n"
     ]
    }
   ],
   "source": [
    "%%time\n",
    "with open('./Data/args-me.json') as f:\n",
    "    d = json.load(f)\n",
    "d = d['arguments']\n",
    "context_subfields = [['context', k] for k in d[0]['context'].keys()]\n",
    "dataset = pd.json_normalize(d, record_path='premises', meta=['id', 'conclusion', *context_subfields])\n",
    "dataset.to_pickle('./dataset.pkl')\n",
    "args = dataset[['id', 'text']].copy()"
   ]
  },
  {
   "cell_type": "code",
   "execution_count": 6,
   "metadata": {},
   "outputs": [
    {
     "data": {
      "application/vnd.jupyter.widget-view+json": {
       "model_id": "2afe0c3108b148f5a927e1ee9487e4b0",
       "version_major": 2,
       "version_minor": 0
      },
      "text/plain": [
       "HBox(children=(FloatProgress(value=0.0, max=79.0), HTML(value='')))"
      ]
     },
     "metadata": {},
     "output_type": "display_data"
    },
    {
     "name": "stdout",
     "output_type": "stream",
     "text": [
      "\n",
      "CPU times: user 857 ms, sys: 89.8 ms, total: 946 ms\n",
      "Wall time: 38.8 s\n"
     ]
    }
   ],
   "source": [
    "%%time\n",
    "model_configs = []\n",
    "for model_name, config_url in tqdmnb(ALL_PRETRAINED_CONFIG_ARCHIVE_MAP.items(), total=len(ALL_PRETRAINED_CONFIG_ARCHIVE_MAP)):\n",
    "    with urlopen(config_url) as url:\n",
    "        json_config = url.read().decode()\n",
    "        config = {**{'model_name':model_name}, **json.loads(json_config)}\n",
    "        model_configs.append(config)\n",
    "all_models = pd.DataFrame(model_configs)\n",
    "all_models.set_index('model_name', inplace=True, drop=True)\n",
    "all_models.to_pickle('./all_models.pkl')"
   ]
  },
  {
   "cell_type": "code",
   "execution_count": 16,
   "metadata": {},
   "outputs": [],
   "source": [
    "tqdmnb.pandas()"
   ]
  },
  {
   "cell_type": "markdown",
   "metadata": {},
   "source": [
    "### Choose a model"
   ]
  },
  {
   "cell_type": "code",
   "execution_count": 7,
   "metadata": {},
   "outputs": [],
   "source": [
    "MODEL_TO_USE = 'bert-large-uncased'"
   ]
  },
  {
   "cell_type": "code",
   "execution_count": 8,
   "metadata": {},
   "outputs": [
    {
     "data": {
      "application/vnd.jupyter.widget-view+json": {
       "model_id": "bc40681fd9374c43b52fea899bc1b8e3",
       "version_major": 2,
       "version_minor": 0
      },
      "text/plain": [
       "HBox(children=(FloatProgress(value=0.0, description='Downloading', max=362.0, style=ProgressStyle(description_…"
      ]
     },
     "metadata": {},
     "output_type": "display_data"
    },
    {
     "name": "stdout",
     "output_type": "stream",
     "text": [
      "\n"
     ]
    },
    {
     "data": {
      "application/vnd.jupyter.widget-view+json": {
       "model_id": "6b708da0d8cd48b6948c6b6c2838cdbf",
       "version_major": 2,
       "version_minor": 0
      },
      "text/plain": [
       "HBox(children=(FloatProgress(value=0.0, description='Downloading', max=231508.0, style=ProgressStyle(descripti…"
      ]
     },
     "metadata": {},
     "output_type": "display_data"
    },
    {
     "name": "stdout",
     "output_type": "stream",
     "text": [
      "\n"
     ]
    }
   ],
   "source": [
    "tokenizer = AutoTokenizer.from_pretrained(MODEL_TO_USE)"
   ]
  },
  {
   "cell_type": "code",
   "execution_count": 9,
   "metadata": {},
   "outputs": [
    {
     "data": {
      "application/vnd.jupyter.widget-view+json": {
       "model_id": "9c204d57c63e4368baaac7eb53eb1172",
       "version_major": 2,
       "version_minor": 0
      },
      "text/plain": [
       "HBox(children=(FloatProgress(value=0.0, max=28.0), HTML(value='')))"
      ]
     },
     "metadata": {},
     "output_type": "display_data"
    },
    {
     "name": "stdout",
     "output_type": "stream",
     "text": [
      "\n",
      "CPU times: user 24.6 s, sys: 6.57 s, total: 31.2 s\n",
      "Wall time: 8min 56s\n"
     ]
    }
   ],
   "source": [
    "%%time\n",
    "args = parallel_encode(args, encode_dataframe)"
   ]
  },
  {
   "cell_type": "code",
   "execution_count": 13,
   "metadata": {},
   "outputs": [],
   "source": [
    "args = args.explode('encoded')\n",
    "args.reset_index(drop=True, inplace=True)"
   ]
  },
  {
   "cell_type": "code",
   "execution_count": 21,
   "metadata": {},
   "outputs": [
    {
     "data": {
      "application/vnd.jupyter.widget-view+json": {
       "model_id": "5ddec849e8b647ab90fee57a15f654aa",
       "version_major": 2,
       "version_minor": 0
      },
      "text/plain": [
       "HBox(children=(FloatProgress(value=0.0, max=555583.0), HTML(value='')))"
      ]
     },
     "metadata": {},
     "output_type": "display_data"
    },
    {
     "name": "stdout",
     "output_type": "stream",
     "text": [
      "\n"
     ]
    }
   ],
   "source": [
    "args[['input_ids','attention_mask']] = args['encoded'].progress_apply(pd.Series)[['input_ids','attention_mask']]"
   ]
  },
  {
   "cell_type": "code",
   "execution_count": 27,
   "metadata": {},
   "outputs": [],
   "source": [
    "args.drop(columns=['encoded'], inplace=True)"
   ]
  },
  {
   "cell_type": "code",
   "execution_count": 33,
   "metadata": {},
   "outputs": [],
   "source": [
    "args.to_pickle(f'args_encoded_{MODEL_TO_USE}.pkl')"
   ]
  },
  {
   "cell_type": "code",
   "execution_count": 35,
   "metadata": {},
   "outputs": [
    {
     "data": {
      "text/html": [
       "<div>\n",
       "<style scoped>\n",
       "    .dataframe tbody tr th:only-of-type {\n",
       "        vertical-align: middle;\n",
       "    }\n",
       "\n",
       "    .dataframe tbody tr th {\n",
       "        vertical-align: top;\n",
       "    }\n",
       "\n",
       "    .dataframe thead th {\n",
       "        text-align: right;\n",
       "    }\n",
       "</style>\n",
       "<table border=\"1\" class=\"dataframe\">\n",
       "  <thead>\n",
       "    <tr style=\"text-align: right;\">\n",
       "      <th></th>\n",
       "      <th>id</th>\n",
       "      <th>text</th>\n",
       "      <th>input_ids</th>\n",
       "      <th>attention_mask</th>\n",
       "    </tr>\n",
       "  </thead>\n",
       "  <tbody>\n",
       "    <tr>\n",
       "      <th>0</th>\n",
       "      <td>c67482ba-2019-04-18T13:32:05Z-00000-000</td>\n",
       "      <td>My opponent forfeited every round. None of my arguments were answered. I don’t like the idea of winning by default, but here we are.Tule: it’s good for students to get involved and address big issues like teen pregnancy. You need to be able to answer arguments like mine and not simply prepare for an abstinence-only type of response. You should also be aware that, in the U.S., condoms may be sold to minors in ANY state. A retailer who says it is illegal to sell you them is, frankly, wrong.</td>\n",
       "      <td>[101, 2026, 7116, 2005, 21156, 2098, 2296, 2461, 1012, 3904, 1997, 2026, 9918, 2020, 4660, 1012, 1045, 2123, 1521, 1056, 2066, 1996, 2801, 1997, 3045, 2011, 12398, 1010, 2021, 2182, 2057, 2024, 1012, 10722, 2571, 1024, 2009, 1521, 1055, 2204, 2005, 2493, 2000, 2131, 2920, 1998, 4769, 2502, 3314, 2066, 9458, 10032, 1012, 2017, 2342, 2000, 2022, 2583, 2000, 3437, 9918, 2066, 3067, 1998, 2025, 3432, 7374, 2005, 2019, 14689, 10196, 5897, 1011, 2069, 2828, 1997, 3433, 1012, 2017, 2323, 2036, 2022, 5204, 2008, 1010, 1999, 1996, 1057, 1012, 1055, 1012, 1010, 29094, 2089, 2022, 2853, 2000, 18464, 1999, 2151, ...]</td>\n",
       "      <td>[1, 1, 1, 1, 1, 1, 1, 1, 1, 1, 1, 1, 1, 1, 1, 1, 1, 1, 1, 1, 1, 1, 1, 1, 1, 1, 1, 1, 1, 1, 1, 1, 1, 1, 1, 1, 1, 1, 1, 1, 1, 1, 1, 1, 1, 1, 1, 1, 1, 1, 1, 1, 1, 1, 1, 1, 1, 1, 1, 1, 1, 1, 1, 1, 1, 1, 1, 1, 1, 1, 1, 1, 1, 1, 1, 1, 1, 1, 1, 1, 1, 1, 1, 1, 1, 1, 1, 1, 1, 1, 1, 1, 1, 1, 1, 1, 1, 1, 1, 1, ...]</td>\n",
       "    </tr>\n",
       "    <tr>\n",
       "      <th>1</th>\n",
       "      <td>c67482ba-2019-04-18T13:32:05Z-00001-000</td>\n",
       "      <td>How do you propose the school will fund your program? Condoms cost money and checking an \"opt out\" list before handing them out takes time away from staff members whenever they could be doing their actual jobs. Your \"opt out\" option is only be a token to parental authority and would be easily subverted. If everyone in school except a handful of students had access to free condoms, do you not think those students would simply ask their friends to provide them with condoms?</td>\n",
       "      <td>[101, 2129, 2079, 2017, 16599, 1996, 2082, 2097, 4636, 2115, 2565, 1029, 29094, 3465, 2769, 1998, 9361, 2019, 1000, 23569, 2041, 1000, 2862, 2077, 13041, 2068, 2041, 3138, 2051, 2185, 2013, 3095, 2372, 7188, 2027, 2071, 2022, 2725, 2037, 5025, 5841, 1012, 2115, 1000, 23569, 2041, 1000, 5724, 2003, 2069, 2022, 1037, 19204, 2000, 18643, 3691, 1998, 2052, 2022, 4089, 4942, 26686, 1012, 2065, 3071, 1999, 2082, 3272, 1037, 9210, 1997, 2493, 2018, 3229, 2000, 2489, 29094, 1010, 2079, 2017, 2025, 2228, 2216, 2493, 2052, 3432, 3198, 2037, 2814, 2000, 3073, 2068, 2007, 29094, 1029, 102, 0, 0, 0, 0, ...]</td>\n",
       "      <td>[1, 1, 1, 1, 1, 1, 1, 1, 1, 1, 1, 1, 1, 1, 1, 1, 1, 1, 1, 1, 1, 1, 1, 1, 1, 1, 1, 1, 1, 1, 1, 1, 1, 1, 1, 1, 1, 1, 1, 1, 1, 1, 1, 1, 1, 1, 1, 1, 1, 1, 1, 1, 1, 1, 1, 1, 1, 1, 1, 1, 1, 1, 1, 1, 1, 1, 1, 1, 1, 1, 1, 1, 1, 1, 1, 1, 1, 1, 1, 1, 1, 1, 1, 1, 1, 1, 1, 1, 1, 1, 1, 1, 1, 1, 1, 1, 0, 0, 0, 0, ...]</td>\n",
       "    </tr>\n",
       "    <tr>\n",
       "      <th>2</th>\n",
       "      <td>c67482ba-2019-04-18T13:32:05Z-00002-000</td>\n",
       "      <td>Schools have no compelling interest in providing contraceptives to students. The purpose of schools is not to provide healthcare nor to provide any other service except insofar as it relates to the furtherance of education [1,2,3], though I do not contest that individual districts ought to have this option if they so choose. As an educator, I do feel that adequate sexual education is a necessary. [1] tinyurl.com/z786mww[2] tinyurl.com/jafrt2n[3] tinyurl.com/zbkwkz6</td>\n",
       "      <td>[101, 2816, 2031, 2053, 17075, 3037, 1999, 4346, 24528, 28687, 2015, 2000, 2493, 1012, 1996, 3800, 1997, 2816, 2003, 2025, 2000, 3073, 9871, 4496, 2000, 3073, 2151, 2060, 2326, 3272, 16021, 11253, 2906, 2004, 2009, 14623, 2000, 1996, 2582, 6651, 1997, 2495, 1031, 1015, 1010, 1016, 1010, 1017, 1033, 1010, 2295, 1045, 2079, 2025, 5049, 2008, 3265, 4733, 11276, 2000, 2031, 2023, 5724, 2065, 2027, 2061, 5454, 1012, 2004, 2019, 11490, 1010, 1045, 2079, 2514, 2008, 11706, 4424, 2495, 2003, 1037, 4072, 1012, 1031, 1015, 1033, 4714, 3126, 2140, 1012, 4012, 1013, 1062, 2581, 20842, 2213, 2860, 2860, 1031, 1016, ...]</td>\n",
       "      <td>[1, 1, 1, 1, 1, 1, 1, 1, 1, 1, 1, 1, 1, 1, 1, 1, 1, 1, 1, 1, 1, 1, 1, 1, 1, 1, 1, 1, 1, 1, 1, 1, 1, 1, 1, 1, 1, 1, 1, 1, 1, 1, 1, 1, 1, 1, 1, 1, 1, 1, 1, 1, 1, 1, 1, 1, 1, 1, 1, 1, 1, 1, 1, 1, 1, 1, 1, 1, 1, 1, 1, 1, 1, 1, 1, 1, 1, 1, 1, 1, 1, 1, 1, 1, 1, 1, 1, 1, 1, 1, 1, 1, 1, 1, 1, 1, 1, 1, 1, 1, ...]</td>\n",
       "    </tr>\n",
       "    <tr>\n",
       "      <th>3</th>\n",
       "      <td>c67482ba-2019-04-18T13:32:05Z-00003-000</td>\n",
       "      <td>As a senior at my school. My group and I are focusing on teenage pregnancy; we are determined to have high school districts provide contraceptive forms to students to be safe about sex. This focus isn't for us to encourage to have sex, but if teenagers decide to have sex to please be safe about it. In addition. if parents do not agree to this we want to have an opt out form where their child/children will not be receiving this form.</td>\n",
       "      <td>[101, 2004, 1037, 3026, 2012, 2026, 2082, 1012, 2026, 2177, 1998, 1045, 2024, 7995, 2006, 9454, 10032, 1025, 2057, 2024, 4340, 2000, 2031, 2152, 2082, 4733, 3073, 24528, 28687, 3596, 2000, 2493, 2000, 2022, 3647, 2055, 3348, 1012, 2023, 3579, 3475, 1005, 1056, 2005, 2149, 2000, 8627, 2000, 2031, 3348, 1010, 2021, 2065, 12908, 5630, 2000, 2031, 3348, 2000, 3531, 2022, 3647, 2055, 2009, 1012, 1999, 2804, 1012, 2065, 3008, 2079, 2025, 5993, 2000, 2023, 2057, 2215, 2000, 2031, 2019, 23569, 2041, 2433, 2073, 2037, 2775, 1013, 2336, 2097, 2025, 2022, 4909, 2023, 2433, 1012, 102, 0, 0, 0, 0, ...]</td>\n",
       "      <td>[1, 1, 1, 1, 1, 1, 1, 1, 1, 1, 1, 1, 1, 1, 1, 1, 1, 1, 1, 1, 1, 1, 1, 1, 1, 1, 1, 1, 1, 1, 1, 1, 1, 1, 1, 1, 1, 1, 1, 1, 1, 1, 1, 1, 1, 1, 1, 1, 1, 1, 1, 1, 1, 1, 1, 1, 1, 1, 1, 1, 1, 1, 1, 1, 1, 1, 1, 1, 1, 1, 1, 1, 1, 1, 1, 1, 1, 1, 1, 1, 1, 1, 1, 1, 1, 1, 1, 1, 1, 1, 1, 1, 1, 1, 1, 1, 0, 0, 0, 0, ...]</td>\n",
       "    </tr>\n",
       "    <tr>\n",
       "      <th>4</th>\n",
       "      <td>4d3d4471-2019-04-18T11:45:01Z-00000-000</td>\n",
       "      <td>The resolution used by Pro *assumes* that Australia isn't already a 'significant' country - however, in actual reality, it is. Firstly we should clarify what significance means: 1.a the state or quality of being significant1.b of consequence or importance==================================To respond directly to Pros argument first:he/she asserts that Australia invented 'amazing things' like 'WiFI, Google Maps, Polymer bank notes, Ultrasound scanners, stainless steel braces and many more things'. Now, if these inventions did come from Australia, then, it can be considered a 'significant country' - as a country which is the home of some of the most universally-used inventions in the 21st century. It would seem that Pro was/is trying to argue that Australia simply deserves more recognition, in which case he/she should proposed that instead of stating that it should be more 'significant' - because the examples that Pro themselves has listed, fully go against that. Instead of affirming the resolution, Pro has negated it. After all, insignificant countries do not invent things such as WiFi or Google Maps. One invention listed by Pro that I will take issue with though is the ultrasound, as this was not invented in Australia. Its first use is thought to have been in Austria, which is a country in Europe. Its technology developed from there. 'The use of ultrasound in medicine began during and shortly after the 2nd World War in various centres around the world. The work of Dr. Karl Theodore Dussik in Austria in 1942 on transmission ultrasound investigation of the brain provides the first published work on medical ultrasonics.' 'Although other workers in the USA, Japan and Europe have also been cited as pioneers, the work of Professor Ian Donald and his colleagues in Glasgow, in the mid 1950s, did much to facilitate the development of practical technology and applications.'[1.] https://www.bmus.org...</td>\n",
       "      <td>[101, 1996, 5813, 2109, 2011, 4013, 1008, 15980, 1008, 2008, 2660, 3475, 1005, 1056, 2525, 1037, 1005, 3278, 1005, 2406, 1011, 2174, 1010, 1999, 5025, 4507, 1010, 2009, 2003, 1012, 15847, 2057, 2323, 25037, 2054, 7784, 2965, 1024, 1015, 1012, 1037, 1996, 2110, 2030, 3737, 1997, 2108, 3278, 2487, 1012, 1038, 1997, 9509, 2030, 5197, 1027, 1027, 1027, 1027, 1027, 1027, 1027, 1027, 1027, 1027, 1027, 1027, 1027, 1027, 1027, 1027, 1027, 1027, 1027, 1027, 1027, 1027, 1027, 1027, 1027, 1027, 1027, 1027, 1027, 1027, 1027, 1027, 1027, 1027, 2000, 6869, 3495, 2000, 4013, 2015, 6685, 2034, 1024, 2002, 1013, ...]</td>\n",
       "      <td>[1, 1, 1, 1, 1, 1, 1, 1, 1, 1, 1, 1, 1, 1, 1, 1, 1, 1, 1, 1, 1, 1, 1, 1, 1, 1, 1, 1, 1, 1, 1, 1, 1, 1, 1, 1, 1, 1, 1, 1, 1, 1, 1, 1, 1, 1, 1, 1, 1, 1, 1, 1, 1, 1, 1, 1, 1, 1, 1, 1, 1, 1, 1, 1, 1, 1, 1, 1, 1, 1, 1, 1, 1, 1, 1, 1, 1, 1, 1, 1, 1, 1, 1, 1, 1, 1, 1, 1, 1, 1, 1, 1, 1, 1, 1, 1, 1, 1, 1, 1, ...]</td>\n",
       "    </tr>\n",
       "  </tbody>\n",
       "</table>\n",
       "</div>"
      ],
      "text/plain": [
       "                                        id  \\\n",
       "0  c67482ba-2019-04-18T13:32:05Z-00000-000   \n",
       "1  c67482ba-2019-04-18T13:32:05Z-00001-000   \n",
       "2  c67482ba-2019-04-18T13:32:05Z-00002-000   \n",
       "3  c67482ba-2019-04-18T13:32:05Z-00003-000   \n",
       "4  4d3d4471-2019-04-18T11:45:01Z-00000-000   \n",
       "\n",
       "                                                                                                                                                                                                                                                                                                                                                                                                                                                                                                                                                                                                                                                                                                                                                                                                                                                                                                                                                                                                                                                                                                                                                                                                                                                                                                                                                                                                                                                                                                                                                                                                                                                                                                                                                                                                                                                                                                                                                                                                 text  \\\n",
       "0  My opponent forfeited every round. None of my arguments were answered. I don’t like the idea of winning by default, but here we are.Tule: it’s good for students to get involved and address big issues like teen pregnancy. You need to be able to answer arguments like mine and not simply prepare for an abstinence-only type of response. You should also be aware that, in the U.S., condoms may be sold to minors in ANY state. A retailer who says it is illegal to sell you them is, frankly, wrong.                                                                                                                                                                                                                                                                                                                                                                                                                                                                                                                                                                                                                                                                                                                                                                                                                                                                                                                                                                                                                                                                                                                                                                                                                                                                                                                                                                                                                                                                                        \n",
       "1  How do you propose the school will fund your program? Condoms cost money and checking an \"opt out\" list before handing them out takes time away from staff members whenever they could be doing their actual jobs. Your \"opt out\" option is only be a token to parental authority and would be easily subverted. If everyone in school except a handful of students had access to free condoms, do you not think those students would simply ask their friends to provide them with condoms?                                                                                                                                                                                                                                                                                                                                                                                                                                                                                                                                                                                                                                                                                                                                                                                                                                                                                                                                                                                                                                                                                                                                                                                                                                                                                                                                                                                                                                                                                                         \n",
       "2  Schools have no compelling interest in providing contraceptives to students. The purpose of schools is not to provide healthcare nor to provide any other service except insofar as it relates to the furtherance of education [1,2,3], though I do not contest that individual districts ought to have this option if they so choose. As an educator, I do feel that adequate sexual education is a necessary. [1] tinyurl.com/z786mww[2] tinyurl.com/jafrt2n[3] tinyurl.com/zbkwkz6                                                                                                                                                                                                                                                                                                                                                                                                                                                                                                                                                                                                                                                                                                                                                                                                                                                                                                                                                                                                                                                                                                                                                                                                                                                                                                                                                                                                                                                                                                                \n",
       "3  As a senior at my school. My group and I are focusing on teenage pregnancy; we are determined to have high school districts provide contraceptive forms to students to be safe about sex. This focus isn't for us to encourage to have sex, but if teenagers decide to have sex to please be safe about it. In addition. if parents do not agree to this we want to have an opt out form where their child/children will not be receiving this form.                                                                                                                                                                                                                                                                                                                                                                                                                                                                                                                                                                                                                                                                                                                                                                                                                                                                                                                                                                                                                                                                                                                                                                                                                                                                                                                                                                                                                                                                                                                                                 \n",
       "4  The resolution used by Pro *assumes* that Australia isn't already a 'significant' country - however, in actual reality, it is. Firstly we should clarify what significance means: 1.a the state or quality of being significant1.b of consequence or importance==================================To respond directly to Pros argument first:he/she asserts that Australia invented 'amazing things' like 'WiFI, Google Maps, Polymer bank notes, Ultrasound scanners, stainless steel braces and many more things'. Now, if these inventions did come from Australia, then, it can be considered a 'significant country' - as a country which is the home of some of the most universally-used inventions in the 21st century. It would seem that Pro was/is trying to argue that Australia simply deserves more recognition, in which case he/she should proposed that instead of stating that it should be more 'significant' - because the examples that Pro themselves has listed, fully go against that. Instead of affirming the resolution, Pro has negated it. After all, insignificant countries do not invent things such as WiFi or Google Maps. One invention listed by Pro that I will take issue with though is the ultrasound, as this was not invented in Australia. Its first use is thought to have been in Austria, which is a country in Europe. Its technology developed from there. 'The use of ultrasound in medicine began during and shortly after the 2nd World War in various centres around the world. The work of Dr. Karl Theodore Dussik in Austria in 1942 on transmission ultrasound investigation of the brain provides the first published work on medical ultrasonics.' 'Although other workers in the USA, Japan and Europe have also been cited as pioneers, the work of Professor Ian Donald and his colleagues in Glasgow, in the mid 1950s, did much to facilitate the development of practical technology and applications.'[1.] https://www.bmus.org...   \n",
       "\n",
       "                                                                                                                                                                                                                                                                                                                                                                                                                                                                                                                                                                                                                                input_ids  \\\n",
       "0  [101, 2026, 7116, 2005, 21156, 2098, 2296, 2461, 1012, 3904, 1997, 2026, 9918, 2020, 4660, 1012, 1045, 2123, 1521, 1056, 2066, 1996, 2801, 1997, 3045, 2011, 12398, 1010, 2021, 2182, 2057, 2024, 1012, 10722, 2571, 1024, 2009, 1521, 1055, 2204, 2005, 2493, 2000, 2131, 2920, 1998, 4769, 2502, 3314, 2066, 9458, 10032, 1012, 2017, 2342, 2000, 2022, 2583, 2000, 3437, 9918, 2066, 3067, 1998, 2025, 3432, 7374, 2005, 2019, 14689, 10196, 5897, 1011, 2069, 2828, 1997, 3433, 1012, 2017, 2323, 2036, 2022, 5204, 2008, 1010, 1999, 1996, 1057, 1012, 1055, 1012, 1010, 29094, 2089, 2022, 2853, 2000, 18464, 1999, 2151, ...]     \n",
       "1  [101, 2129, 2079, 2017, 16599, 1996, 2082, 2097, 4636, 2115, 2565, 1029, 29094, 3465, 2769, 1998, 9361, 2019, 1000, 23569, 2041, 1000, 2862, 2077, 13041, 2068, 2041, 3138, 2051, 2185, 2013, 3095, 2372, 7188, 2027, 2071, 2022, 2725, 2037, 5025, 5841, 1012, 2115, 1000, 23569, 2041, 1000, 5724, 2003, 2069, 2022, 1037, 19204, 2000, 18643, 3691, 1998, 2052, 2022, 4089, 4942, 26686, 1012, 2065, 3071, 1999, 2082, 3272, 1037, 9210, 1997, 2493, 2018, 3229, 2000, 2489, 29094, 1010, 2079, 2017, 2025, 2228, 2216, 2493, 2052, 3432, 3198, 2037, 2814, 2000, 3073, 2068, 2007, 29094, 1029, 102, 0, 0, 0, 0, ...]                \n",
       "2  [101, 2816, 2031, 2053, 17075, 3037, 1999, 4346, 24528, 28687, 2015, 2000, 2493, 1012, 1996, 3800, 1997, 2816, 2003, 2025, 2000, 3073, 9871, 4496, 2000, 3073, 2151, 2060, 2326, 3272, 16021, 11253, 2906, 2004, 2009, 14623, 2000, 1996, 2582, 6651, 1997, 2495, 1031, 1015, 1010, 1016, 1010, 1017, 1033, 1010, 2295, 1045, 2079, 2025, 5049, 2008, 3265, 4733, 11276, 2000, 2031, 2023, 5724, 2065, 2027, 2061, 5454, 1012, 2004, 2019, 11490, 1010, 1045, 2079, 2514, 2008, 11706, 4424, 2495, 2003, 1037, 4072, 1012, 1031, 1015, 1033, 4714, 3126, 2140, 1012, 4012, 1013, 1062, 2581, 20842, 2213, 2860, 2860, 1031, 1016, ...]   \n",
       "3  [101, 2004, 1037, 3026, 2012, 2026, 2082, 1012, 2026, 2177, 1998, 1045, 2024, 7995, 2006, 9454, 10032, 1025, 2057, 2024, 4340, 2000, 2031, 2152, 2082, 4733, 3073, 24528, 28687, 3596, 2000, 2493, 2000, 2022, 3647, 2055, 3348, 1012, 2023, 3579, 3475, 1005, 1056, 2005, 2149, 2000, 8627, 2000, 2031, 3348, 1010, 2021, 2065, 12908, 5630, 2000, 2031, 3348, 2000, 3531, 2022, 3647, 2055, 2009, 1012, 1999, 2804, 1012, 2065, 3008, 2079, 2025, 5993, 2000, 2023, 2057, 2215, 2000, 2031, 2019, 23569, 2041, 2433, 2073, 2037, 2775, 1013, 2336, 2097, 2025, 2022, 4909, 2023, 2433, 1012, 102, 0, 0, 0, 0, ...]                     \n",
       "4  [101, 1996, 5813, 2109, 2011, 4013, 1008, 15980, 1008, 2008, 2660, 3475, 1005, 1056, 2525, 1037, 1005, 3278, 1005, 2406, 1011, 2174, 1010, 1999, 5025, 4507, 1010, 2009, 2003, 1012, 15847, 2057, 2323, 25037, 2054, 7784, 2965, 1024, 1015, 1012, 1037, 1996, 2110, 2030, 3737, 1997, 2108, 3278, 2487, 1012, 1038, 1997, 9509, 2030, 5197, 1027, 1027, 1027, 1027, 1027, 1027, 1027, 1027, 1027, 1027, 1027, 1027, 1027, 1027, 1027, 1027, 1027, 1027, 1027, 1027, 1027, 1027, 1027, 1027, 1027, 1027, 1027, 1027, 1027, 1027, 1027, 1027, 1027, 1027, 2000, 6869, 3495, 2000, 4013, 2015, 6685, 2034, 1024, 2002, 1013, ...]          \n",
       "\n",
       "                                                                                                                                                                                                                                                                                                      attention_mask  \n",
       "0  [1, 1, 1, 1, 1, 1, 1, 1, 1, 1, 1, 1, 1, 1, 1, 1, 1, 1, 1, 1, 1, 1, 1, 1, 1, 1, 1, 1, 1, 1, 1, 1, 1, 1, 1, 1, 1, 1, 1, 1, 1, 1, 1, 1, 1, 1, 1, 1, 1, 1, 1, 1, 1, 1, 1, 1, 1, 1, 1, 1, 1, 1, 1, 1, 1, 1, 1, 1, 1, 1, 1, 1, 1, 1, 1, 1, 1, 1, 1, 1, 1, 1, 1, 1, 1, 1, 1, 1, 1, 1, 1, 1, 1, 1, 1, 1, 1, 1, 1, 1, ...]  \n",
       "1  [1, 1, 1, 1, 1, 1, 1, 1, 1, 1, 1, 1, 1, 1, 1, 1, 1, 1, 1, 1, 1, 1, 1, 1, 1, 1, 1, 1, 1, 1, 1, 1, 1, 1, 1, 1, 1, 1, 1, 1, 1, 1, 1, 1, 1, 1, 1, 1, 1, 1, 1, 1, 1, 1, 1, 1, 1, 1, 1, 1, 1, 1, 1, 1, 1, 1, 1, 1, 1, 1, 1, 1, 1, 1, 1, 1, 1, 1, 1, 1, 1, 1, 1, 1, 1, 1, 1, 1, 1, 1, 1, 1, 1, 1, 1, 1, 0, 0, 0, 0, ...]  \n",
       "2  [1, 1, 1, 1, 1, 1, 1, 1, 1, 1, 1, 1, 1, 1, 1, 1, 1, 1, 1, 1, 1, 1, 1, 1, 1, 1, 1, 1, 1, 1, 1, 1, 1, 1, 1, 1, 1, 1, 1, 1, 1, 1, 1, 1, 1, 1, 1, 1, 1, 1, 1, 1, 1, 1, 1, 1, 1, 1, 1, 1, 1, 1, 1, 1, 1, 1, 1, 1, 1, 1, 1, 1, 1, 1, 1, 1, 1, 1, 1, 1, 1, 1, 1, 1, 1, 1, 1, 1, 1, 1, 1, 1, 1, 1, 1, 1, 1, 1, 1, 1, ...]  \n",
       "3  [1, 1, 1, 1, 1, 1, 1, 1, 1, 1, 1, 1, 1, 1, 1, 1, 1, 1, 1, 1, 1, 1, 1, 1, 1, 1, 1, 1, 1, 1, 1, 1, 1, 1, 1, 1, 1, 1, 1, 1, 1, 1, 1, 1, 1, 1, 1, 1, 1, 1, 1, 1, 1, 1, 1, 1, 1, 1, 1, 1, 1, 1, 1, 1, 1, 1, 1, 1, 1, 1, 1, 1, 1, 1, 1, 1, 1, 1, 1, 1, 1, 1, 1, 1, 1, 1, 1, 1, 1, 1, 1, 1, 1, 1, 1, 1, 0, 0, 0, 0, ...]  \n",
       "4  [1, 1, 1, 1, 1, 1, 1, 1, 1, 1, 1, 1, 1, 1, 1, 1, 1, 1, 1, 1, 1, 1, 1, 1, 1, 1, 1, 1, 1, 1, 1, 1, 1, 1, 1, 1, 1, 1, 1, 1, 1, 1, 1, 1, 1, 1, 1, 1, 1, 1, 1, 1, 1, 1, 1, 1, 1, 1, 1, 1, 1, 1, 1, 1, 1, 1, 1, 1, 1, 1, 1, 1, 1, 1, 1, 1, 1, 1, 1, 1, 1, 1, 1, 1, 1, 1, 1, 1, 1, 1, 1, 1, 1, 1, 1, 1, 1, 1, 1, 1, ...]  "
      ]
     },
     "metadata": {},
     "output_type": "display_data"
    }
   ],
   "source": [
    "with pd.option_context('display.max_colwidth', -1):\n",
    "    display(args[:5])"
   ]
  },
  {
   "cell_type": "code",
   "execution_count": 403,
   "metadata": {},
   "outputs": [
    {
     "data": {
      "application/vnd.jupyter.widget-view+json": {
       "model_id": "fafdd2e3c9dc404cb621dff72f9df213",
       "version_major": 2,
       "version_minor": 0
      },
      "text/plain": [
       "HBox(children=(FloatProgress(value=0.0, max=4.0), HTML(value='')))"
      ]
     },
     "metadata": {},
     "output_type": "display_data"
    },
    {
     "name": "stdout",
     "output_type": "stream",
     "text": [
      "\n"
     ]
    }
   ],
   "source": [
    "testitest = parallel_encode(args[:2000], encode_dataframe, 4)"
   ]
  },
  {
   "cell_type": "code",
   "execution_count": 30,
   "metadata": {
    "scrolled": true
   },
   "outputs": [
    {
     "data": {
      "text/plain": [
       "['rei', '##tera', '##te']"
      ]
     },
     "execution_count": 30,
     "metadata": {},
     "output_type": "execute_result"
    }
   ],
   "source": [
    "tokenizer.tokenize('reiterate')"
   ]
  },
  {
   "cell_type": "code",
   "execution_count": 18,
   "metadata": {},
   "outputs": [
    {
     "name": "stdout",
     "output_type": "stream",
     "text": [
      "CPU times: user 3min 1s, sys: 4.07 s, total: 3min 5s\n",
      "Wall time: 3min 5s\n"
     ]
    },
    {
     "data": {
      "text/html": [
       "<div>\n",
       "<style scoped>\n",
       "    .dataframe tbody tr th:only-of-type {\n",
       "        vertical-align: middle;\n",
       "    }\n",
       "\n",
       "    .dataframe tbody tr th {\n",
       "        vertical-align: top;\n",
       "    }\n",
       "\n",
       "    .dataframe thead th {\n",
       "        text-align: right;\n",
       "    }\n",
       "</style>\n",
       "<table border=\"1\" class=\"dataframe\">\n",
       "  <thead>\n",
       "    <tr style=\"text-align: right;\">\n",
       "      <th></th>\n",
       "      <th>text</th>\n",
       "      <th>id</th>\n",
       "      <th>chunks</th>\n",
       "    </tr>\n",
       "  </thead>\n",
       "  <tbody>\n",
       "    <tr>\n",
       "      <th>0</th>\n",
       "      <td>My opponent forfeited every round. None of my ...</td>\n",
       "      <td>c67482ba-2019-04-18T13:32:05Z-00000-000</td>\n",
       "      <td>My opponent forfeited every round. None of my ...</td>\n",
       "    </tr>\n",
       "    <tr>\n",
       "      <th>1</th>\n",
       "      <td>How do you propose the school will fund your p...</td>\n",
       "      <td>c67482ba-2019-04-18T13:32:05Z-00001-000</td>\n",
       "      <td>How do you propose the school will fund your p...</td>\n",
       "    </tr>\n",
       "    <tr>\n",
       "      <th>2</th>\n",
       "      <td>Schools have no compelling interest in providi...</td>\n",
       "      <td>c67482ba-2019-04-18T13:32:05Z-00002-000</td>\n",
       "      <td>Schools have no compelling interest in providi...</td>\n",
       "    </tr>\n",
       "    <tr>\n",
       "      <th>3</th>\n",
       "      <td>As a senior at my school. My group and I are f...</td>\n",
       "      <td>c67482ba-2019-04-18T13:32:05Z-00003-000</td>\n",
       "      <td>As a senior at my school. My group and I are f...</td>\n",
       "    </tr>\n",
       "    <tr>\n",
       "      <th>4</th>\n",
       "      <td>The resolution used by Pro *assumes* that Aust...</td>\n",
       "      <td>4d3d4471-2019-04-18T11:45:01Z-00000-000</td>\n",
       "      <td>The resolution used by Pro *assumes* that Aust...</td>\n",
       "    </tr>\n",
       "    <tr>\n",
       "      <th>...</th>\n",
       "      <td>...</td>\n",
       "      <td>...</td>\n",
       "      <td>...</td>\n",
       "    </tr>\n",
       "    <tr>\n",
       "      <th>78972948</th>\n",
       "      <td>Border Terror DA Links Border Border surveilla...</td>\n",
       "      <td>e98fe508-2019-04-18T14:13:32Z-00005-000</td>\n",
       "      <td>hat\"s the No. 1 reason people come to this cou...</td>\n",
       "    </tr>\n",
       "    <tr>\n",
       "      <th>79360640</th>\n",
       "      <td>Border Terror DA Links Border Border surveilla...</td>\n",
       "      <td>e98fe508-2019-04-18T14:13:32Z-00005-000</td>\n",
       "      <td>rs help spur economic growth. It\"s a position ...</td>\n",
       "    </tr>\n",
       "    <tr>\n",
       "      <th>79748332</th>\n",
       "      <td>Border Terror DA Links Border Border surveilla...</td>\n",
       "      <td>e98fe508-2019-04-18T14:13:32Z-00005-000</td>\n",
       "      <td>o connect with the middle class and show that ...</td>\n",
       "    </tr>\n",
       "    <tr>\n",
       "      <th>80136024</th>\n",
       "      <td>Border Terror DA Links Border Border surveilla...</td>\n",
       "      <td>e98fe508-2019-04-18T14:13:32Z-00005-000</td>\n",
       "      <td>the needs of the agricultural industry, would ...</td>\n",
       "    </tr>\n",
       "    <tr>\n",
       "      <th>80523716</th>\n",
       "      <td>Border Terror DA Links Border Border surveilla...</td>\n",
       "      <td>e98fe508-2019-04-18T14:13:32Z-00005-000</td>\n",
       "      <td>hose workers to stay in the U.S.W06; \"Just lik...</td>\n",
       "    </tr>\n",
       "  </tbody>\n",
       "</table>\n",
       "<p>1489338 rows × 3 columns</p>\n",
       "</div>"
      ],
      "text/plain": [
       "                                                       text  \\\n",
       "0         My opponent forfeited every round. None of my ...   \n",
       "1         How do you propose the school will fund your p...   \n",
       "2         Schools have no compelling interest in providi...   \n",
       "3         As a senior at my school. My group and I are f...   \n",
       "4         The resolution used by Pro *assumes* that Aust...   \n",
       "...                                                     ...   \n",
       "78972948  Border Terror DA Links Border Border surveilla...   \n",
       "79360640  Border Terror DA Links Border Border surveilla...   \n",
       "79748332  Border Terror DA Links Border Border surveilla...   \n",
       "80136024  Border Terror DA Links Border Border surveilla...   \n",
       "80523716  Border Terror DA Links Border Border surveilla...   \n",
       "\n",
       "                                               id  \\\n",
       "0         c67482ba-2019-04-18T13:32:05Z-00000-000   \n",
       "1         c67482ba-2019-04-18T13:32:05Z-00001-000   \n",
       "2         c67482ba-2019-04-18T13:32:05Z-00002-000   \n",
       "3         c67482ba-2019-04-18T13:32:05Z-00003-000   \n",
       "4         4d3d4471-2019-04-18T11:45:01Z-00000-000   \n",
       "...                                           ...   \n",
       "78972948  e98fe508-2019-04-18T14:13:32Z-00005-000   \n",
       "79360640  e98fe508-2019-04-18T14:13:32Z-00005-000   \n",
       "79748332  e98fe508-2019-04-18T14:13:32Z-00005-000   \n",
       "80136024  e98fe508-2019-04-18T14:13:32Z-00005-000   \n",
       "80523716  e98fe508-2019-04-18T14:13:32Z-00005-000   \n",
       "\n",
       "                                                     chunks  \n",
       "0         My opponent forfeited every round. None of my ...  \n",
       "1         How do you propose the school will fund your p...  \n",
       "2         Schools have no compelling interest in providi...  \n",
       "3         As a senior at my school. My group and I are f...  \n",
       "4         The resolution used by Pro *assumes* that Aust...  \n",
       "...                                                     ...  \n",
       "78972948  hat\"s the No. 1 reason people come to this cou...  \n",
       "79360640  rs help spur economic growth. It\"s a position ...  \n",
       "79748332  o connect with the middle class and show that ...  \n",
       "80136024  the needs of the agricultural industry, would ...  \n",
       "80523716  hose workers to stay in the U.S.W06; \"Just lik...  \n",
       "\n",
       "[1489338 rows x 3 columns]"
      ]
     },
     "execution_count": 18,
     "metadata": {},
     "output_type": "execute_result"
    }
   ],
   "source": [
    "%%time\n",
    "args.loc[:, 'chunks'] = args.apply(lambda x: [x.text[i:i+510] for i in range(0, len(x.text), 510)] , axis=1)\n",
    "args.loc[:,'chunks'].apply(pd.Series) \\\n",
    "    .merge(args, right_index=True, left_index=True) \\\n",
    "    .drop(['chunks'], axis=1) \\\n",
    "    .melt(id_vars=['text', 'id'], value_name=\"chunks\") \\\n",
    "    .drop('variable', axis=1) \\\n",
    "    .dropna()"
   ]
  },
  {
   "cell_type": "code",
   "execution_count": 8,
   "metadata": {},
   "outputs": [],
   "source": [
    "c = dataset['context.sourceTitle'].str.split(\":\").apply(lambda x: x[0])"
   ]
  },
  {
   "cell_type": "code",
   "execution_count": 9,
   "metadata": {},
   "outputs": [],
   "source": [
    "d = dataset['context.sourceTitle'].str.split(\"-\").apply(lambda x: x[-1])"
   ]
  },
  {
   "cell_type": "code",
   "execution_count": 16,
   "metadata": {},
   "outputs": [
    {
     "data": {
      "text/plain": [
       " Debatepedia                                                                                      18760\n",
       " DebateWise                                                                                       14353\n",
       "Online Debate: Abortion | Debate.org                                                                520\n",
       "Debate Topic: Abortion | Debate.org                                                                 495\n",
       "Debate: Abortion | Debate.org                                                                       489\n",
       "Debate Issue: Abortion | Debate.org                                                                 469\n",
       "Debate Argument: Abortion | Debate.org                                                              433\n",
       "International Debate Education Association (IDEA)                                                   274\n",
       " Debatepedia, Debate on Universal Health Care                                                       269\n",
       " Debatepedia, Debate on Capital Punishment                                                          251\n",
       " Debatepedia, Debate on animal experimentation and testing                                          244\n",
       "Debate Argument: Gay Marriage | Debate.org                                                          222\n",
       "Debate Issue: Gay Marriage | Debate.org                                                             213\n",
       "Debate Topic: Gay Marriage | Debate.org                                                             203\n",
       " Debatepedia, Debate on Same Sex Marriage                                                           190\n",
       "Debate: Rap Battle | Debate.org                                                                     186\n",
       "Debate Topic: Rap Battle | Debate.org                                                               176\n",
       "Debate: Gay Marriage | Debate.org                                                                   173\n",
       "Online Debate: Gay Marriage | Debate.org                                                            172\n",
       " Debatepedia, Debate on Progressive Tax versus Flat Tax                                             163\n",
       " Debatepedia, McCain vs. Obama                                                                      159\n",
       "Debate Argument: Rap Battle | Debate.org                                                            158\n",
       "Online Debate: Rap Battle | Debate.org                                                              155\n",
       "Debate: Death Penalty | Debate.org                                                                  149\n",
       "Debate Issue: Rap Battle | Debate.org                                                               149\n",
       "Debate Argument: Death Penalty | Debate.org                                                         141\n",
       " Debatepedia, Debate on Euthanasia                                                                  132\n",
       " Debatepedia, Israeli Invasion of Gaza                                                              132\n",
       "Debate: Rap battle | Debate.org                                                                     129\n",
       "Debate Issue: God Exists | Debate.org                                                               125\n",
       "Debate Issue: Death Penalty | Debate.org                                                            119\n",
       "Online Debate: Gun Control | Debate.org                                                             117\n",
       " Debatepedia, Debate on whether the Kyoto Protocol helps to combat global warming                   114\n",
       "Debate Topic: Death Penalty | Debate.org                                                            114\n",
       "Debate Argument: God Exists | Debate.org                                                            107\n",
       " Debatepedia, Debate on whether Wind Energy should be part of the fight against global warming      105\n",
       " Debatepedia, Debate on the Independence of South Ossettia                                          104\n",
       "Debate: Gun Control | Debate.org                                                                    101\n",
       "Debate Topic: Gun Control | Debate.org                                                              100\n",
       "Debate Issue: Gun Control | Debate.org                                                               98\n",
       "Online Debate: Rap battle | Debate.org                                                               98\n",
       "Debate Argument: IVF Debate | Debate.org                                                             97\n",
       "Debate Topic: Rap battle | Debate.org                                                                95\n",
       " Debatepedia, Debate on the $700 billion US economic bailout                                         94\n",
       "Debate Topic: God exists | Debate.org                                                                93\n",
       "Debate: Euthanasia | Debate.org                                                                      93\n",
       "round school education reform                                                                        92\n",
       "Debate Issue: IVF Debate | Debate.org                                                                90\n",
       "Debate Argument: I will not contradict myself | Debate.org                                           87\n",
       "Debate: God exists | Debate.org                                                                      87\n",
       "Name: context.sourceTitle, dtype: int64"
      ]
     },
     "execution_count": 16,
     "metadata": {},
     "output_type": "execute_result"
    }
   ],
   "source": [
    "d.value_counts()[:50]"
   ]
  },
  {
   "cell_type": "code",
   "execution_count": 18,
   "metadata": {
    "scrolled": true
   },
   "outputs": [
    {
     "data": {
      "text/plain": [
       "359817"
      ]
     },
     "execution_count": 18,
     "metadata": {},
     "output_type": "execute_result"
    }
   ],
   "source": [
    "c.value_counts()[:5].sum()"
   ]
  },
  {
   "cell_type": "code",
   "execution_count": 6,
   "metadata": {},
   "outputs": [],
   "source": [
    "def document_generator_from_dataframe(df, index, fields_to_index):\n",
    "    for _, row in df.iterrows():\n",
    "        row_as_dict = row.replace('', 'empty').to_dict()\n",
    "        yield {\n",
    "            \"_index\": index,\n",
    "            \"_id\": row['id'],\n",
    "            \"_source\": {k: row_as_dict[k] for k in fields_to_index}\n",
    "        }"
   ]
  },
  {
   "cell_type": "code",
   "execution_count": 29,
   "metadata": {},
   "outputs": [
    {
     "data": {
      "text/plain": [
       "{'acknowledged': True, 'shards_acknowledged': True, 'index': 'arg_index'}"
      ]
     },
     "execution_count": 29,
     "metadata": {},
     "output_type": "execute_result"
    }
   ],
   "source": [
    "es = Elasticsearch(http_compress=True, maxsize=500) \n",
    "gen = document_generator_from_dataframe(dataset, \"arg_index\", ['text', 'stance', 'context.sourceId', 'conclusion'])\n",
    "body = {\n",
    "    'settings' : {\n",
    "        'similarity' : {\n",
    "            'my_dirichlet' : {'type': 'LMDirichlet' }\n",
    "        }\n",
    "    },\n",
    "    \n",
    "    'mappings': {\n",
    "        \n",
    "        'properties' : {\n",
    "            \n",
    "            'text':             {'type': 'text', 'similarity': 'my_dirichlet'},\n",
    "            'stance':           {'type': 'keyword'},\n",
    "            'context.sourceId': {'type': 'keyword'},\n",
    "            'conclusion':       {'type': 'text'}\n",
    "        }\n",
    "    }\n",
    "}\n",
    "\n",
    "es.indices.create(index='arg_index', body=body)"
   ]
  },
  {
   "cell_type": "code",
   "execution_count": 30,
   "metadata": {},
   "outputs": [
    {
     "name": "stdout",
     "output_type": "stream",
     "text": [
      "CPU times: user 2min 48s, sys: 210 ms, total: 2min 48s\n",
      "Wall time: 4min 9s\n"
     ]
    },
    {
     "data": {
      "text/plain": [
       "(387692, [])"
      ]
     },
     "execution_count": 30,
     "metadata": {},
     "output_type": "execute_result"
    }
   ],
   "source": [
    "%%time\n",
    "helpers.bulk(es, gen)"
   ]
  },
  {
   "cell_type": "code",
   "execution_count": 33,
   "metadata": {},
   "outputs": [
    {
     "data": {
      "text/plain": [
       "{'arg_index': {'mappings': {'properties': {'conclusion': {'type': 'text'},\n",
       "    'context': {'properties': {'sourceId': {'type': 'keyword'}}},\n",
       "    'stance': {'type': 'keyword'},\n",
       "    'text': {'type': 'text', 'similarity': 'my_dirichlet'}}}}}"
      ]
     },
     "execution_count": 33,
     "metadata": {},
     "output_type": "execute_result"
    }
   ],
   "source": [
    "es.indices.get_mapping(index=\"arg_index\")"
   ]
  },
  {
   "cell_type": "code",
   "execution_count": 53,
   "metadata": {},
   "outputs": [],
   "source": [
    "s = Search(using=es, index=\"arg_index\").query(\"match\", text=\"donald trump good president\")\n",
    "response = s.execute()"
   ]
  },
  {
   "cell_type": "code",
   "execution_count": 63,
   "metadata": {},
   "outputs": [
    {
     "name": "stdout",
     "output_type": "stream",
     "text": [
      "Donald Trump Will Be a Good President\n",
      "Donald Trump More Like Donald Dump !\n",
      "Hilary Clinton vs Donald Trump\n",
      "Trump is a better candidate than Clinton for President\n",
      "Trump is a better candidate than Clinton for President\n",
      "Donald Trump will most likely run for president in 2020\n",
      "President Trump is a good President.\n",
      "Donald Trump should resign from the presidential race\n",
      "The United States Federal Government ought to begin the process to impeach Donald Trump\n",
      "Donald Trump shouldn't be president.\n"
     ]
    }
   ],
   "source": [
    "for hit in response:\n",
    "    print(hit.conclusion)"
   ]
  },
  {
   "cell_type": "markdown",
   "metadata": {},
   "source": [
    "## Turn args dataframe into input tokens and masks"
   ]
  },
  {
   "cell_type": "code",
   "execution_count": 36,
   "metadata": {},
   "outputs": [],
   "source": [
    "teststring = 'Do you think gaming is harmful to our youth'"
   ]
  },
  {
   "cell_type": "code",
   "execution_count": 37,
   "metadata": {},
   "outputs": [
    {
     "data": {
      "text/plain": [
       "{'input_ids': [101,\n",
       "  2079,\n",
       "  2017,\n",
       "  2228,\n",
       "  10355,\n",
       "  2003,\n",
       "  17631,\n",
       "  2000,\n",
       "  2256,\n",
       "  3360,\n",
       "  102],\n",
       " 'token_type_ids': [0, 0, 0, 0, 0, 0, 0, 0, 0, 0, 0],\n",
       " 'attention_mask': [1, 1, 1, 1, 1, 1, 1, 1, 1, 1, 1]}"
      ]
     },
     "execution_count": 37,
     "metadata": {},
     "output_type": "execute_result"
    }
   ],
   "source": [
    "tokenizer.encode_plus(teststring)"
   ]
  },
  {
   "cell_type": "code",
   "execution_count": 38,
   "metadata": {},
   "outputs": [
    {
     "data": {
      "text/html": [
       "<div>\n",
       "<style scoped>\n",
       "    .dataframe tbody tr th:only-of-type {\n",
       "        vertical-align: middle;\n",
       "    }\n",
       "\n",
       "    .dataframe tbody tr th {\n",
       "        vertical-align: top;\n",
       "    }\n",
       "\n",
       "    .dataframe thead th {\n",
       "        text-align: right;\n",
       "    }\n",
       "</style>\n",
       "<table border=\"1\" class=\"dataframe\">\n",
       "  <thead>\n",
       "    <tr style=\"text-align: right;\">\n",
       "      <th></th>\n",
       "      <th>text</th>\n",
       "      <th>stance</th>\n",
       "      <th>id</th>\n",
       "      <th>conclusion</th>\n",
       "      <th>context.sourceId</th>\n",
       "      <th>context.previousArgumentInSourceId</th>\n",
       "      <th>context.acquisitionTime</th>\n",
       "      <th>context.discussionTitle</th>\n",
       "      <th>context.sourceTitle</th>\n",
       "      <th>context.sourceUrl</th>\n",
       "      <th>context.nextArgumentInSourceId</th>\n",
       "    </tr>\n",
       "  </thead>\n",
       "  <tbody>\n",
       "    <tr>\n",
       "      <th>334820</th>\n",
       "      <td></td>\n",
       "      <td>PRO</td>\n",
       "      <td>fee6cd21-2019-04-18T16:05:41Z-00001-000</td>\n",
       "      <td>Things Are Only Offensive If You MAKE Them Off...</td>\n",
       "      <td>fee6cd21-2019-04-18T16:05:41Z</td>\n",
       "      <td>fee6cd21-2019-04-18T16:05:41Z-00000-000</td>\n",
       "      <td>2019-04-18T16:05:41Z</td>\n",
       "      <td>Things Are Only Offensive If You MAKE Them Off...</td>\n",
       "      <td>Debate Issue: Things Are Only Offensive If You...</td>\n",
       "      <td>https://www.debate.org/debates/Things-Are-Only...</td>\n",
       "      <td>fee6cd21-2019-04-18T16:05:41Z-00002-000</td>\n",
       "    </tr>\n",
       "  </tbody>\n",
       "</table>\n",
       "</div>"
      ],
      "text/plain": [
       "       text stance                                       id  \\\n",
       "334820         PRO  fee6cd21-2019-04-18T16:05:41Z-00001-000   \n",
       "\n",
       "                                               conclusion  \\\n",
       "334820  Things Are Only Offensive If You MAKE Them Off...   \n",
       "\n",
       "                     context.sourceId  \\\n",
       "334820  fee6cd21-2019-04-18T16:05:41Z   \n",
       "\n",
       "             context.previousArgumentInSourceId context.acquisitionTime  \\\n",
       "334820  fee6cd21-2019-04-18T16:05:41Z-00000-000    2019-04-18T16:05:41Z   \n",
       "\n",
       "                                  context.discussionTitle  \\\n",
       "334820  Things Are Only Offensive If You MAKE Them Off...   \n",
       "\n",
       "                                      context.sourceTitle  \\\n",
       "334820  Debate Issue: Things Are Only Offensive If You...   \n",
       "\n",
       "                                        context.sourceUrl  \\\n",
       "334820  https://www.debate.org/debates/Things-Are-Only...   \n",
       "\n",
       "                 context.nextArgumentInSourceId  \n",
       "334820  fee6cd21-2019-04-18T16:05:41Z-00002-000  "
      ]
     },
     "execution_count": 38,
     "metadata": {},
     "output_type": "execute_result"
    }
   ],
   "source": [
    "dataset[dataset['id']=='fee6cd21-2019-04-18T16:05:41Z-00001-000']"
   ]
  },
  {
   "cell_type": "code",
   "execution_count": 67,
   "metadata": {},
   "outputs": [],
   "source": [
    "args.to_pickle('./albert.pkl')"
   ]
  },
  {
   "cell_type": "code",
   "execution_count": 19,
   "metadata": {},
   "outputs": [
    {
     "name": "stdout",
     "output_type": "stream",
     "text": [
      "CPU times: user 9.13 s, sys: 2.35 s, total: 11.5 s\n",
      "Wall time: 11.5 s\n"
     ]
    }
   ],
   "source": [
    "%%time\n",
    "args = pd.read_pickle('./albert.pkl')\n",
    "i = np.stack(args['input_ids'])\n",
    "m = np.stack(args['attention_mask'])"
   ]
  },
  {
   "cell_type": "code",
   "execution_count": 68,
   "metadata": {},
   "outputs": [],
   "source": [
    "i = np.stack(args['input_ids'])\n",
    "m = np.stack(args['attention_mask'])"
   ]
  },
  {
   "cell_type": "code",
   "execution_count": 12,
   "metadata": {},
   "outputs": [],
   "source": [
    "test = args[10000:20000].copy()"
   ]
  },
  {
   "cell_type": "code",
   "execution_count": 43,
   "metadata": {},
   "outputs": [
    {
     "name": "stdout",
     "output_type": "stream",
     "text": [
      "CPU times: user 40.1 ms, sys: 28 ms, total: 68.1 ms\n",
      "Wall time: 66.3 ms\n"
     ]
    }
   ],
   "source": [
    "%%time\n",
    "dataset = tf.data.Dataset.zip((tf.data.Dataset.from_tensor_slices(i), tf.data.Dataset.from_tensor_slices(m)))\n",
    "dataset = dataset.batch(10)"
   ]
  },
  {
   "cell_type": "code",
   "execution_count": 44,
   "metadata": {},
   "outputs": [
    {
     "data": {
      "application/vnd.jupyter.widget-view+json": {
       "model_id": "f536857ee3344c00833198038edd6b4b",
       "version_major": 2,
       "version_minor": 0
      },
      "text/plain": [
       "HBox(children=(FloatProgress(value=0.0, max=1000.0), HTML(value='')))"
      ]
     },
     "metadata": {},
     "output_type": "display_data"
    },
    {
     "name": "stdout",
     "output_type": "stream",
     "text": [
      "\n"
     ]
    }
   ],
   "source": [
    "outputs = []\n",
    "for inputs, masks in tqdm.notebook.tqdm_notebook(dataset, total=1000):\n",
    "    outputs.append(model(inputs, attention_mask=masks))"
   ]
  },
  {
   "cell_type": "code",
   "execution_count": 143,
   "metadata": {},
   "outputs": [
    {
     "data": {
      "text/plain": [
       "(6601, 768)"
      ]
     },
     "execution_count": 143,
     "metadata": {},
     "output_type": "execute_result"
    }
   ],
   "source": [
    "arg_representations = np.vstack([thing[0][:,0,:].cpu().numpy() for thing in outputs])\n",
    "arg_representations.shape"
   ]
  },
  {
   "cell_type": "code",
   "execution_count": 44,
   "metadata": {},
   "outputs": [],
   "source": [
    "gpu = torch.device('cuda')"
   ]
  },
  {
   "cell_type": "code",
   "execution_count": 161,
   "metadata": {},
   "outputs": [],
   "source": [
    "from time import sleep\n",
    "import gc"
   ]
  },
  {
   "cell_type": "code",
   "execution_count": null,
   "metadata": {},
   "outputs": [],
   "source": [
    "outputs = []\n",
    "for chunk_i, chunk_m in tqdmnb(zip(np.array_split(i, 156), np.array_split(m, 156))):\n",
    "    for batch_i, batch_m in zip(np.array_split(chunk_i, 2400), np.array_split(chunk_m, 2400)):\n",
    "        tensor_i = torch.tensor(batch_i).to(gpu)\n",
    "        tensor_m = torch.tensor(batch_m).to(gpu)\n",
    "        print(batch"
   ]
  },
  {
   "cell_type": "code",
   "execution_count": 183,
   "metadata": {},
   "outputs": [
    {
     "data": {
      "application/vnd.jupyter.widget-view+json": {
       "model_id": "1743bd3fe2a642039e15f204a30f3c80",
       "version_major": 2,
       "version_minor": 0
      },
      "text/plain": [
       "HBox(children=(FloatProgress(value=0.0, max=78.0), HTML(value='')))"
      ]
     },
     "metadata": {},
     "output_type": "display_data"
    },
    {
     "data": {
      "application/vnd.jupyter.widget-view+json": {
       "model_id": "bcd46480884e47ae903adf46ef8e9ceb",
       "version_major": 2,
       "version_minor": 0
      },
      "text/plain": [
       "HBox(children=(FloatProgress(value=0.0, max=1240.0), HTML(value='')))"
      ]
     },
     "metadata": {},
     "output_type": "display_data"
    },
    {
     "name": "stdout",
     "output_type": "stream",
     "text": [
      "\n"
     ]
    },
    {
     "data": {
      "application/vnd.jupyter.widget-view+json": {
       "model_id": "e67d29f52b4b47cfb5ebff5be3b4e745",
       "version_major": 2,
       "version_minor": 0
      },
      "text/plain": [
       "HBox(children=(FloatProgress(value=0.0, max=1240.0), HTML(value='')))"
      ]
     },
     "metadata": {},
     "output_type": "display_data"
    },
    {
     "name": "stdout",
     "output_type": "stream",
     "text": [
      "\n"
     ]
    },
    {
     "data": {
      "application/vnd.jupyter.widget-view+json": {
       "model_id": "229b0feba2b0429a9b20cfa128e2c4a8",
       "version_major": 2,
       "version_minor": 0
      },
      "text/plain": [
       "HBox(children=(FloatProgress(value=0.0, max=1240.0), HTML(value='')))"
      ]
     },
     "metadata": {},
     "output_type": "display_data"
    },
    {
     "name": "stdout",
     "output_type": "stream",
     "text": [
      "\n"
     ]
    },
    {
     "data": {
      "application/vnd.jupyter.widget-view+json": {
       "model_id": "7a51f95be2b642f18a770399464fe7f5",
       "version_major": 2,
       "version_minor": 0
      },
      "text/plain": [
       "HBox(children=(FloatProgress(value=0.0, max=1240.0), HTML(value='')))"
      ]
     },
     "metadata": {},
     "output_type": "display_data"
    },
    {
     "name": "stdout",
     "output_type": "stream",
     "text": [
      "\n"
     ]
    },
    {
     "data": {
      "application/vnd.jupyter.widget-view+json": {
       "model_id": "8e1fea4623a94c088a97a368642a7738",
       "version_major": 2,
       "version_minor": 0
      },
      "text/plain": [
       "HBox(children=(FloatProgress(value=0.0, max=1240.0), HTML(value='')))"
      ]
     },
     "metadata": {},
     "output_type": "display_data"
    },
    {
     "name": "stdout",
     "output_type": "stream",
     "text": [
      "\n"
     ]
    },
    {
     "data": {
      "application/vnd.jupyter.widget-view+json": {
       "model_id": "fed5ce3ab1b74af98c86819830722271",
       "version_major": 2,
       "version_minor": 0
      },
      "text/plain": [
       "HBox(children=(FloatProgress(value=0.0, max=1240.0), HTML(value='')))"
      ]
     },
     "metadata": {},
     "output_type": "display_data"
    },
    {
     "name": "stdout",
     "output_type": "stream",
     "text": [
      "\n"
     ]
    },
    {
     "data": {
      "application/vnd.jupyter.widget-view+json": {
       "model_id": "6a7557c41cb247b8b47140cfafef513f",
       "version_major": 2,
       "version_minor": 0
      },
      "text/plain": [
       "HBox(children=(FloatProgress(value=0.0, max=1240.0), HTML(value='')))"
      ]
     },
     "metadata": {},
     "output_type": "display_data"
    },
    {
     "name": "stdout",
     "output_type": "stream",
     "text": [
      "\n"
     ]
    },
    {
     "data": {
      "application/vnd.jupyter.widget-view+json": {
       "model_id": "c69b113320ba4822b3bc9ce31ac1c8a3",
       "version_major": 2,
       "version_minor": 0
      },
      "text/plain": [
       "HBox(children=(FloatProgress(value=0.0, max=1240.0), HTML(value='')))"
      ]
     },
     "metadata": {},
     "output_type": "display_data"
    },
    {
     "name": "stdout",
     "output_type": "stream",
     "text": [
      "\n"
     ]
    },
    {
     "data": {
      "application/vnd.jupyter.widget-view+json": {
       "model_id": "2535d320e32c4fbc9ab40db857d216b5",
       "version_major": 2,
       "version_minor": 0
      },
      "text/plain": [
       "HBox(children=(FloatProgress(value=0.0, max=1240.0), HTML(value='')))"
      ]
     },
     "metadata": {},
     "output_type": "display_data"
    },
    {
     "name": "stdout",
     "output_type": "stream",
     "text": [
      "\n"
     ]
    },
    {
     "data": {
      "application/vnd.jupyter.widget-view+json": {
       "model_id": "549e60ada9984f12ba793b3070c14e76",
       "version_major": 2,
       "version_minor": 0
      },
      "text/plain": [
       "HBox(children=(FloatProgress(value=0.0, max=1240.0), HTML(value='')))"
      ]
     },
     "metadata": {},
     "output_type": "display_data"
    },
    {
     "name": "stdout",
     "output_type": "stream",
     "text": [
      "\n"
     ]
    },
    {
     "data": {
      "application/vnd.jupyter.widget-view+json": {
       "model_id": "04e19d13568d4bf18dcf6b258bdf30fe",
       "version_major": 2,
       "version_minor": 0
      },
      "text/plain": [
       "HBox(children=(FloatProgress(value=0.0, max=1240.0), HTML(value='')))"
      ]
     },
     "metadata": {},
     "output_type": "display_data"
    },
    {
     "name": "stdout",
     "output_type": "stream",
     "text": [
      "\n"
     ]
    },
    {
     "data": {
      "application/vnd.jupyter.widget-view+json": {
       "model_id": "e196410d434648bd9399d85d0562cffe",
       "version_major": 2,
       "version_minor": 0
      },
      "text/plain": [
       "HBox(children=(FloatProgress(value=0.0, max=1240.0), HTML(value='')))"
      ]
     },
     "metadata": {},
     "output_type": "display_data"
    },
    {
     "name": "stdout",
     "output_type": "stream",
     "text": [
      "\n"
     ]
    },
    {
     "data": {
      "application/vnd.jupyter.widget-view+json": {
       "model_id": "334fb8f43d514fba87845eba51e80920",
       "version_major": 2,
       "version_minor": 0
      },
      "text/plain": [
       "HBox(children=(FloatProgress(value=0.0, max=1240.0), HTML(value='')))"
      ]
     },
     "metadata": {},
     "output_type": "display_data"
    },
    {
     "name": "stdout",
     "output_type": "stream",
     "text": [
      "\n"
     ]
    },
    {
     "data": {
      "application/vnd.jupyter.widget-view+json": {
       "model_id": "ff71d97594074d5991216c5d94a89cba",
       "version_major": 2,
       "version_minor": 0
      },
      "text/plain": [
       "HBox(children=(FloatProgress(value=0.0, max=1240.0), HTML(value='')))"
      ]
     },
     "metadata": {},
     "output_type": "display_data"
    },
    {
     "name": "stdout",
     "output_type": "stream",
     "text": [
      "\n"
     ]
    },
    {
     "data": {
      "application/vnd.jupyter.widget-view+json": {
       "model_id": "0872e288ec764112aecf78e6cb879ee7",
       "version_major": 2,
       "version_minor": 0
      },
      "text/plain": [
       "HBox(children=(FloatProgress(value=0.0, max=1240.0), HTML(value='')))"
      ]
     },
     "metadata": {},
     "output_type": "display_data"
    },
    {
     "name": "stdout",
     "output_type": "stream",
     "text": [
      "\n"
     ]
    },
    {
     "data": {
      "application/vnd.jupyter.widget-view+json": {
       "model_id": "1aa8a6adef18478c82a04d7905e6a116",
       "version_major": 2,
       "version_minor": 0
      },
      "text/plain": [
       "HBox(children=(FloatProgress(value=0.0, max=1240.0), HTML(value='')))"
      ]
     },
     "metadata": {},
     "output_type": "display_data"
    },
    {
     "name": "stdout",
     "output_type": "stream",
     "text": [
      "\n"
     ]
    },
    {
     "data": {
      "application/vnd.jupyter.widget-view+json": {
       "model_id": "30b2120a2f3849748487e0acd49770e5",
       "version_major": 2,
       "version_minor": 0
      },
      "text/plain": [
       "HBox(children=(FloatProgress(value=0.0, max=1240.0), HTML(value='')))"
      ]
     },
     "metadata": {},
     "output_type": "display_data"
    },
    {
     "name": "stdout",
     "output_type": "stream",
     "text": [
      "\n"
     ]
    },
    {
     "data": {
      "application/vnd.jupyter.widget-view+json": {
       "model_id": "332402cc1dbd45a58d2d7f1120d0601c",
       "version_major": 2,
       "version_minor": 0
      },
      "text/plain": [
       "HBox(children=(FloatProgress(value=0.0, max=1240.0), HTML(value='')))"
      ]
     },
     "metadata": {},
     "output_type": "display_data"
    },
    {
     "name": "stdout",
     "output_type": "stream",
     "text": [
      "\n"
     ]
    },
    {
     "data": {
      "application/vnd.jupyter.widget-view+json": {
       "model_id": "714fb38837264e9b94094fb7173f4c1a",
       "version_major": 2,
       "version_minor": 0
      },
      "text/plain": [
       "HBox(children=(FloatProgress(value=0.0, max=1240.0), HTML(value='')))"
      ]
     },
     "metadata": {},
     "output_type": "display_data"
    },
    {
     "name": "stdout",
     "output_type": "stream",
     "text": [
      "\n"
     ]
    },
    {
     "data": {
      "application/vnd.jupyter.widget-view+json": {
       "model_id": "cbef13a862dd4f19bce9f6f4b5e8f914",
       "version_major": 2,
       "version_minor": 0
      },
      "text/plain": [
       "HBox(children=(FloatProgress(value=0.0, max=1240.0), HTML(value='')))"
      ]
     },
     "metadata": {},
     "output_type": "display_data"
    },
    {
     "name": "stdout",
     "output_type": "stream",
     "text": [
      "\n"
     ]
    },
    {
     "data": {
      "application/vnd.jupyter.widget-view+json": {
       "model_id": "d872c4e5ee6f49099f8eea2d87e9b7eb",
       "version_major": 2,
       "version_minor": 0
      },
      "text/plain": [
       "HBox(children=(FloatProgress(value=0.0, max=1240.0), HTML(value='')))"
      ]
     },
     "metadata": {},
     "output_type": "display_data"
    },
    {
     "name": "stdout",
     "output_type": "stream",
     "text": [
      "\n"
     ]
    },
    {
     "data": {
      "application/vnd.jupyter.widget-view+json": {
       "model_id": "3069a9f819ed48b5b38832952032ab11",
       "version_major": 2,
       "version_minor": 0
      },
      "text/plain": [
       "HBox(children=(FloatProgress(value=0.0, max=1240.0), HTML(value='')))"
      ]
     },
     "metadata": {},
     "output_type": "display_data"
    },
    {
     "name": "stdout",
     "output_type": "stream",
     "text": [
      "\n"
     ]
    },
    {
     "data": {
      "application/vnd.jupyter.widget-view+json": {
       "model_id": "c1b1f0a55b954bdf83a7b2edb7c540de",
       "version_major": 2,
       "version_minor": 0
      },
      "text/plain": [
       "HBox(children=(FloatProgress(value=0.0, max=1240.0), HTML(value='')))"
      ]
     },
     "metadata": {},
     "output_type": "display_data"
    },
    {
     "name": "stdout",
     "output_type": "stream",
     "text": [
      "\n"
     ]
    },
    {
     "data": {
      "application/vnd.jupyter.widget-view+json": {
       "model_id": "28e211e97cdb4192937f0f5969d92216",
       "version_major": 2,
       "version_minor": 0
      },
      "text/plain": [
       "HBox(children=(FloatProgress(value=0.0, max=1240.0), HTML(value='')))"
      ]
     },
     "metadata": {},
     "output_type": "display_data"
    },
    {
     "name": "stdout",
     "output_type": "stream",
     "text": [
      "\n"
     ]
    },
    {
     "data": {
      "application/vnd.jupyter.widget-view+json": {
       "model_id": "019138c041b149deaad7d74684e34abb",
       "version_major": 2,
       "version_minor": 0
      },
      "text/plain": [
       "HBox(children=(FloatProgress(value=0.0, max=1240.0), HTML(value='')))"
      ]
     },
     "metadata": {},
     "output_type": "display_data"
    },
    {
     "name": "stdout",
     "output_type": "stream",
     "text": [
      "\n"
     ]
    },
    {
     "data": {
      "application/vnd.jupyter.widget-view+json": {
       "model_id": "2b7596f1dbf347eaaf9cd34e7f88a11b",
       "version_major": 2,
       "version_minor": 0
      },
      "text/plain": [
       "HBox(children=(FloatProgress(value=0.0, max=1240.0), HTML(value='')))"
      ]
     },
     "metadata": {},
     "output_type": "display_data"
    },
    {
     "name": "stdout",
     "output_type": "stream",
     "text": [
      "\n"
     ]
    },
    {
     "data": {
      "application/vnd.jupyter.widget-view+json": {
       "model_id": "20693c46c79e41a6abbe8c0f58e21c32",
       "version_major": 2,
       "version_minor": 0
      },
      "text/plain": [
       "HBox(children=(FloatProgress(value=0.0, max=1240.0), HTML(value='')))"
      ]
     },
     "metadata": {},
     "output_type": "display_data"
    },
    {
     "name": "stdout",
     "output_type": "stream",
     "text": [
      "\n"
     ]
    },
    {
     "data": {
      "application/vnd.jupyter.widget-view+json": {
       "model_id": "8fc784f05b5f4768bad4041c3b3f241b",
       "version_major": 2,
       "version_minor": 0
      },
      "text/plain": [
       "HBox(children=(FloatProgress(value=0.0, max=1240.0), HTML(value='')))"
      ]
     },
     "metadata": {},
     "output_type": "display_data"
    },
    {
     "name": "stdout",
     "output_type": "stream",
     "text": [
      "\n"
     ]
    },
    {
     "data": {
      "application/vnd.jupyter.widget-view+json": {
       "model_id": "34253b8e876e4be49c360b7a2bb34769",
       "version_major": 2,
       "version_minor": 0
      },
      "text/plain": [
       "HBox(children=(FloatProgress(value=0.0, max=1240.0), HTML(value='')))"
      ]
     },
     "metadata": {},
     "output_type": "display_data"
    },
    {
     "name": "stdout",
     "output_type": "stream",
     "text": [
      "\n"
     ]
    },
    {
     "data": {
      "application/vnd.jupyter.widget-view+json": {
       "model_id": "5c61827aa35d4e5ea32a4c3b362cceed",
       "version_major": 2,
       "version_minor": 0
      },
      "text/plain": [
       "HBox(children=(FloatProgress(value=0.0, max=1240.0), HTML(value='')))"
      ]
     },
     "metadata": {},
     "output_type": "display_data"
    },
    {
     "name": "stdout",
     "output_type": "stream",
     "text": [
      "\n"
     ]
    },
    {
     "data": {
      "application/vnd.jupyter.widget-view+json": {
       "model_id": "52e229d88853427a90aab379ad544557",
       "version_major": 2,
       "version_minor": 0
      },
      "text/plain": [
       "HBox(children=(FloatProgress(value=0.0, max=1240.0), HTML(value='')))"
      ]
     },
     "metadata": {},
     "output_type": "display_data"
    },
    {
     "name": "stdout",
     "output_type": "stream",
     "text": [
      "\n"
     ]
    },
    {
     "data": {
      "application/vnd.jupyter.widget-view+json": {
       "model_id": "3f9bfc423b984faa91b9d0b7a1b227e7",
       "version_major": 2,
       "version_minor": 0
      },
      "text/plain": [
       "HBox(children=(FloatProgress(value=0.0, max=1240.0), HTML(value='')))"
      ]
     },
     "metadata": {},
     "output_type": "display_data"
    },
    {
     "name": "stdout",
     "output_type": "stream",
     "text": [
      "\n"
     ]
    },
    {
     "data": {
      "application/vnd.jupyter.widget-view+json": {
       "model_id": "a4eb3cc26b6340e7877e786a8192d671",
       "version_major": 2,
       "version_minor": 0
      },
      "text/plain": [
       "HBox(children=(FloatProgress(value=0.0, max=1240.0), HTML(value='')))"
      ]
     },
     "metadata": {},
     "output_type": "display_data"
    },
    {
     "name": "stdout",
     "output_type": "stream",
     "text": [
      "\n"
     ]
    },
    {
     "data": {
      "application/vnd.jupyter.widget-view+json": {
       "model_id": "c8474ad501b54cf789c3a1736c7a8d21",
       "version_major": 2,
       "version_minor": 0
      },
      "text/plain": [
       "HBox(children=(FloatProgress(value=0.0, max=1240.0), HTML(value='')))"
      ]
     },
     "metadata": {},
     "output_type": "display_data"
    },
    {
     "name": "stdout",
     "output_type": "stream",
     "text": [
      "\n"
     ]
    },
    {
     "data": {
      "application/vnd.jupyter.widget-view+json": {
       "model_id": "7d6a0f8d320246b6bd92c3342d91aa5e",
       "version_major": 2,
       "version_minor": 0
      },
      "text/plain": [
       "HBox(children=(FloatProgress(value=0.0, max=1240.0), HTML(value='')))"
      ]
     },
     "metadata": {},
     "output_type": "display_data"
    },
    {
     "name": "stdout",
     "output_type": "stream",
     "text": [
      "\n"
     ]
    },
    {
     "data": {
      "application/vnd.jupyter.widget-view+json": {
       "model_id": "155efb5f27f8463881432b8d6888472d",
       "version_major": 2,
       "version_minor": 0
      },
      "text/plain": [
       "HBox(children=(FloatProgress(value=0.0, max=1240.0), HTML(value='')))"
      ]
     },
     "metadata": {},
     "output_type": "display_data"
    },
    {
     "name": "stdout",
     "output_type": "stream",
     "text": [
      "\n"
     ]
    },
    {
     "data": {
      "application/vnd.jupyter.widget-view+json": {
       "model_id": "d15bdfa2504c4d249b683eb1d3edda2b",
       "version_major": 2,
       "version_minor": 0
      },
      "text/plain": [
       "HBox(children=(FloatProgress(value=0.0, max=1240.0), HTML(value='')))"
      ]
     },
     "metadata": {},
     "output_type": "display_data"
    },
    {
     "name": "stdout",
     "output_type": "stream",
     "text": [
      "\n"
     ]
    },
    {
     "data": {
      "application/vnd.jupyter.widget-view+json": {
       "model_id": "6cf1dc87d3b84f70bf813a73c69bf250",
       "version_major": 2,
       "version_minor": 0
      },
      "text/plain": [
       "HBox(children=(FloatProgress(value=0.0, max=1240.0), HTML(value='')))"
      ]
     },
     "metadata": {},
     "output_type": "display_data"
    },
    {
     "name": "stdout",
     "output_type": "stream",
     "text": [
      "\n"
     ]
    },
    {
     "data": {
      "application/vnd.jupyter.widget-view+json": {
       "model_id": "4e82808ae0b141e28accef9dfeb20511",
       "version_major": 2,
       "version_minor": 0
      },
      "text/plain": [
       "HBox(children=(FloatProgress(value=0.0, max=1240.0), HTML(value='')))"
      ]
     },
     "metadata": {},
     "output_type": "display_data"
    },
    {
     "name": "stdout",
     "output_type": "stream",
     "text": [
      "\n"
     ]
    },
    {
     "data": {
      "application/vnd.jupyter.widget-view+json": {
       "model_id": "406020feb0074101b23fdf011b3e1523",
       "version_major": 2,
       "version_minor": 0
      },
      "text/plain": [
       "HBox(children=(FloatProgress(value=0.0, max=1240.0), HTML(value='')))"
      ]
     },
     "metadata": {},
     "output_type": "display_data"
    },
    {
     "name": "stdout",
     "output_type": "stream",
     "text": [
      "\n"
     ]
    },
    {
     "data": {
      "application/vnd.jupyter.widget-view+json": {
       "model_id": "003f5114c0aa4d0483d00c2bcfb2fc89",
       "version_major": 2,
       "version_minor": 0
      },
      "text/plain": [
       "HBox(children=(FloatProgress(value=0.0, max=1240.0), HTML(value='')))"
      ]
     },
     "metadata": {},
     "output_type": "display_data"
    },
    {
     "name": "stdout",
     "output_type": "stream",
     "text": [
      "\n"
     ]
    },
    {
     "data": {
      "application/vnd.jupyter.widget-view+json": {
       "model_id": "58f447aac8524c4699181a61e3c49671",
       "version_major": 2,
       "version_minor": 0
      },
      "text/plain": [
       "HBox(children=(FloatProgress(value=0.0, max=1240.0), HTML(value='')))"
      ]
     },
     "metadata": {},
     "output_type": "display_data"
    },
    {
     "name": "stdout",
     "output_type": "stream",
     "text": [
      "\n"
     ]
    },
    {
     "data": {
      "application/vnd.jupyter.widget-view+json": {
       "model_id": "cb0caed197af459891800f8ec4a404b8",
       "version_major": 2,
       "version_minor": 0
      },
      "text/plain": [
       "HBox(children=(FloatProgress(value=0.0, max=1240.0), HTML(value='')))"
      ]
     },
     "metadata": {},
     "output_type": "display_data"
    },
    {
     "name": "stdout",
     "output_type": "stream",
     "text": [
      "\n"
     ]
    },
    {
     "data": {
      "application/vnd.jupyter.widget-view+json": {
       "model_id": "6a9f57771edb4fcf8374e5e9923ea981",
       "version_major": 2,
       "version_minor": 0
      },
      "text/plain": [
       "HBox(children=(FloatProgress(value=0.0, max=1240.0), HTML(value='')))"
      ]
     },
     "metadata": {},
     "output_type": "display_data"
    },
    {
     "name": "stdout",
     "output_type": "stream",
     "text": [
      "\n"
     ]
    },
    {
     "data": {
      "application/vnd.jupyter.widget-view+json": {
       "model_id": "00be6cfa93b54e758fc1a6635c7ba1c0",
       "version_major": 2,
       "version_minor": 0
      },
      "text/plain": [
       "HBox(children=(FloatProgress(value=0.0, max=1240.0), HTML(value='')))"
      ]
     },
     "metadata": {},
     "output_type": "display_data"
    },
    {
     "name": "stdout",
     "output_type": "stream",
     "text": [
      "\n"
     ]
    },
    {
     "data": {
      "application/vnd.jupyter.widget-view+json": {
       "model_id": "82ff96376a6249daa36446856fca9bd4",
       "version_major": 2,
       "version_minor": 0
      },
      "text/plain": [
       "HBox(children=(FloatProgress(value=0.0, max=1240.0), HTML(value='')))"
      ]
     },
     "metadata": {},
     "output_type": "display_data"
    },
    {
     "name": "stdout",
     "output_type": "stream",
     "text": [
      "\n"
     ]
    },
    {
     "data": {
      "application/vnd.jupyter.widget-view+json": {
       "model_id": "08869048ea8d4d99bc1cca40b4c82c94",
       "version_major": 2,
       "version_minor": 0
      },
      "text/plain": [
       "HBox(children=(FloatProgress(value=0.0, max=1240.0), HTML(value='')))"
      ]
     },
     "metadata": {},
     "output_type": "display_data"
    },
    {
     "name": "stdout",
     "output_type": "stream",
     "text": [
      "\n"
     ]
    },
    {
     "data": {
      "application/vnd.jupyter.widget-view+json": {
       "model_id": "3125f78e0fd343b991a62cb9783e01f9",
       "version_major": 2,
       "version_minor": 0
      },
      "text/plain": [
       "HBox(children=(FloatProgress(value=0.0, max=1240.0), HTML(value='')))"
      ]
     },
     "metadata": {},
     "output_type": "display_data"
    },
    {
     "name": "stdout",
     "output_type": "stream",
     "text": [
      "\n"
     ]
    },
    {
     "data": {
      "application/vnd.jupyter.widget-view+json": {
       "model_id": "990e1420fc18433f824c6e91ab39fd74",
       "version_major": 2,
       "version_minor": 0
      },
      "text/plain": [
       "HBox(children=(FloatProgress(value=0.0, max=1240.0), HTML(value='')))"
      ]
     },
     "metadata": {},
     "output_type": "display_data"
    },
    {
     "name": "stdout",
     "output_type": "stream",
     "text": [
      "\n"
     ]
    },
    {
     "data": {
      "application/vnd.jupyter.widget-view+json": {
       "model_id": "d8be01536ae6444a8d575a3c3181bb00",
       "version_major": 2,
       "version_minor": 0
      },
      "text/plain": [
       "HBox(children=(FloatProgress(value=0.0, max=1240.0), HTML(value='')))"
      ]
     },
     "metadata": {},
     "output_type": "display_data"
    },
    {
     "name": "stdout",
     "output_type": "stream",
     "text": [
      "\n"
     ]
    },
    {
     "data": {
      "application/vnd.jupyter.widget-view+json": {
       "model_id": "c215e7d2fa7b45dd897a5e302b6aecca",
       "version_major": 2,
       "version_minor": 0
      },
      "text/plain": [
       "HBox(children=(FloatProgress(value=0.0, max=1240.0), HTML(value='')))"
      ]
     },
     "metadata": {},
     "output_type": "display_data"
    },
    {
     "name": "stdout",
     "output_type": "stream",
     "text": [
      "\n"
     ]
    },
    {
     "data": {
      "application/vnd.jupyter.widget-view+json": {
       "model_id": "36e4f3f6b43f41ceb0486debc197a9d8",
       "version_major": 2,
       "version_minor": 0
      },
      "text/plain": [
       "HBox(children=(FloatProgress(value=0.0, max=1240.0), HTML(value='')))"
      ]
     },
     "metadata": {},
     "output_type": "display_data"
    },
    {
     "name": "stdout",
     "output_type": "stream",
     "text": [
      "\n"
     ]
    },
    {
     "data": {
      "application/vnd.jupyter.widget-view+json": {
       "model_id": "d872b58bca3d4a378cc48e77931dff79",
       "version_major": 2,
       "version_minor": 0
      },
      "text/plain": [
       "HBox(children=(FloatProgress(value=0.0, max=1240.0), HTML(value='')))"
      ]
     },
     "metadata": {},
     "output_type": "display_data"
    },
    {
     "name": "stdout",
     "output_type": "stream",
     "text": [
      "\n"
     ]
    },
    {
     "data": {
      "application/vnd.jupyter.widget-view+json": {
       "model_id": "35efbc2479c146589bfbe4258258fd33",
       "version_major": 2,
       "version_minor": 0
      },
      "text/plain": [
       "HBox(children=(FloatProgress(value=0.0, max=1240.0), HTML(value='')))"
      ]
     },
     "metadata": {},
     "output_type": "display_data"
    },
    {
     "name": "stdout",
     "output_type": "stream",
     "text": [
      "\n"
     ]
    },
    {
     "data": {
      "application/vnd.jupyter.widget-view+json": {
       "model_id": "2c1eaa8abea84de4b24f83872b72d9ec",
       "version_major": 2,
       "version_minor": 0
      },
      "text/plain": [
       "HBox(children=(FloatProgress(value=0.0, max=1240.0), HTML(value='')))"
      ]
     },
     "metadata": {},
     "output_type": "display_data"
    },
    {
     "name": "stdout",
     "output_type": "stream",
     "text": [
      "\n"
     ]
    },
    {
     "data": {
      "application/vnd.jupyter.widget-view+json": {
       "model_id": "aaa96171e7e84b8dac5026114bfbe820",
       "version_major": 2,
       "version_minor": 0
      },
      "text/plain": [
       "HBox(children=(FloatProgress(value=0.0, max=1240.0), HTML(value='')))"
      ]
     },
     "metadata": {},
     "output_type": "display_data"
    },
    {
     "name": "stdout",
     "output_type": "stream",
     "text": [
      "\n"
     ]
    },
    {
     "data": {
      "application/vnd.jupyter.widget-view+json": {
       "model_id": "d2b7720a10b044e782430661a08315c1",
       "version_major": 2,
       "version_minor": 0
      },
      "text/plain": [
       "HBox(children=(FloatProgress(value=0.0, max=1240.0), HTML(value='')))"
      ]
     },
     "metadata": {},
     "output_type": "display_data"
    },
    {
     "name": "stdout",
     "output_type": "stream",
     "text": [
      "\n"
     ]
    },
    {
     "data": {
      "application/vnd.jupyter.widget-view+json": {
       "model_id": "bd3268facab740868b5188b745bbb6b8",
       "version_major": 2,
       "version_minor": 0
      },
      "text/plain": [
       "HBox(children=(FloatProgress(value=0.0, max=1240.0), HTML(value='')))"
      ]
     },
     "metadata": {},
     "output_type": "display_data"
    },
    {
     "name": "stdout",
     "output_type": "stream",
     "text": [
      "\n"
     ]
    },
    {
     "data": {
      "application/vnd.jupyter.widget-view+json": {
       "model_id": "df2a3097b971494ba68b63ce3d343485",
       "version_major": 2,
       "version_minor": 0
      },
      "text/plain": [
       "HBox(children=(FloatProgress(value=0.0, max=1240.0), HTML(value='')))"
      ]
     },
     "metadata": {},
     "output_type": "display_data"
    },
    {
     "name": "stdout",
     "output_type": "stream",
     "text": [
      "\n"
     ]
    },
    {
     "data": {
      "application/vnd.jupyter.widget-view+json": {
       "model_id": "62e9bc30c1404450929b62e811553cdc",
       "version_major": 2,
       "version_minor": 0
      },
      "text/plain": [
       "HBox(children=(FloatProgress(value=0.0, max=1240.0), HTML(value='')))"
      ]
     },
     "metadata": {},
     "output_type": "display_data"
    },
    {
     "name": "stdout",
     "output_type": "stream",
     "text": [
      "\n"
     ]
    },
    {
     "data": {
      "application/vnd.jupyter.widget-view+json": {
       "model_id": "75f5cee1a7fa4cb387be5e4d63a52fa2",
       "version_major": 2,
       "version_minor": 0
      },
      "text/plain": [
       "HBox(children=(FloatProgress(value=0.0, max=1240.0), HTML(value='')))"
      ]
     },
     "metadata": {},
     "output_type": "display_data"
    },
    {
     "name": "stdout",
     "output_type": "stream",
     "text": [
      "\n"
     ]
    },
    {
     "data": {
      "application/vnd.jupyter.widget-view+json": {
       "model_id": "9a8dd17a91a44143a11d9cea7e67fec5",
       "version_major": 2,
       "version_minor": 0
      },
      "text/plain": [
       "HBox(children=(FloatProgress(value=0.0, max=1240.0), HTML(value='')))"
      ]
     },
     "metadata": {},
     "output_type": "display_data"
    },
    {
     "name": "stdout",
     "output_type": "stream",
     "text": [
      "\n"
     ]
    },
    {
     "data": {
      "application/vnd.jupyter.widget-view+json": {
       "model_id": "51eee3c7b40e4a618711606ee060754a",
       "version_major": 2,
       "version_minor": 0
      },
      "text/plain": [
       "HBox(children=(FloatProgress(value=0.0, max=1240.0), HTML(value='')))"
      ]
     },
     "metadata": {},
     "output_type": "display_data"
    },
    {
     "name": "stdout",
     "output_type": "stream",
     "text": [
      "\n"
     ]
    },
    {
     "data": {
      "application/vnd.jupyter.widget-view+json": {
       "model_id": "b2c59d111990428ba67401eb6868ad02",
       "version_major": 2,
       "version_minor": 0
      },
      "text/plain": [
       "HBox(children=(FloatProgress(value=0.0, max=1240.0), HTML(value='')))"
      ]
     },
     "metadata": {},
     "output_type": "display_data"
    },
    {
     "name": "stdout",
     "output_type": "stream",
     "text": [
      "\n"
     ]
    },
    {
     "data": {
      "application/vnd.jupyter.widget-view+json": {
       "model_id": "55472ccf320b4d75bb9b25c2cc04ab8a",
       "version_major": 2,
       "version_minor": 0
      },
      "text/plain": [
       "HBox(children=(FloatProgress(value=0.0, max=1240.0), HTML(value='')))"
      ]
     },
     "metadata": {},
     "output_type": "display_data"
    },
    {
     "name": "stdout",
     "output_type": "stream",
     "text": [
      "\n"
     ]
    },
    {
     "data": {
      "application/vnd.jupyter.widget-view+json": {
       "model_id": "e0f3a67edb5645c289abdeff6d71ebd4",
       "version_major": 2,
       "version_minor": 0
      },
      "text/plain": [
       "HBox(children=(FloatProgress(value=0.0, max=1240.0), HTML(value='')))"
      ]
     },
     "metadata": {},
     "output_type": "display_data"
    },
    {
     "name": "stdout",
     "output_type": "stream",
     "text": [
      "\n"
     ]
    },
    {
     "data": {
      "application/vnd.jupyter.widget-view+json": {
       "model_id": "10c48f08ca70448588699c15eadfe882",
       "version_major": 2,
       "version_minor": 0
      },
      "text/plain": [
       "HBox(children=(FloatProgress(value=0.0, max=1240.0), HTML(value='')))"
      ]
     },
     "metadata": {},
     "output_type": "display_data"
    },
    {
     "name": "stdout",
     "output_type": "stream",
     "text": [
      "\n"
     ]
    },
    {
     "data": {
      "application/vnd.jupyter.widget-view+json": {
       "model_id": "aceda04bc28440f0879442fdf3a7d180",
       "version_major": 2,
       "version_minor": 0
      },
      "text/plain": [
       "HBox(children=(FloatProgress(value=0.0, max=1240.0), HTML(value='')))"
      ]
     },
     "metadata": {},
     "output_type": "display_data"
    },
    {
     "name": "stdout",
     "output_type": "stream",
     "text": [
      "\n"
     ]
    },
    {
     "data": {
      "application/vnd.jupyter.widget-view+json": {
       "model_id": "60eb838215c64c719f8bf8aef3086e25",
       "version_major": 2,
       "version_minor": 0
      },
      "text/plain": [
       "HBox(children=(FloatProgress(value=0.0, max=1240.0), HTML(value='')))"
      ]
     },
     "metadata": {},
     "output_type": "display_data"
    },
    {
     "name": "stdout",
     "output_type": "stream",
     "text": [
      "\n"
     ]
    },
    {
     "data": {
      "application/vnd.jupyter.widget-view+json": {
       "model_id": "ceb34e60763744f392a7547fe59b74bf",
       "version_major": 2,
       "version_minor": 0
      },
      "text/plain": [
       "HBox(children=(FloatProgress(value=0.0, max=1240.0), HTML(value='')))"
      ]
     },
     "metadata": {},
     "output_type": "display_data"
    },
    {
     "name": "stdout",
     "output_type": "stream",
     "text": [
      "\n"
     ]
    },
    {
     "data": {
      "application/vnd.jupyter.widget-view+json": {
       "model_id": "68b81afae33c42faa1b9dcb0d21d7839",
       "version_major": 2,
       "version_minor": 0
      },
      "text/plain": [
       "HBox(children=(FloatProgress(value=0.0, max=1240.0), HTML(value='')))"
      ]
     },
     "metadata": {},
     "output_type": "display_data"
    },
    {
     "name": "stdout",
     "output_type": "stream",
     "text": [
      "\n"
     ]
    },
    {
     "data": {
      "application/vnd.jupyter.widget-view+json": {
       "model_id": "83cc7c2f6c564803821084f42420c918",
       "version_major": 2,
       "version_minor": 0
      },
      "text/plain": [
       "HBox(children=(FloatProgress(value=0.0, max=1240.0), HTML(value='')))"
      ]
     },
     "metadata": {},
     "output_type": "display_data"
    },
    {
     "name": "stdout",
     "output_type": "stream",
     "text": [
      "\n"
     ]
    },
    {
     "data": {
      "application/vnd.jupyter.widget-view+json": {
       "model_id": "0bea34fd8ec748eabb5e3435bc75cdd1",
       "version_major": 2,
       "version_minor": 0
      },
      "text/plain": [
       "HBox(children=(FloatProgress(value=0.0, max=1240.0), HTML(value='')))"
      ]
     },
     "metadata": {},
     "output_type": "display_data"
    },
    {
     "name": "stdout",
     "output_type": "stream",
     "text": [
      "\n"
     ]
    },
    {
     "data": {
      "application/vnd.jupyter.widget-view+json": {
       "model_id": "ad7d4921cb0d4ed6989b62434552bff9",
       "version_major": 2,
       "version_minor": 0
      },
      "text/plain": [
       "HBox(children=(FloatProgress(value=0.0, max=1240.0), HTML(value='')))"
      ]
     },
     "metadata": {},
     "output_type": "display_data"
    },
    {
     "name": "stdout",
     "output_type": "stream",
     "text": [
      "\n"
     ]
    },
    {
     "data": {
      "application/vnd.jupyter.widget-view+json": {
       "model_id": "e20e9e66e9864c9bb409da4838fc1d5b",
       "version_major": 2,
       "version_minor": 0
      },
      "text/plain": [
       "HBox(children=(FloatProgress(value=0.0, max=1240.0), HTML(value='')))"
      ]
     },
     "metadata": {},
     "output_type": "display_data"
    },
    {
     "name": "stdout",
     "output_type": "stream",
     "text": [
      "\n"
     ]
    },
    {
     "data": {
      "application/vnd.jupyter.widget-view+json": {
       "model_id": "a9a860c139184b439a4af13e87fb0a1a",
       "version_major": 2,
       "version_minor": 0
      },
      "text/plain": [
       "HBox(children=(FloatProgress(value=0.0, max=1240.0), HTML(value='')))"
      ]
     },
     "metadata": {},
     "output_type": "display_data"
    },
    {
     "name": "stdout",
     "output_type": "stream",
     "text": [
      "\n"
     ]
    },
    {
     "data": {
      "application/vnd.jupyter.widget-view+json": {
       "model_id": "26d8a0ee47184b45bcd7aacde234fcf0",
       "version_major": 2,
       "version_minor": 0
      },
      "text/plain": [
       "HBox(children=(FloatProgress(value=0.0, max=1240.0), HTML(value='')))"
      ]
     },
     "metadata": {},
     "output_type": "display_data"
    },
    {
     "name": "stdout",
     "output_type": "stream",
     "text": [
      "\n"
     ]
    },
    {
     "data": {
      "application/vnd.jupyter.widget-view+json": {
       "model_id": "744efa2923584dd485390e77d6a03fa2",
       "version_major": 2,
       "version_minor": 0
      },
      "text/plain": [
       "HBox(children=(FloatProgress(value=0.0, max=1240.0), HTML(value='')))"
      ]
     },
     "metadata": {},
     "output_type": "display_data"
    },
    {
     "name": "stdout",
     "output_type": "stream",
     "text": [
      "\n",
      "\n"
     ]
    }
   ],
   "source": []
  },
  {
   "cell_type": "code",
   "execution_count": 184,
   "metadata": {},
   "outputs": [
    {
     "data": {
      "text/plain": [
       "(387692, 768)"
      ]
     },
     "execution_count": 184,
     "metadata": {},
     "output_type": "execute_result"
    }
   ],
   "source": [
    "arg_representations = np.vstack([thing for thing in outputs])\n",
    "arg_representations.shape"
   ]
  },
  {
   "cell_type": "code",
   "execution_count": 187,
   "metadata": {},
   "outputs": [
    {
     "name": "stdout",
     "output_type": "stream",
     "text": [
      "CPU times: user 6.76 ms, sys: 739 ms, total: 746 ms\n",
      "Wall time: 861 ms\n"
     ]
    }
   ],
   "source": [
    "%%time\n",
    "np.save('arg_representations', arg_representations)"
   ]
  },
  {
   "cell_type": "code",
   "execution_count": 39,
   "metadata": {},
   "outputs": [
    {
     "name": "stdout",
     "output_type": "stream",
     "text": [
      "CPU times: user 0 ns, sys: 439 ms, total: 439 ms\n",
      "Wall time: 437 ms\n"
     ]
    }
   ],
   "source": [
    "%%time\n",
    "arg_representations = np.load('arg_representations_bert-large-uncased.npy')"
   ]
  },
  {
   "cell_type": "code",
   "execution_count": 40,
   "metadata": {},
   "outputs": [
    {
     "data": {
      "text/plain": [
       "array([[ 0.22579737, -0.07349378, -1.0474814 , ..., -0.9103607 ,\n",
       "        -0.20819543, -0.17666322],\n",
       "       [-0.1498387 , -0.4468132 , -0.99795085, ..., -1.2222996 ,\n",
       "        -0.06732306,  0.26513594],\n",
       "       [ 0.47659963, -1.0098528 , -0.6905463 , ..., -0.86388797,\n",
       "        -0.432725  ,  0.15581201],\n",
       "       ...,\n",
       "       [-0.08755945, -0.49159864, -0.62298226, ..., -0.6357609 ,\n",
       "        -0.41940513,  0.25646588],\n",
       "       [ 0.0292035 , -0.8047588 , -0.3333864 , ..., -0.4762738 ,\n",
       "        -0.7674418 ,  0.17478399],\n",
       "       [-0.35893157, -0.23544711, -1.0336562 , ..., -0.09143204,\n",
       "        -0.5442716 ,  0.21634527]], dtype=float32)"
      ]
     },
     "execution_count": 40,
     "metadata": {},
     "output_type": "execute_result"
    }
   ],
   "source": [
    "arg_representations"
   ]
  },
  {
   "cell_type": "code",
   "execution_count": 9,
   "metadata": {},
   "outputs": [
    {
     "data": {
      "text/plain": [
       "(387692, 768)"
      ]
     },
     "execution_count": 9,
     "metadata": {},
     "output_type": "execute_result"
    }
   ],
   "source": [
    "arg_representations.shape"
   ]
  },
  {
   "cell_type": "code",
   "execution_count": 22,
   "metadata": {},
   "outputs": [],
   "source": [
    "d = arg_representations.shape[1]\n",
    "xb = arg_representations\n",
    "m=16\n",
    "n_bits=8\n",
    "ids = args.id.values"
   ]
  },
  {
   "cell_type": "code",
   "execution_count": 23,
   "metadata": {},
   "outputs": [],
   "source": [
    "pq = faiss.IndexPQ(d, m, n_bits)"
   ]
  },
  {
   "cell_type": "code",
   "execution_count": 29,
   "metadata": {},
   "outputs": [],
   "source": [
    "pq.train(xb)"
   ]
  },
  {
   "cell_type": "code",
   "execution_count": 31,
   "metadata": {},
   "outputs": [],
   "source": [
    "pq.add(xb)"
   ]
  },
  {
   "cell_type": "code",
   "execution_count": 34,
   "metadata": {},
   "outputs": [
    {
     "data": {
      "text/plain": [
       "True"
      ]
     },
     "execution_count": 34,
     "metadata": {},
     "output_type": "execute_result"
    }
   ],
   "source": [
    "pq.is_trained"
   ]
  },
  {
   "cell_type": "code",
   "execution_count": 27,
   "metadata": {},
   "outputs": [
    {
     "data": {
      "text/plain": [
       "numpy.ndarray"
      ]
     },
     "execution_count": 27,
     "metadata": {},
     "output_type": "execute_result"
    }
   ],
   "source": [
    "type(ids)"
   ]
  },
  {
   "cell_type": "code",
   "execution_count": 9,
   "metadata": {},
   "outputs": [],
   "source": [
    "index_flat = faiss.IndexFlatL2(d)"
   ]
  },
  {
   "cell_type": "code",
   "execution_count": 10,
   "metadata": {},
   "outputs": [],
   "source": [
    "gpu_index_flat = faiss.index_cpu_to_gpu(res, 0, index_flat)"
   ]
  },
  {
   "cell_type": "code",
   "execution_count": 11,
   "metadata": {},
   "outputs": [
    {
     "name": "stdout",
     "output_type": "stream",
     "text": [
      "100000\n"
     ]
    }
   ],
   "source": [
    "gpu_index_flat.add(xb)         # add vectors to the index\n",
    "print(gpu_index_flat.ntotal)"
   ]
  },
  {
   "cell_type": "code",
   "execution_count": 101,
   "metadata": {},
   "outputs": [
    {
     "name": "stdout",
     "output_type": "stream",
     "text": [
      "CPU times: user 3.77 s, sys: 91.1 ms, total: 3.86 s\n",
      "Wall time: 292 ms\n"
     ]
    },
    {
     "data": {
      "text/html": [
       "<div>\n",
       "<style scoped>\n",
       "    .dataframe tbody tr th:only-of-type {\n",
       "        vertical-align: middle;\n",
       "    }\n",
       "\n",
       "    .dataframe tbody tr th {\n",
       "        vertical-align: top;\n",
       "    }\n",
       "\n",
       "    .dataframe thead th {\n",
       "        text-align: right;\n",
       "    }\n",
       "</style>\n",
       "<table border=\"1\" class=\"dataframe\">\n",
       "  <thead>\n",
       "    <tr style=\"text-align: right;\">\n",
       "      <th></th>\n",
       "      <th>text</th>\n",
       "      <th>id</th>\n",
       "    </tr>\n",
       "  </thead>\n",
       "  <tbody>\n",
       "    <tr>\n",
       "      <th>14151</th>\n",
       "      <td>Happiness is a state of mind</td>\n",
       "      <td>471dd6da-2019-04-18T16:38:43Z-00000-000</td>\n",
       "    </tr>\n",
       "    <tr>\n",
       "      <th>21828</th>\n",
       "      <td>testing testing</td>\n",
       "      <td>4e982cac-2019-04-18T19:07:20Z-00003-000</td>\n",
       "    </tr>\n",
       "    <tr>\n",
       "      <th>27100</th>\n",
       "      <td>agnostics dont believe in judaism</td>\n",
       "      <td>e71fe4c6-2019-04-18T12:56:35Z-00003-000</td>\n",
       "    </tr>\n",
       "    <tr>\n",
       "      <th>31896</th>\n",
       "      <td>Rascist jokes are not the best type of jokes</td>\n",
       "      <td>e6c3351d-2019-04-18T16:47:28Z-00003-000</td>\n",
       "    </tr>\n",
       "    <tr>\n",
       "      <th>41309</th>\n",
       "      <td>Why television isn't a bad influence on students</td>\n",
       "      <td>dbfbac49-2019-04-18T17:38:23Z-00003-000</td>\n",
       "    </tr>\n",
       "    <tr>\n",
       "      <th>...</th>\n",
       "      <td>...</td>\n",
       "      <td>...</td>\n",
       "    </tr>\n",
       "    <tr>\n",
       "      <th>380685</th>\n",
       "      <td>Bible supports incest and embraces its practice</td>\n",
       "      <td>e4848164-2019-04-17T11:47:33Z-00008-000</td>\n",
       "    </tr>\n",
       "    <tr>\n",
       "      <th>381674</th>\n",
       "      <td>General statements in favor of saying merry Ch...</td>\n",
       "      <td>7e44569e-2019-04-17T11:47:28Z-00010-000</td>\n",
       "    </tr>\n",
       "    <tr>\n",
       "      <th>383605</th>\n",
       "      <td>Oil sands can't compete w/ cleaner, abundant, ...</td>\n",
       "      <td>4d2e82ff-2019-04-17T11:47:25Z-00027-000</td>\n",
       "    </tr>\n",
       "    <tr>\n",
       "      <th>386198</th>\n",
       "      <td>Alternatives to body scanners don't sacrifice ...</td>\n",
       "      <td>91a1b22c-2019-04-17T11:47:28Z-00005-000</td>\n",
       "    </tr>\n",
       "    <tr>\n",
       "      <th>386490</th>\n",
       "      <td>Corps shouldn't be denied rights because of be...</td>\n",
       "      <td>f5f72aae-2019-04-17T11:47:27Z-00014-000</td>\n",
       "    </tr>\n",
       "  </tbody>\n",
       "</table>\n",
       "<p>100 rows × 2 columns</p>\n",
       "</div>"
      ],
      "text/plain": [
       "                                                     text  \\\n",
       "14151                        Happiness is a state of mind   \n",
       "21828                                     testing testing   \n",
       "27100                   agnostics dont believe in judaism   \n",
       "31896        Rascist jokes are not the best type of jokes   \n",
       "41309    Why television isn't a bad influence on students   \n",
       "...                                                   ...   \n",
       "380685    Bible supports incest and embraces its practice   \n",
       "381674  General statements in favor of saying merry Ch...   \n",
       "383605  Oil sands can't compete w/ cleaner, abundant, ...   \n",
       "386198  Alternatives to body scanners don't sacrifice ...   \n",
       "386490  Corps shouldn't be denied rights because of be...   \n",
       "\n",
       "                                             id  \n",
       "14151   471dd6da-2019-04-18T16:38:43Z-00000-000  \n",
       "21828   4e982cac-2019-04-18T19:07:20Z-00003-000  \n",
       "27100   e71fe4c6-2019-04-18T12:56:35Z-00003-000  \n",
       "31896   e6c3351d-2019-04-18T16:47:28Z-00003-000  \n",
       "41309   dbfbac49-2019-04-18T17:38:23Z-00003-000  \n",
       "...                                         ...  \n",
       "380685  e4848164-2019-04-17T11:47:33Z-00008-000  \n",
       "381674  7e44569e-2019-04-17T11:47:28Z-00010-000  \n",
       "383605  4d2e82ff-2019-04-17T11:47:25Z-00027-000  \n",
       "386198  91a1b22c-2019-04-17T11:47:28Z-00005-000  \n",
       "386490  f5f72aae-2019-04-17T11:47:27Z-00014-000  \n",
       "\n",
       "[100 rows x 2 columns]"
      ]
     },
     "execution_count": 101,
     "metadata": {},
     "output_type": "execute_result"
    }
   ],
   "source": [
    "%%time\n",
    "query = \"donald trump is an idiot\"\n",
    "\n",
    "tokenized_query = tokenizer.convert_tokens_to_ids(tokenizer.tokenize(query))\n",
    "encoded_query = tokenizer.prepare_for_model(tokenized_query, max_length=512, add_special_tokens=True, pad_to_max_length=True)\n",
    "\n",
    "inp, mask = encoded_query['input_ids'], encoded_query['attention_mask']\n",
    "inp, mask = torch.tensor(inp).unsqueeze(0), torch.tensor(mask).unsqueeze(0)\n",
    "\n",
    "with torch.no_grad():\n",
    "    query_albert = model(inp, attention_mask=mask)[0][:,0,:].numpy()\n",
    "\n",
    "D, I = pq.search(query_albert, 100)\n",
    "\n",
    "indices = list(I.squeeze())\n",
    "args[args.index.isin(indices)]"
   ]
  },
  {
   "cell_type": "code",
   "execution_count": 83,
   "metadata": {},
   "outputs": [
    {
     "data": {
      "text/plain": [
       "1.0"
      ]
     },
     "execution_count": 83,
     "metadata": {},
     "output_type": "execute_result"
    }
   ],
   "source": [
    "np.ceil(0.01)"
   ]
  },
  {
   "cell_type": "code",
   "execution_count": 55,
   "metadata": {},
   "outputs": [],
   "source": []
  },
  {
   "cell_type": "code",
   "execution_count": 59,
   "metadata": {},
   "outputs": [
    {
     "name": "stdout",
     "output_type": "stream",
     "text": [
      "CPU times: user 3.01 s, sys: 254 ms, total: 3.27 s\n",
      "Wall time: 238 ms\n"
     ]
    }
   ],
   "source": [
    "%%time\n"
   ]
  },
  {
   "cell_type": "code",
   "execution_count": 84,
   "metadata": {},
   "outputs": [],
   "source": []
  },
  {
   "cell_type": "code",
   "execution_count": 91,
   "metadata": {},
   "outputs": [],
   "source": []
  },
  {
   "cell_type": "code",
   "execution_count": 93,
   "metadata": {},
   "outputs": [
    {
     "data": {
      "text/html": [
       "<div>\n",
       "<style scoped>\n",
       "    .dataframe tbody tr th:only-of-type {\n",
       "        vertical-align: middle;\n",
       "    }\n",
       "\n",
       "    .dataframe tbody tr th {\n",
       "        vertical-align: top;\n",
       "    }\n",
       "\n",
       "    .dataframe thead th {\n",
       "        text-align: right;\n",
       "    }\n",
       "</style>\n",
       "<table border=\"1\" class=\"dataframe\">\n",
       "  <thead>\n",
       "    <tr style=\"text-align: right;\">\n",
       "      <th></th>\n",
       "      <th>text</th>\n",
       "      <th>id</th>\n",
       "    </tr>\n",
       "  </thead>\n",
       "  <tbody>\n",
       "    <tr>\n",
       "      <th>1783</th>\n",
       "      <td>I acceptUsing Superman Prime</td>\n",
       "      <td>5010a680-2019-04-18T16:07:20Z-00005-000</td>\n",
       "    </tr>\n",
       "    <tr>\n",
       "      <th>2053</th>\n",
       "      <td>Meow</td>\n",
       "      <td>fdb8a06-2019-04-18T13:23:28Z-00004-000</td>\n",
       "    </tr>\n",
       "    <tr>\n",
       "      <th>2817</th>\n",
       "      <td>my grandson's name is jay</td>\n",
       "      <td>6c49a463-2019-04-18T11:06:28Z-00002-000</td>\n",
       "    </tr>\n",
       "    <tr>\n",
       "      <th>4049</th>\n",
       "      <td>i hate baseball</td>\n",
       "      <td>80eddc97-2019-04-18T17:28:50Z-00005-000</td>\n",
       "    </tr>\n",
       "    <tr>\n",
       "      <th>8550</th>\n",
       "      <td>suck on that</td>\n",
       "      <td>3f45dc38-2019-04-18T14:13:23Z-00003-000</td>\n",
       "    </tr>\n",
       "    <tr>\n",
       "      <th>...</th>\n",
       "      <td>...</td>\n",
       "      <td>...</td>\n",
       "    </tr>\n",
       "    <tr>\n",
       "      <th>347572</th>\n",
       "      <td>Focused leadership</td>\n",
       "      <td>a329a7d5-2019-04-15T20:24:40Z-00002-000</td>\n",
       "    </tr>\n",
       "    <tr>\n",
       "      <th>354778</th>\n",
       "      <td>whats a vegan</td>\n",
       "      <td>76de8010-2019-04-19T12:45:43Z-00000-000</td>\n",
       "    </tr>\n",
       "    <tr>\n",
       "      <th>357438</th>\n",
       "      <td>A more interesting story</td>\n",
       "      <td>6d9e359f-2019-04-19T12:46:09Z-00006-000</td>\n",
       "    </tr>\n",
       "    <tr>\n",
       "      <th>362782</th>\n",
       "      <td>Don't be lazy</td>\n",
       "      <td>15aaf549-2019-04-19T12:45:44Z-00005-000</td>\n",
       "    </tr>\n",
       "    <tr>\n",
       "      <th>364951</th>\n",
       "      <td>There's no I in team</td>\n",
       "      <td>d13617c6-2019-04-19T12:45:05Z-00007-000</td>\n",
       "    </tr>\n",
       "  </tbody>\n",
       "</table>\n",
       "<p>100 rows × 2 columns</p>\n",
       "</div>"
      ],
      "text/plain": [
       "                                text                                       id\n",
       "1783    I acceptUsing Superman Prime  5010a680-2019-04-18T16:07:20Z-00005-000\n",
       "2053                            Meow   fdb8a06-2019-04-18T13:23:28Z-00004-000\n",
       "2817       my grandson's name is jay  6c49a463-2019-04-18T11:06:28Z-00002-000\n",
       "4049                 i hate baseball  80eddc97-2019-04-18T17:28:50Z-00005-000\n",
       "8550                    suck on that  3f45dc38-2019-04-18T14:13:23Z-00003-000\n",
       "...                              ...                                      ...\n",
       "347572            Focused leadership  a329a7d5-2019-04-15T20:24:40Z-00002-000\n",
       "354778                 whats a vegan  76de8010-2019-04-19T12:45:43Z-00000-000\n",
       "357438      A more interesting story  6d9e359f-2019-04-19T12:46:09Z-00006-000\n",
       "362782                 Don't be lazy  15aaf549-2019-04-19T12:45:44Z-00005-000\n",
       "364951          There's no I in team  d13617c6-2019-04-19T12:45:05Z-00007-000\n",
       "\n",
       "[100 rows x 2 columns]"
      ]
     },
     "execution_count": 93,
     "metadata": {},
     "output_type": "execute_result"
    }
   ],
   "source": []
  },
  {
   "cell_type": "code",
   "execution_count": 94,
   "metadata": {},
   "outputs": [
    {
     "data": {
      "text/plain": [
       "array([[106301, 248985, 270505,  90806, 291383, 357438, 151683, 185774,\n",
       "        260158,  38933, 275982, 159128, 312865, 308493, 269036,  73621,\n",
       "          1783, 185812,  48774, 333649,   2053, 304266, 151684,  59045,\n",
       "        177953, 347572,   8668,   4049, 125624,  12039, 287536, 364951,\n",
       "        225822,  52207,  11852, 220305, 150934,  44187,  55367, 187220,\n",
       "        362782, 218918, 110544, 215830, 148715, 174082, 235235, 268444,\n",
       "        155960, 296578, 220692, 204920,  74964,  12805,  30757, 333116,\n",
       "         90038,  43297, 206372, 116109,  86306, 319908, 170605,  95085,\n",
       "        310911,  50713, 263836,  99215, 195672, 287491, 304133, 155247,\n",
       "        245281, 141766,  69033, 169931, 100872, 258272,  41220, 211380,\n",
       "          8550,  70952,  29060, 248430, 314853,  49053, 134757, 237550,\n",
       "        354778, 200986,  38982,  95528, 180625, 273265,   2817, 153844,\n",
       "        133807, 321155, 291385,  44286]])"
      ]
     },
     "execution_count": 94,
     "metadata": {},
     "output_type": "execute_result"
    }
   ],
   "source": [
    "I"
   ]
  },
  {
   "cell_type": "code",
   "execution_count": 12,
   "metadata": {},
   "outputs": [],
   "source": [
    "k = 4                          # we want to see 4 nearest neighbors\n",
    "D, I = gpu_index_flat.search(xq, k)  # actual search"
   ]
  },
  {
   "cell_type": "code",
   "execution_count": 64,
   "metadata": {},
   "outputs": [],
   "source": []
  },
  {
   "cell_type": "code",
   "execution_count": 65,
   "metadata": {},
   "outputs": [
    {
     "name": "stdout",
     "output_type": "stream",
     "text": [
      "179 ms ± 7.4 ms per loop (mean ± std. dev. of 7 runs, 1 loop each)\n"
     ]
    }
   ],
   "source": [
    "%%timeit\n",
    "model_tf(test_i, attention_mask=test_m)"
   ]
  },
  {
   "cell_type": "code",
   "execution_count": 61,
   "metadata": {},
   "outputs": [],
   "source": [
    "tensor_test_i = tf.convert_to_tensor(test_i)\n",
    "tensor_test_m = tf.convert_to_tensor(test_m)"
   ]
  },
  {
   "cell_type": "code",
   "execution_count": 62,
   "metadata": {},
   "outputs": [
    {
     "name": "stdout",
     "output_type": "stream",
     "text": [
      "100 ms ± 2.64 ms per loop (mean ± std. dev. of 7 runs, 10 loops each)\n"
     ]
    }
   ],
   "source": [
    "%%timeit\n",
    "model_tf(tensor_test_i, attention_mask=tensor_test_m)"
   ]
  },
  {
   "cell_type": "code",
   "execution_count": null,
   "metadata": {},
   "outputs": [],
   "source": []
  }
 ],
 "metadata": {
  "kernelspec": {
   "display_name": "Python 3",
   "language": "python",
   "name": "python3"
  },
  "language_info": {
   "codemirror_mode": {
    "name": "ipython",
    "version": 3
   },
   "file_extension": ".py",
   "mimetype": "text/x-python",
   "name": "python",
   "nbconvert_exporter": "python",
   "pygments_lexer": "ipython3",
   "version": "3.6.9"
  }
 },
 "nbformat": 4,
 "nbformat_minor": 2
}
