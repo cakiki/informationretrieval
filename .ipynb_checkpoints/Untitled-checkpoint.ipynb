{
 "cells": [
  {
   "cell_type": "code",
   "execution_count": 1,
   "metadata": {},
   "outputs": [],
   "source": [
    "import pandas as pd\n",
    "import numpy as np"
   ]
  },
  {
   "cell_type": "code",
   "execution_count": 4,
   "metadata": {},
   "outputs": [],
   "source": [
    "autoencoded = np.load('./Encoded/autoencoded_distilbert-base-uncased_1024.npy')"
   ]
  },
  {
   "cell_type": "code",
   "execution_count": 5,
   "metadata": {},
   "outputs": [
    {
     "data": {
      "text/plain": [
       "(555583, 1024)"
      ]
     },
     "execution_count": 5,
     "metadata": {},
     "output_type": "execute_result"
    }
   ],
   "source": [
    "autoencoded.shape"
   ]
  },
  {
   "cell_type": "code",
   "execution_count": 8,
   "metadata": {},
   "outputs": [],
   "source": [
    "bgm = BayesianGaussianMixture(n_components=10)"
   ]
  },
  {
   "cell_type": "code",
   "execution_count": 13,
   "metadata": {},
   "outputs": [
    {
     "name": "stdout",
     "output_type": "stream",
     "text": [
      "CPU times: user 2min 30s, sys: 2min 7s, total: 4min 37s\n",
      "Wall time: 11.3 s\n"
     ]
    },
    {
     "data": {
      "text/plain": [
       "BayesianGaussianMixture(covariance_prior=None, covariance_type='full',\n",
       "                        degrees_of_freedom_prior=None, init_params='kmeans',\n",
       "                        max_iter=100, mean_precision_prior=None,\n",
       "                        mean_prior=None, n_components=10, n_init=1,\n",
       "                        random_state=None, reg_covar=1e-06, tol=0.001,\n",
       "                        verbose=0, verbose_interval=10, warm_start=False,\n",
       "                        weight_concentration_prior=None,\n",
       "                        weight_concentration_prior_type='dirichlet_process')"
      ]
     },
     "execution_count": 13,
     "metadata": {},
     "output_type": "execute_result"
    }
   ],
   "source": [
    "%%time\n",
    "bgm.fit(autoencoded[:10000])"
   ]
  },
  {
   "cell_type": "code",
   "execution_count": 14,
   "metadata": {},
   "outputs": [
    {
     "data": {
      "text/plain": [
       "array([0.19448054, 0.07378346, 0.10556191, 0.10034776, 0.05845845,\n",
       "       0.15825366, 0.10656698, 0.12068977, 0.06072006, 0.02113741])"
      ]
     },
     "execution_count": 14,
     "metadata": {},
     "output_type": "execute_result"
    }
   ],
   "source": [
    "(bgm.weights_)"
   ]
  },
  {
   "cell_type": "code",
   "execution_count": 68,
   "metadata": {},
   "outputs": [],
   "source": [
    "kmeans = KMeans(n_clusters=50)"
   ]
  },
  {
   "cell_type": "code",
   "execution_count": 69,
   "metadata": {},
   "outputs": [],
   "source": [
    "ypred = kmeans.fit_predict(autoencoded[:100000])"
   ]
  },
  {
   "cell_type": "code",
   "execution_count": 70,
   "metadata": {},
   "outputs": [
    {
     "data": {
      "text/html": [
       "<div>\n",
       "<style scoped>\n",
       "    .dataframe tbody tr th:only-of-type {\n",
       "        vertical-align: middle;\n",
       "    }\n",
       "\n",
       "    .dataframe tbody tr th {\n",
       "        vertical-align: top;\n",
       "    }\n",
       "\n",
       "    .dataframe thead th {\n",
       "        text-align: right;\n",
       "    }\n",
       "</style>\n",
       "<table border=\"1\" class=\"dataframe\">\n",
       "  <thead>\n",
       "    <tr style=\"text-align: right;\">\n",
       "      <th></th>\n",
       "      <th>0</th>\n",
       "    </tr>\n",
       "  </thead>\n",
       "  <tbody>\n",
       "    <tr>\n",
       "      <th>0</th>\n",
       "      <td>17</td>\n",
       "    </tr>\n",
       "    <tr>\n",
       "      <th>1</th>\n",
       "      <td>37</td>\n",
       "    </tr>\n",
       "    <tr>\n",
       "      <th>2</th>\n",
       "      <td>35</td>\n",
       "    </tr>\n",
       "    <tr>\n",
       "      <th>3</th>\n",
       "      <td>37</td>\n",
       "    </tr>\n",
       "    <tr>\n",
       "      <th>4</th>\n",
       "      <td>1</td>\n",
       "    </tr>\n",
       "    <tr>\n",
       "      <th>...</th>\n",
       "      <td>...</td>\n",
       "    </tr>\n",
       "    <tr>\n",
       "      <th>99995</th>\n",
       "      <td>47</td>\n",
       "    </tr>\n",
       "    <tr>\n",
       "      <th>99996</th>\n",
       "      <td>37</td>\n",
       "    </tr>\n",
       "    <tr>\n",
       "      <th>99997</th>\n",
       "      <td>45</td>\n",
       "    </tr>\n",
       "    <tr>\n",
       "      <th>99998</th>\n",
       "      <td>25</td>\n",
       "    </tr>\n",
       "    <tr>\n",
       "      <th>99999</th>\n",
       "      <td>48</td>\n",
       "    </tr>\n",
       "  </tbody>\n",
       "</table>\n",
       "<p>100000 rows × 1 columns</p>\n",
       "</div>"
      ],
      "text/plain": [
       "        0\n",
       "0      17\n",
       "1      37\n",
       "2      35\n",
       "3      37\n",
       "4       1\n",
       "...    ..\n",
       "99995  47\n",
       "99996  37\n",
       "99997  45\n",
       "99998  25\n",
       "99999  48\n",
       "\n",
       "[100000 rows x 1 columns]"
      ]
     },
     "execution_count": 70,
     "metadata": {},
     "output_type": "execute_result"
    }
   ],
   "source": [
    "pd.DataFrame(ypred)"
   ]
  },
  {
   "cell_type": "code",
   "execution_count": 21,
   "metadata": {},
   "outputs": [],
   "source": [
    "tokenized = pd.read_pickle('./Tokenized/distilbert-base-uncased.pkl')"
   ]
  },
  {
   "cell_type": "code",
   "execution_count": 22,
   "metadata": {},
   "outputs": [
    {
     "data": {
      "text/plain": [
       "(555583, 3)"
      ]
     },
     "execution_count": 22,
     "metadata": {},
     "output_type": "execute_result"
    }
   ],
   "source": [
    "tokenized.shape"
   ]
  },
  {
   "cell_type": "code",
   "execution_count": 71,
   "metadata": {},
   "outputs": [],
   "source": [
    "test = tokenized[:100000].copy()"
   ]
  },
  {
   "cell_type": "code",
   "execution_count": 72,
   "metadata": {},
   "outputs": [],
   "source": [
    "test['clusters'] = pd.Series(ypred)"
   ]
  },
  {
   "cell_type": "code",
   "execution_count": 73,
   "metadata": {},
   "outputs": [
    {
     "data": {
      "text/html": [
       "<div>\n",
       "<style scoped>\n",
       "    .dataframe tbody tr th:only-of-type {\n",
       "        vertical-align: middle;\n",
       "    }\n",
       "\n",
       "    .dataframe tbody tr th {\n",
       "        vertical-align: top;\n",
       "    }\n",
       "\n",
       "    .dataframe thead th {\n",
       "        text-align: right;\n",
       "    }\n",
       "</style>\n",
       "<table border=\"1\" class=\"dataframe\">\n",
       "  <thead>\n",
       "    <tr style=\"text-align: right;\">\n",
       "      <th></th>\n",
       "      <th>input_ids</th>\n",
       "      <th>attention_mask</th>\n",
       "      <th>id</th>\n",
       "      <th>clusters</th>\n",
       "    </tr>\n",
       "  </thead>\n",
       "  <tbody>\n",
       "    <tr>\n",
       "      <th>0</th>\n",
       "      <td>[101, 2026, 7116, 2005, 21156, 2098, 2296, 246...</td>\n",
       "      <td>[1, 1, 1, 1, 1, 1, 1, 1, 1, 1, 1, 1, 1, 1, 1, ...</td>\n",
       "      <td>c67482ba-2019-04-18T13:32:05Z-00000-000</td>\n",
       "      <td>17</td>\n",
       "    </tr>\n",
       "    <tr>\n",
       "      <th>1</th>\n",
       "      <td>[101, 2129, 2079, 2017, 16599, 1996, 2082, 209...</td>\n",
       "      <td>[1, 1, 1, 1, 1, 1, 1, 1, 1, 1, 1, 1, 1, 1, 1, ...</td>\n",
       "      <td>c67482ba-2019-04-18T13:32:05Z-00001-000</td>\n",
       "      <td>37</td>\n",
       "    </tr>\n",
       "    <tr>\n",
       "      <th>2</th>\n",
       "      <td>[101, 2816, 2031, 2053, 17075, 3037, 1999, 434...</td>\n",
       "      <td>[1, 1, 1, 1, 1, 1, 1, 1, 1, 1, 1, 1, 1, 1, 1, ...</td>\n",
       "      <td>c67482ba-2019-04-18T13:32:05Z-00002-000</td>\n",
       "      <td>35</td>\n",
       "    </tr>\n",
       "    <tr>\n",
       "      <th>3</th>\n",
       "      <td>[101, 2004, 1037, 3026, 2012, 2026, 2082, 1012...</td>\n",
       "      <td>[1, 1, 1, 1, 1, 1, 1, 1, 1, 1, 1, 1, 1, 1, 1, ...</td>\n",
       "      <td>c67482ba-2019-04-18T13:32:05Z-00003-000</td>\n",
       "      <td>37</td>\n",
       "    </tr>\n",
       "    <tr>\n",
       "      <th>4</th>\n",
       "      <td>[101, 1996, 5813, 2109, 2011, 4013, 1008, 1598...</td>\n",
       "      <td>[1, 1, 1, 1, 1, 1, 1, 1, 1, 1, 1, 1, 1, 1, 1, ...</td>\n",
       "      <td>4d3d4471-2019-04-18T11:45:01Z-00000-000</td>\n",
       "      <td>1</td>\n",
       "    </tr>\n",
       "    <tr>\n",
       "      <th>...</th>\n",
       "      <td>...</td>\n",
       "      <td>...</td>\n",
       "      <td>...</td>\n",
       "      <td>...</td>\n",
       "    </tr>\n",
       "    <tr>\n",
       "      <th>99995</th>\n",
       "      <td>[101, 1000, 13367, 6001, 2228, 2008, 2138, 202...</td>\n",
       "      <td>[1, 1, 1, 1, 1, 1, 1, 1, 1, 1, 1, 1, 1, 1, 1, ...</td>\n",
       "      <td>47a0de52-2019-04-18T17:24:53Z-00004-000</td>\n",
       "      <td>47</td>\n",
       "    </tr>\n",
       "    <tr>\n",
       "      <th>99996</th>\n",
       "      <td>[101, 13367, 6001, 2228, 2008, 2138, 2027, 100...</td>\n",
       "      <td>[1, 1, 1, 1, 1, 1, 1, 1, 1, 1, 1, 1, 1, 1, 1, ...</td>\n",
       "      <td>47a0de52-2019-04-18T17:24:53Z-00005-000</td>\n",
       "      <td>37</td>\n",
       "    </tr>\n",
       "    <tr>\n",
       "      <th>99997</th>\n",
       "      <td>[101, 3531, 2123, 1005, 1056, 2202, 1996, 2206...</td>\n",
       "      <td>[1, 1, 1, 1, 1, 1, 1, 1, 1, 1, 1, 1, 1, 1, 1, ...</td>\n",
       "      <td>47a0de52-2019-04-18T17:24:53Z-00000-000</td>\n",
       "      <td>45</td>\n",
       "    </tr>\n",
       "    <tr>\n",
       "      <th>99998</th>\n",
       "      <td>[101, 2034, 1010, 1045, 2066, 2000, 4067, 2026...</td>\n",
       "      <td>[1, 1, 1, 1, 1, 1, 1, 1, 1, 1, 1, 1, 1, 1, 1, ...</td>\n",
       "      <td>e2769e38-2019-04-18T19:49:34Z-00006-000</td>\n",
       "      <td>25</td>\n",
       "    </tr>\n",
       "    <tr>\n",
       "      <th>99999</th>\n",
       "      <td>[101, 2748, 2008, 2003, 2026, 5813, 1012, 2008...</td>\n",
       "      <td>[1, 1, 1, 1, 1, 1, 1, 1, 1, 1, 1, 1, 1, 1, 1, ...</td>\n",
       "      <td>e2769e38-2019-04-18T19:49:34Z-00007-000</td>\n",
       "      <td>48</td>\n",
       "    </tr>\n",
       "  </tbody>\n",
       "</table>\n",
       "<p>100000 rows × 4 columns</p>\n",
       "</div>"
      ],
      "text/plain": [
       "                                               input_ids  \\\n",
       "0      [101, 2026, 7116, 2005, 21156, 2098, 2296, 246...   \n",
       "1      [101, 2129, 2079, 2017, 16599, 1996, 2082, 209...   \n",
       "2      [101, 2816, 2031, 2053, 17075, 3037, 1999, 434...   \n",
       "3      [101, 2004, 1037, 3026, 2012, 2026, 2082, 1012...   \n",
       "4      [101, 1996, 5813, 2109, 2011, 4013, 1008, 1598...   \n",
       "...                                                  ...   \n",
       "99995  [101, 1000, 13367, 6001, 2228, 2008, 2138, 202...   \n",
       "99996  [101, 13367, 6001, 2228, 2008, 2138, 2027, 100...   \n",
       "99997  [101, 3531, 2123, 1005, 1056, 2202, 1996, 2206...   \n",
       "99998  [101, 2034, 1010, 1045, 2066, 2000, 4067, 2026...   \n",
       "99999  [101, 2748, 2008, 2003, 2026, 5813, 1012, 2008...   \n",
       "\n",
       "                                          attention_mask  \\\n",
       "0      [1, 1, 1, 1, 1, 1, 1, 1, 1, 1, 1, 1, 1, 1, 1, ...   \n",
       "1      [1, 1, 1, 1, 1, 1, 1, 1, 1, 1, 1, 1, 1, 1, 1, ...   \n",
       "2      [1, 1, 1, 1, 1, 1, 1, 1, 1, 1, 1, 1, 1, 1, 1, ...   \n",
       "3      [1, 1, 1, 1, 1, 1, 1, 1, 1, 1, 1, 1, 1, 1, 1, ...   \n",
       "4      [1, 1, 1, 1, 1, 1, 1, 1, 1, 1, 1, 1, 1, 1, 1, ...   \n",
       "...                                                  ...   \n",
       "99995  [1, 1, 1, 1, 1, 1, 1, 1, 1, 1, 1, 1, 1, 1, 1, ...   \n",
       "99996  [1, 1, 1, 1, 1, 1, 1, 1, 1, 1, 1, 1, 1, 1, 1, ...   \n",
       "99997  [1, 1, 1, 1, 1, 1, 1, 1, 1, 1, 1, 1, 1, 1, 1, ...   \n",
       "99998  [1, 1, 1, 1, 1, 1, 1, 1, 1, 1, 1, 1, 1, 1, 1, ...   \n",
       "99999  [1, 1, 1, 1, 1, 1, 1, 1, 1, 1, 1, 1, 1, 1, 1, ...   \n",
       "\n",
       "                                            id  clusters  \n",
       "0      c67482ba-2019-04-18T13:32:05Z-00000-000        17  \n",
       "1      c67482ba-2019-04-18T13:32:05Z-00001-000        37  \n",
       "2      c67482ba-2019-04-18T13:32:05Z-00002-000        35  \n",
       "3      c67482ba-2019-04-18T13:32:05Z-00003-000        37  \n",
       "4      4d3d4471-2019-04-18T11:45:01Z-00000-000         1  \n",
       "...                                        ...       ...  \n",
       "99995  47a0de52-2019-04-18T17:24:53Z-00004-000        47  \n",
       "99996  47a0de52-2019-04-18T17:24:53Z-00005-000        37  \n",
       "99997  47a0de52-2019-04-18T17:24:53Z-00000-000        45  \n",
       "99998  e2769e38-2019-04-18T19:49:34Z-00006-000        25  \n",
       "99999  e2769e38-2019-04-18T19:49:34Z-00007-000        48  \n",
       "\n",
       "[100000 rows x 4 columns]"
      ]
     },
     "execution_count": 73,
     "metadata": {},
     "output_type": "execute_result"
    }
   ],
   "source": [
    "test"
   ]
  },
  {
   "cell_type": "code",
   "execution_count": 39,
   "metadata": {},
   "outputs": [],
   "source": [
    "arguments = pd.read_pickle('Data/dataset.pkl')"
   ]
  },
  {
   "cell_type": "code",
   "execution_count": 28,
   "metadata": {},
   "outputs": [],
   "source": [
    "from utils import return_args"
   ]
  },
  {
   "cell_type": "code",
   "execution_count": 42,
   "metadata": {},
   "outputs": [],
   "source": [
    "argset = "
   ]
  },
  {
   "cell_type": "code",
   "execution_count": 44,
   "metadata": {},
   "outputs": [],
   "source": [
    "def return_args(id_set):\n",
    "    l = list(id_set)\n",
    "    return arguments[arguments['id'].isin(l)].copy()"
   ]
  },
  {
   "cell_type": "code",
   "execution_count": 82,
   "metadata": {},
   "outputs": [
    {
     "data": {
      "text/plain": [
       "Abortion                                                              11\n",
       "Gay Marriage                                                           7\n",
       "Strangeness Debates                                                    4\n",
       "Embryonic Stem Cell Use                                                4\n",
       "Should Citizens be allowed to own guns                                 4\n",
       "                                                                      ..\n",
       "\"There is Only One Race, The Human Race\" Is an Incorrect Statement     1\n",
       "Should religion be integrated into schools?.                           1\n",
       "Flag Burning Should Be Illegal                                         1\n",
       "Depressing rap battle                                                  1\n",
       "Chris Paul is the best point guard in the NBA                          1\n",
       "Name: conclusion, Length: 1081, dtype: int64"
      ]
     },
     "execution_count": 82,
     "metadata": {},
     "output_type": "execute_result"
    }
   ],
   "source": [
    "return_args(set(test[test['clusters'] ==15]['id']))['conclusion'].value_counts()"
   ]
  },
  {
   "cell_type": "code",
   "execution_count": 67,
   "metadata": {},
   "outputs": [
    {
     "data": {
      "text/plain": [
       "56"
      ]
     },
     "execution_count": 67,
     "metadata": {},
     "output_type": "execute_result"
    }
   ],
   "source": [
    "sum(arguments['conclusion'].value_counts()>100)"
   ]
  },
  {
   "cell_type": "code",
   "execution_count": 83,
   "metadata": {},
   "outputs": [],
   "source": [
    "from sklearn.manifold import TSNE"
   ]
  },
  {
   "cell_type": "code",
   "execution_count": 88,
   "metadata": {},
   "outputs": [],
   "source": [
    "t = TSNE(n_components=3)"
   ]
  },
  {
   "cell_type": "code",
   "execution_count": null,
   "metadata": {},
   "outputs": [],
   "source": [
    "t.fit_transform(autoencoded[:100000])"
   ]
  },
  {
   "cell_type": "code",
   "execution_count": 3,
   "metadata": {},
   "outputs": [],
   "source": [
    "from utils import *\n",
    "tree = ET.parse('Data/topics-automatic-runs-task-1.xml')\n",
    "root = tree.getroot()\n",
    "topics = []\n",
    "for child in root:\n",
    "    d = {'topic':int(child[0].text), 'query':child[1].text}\n",
    "    topics.append(d)\n",
    "topics = pd.DataFrame(topics)"
   ]
  },
  {
   "cell_type": "code",
   "execution_count": 4,
   "metadata": {},
   "outputs": [
    {
     "data": {
      "text/html": [
       "<div>\n",
       "<style scoped>\n",
       "    .dataframe tbody tr th:only-of-type {\n",
       "        vertical-align: middle;\n",
       "    }\n",
       "\n",
       "    .dataframe tbody tr th {\n",
       "        vertical-align: top;\n",
       "    }\n",
       "\n",
       "    .dataframe thead th {\n",
       "        text-align: right;\n",
       "    }\n",
       "</style>\n",
       "<table border=\"1\" class=\"dataframe\">\n",
       "  <thead>\n",
       "    <tr style=\"text-align: right;\">\n",
       "      <th></th>\n",
       "      <th>topic</th>\n",
       "      <th>query</th>\n",
       "    </tr>\n",
       "  </thead>\n",
       "  <tbody>\n",
       "    <tr>\n",
       "      <th>0</th>\n",
       "      <td>1</td>\n",
       "      <td>Should Teachers Get Tenure?</td>\n",
       "    </tr>\n",
       "    <tr>\n",
       "      <th>1</th>\n",
       "      <td>2</td>\n",
       "      <td>Is Vaping with E-Cigarettes Safe?</td>\n",
       "    </tr>\n",
       "    <tr>\n",
       "      <th>2</th>\n",
       "      <td>3</td>\n",
       "      <td>Should Insider Trading Be Allowed?</td>\n",
       "    </tr>\n",
       "    <tr>\n",
       "      <th>3</th>\n",
       "      <td>4</td>\n",
       "      <td>Should Corporal Punishment Be Used in Schools?</td>\n",
       "    </tr>\n",
       "    <tr>\n",
       "      <th>4</th>\n",
       "      <td>5</td>\n",
       "      <td>Should Social Security Be Privatized?</td>\n",
       "    </tr>\n",
       "    <tr>\n",
       "      <th>5</th>\n",
       "      <td>6</td>\n",
       "      <td>Is a College Education Worth It?</td>\n",
       "    </tr>\n",
       "    <tr>\n",
       "      <th>6</th>\n",
       "      <td>7</td>\n",
       "      <td>Should Felons Who Have Completed Their Sentenc...</td>\n",
       "    </tr>\n",
       "    <tr>\n",
       "      <th>7</th>\n",
       "      <td>8</td>\n",
       "      <td>Should Abortion Be Legal?</td>\n",
       "    </tr>\n",
       "    <tr>\n",
       "      <th>8</th>\n",
       "      <td>9</td>\n",
       "      <td>Should Students Have to Wear School Uniforms?</td>\n",
       "    </tr>\n",
       "    <tr>\n",
       "      <th>9</th>\n",
       "      <td>10</td>\n",
       "      <td>Should Any Vaccines Be Required for Children?</td>\n",
       "    </tr>\n",
       "    <tr>\n",
       "      <th>10</th>\n",
       "      <td>11</td>\n",
       "      <td>Should Performance Enhancing Drugs Be Accepted...</td>\n",
       "    </tr>\n",
       "    <tr>\n",
       "      <th>11</th>\n",
       "      <td>12</td>\n",
       "      <td>Should birth control pills be available over t...</td>\n",
       "    </tr>\n",
       "    <tr>\n",
       "      <th>12</th>\n",
       "      <td>13</td>\n",
       "      <td>Can Alternative Energy Effectively Replace Fos...</td>\n",
       "    </tr>\n",
       "    <tr>\n",
       "      <th>13</th>\n",
       "      <td>14</td>\n",
       "      <td>Is Sexual Orientation Determined at Birth?</td>\n",
       "    </tr>\n",
       "    <tr>\n",
       "      <th>14</th>\n",
       "      <td>15</td>\n",
       "      <td>Should Animals Be Used for Scientific or Comme...</td>\n",
       "    </tr>\n",
       "    <tr>\n",
       "      <th>15</th>\n",
       "      <td>16</td>\n",
       "      <td>Should Prescription Drugs Be Advertised Direct...</td>\n",
       "    </tr>\n",
       "    <tr>\n",
       "      <th>16</th>\n",
       "      <td>17</td>\n",
       "      <td>Should Recreational Marijuana Be Legal?</td>\n",
       "    </tr>\n",
       "    <tr>\n",
       "      <th>17</th>\n",
       "      <td>18</td>\n",
       "      <td>Should Churches Remain Tax-Exempt?</td>\n",
       "    </tr>\n",
       "    <tr>\n",
       "      <th>18</th>\n",
       "      <td>19</td>\n",
       "      <td>Should Gay Marriage Be Legal?</td>\n",
       "    </tr>\n",
       "    <tr>\n",
       "      <th>19</th>\n",
       "      <td>20</td>\n",
       "      <td>Is Drinking Milk Healthy for Humans?</td>\n",
       "    </tr>\n",
       "    <tr>\n",
       "      <th>20</th>\n",
       "      <td>21</td>\n",
       "      <td>Is Human Activity Primarily Responsible for Gl...</td>\n",
       "    </tr>\n",
       "    <tr>\n",
       "      <th>21</th>\n",
       "      <td>22</td>\n",
       "      <td>Is a Two-State Solution an Acceptable Solution...</td>\n",
       "    </tr>\n",
       "    <tr>\n",
       "      <th>22</th>\n",
       "      <td>23</td>\n",
       "      <td>Should Euthanasia or Physician-Assisted Suicid...</td>\n",
       "    </tr>\n",
       "    <tr>\n",
       "      <th>23</th>\n",
       "      <td>24</td>\n",
       "      <td>Does Lowering the Federal Corporate Income Tax...</td>\n",
       "    </tr>\n",
       "    <tr>\n",
       "      <th>24</th>\n",
       "      <td>25</td>\n",
       "      <td>Should Tablets Replace Textbooks in Schools?</td>\n",
       "    </tr>\n",
       "    <tr>\n",
       "      <th>25</th>\n",
       "      <td>26</td>\n",
       "      <td>Do Standardized Tests Improve Education?</td>\n",
       "    </tr>\n",
       "    <tr>\n",
       "      <th>26</th>\n",
       "      <td>27</td>\n",
       "      <td>Should More Gun Control Laws Be Enacted?</td>\n",
       "    </tr>\n",
       "    <tr>\n",
       "      <th>27</th>\n",
       "      <td>28</td>\n",
       "      <td>Should Prostitution Be Legal?</td>\n",
       "    </tr>\n",
       "    <tr>\n",
       "      <th>28</th>\n",
       "      <td>29</td>\n",
       "      <td>Should the Government Allow Illegal Immigrants...</td>\n",
       "    </tr>\n",
       "    <tr>\n",
       "      <th>29</th>\n",
       "      <td>30</td>\n",
       "      <td>Should Adults Have the Right to Carry a Concea...</td>\n",
       "    </tr>\n",
       "    <tr>\n",
       "      <th>30</th>\n",
       "      <td>31</td>\n",
       "      <td>Is Obesity a Disease?</td>\n",
       "    </tr>\n",
       "    <tr>\n",
       "      <th>31</th>\n",
       "      <td>32</td>\n",
       "      <td>Do Electronic Voting Machines Improve the Voti...</td>\n",
       "    </tr>\n",
       "    <tr>\n",
       "      <th>32</th>\n",
       "      <td>33</td>\n",
       "      <td>Should People Become Vegetarian?</td>\n",
       "    </tr>\n",
       "    <tr>\n",
       "      <th>33</th>\n",
       "      <td>34</td>\n",
       "      <td>Are Social Networking Sites Good for Our Society?</td>\n",
       "    </tr>\n",
       "    <tr>\n",
       "      <th>34</th>\n",
       "      <td>35</td>\n",
       "      <td>Do Violent Video Games Contribute to Youth Vio...</td>\n",
       "    </tr>\n",
       "    <tr>\n",
       "      <th>35</th>\n",
       "      <td>36</td>\n",
       "      <td>Is Golf a Sport?</td>\n",
       "    </tr>\n",
       "    <tr>\n",
       "      <th>36</th>\n",
       "      <td>37</td>\n",
       "      <td>Is Cell Phone Radiation Safe?</td>\n",
       "    </tr>\n",
       "    <tr>\n",
       "      <th>37</th>\n",
       "      <td>38</td>\n",
       "      <td>Should Marijuana Be a Medical Option?</td>\n",
       "    </tr>\n",
       "    <tr>\n",
       "      <th>38</th>\n",
       "      <td>39</td>\n",
       "      <td>Should the Federal Minimum Wage Be Increased?</td>\n",
       "    </tr>\n",
       "    <tr>\n",
       "      <th>39</th>\n",
       "      <td>40</td>\n",
       "      <td>Should the Death Penalty Be Allowed?</td>\n",
       "    </tr>\n",
       "    <tr>\n",
       "      <th>40</th>\n",
       "      <td>41</td>\n",
       "      <td>Should Student Loan Debt Be Easier to Discharg...</td>\n",
       "    </tr>\n",
       "    <tr>\n",
       "      <th>41</th>\n",
       "      <td>42</td>\n",
       "      <td>Should Fighting Be Allowed in Hockey?</td>\n",
       "    </tr>\n",
       "    <tr>\n",
       "      <th>42</th>\n",
       "      <td>43</td>\n",
       "      <td>Should Bottled Water Be Banned?</td>\n",
       "    </tr>\n",
       "    <tr>\n",
       "      <th>43</th>\n",
       "      <td>44</td>\n",
       "      <td>Should Election Day be a National Holiday?</td>\n",
       "    </tr>\n",
       "    <tr>\n",
       "      <th>44</th>\n",
       "      <td>45</td>\n",
       "      <td>Should the Penny Stay in Circulation?</td>\n",
       "    </tr>\n",
       "    <tr>\n",
       "      <th>45</th>\n",
       "      <td>46</td>\n",
       "      <td>Should Net Neutrality Be Restored?</td>\n",
       "    </tr>\n",
       "    <tr>\n",
       "      <th>46</th>\n",
       "      <td>47</td>\n",
       "      <td>Is Homework Beneficial?</td>\n",
       "    </tr>\n",
       "    <tr>\n",
       "      <th>47</th>\n",
       "      <td>48</td>\n",
       "      <td>Should the the Voting Age be Lowered?</td>\n",
       "    </tr>\n",
       "    <tr>\n",
       "      <th>48</th>\n",
       "      <td>49</td>\n",
       "      <td>Should Body Cameras be Mandatory for Police?</td>\n",
       "    </tr>\n",
       "    <tr>\n",
       "      <th>49</th>\n",
       "      <td>50</td>\n",
       "      <td>Should Everyone Get a Universal Basic Income?</td>\n",
       "    </tr>\n",
       "  </tbody>\n",
       "</table>\n",
       "</div>"
      ],
      "text/plain": [
       "    topic                                              query\n",
       "0       1                        Should Teachers Get Tenure?\n",
       "1       2                  Is Vaping with E-Cigarettes Safe?\n",
       "2       3                 Should Insider Trading Be Allowed?\n",
       "3       4     Should Corporal Punishment Be Used in Schools?\n",
       "4       5              Should Social Security Be Privatized?\n",
       "5       6                   Is a College Education Worth It?\n",
       "6       7  Should Felons Who Have Completed Their Sentenc...\n",
       "7       8                          Should Abortion Be Legal?\n",
       "8       9      Should Students Have to Wear School Uniforms?\n",
       "9      10      Should Any Vaccines Be Required for Children?\n",
       "10     11  Should Performance Enhancing Drugs Be Accepted...\n",
       "11     12  Should birth control pills be available over t...\n",
       "12     13  Can Alternative Energy Effectively Replace Fos...\n",
       "13     14         Is Sexual Orientation Determined at Birth?\n",
       "14     15  Should Animals Be Used for Scientific or Comme...\n",
       "15     16  Should Prescription Drugs Be Advertised Direct...\n",
       "16     17            Should Recreational Marijuana Be Legal?\n",
       "17     18                 Should Churches Remain Tax-Exempt?\n",
       "18     19                      Should Gay Marriage Be Legal?\n",
       "19     20               Is Drinking Milk Healthy for Humans?\n",
       "20     21  Is Human Activity Primarily Responsible for Gl...\n",
       "21     22  Is a Two-State Solution an Acceptable Solution...\n",
       "22     23  Should Euthanasia or Physician-Assisted Suicid...\n",
       "23     24  Does Lowering the Federal Corporate Income Tax...\n",
       "24     25       Should Tablets Replace Textbooks in Schools?\n",
       "25     26           Do Standardized Tests Improve Education?\n",
       "26     27           Should More Gun Control Laws Be Enacted?\n",
       "27     28                      Should Prostitution Be Legal?\n",
       "28     29  Should the Government Allow Illegal Immigrants...\n",
       "29     30  Should Adults Have the Right to Carry a Concea...\n",
       "30     31                              Is Obesity a Disease?\n",
       "31     32  Do Electronic Voting Machines Improve the Voti...\n",
       "32     33                   Should People Become Vegetarian?\n",
       "33     34  Are Social Networking Sites Good for Our Society?\n",
       "34     35  Do Violent Video Games Contribute to Youth Vio...\n",
       "35     36                                   Is Golf a Sport?\n",
       "36     37                      Is Cell Phone Radiation Safe?\n",
       "37     38              Should Marijuana Be a Medical Option?\n",
       "38     39      Should the Federal Minimum Wage Be Increased?\n",
       "39     40               Should the Death Penalty Be Allowed?\n",
       "40     41  Should Student Loan Debt Be Easier to Discharg...\n",
       "41     42              Should Fighting Be Allowed in Hockey?\n",
       "42     43                    Should Bottled Water Be Banned?\n",
       "43     44         Should Election Day be a National Holiday?\n",
       "44     45              Should the Penny Stay in Circulation?\n",
       "45     46                 Should Net Neutrality Be Restored?\n",
       "46     47                            Is Homework Beneficial?\n",
       "47     48              Should the the Voting Age be Lowered?\n",
       "48     49       Should Body Cameras be Mandatory for Police?\n",
       "49     50      Should Everyone Get a Universal Basic Income?"
      ]
     },
     "execution_count": 4,
     "metadata": {},
     "output_type": "execute_result"
    }
   ],
   "source": [
    "topics"
   ]
  },
  {
   "cell_type": "code",
   "execution_count": 5,
   "metadata": {},
   "outputs": [
    {
     "name": "stdout",
     "output_type": "stream",
     "text": [
      "Collecting spacy\n",
      "\u001b[?25l  Downloading https://files.pythonhosted.org/packages/47/13/80ad28ef7a16e2a86d16d73e28588be5f1085afd3e85e4b9b912bd700e8a/spacy-2.2.3-cp36-cp36m-manylinux1_x86_64.whl (10.4MB)\n",
      "\u001b[K     |████████████████████████████████| 10.4MB 1.4MB/s eta 0:00:01\n",
      "\u001b[?25hCollecting preshed<3.1.0,>=3.0.2\n",
      "\u001b[?25l  Downloading https://files.pythonhosted.org/packages/db/6b/e07fad36913879757c90ba03d6fb7f406f7279e11dcefc105ee562de63ea/preshed-3.0.2-cp36-cp36m-manylinux1_x86_64.whl (119kB)\n",
      "\u001b[K     |████████████████████████████████| 122kB 12.8MB/s eta 0:00:01\n",
      "\u001b[?25hCollecting catalogue<1.1.0,>=0.0.7\n",
      "  Downloading https://files.pythonhosted.org/packages/6c/f9/9a5658e2f56932e41eb264941f9a2cb7f3ce41a80cb36b2af6ab78e2f8af/catalogue-1.0.0-py2.py3-none-any.whl\n",
      "Requirement already satisfied, skipping upgrade: setuptools in /usr/local/lib/python3.6/dist-packages (from spacy) (44.0.0)\n",
      "Collecting wasabi<1.1.0,>=0.4.0\n",
      "  Downloading https://files.pythonhosted.org/packages/21/e1/e4e7b754e6be3a79c400eb766fb34924a6d278c43bb828f94233e0124a21/wasabi-0.6.0-py3-none-any.whl\n",
      "Collecting murmurhash<1.1.0,>=0.28.0\n",
      "  Downloading https://files.pythonhosted.org/packages/a6/e6/63f160a4fdf0e875d16b28f972083606d8d54f56cd30cb8929f9a1ee700e/murmurhash-1.0.2-cp36-cp36m-manylinux1_x86_64.whl\n",
      "Collecting plac<1.2.0,>=0.9.6\n",
      "  Downloading https://files.pythonhosted.org/packages/86/85/40b8f66c2dd8f4fd9f09d59b22720cffecf1331e788b8a0cab5bafb353d1/plac-1.1.3-py2.py3-none-any.whl\n",
      "Requirement already satisfied, skipping upgrade: numpy>=1.15.0 in /usr/local/lib/python3.6/dist-packages (from spacy) (1.18.1)\n",
      "Collecting srsly<1.1.0,>=0.1.0\n",
      "\u001b[?25l  Downloading https://files.pythonhosted.org/packages/4f/96/3350d3fa0cfa2b2ff341113d60b5bfe0ab8dd0e6b6b2c8b12157b4eb3000/srsly-1.0.1-cp36-cp36m-manylinux1_x86_64.whl (185kB)\n",
      "\u001b[K     |████████████████████████████████| 194kB 12.8MB/s eta 0:00:01\n",
      "\u001b[?25hCollecting thinc<7.4.0,>=7.3.0\n",
      "\u001b[?25l  Downloading https://files.pythonhosted.org/packages/07/59/6bb553bc9a5f072d3cd479fc939fea0f6f682892f1f5cff98de5c9b615bb/thinc-7.3.1-cp36-cp36m-manylinux1_x86_64.whl (2.2MB)\n",
      "\u001b[K     |████████████████████████████████| 2.2MB 12.9MB/s eta 0:00:01\n",
      "\u001b[?25hCollecting blis<0.5.0,>=0.4.0\n",
      "\u001b[?25l  Downloading https://files.pythonhosted.org/packages/41/19/f95c75562d18eb27219df3a3590b911e78d131b68466ad79fdf5847eaac4/blis-0.4.1-cp36-cp36m-manylinux1_x86_64.whl (3.7MB)\n",
      "\u001b[K     |████████████████████████████████| 3.7MB 14.4MB/s eta 0:00:01\n",
      "\u001b[?25hCollecting cymem<2.1.0,>=2.0.2\n",
      "  Downloading https://files.pythonhosted.org/packages/e7/b5/3e1714ebda8fd7c5859f9b216e381adc0a38b962f071568fd00d67e1b1ca/cymem-2.0.3-cp36-cp36m-manylinux1_x86_64.whl\n",
      "Requirement already satisfied, skipping upgrade: requests<3.0.0,>=2.13.0 in /usr/local/lib/python3.6/dist-packages (from spacy) (2.22.0)\n",
      "Requirement already satisfied, skipping upgrade: importlib-metadata>=0.20; python_version < \"3.8\" in /usr/local/lib/python3.6/dist-packages (from catalogue<1.1.0,>=0.0.7->spacy) (1.4.0)\n",
      "Requirement already satisfied, skipping upgrade: tqdm<5.0.0,>=4.10.0 in /usr/local/lib/python3.6/dist-packages (from thinc<7.4.0,>=7.3.0->spacy) (4.43.0)\n",
      "Requirement already satisfied, skipping upgrade: idna<2.9,>=2.5 in /usr/lib/python3/dist-packages (from requests<3.0.0,>=2.13.0->spacy) (2.6)\n",
      "Requirement already satisfied, skipping upgrade: urllib3!=1.25.0,!=1.25.1,<1.26,>=1.21.1 in /usr/local/lib/python3.6/dist-packages (from requests<3.0.0,>=2.13.0->spacy) (1.25.7)\n",
      "Requirement already satisfied, skipping upgrade: chardet<3.1.0,>=3.0.2 in /usr/local/lib/python3.6/dist-packages (from requests<3.0.0,>=2.13.0->spacy) (3.0.4)\n",
      "Requirement already satisfied, skipping upgrade: certifi>=2017.4.17 in /usr/local/lib/python3.6/dist-packages (from requests<3.0.0,>=2.13.0->spacy) (2019.11.28)\n",
      "Requirement already satisfied, skipping upgrade: zipp>=0.5 in /usr/local/lib/python3.6/dist-packages (from importlib-metadata>=0.20; python_version < \"3.8\"->catalogue<1.1.0,>=0.0.7->spacy) (0.6.0)\n",
      "Requirement already satisfied, skipping upgrade: more-itertools in /usr/local/lib/python3.6/dist-packages (from zipp>=0.5->importlib-metadata>=0.20; python_version < \"3.8\"->catalogue<1.1.0,>=0.0.7->spacy) (8.0.2)\n",
      "Installing collected packages: cymem, murmurhash, preshed, catalogue, wasabi, plac, srsly, blis, thinc, spacy\n",
      "Successfully installed blis-0.4.1 catalogue-1.0.0 cymem-2.0.3 murmurhash-1.0.2 plac-1.1.3 preshed-3.0.2 spacy-2.2.3 srsly-1.0.1 thinc-7.3.1 wasabi-0.6.0\n",
      "\u001b[33mWARNING: You are using pip version 19.3.1; however, version 20.0.2 is available.\n",
      "You should consider upgrading via the 'pip install --upgrade pip' command.\u001b[0m\n",
      "Collecting en_core_web_sm==2.2.5\n",
      "\u001b[?25l  Downloading https://github.com/explosion/spacy-models/releases/download/en_core_web_sm-2.2.5/en_core_web_sm-2.2.5.tar.gz (12.0MB)\n",
      "\u001b[K     |████████████████████████████████| 12.0MB 435kB/s eta 0:00:01\n",
      "\u001b[?25hRequirement already satisfied: spacy>=2.2.2 in /usr/local/lib/python3.6/dist-packages (from en_core_web_sm==2.2.5) (2.2.3)\n",
      "Requirement already satisfied: numpy>=1.15.0 in /usr/local/lib/python3.6/dist-packages (from spacy>=2.2.2->en_core_web_sm==2.2.5) (1.18.1)\n",
      "Requirement already satisfied: preshed<3.1.0,>=3.0.2 in /usr/local/lib/python3.6/dist-packages (from spacy>=2.2.2->en_core_web_sm==2.2.5) (3.0.2)\n",
      "Requirement already satisfied: blis<0.5.0,>=0.4.0 in /usr/local/lib/python3.6/dist-packages (from spacy>=2.2.2->en_core_web_sm==2.2.5) (0.4.1)\n",
      "Requirement already satisfied: wasabi<1.1.0,>=0.4.0 in /usr/local/lib/python3.6/dist-packages (from spacy>=2.2.2->en_core_web_sm==2.2.5) (0.6.0)\n",
      "Requirement already satisfied: catalogue<1.1.0,>=0.0.7 in /usr/local/lib/python3.6/dist-packages (from spacy>=2.2.2->en_core_web_sm==2.2.5) (1.0.0)\n",
      "Requirement already satisfied: setuptools in /usr/local/lib/python3.6/dist-packages (from spacy>=2.2.2->en_core_web_sm==2.2.5) (44.0.0)\n",
      "Requirement already satisfied: plac<1.2.0,>=0.9.6 in /usr/local/lib/python3.6/dist-packages (from spacy>=2.2.2->en_core_web_sm==2.2.5) (1.1.3)\n",
      "Requirement already satisfied: cymem<2.1.0,>=2.0.2 in /usr/local/lib/python3.6/dist-packages (from spacy>=2.2.2->en_core_web_sm==2.2.5) (2.0.3)\n",
      "Requirement already satisfied: requests<3.0.0,>=2.13.0 in /usr/local/lib/python3.6/dist-packages (from spacy>=2.2.2->en_core_web_sm==2.2.5) (2.22.0)\n",
      "Requirement already satisfied: murmurhash<1.1.0,>=0.28.0 in /usr/local/lib/python3.6/dist-packages (from spacy>=2.2.2->en_core_web_sm==2.2.5) (1.0.2)\n",
      "Requirement already satisfied: thinc<7.4.0,>=7.3.0 in /usr/local/lib/python3.6/dist-packages (from spacy>=2.2.2->en_core_web_sm==2.2.5) (7.3.1)\n",
      "Requirement already satisfied: srsly<1.1.0,>=0.1.0 in /usr/local/lib/python3.6/dist-packages (from spacy>=2.2.2->en_core_web_sm==2.2.5) (1.0.1)\n",
      "Requirement already satisfied: importlib-metadata>=0.20; python_version < \"3.8\" in /usr/local/lib/python3.6/dist-packages (from catalogue<1.1.0,>=0.0.7->spacy>=2.2.2->en_core_web_sm==2.2.5) (1.4.0)\n",
      "Requirement already satisfied: certifi>=2017.4.17 in /usr/local/lib/python3.6/dist-packages (from requests<3.0.0,>=2.13.0->spacy>=2.2.2->en_core_web_sm==2.2.5) (2019.11.28)\n",
      "Requirement already satisfied: chardet<3.1.0,>=3.0.2 in /usr/local/lib/python3.6/dist-packages (from requests<3.0.0,>=2.13.0->spacy>=2.2.2->en_core_web_sm==2.2.5) (3.0.4)\n",
      "Requirement already satisfied: urllib3!=1.25.0,!=1.25.1,<1.26,>=1.21.1 in /usr/local/lib/python3.6/dist-packages (from requests<3.0.0,>=2.13.0->spacy>=2.2.2->en_core_web_sm==2.2.5) (1.25.7)\n",
      "Requirement already satisfied: idna<2.9,>=2.5 in /usr/lib/python3/dist-packages (from requests<3.0.0,>=2.13.0->spacy>=2.2.2->en_core_web_sm==2.2.5) (2.6)\n",
      "Requirement already satisfied: tqdm<5.0.0,>=4.10.0 in /usr/local/lib/python3.6/dist-packages (from thinc<7.4.0,>=7.3.0->spacy>=2.2.2->en_core_web_sm==2.2.5) (4.43.0)\n",
      "Requirement already satisfied: zipp>=0.5 in /usr/local/lib/python3.6/dist-packages (from importlib-metadata>=0.20; python_version < \"3.8\"->catalogue<1.1.0,>=0.0.7->spacy>=2.2.2->en_core_web_sm==2.2.5) (0.6.0)\n",
      "Requirement already satisfied: more-itertools in /usr/local/lib/python3.6/dist-packages (from zipp>=0.5->importlib-metadata>=0.20; python_version < \"3.8\"->catalogue<1.1.0,>=0.0.7->spacy>=2.2.2->en_core_web_sm==2.2.5) (8.0.2)\n",
      "Building wheels for collected packages: en-core-web-sm\n"
     ]
    },
    {
     "name": "stdout",
     "output_type": "stream",
     "text": [
      "  Building wheel for en-core-web-sm (setup.py) ... \u001b[?25ldone\n",
      "\u001b[?25h  Created wheel for en-core-web-sm: filename=en_core_web_sm-2.2.5-cp36-none-any.whl size=12012548 sha256=611b554ef5f3e5820e710dec812daa58ddcc66c944f762b89f80c95094a3dbc3\n",
      "  Stored in directory: /tmp/pip-ephem-wheel-cache-j8e43enu/wheels/6a/47/fb/6b5a0b8906d8e8779246c67d4658fd8a544d4a03a75520197a\n",
      "Successfully built en-core-web-sm\n",
      "Installing collected packages: en-core-web-sm\n",
      "Successfully installed en-core-web-sm-2.2.5\n",
      "\u001b[33mWARNING: You are using pip version 19.3.1; however, version 20.0.2 is available.\n",
      "You should consider upgrading via the 'pip install --upgrade pip' command.\u001b[0m\n",
      "\u001b[38;5;2m✔ Download and installation successful\u001b[0m\n",
      "You can now load the model via spacy.load('en_core_web_sm')\n"
     ]
    }
   ],
   "source": [
    "!pip install -U spacy\n",
    "!python -m spacy download en_core_web_sm"
   ]
  },
  {
   "cell_type": "code",
   "execution_count": 78,
   "metadata": {},
   "outputs": [],
   "source": [
    "s1 = topics['query'][20]"
   ]
  },
  {
   "cell_type": "code",
   "execution_count": 79,
   "metadata": {},
   "outputs": [
    {
     "data": {
      "text/plain": [
       "'Is Human Activity Primarily Responsible for Global Climate Change?'"
      ]
     },
     "execution_count": 79,
     "metadata": {},
     "output_type": "execute_result"
    }
   ],
   "source": [
    "s1"
   ]
  },
  {
   "cell_type": "code",
   "execution_count": 11,
   "metadata": {},
   "outputs": [],
   "source": [
    "import en_core_web_sm\n",
    "nlp = en_core_web_sm.load()"
   ]
  },
  {
   "cell_type": "code",
   "execution_count": 12,
   "metadata": {},
   "outputs": [],
   "source": []
  },
  {
   "cell_type": "code",
   "execution_count": 80,
   "metadata": {},
   "outputs": [
    {
     "name": "stdout",
     "output_type": "stream",
     "text": [
      "Should Teachers Get Tenure?\n",
      "['VERB', 'NOUN', 'AUX', 'NOUN', 'PUNCT']\n",
      "Is Vaping with E-Cigarettes Safe?\n",
      "['AUX', 'VERB', 'ADP', 'NOUN', 'NOUN', 'NOUN', 'PROPN', 'PUNCT']\n",
      "Should Insider Trading Be Allowed?\n",
      "['VERB', 'VERB', 'NOUN', 'AUX', 'VERB', 'PUNCT']\n",
      "Should Corporal Punishment Be Used in Schools?\n",
      "['VERB', 'PROPN', 'NOUN', 'AUX', 'VERB', 'ADP', 'NOUN', 'PUNCT']\n",
      "Should Social Security Be Privatized?\n",
      "['VERB', 'PROPN', 'PROPN', 'AUX', 'VERB', 'PUNCT']\n",
      "Is a College Education Worth It?\n",
      "['AUX', 'DET', 'PROPN', 'PROPN', 'PROPN', 'PRON', 'PUNCT']\n",
      "Should Felons Who Have Completed Their Sentence Be Allowed to Vote?\n",
      "['VERB', 'PROPN', 'PRON', 'AUX', 'VERB', 'DET', 'NOUN', 'AUX', 'VERB', 'PART', 'VERB', 'PUNCT']\n",
      "Should Abortion Be Legal?\n",
      "['VERB', 'NOUN', 'AUX', 'ADJ', 'PUNCT']\n",
      "Should Students Have to Wear School Uniforms?\n",
      "['VERB', 'NOUN', 'AUX', 'PART', 'VERB', 'PROPN', 'NOUN', 'PUNCT']\n",
      "Should Any Vaccines Be Required for Children?\n",
      "['VERB', 'DET', 'NOUN', 'AUX', 'VERB', 'ADP', 'NOUN', 'PUNCT']\n",
      "Should Performance Enhancing Drugs Be Accepted in Sports?\n",
      "['VERB', 'NOUN', 'VERB', 'NOUN', 'VERB', 'VERB', 'ADP', 'NOUN', 'PUNCT']\n",
      "Should birth control pills be available over the counter?\n",
      "['VERB', 'VERB', 'NOUN', 'NOUN', 'AUX', 'ADJ', 'ADP', 'DET', 'NOUN', 'PUNCT']\n",
      "Can Alternative Energy Effectively Replace Fossil Fuels?\n",
      "['VERB', 'PROPN', 'PROPN', 'ADV', 'VERB', 'PROPN', 'PROPN', 'PUNCT']\n",
      "Is Sexual Orientation Determined at Birth?\n",
      "['AUX', 'PROPN', 'PROPN', 'VERB', 'ADP', 'NOUN', 'PUNCT']\n",
      "Should Animals Be Used for Scientific or Commercial Testing?\n",
      "['VERB', 'NOUN', 'AUX', 'VERB', 'ADP', 'PROPN', 'CCONJ', 'ADJ', 'NOUN', 'PUNCT']\n",
      "Should Prescription Drugs Be Advertised Directly to Consumers?\n",
      "['VERB', 'PROPN', 'NOUN', 'AUX', 'VERB', 'ADV', 'ADP', 'NOUN', 'PUNCT']\n",
      "Should Recreational Marijuana Be Legal?\n",
      "['VERB', 'PROPN', 'PROPN', 'AUX', 'ADJ', 'PUNCT']\n",
      "Should Churches Remain Tax-Exempt?\n",
      "['VERB', 'NOUN', 'VERB', 'NOUN', 'PUNCT', 'PROPN', 'PUNCT']\n",
      "Should Gay Marriage Be Legal?\n",
      "['VERB', 'PROPN', 'NOUN', 'AUX', 'ADJ', 'PUNCT']\n",
      "Is Drinking Milk Healthy for Humans?\n",
      "['AUX', 'VERB', 'NOUN', 'ADJ', 'ADP', 'NOUN', 'PUNCT']\n",
      "Is Human Activity Primarily Responsible for Global Climate Change?\n",
      "['AUX', 'ADJ', 'NOUN', 'ADV', 'ADJ', 'ADP', 'PROPN', 'PROPN', 'PROPN', 'PUNCT']\n",
      "Is a Two-State Solution an Acceptable Solution to the Israeli-Palestinian Conflict?\n",
      "['AUX', 'DET', 'NUM', 'PUNCT', 'PROPN', 'PROPN', 'DET', 'ADJ', 'NOUN', 'ADP', 'DET', 'ADJ', 'PUNCT', 'ADJ', 'NOUN', 'PUNCT']\n",
      "Should Euthanasia or Physician-Assisted Suicide Be Legal?\n",
      "['VERB', 'PROPN', 'CCONJ', 'PROPN', 'PUNCT', 'VERB', 'NOUN', 'AUX', 'ADJ', 'PUNCT']\n",
      "Does Lowering the Federal Corporate Income Tax Rate Create Jobs?\n",
      "['AUX', 'VERB', 'DET', 'PROPN', 'PROPN', 'PROPN', 'PROPN', 'NOUN', 'VERB', 'NOUN', 'PUNCT']\n",
      "Should Tablets Replace Textbooks in Schools?\n",
      "['VERB', 'PROPN', 'VERB', 'NOUN', 'ADP', 'NOUN', 'PUNCT']\n",
      "Do Standardized Tests Improve Education?\n",
      "['AUX', 'VERB', 'NOUN', 'VERB', 'PROPN', 'PUNCT']\n",
      "Should More Gun Control Laws Be Enacted?\n",
      "['VERB', 'PROPN', 'PROPN', 'PROPN', 'NOUN', 'AUX', 'VERB', 'PUNCT']\n",
      "Should Prostitution Be Legal?\n",
      "['VERB', 'NOUN', 'AUX', 'ADJ', 'PUNCT']\n",
      "Should the Government Allow Illegal Immigrants to Become Citizens?\n",
      "['VERB', 'DET', 'PROPN', 'PROPN', 'PROPN', 'NOUN', 'PART', 'VERB', 'NOUN', 'PUNCT']\n",
      "Should Adults Have the Right to Carry a Concealed Handgun?\n",
      "['VERB', 'NOUN', 'AUX', 'DET', 'NOUN', 'PART', 'VERB', 'DET', 'VERB', 'PROPN', 'PUNCT']\n",
      "Is Obesity a Disease?\n",
      "['AUX', 'NOUN', 'DET', 'PROPN', 'PUNCT']\n",
      "Do Electronic Voting Machines Improve the Voting Process?\n",
      "['AUX', 'ADJ', 'PROPN', 'PROPN', 'VERB', 'DET', 'NOUN', 'NOUN', 'PUNCT']\n",
      "Should People Become Vegetarian?\n",
      "['VERB', 'NOUN', 'VERB', 'ADJ', 'PUNCT']\n",
      "Are Social Networking Sites Good for Our Society?\n",
      "['AUX', 'PROPN', 'NOUN', 'NOUN', 'ADJ', 'ADP', 'DET', 'PROPN', 'PUNCT']\n",
      "Do Violent Video Games Contribute to Youth Violence?\n",
      "['AUX', 'PROPN', 'NOUN', 'PROPN', 'PROPN', 'ADP', 'PROPN', 'NOUN', 'PUNCT']\n",
      "Is Golf a Sport?\n",
      "['AUX', 'PROPN', 'DET', 'PROPN', 'PUNCT']\n",
      "Is Cell Phone Radiation Safe?\n",
      "['AUX', 'PROPN', 'PROPN', 'PROPN', 'ADJ', 'PUNCT']\n",
      "Should Marijuana Be a Medical Option?\n",
      "['VERB', 'PROPN', 'AUX', 'DET', 'PROPN', 'PROPN', 'PUNCT']\n",
      "Should the Federal Minimum Wage Be Increased?\n",
      "['VERB', 'DET', 'PROPN', 'PROPN', 'PROPN', 'AUX', 'VERB', 'PUNCT']\n",
      "Should the Death Penalty Be Allowed?\n",
      "['VERB', 'DET', 'NOUN', 'NOUN', 'AUX', 'VERB', 'PUNCT']\n",
      "Should Student Loan Debt Be Easier to Discharge in Bankruptcy?\n",
      "['VERB', 'PROPN', 'PROPN', 'NOUN', 'AUX', 'ADJ', 'PART', 'VERB', 'ADP', 'PROPN', 'PUNCT']\n",
      "Should Fighting Be Allowed in Hockey?\n",
      "['VERB', 'VERB', 'AUX', 'VERB', 'ADP', 'PROPN', 'PUNCT']\n",
      "Should Bottled Water Be Banned?\n",
      "['VERB', 'PROPN', 'PROPN', 'AUX', 'VERB', 'PUNCT']\n",
      "Should Election Day be a National Holiday?\n",
      "['VERB', 'PROPN', 'PROPN', 'AUX', 'DET', 'PROPN', 'PROPN', 'PUNCT']\n",
      "Should the Penny Stay in Circulation?\n",
      "['VERB', 'DET', 'NOUN', 'VERB', 'ADP', 'PROPN', 'PUNCT']\n",
      "Should Net Neutrality Be Restored?\n",
      "['VERB', 'VERB', 'NOUN', 'AUX', 'VERB', 'PUNCT']\n",
      "Is Homework Beneficial?\n",
      "['AUX', 'PROPN', 'PROPN', 'PUNCT']\n",
      "Should the the Voting Age be Lowered?\n",
      "['VERB', 'DET', 'DET', 'PROPN', 'NOUN', 'AUX', 'VERB', 'PUNCT']\n",
      "Should Body Cameras be Mandatory for Police?\n",
      "['VERB', 'NOUN', 'NOUN', 'AUX', 'ADJ', 'ADP', 'NOUN', 'PUNCT']\n",
      "Should Everyone Get a Universal Basic Income?\n",
      "['VERB', 'PRON', 'AUX', 'DET', 'PROPN', 'PROPN', 'PROPN', 'PUNCT']\n"
     ]
    }
   ],
   "source": [
    "s = set()\n",
    "for i, row in topics .iterrows():\n",
    "    doc = nlp(row['query'])\n",
    "    print(row['query'])\n",
    "    print([token.pos_ for token in doc])"
   ]
  },
  {
   "cell_type": "code",
   "execution_count": 29,
   "metadata": {},
   "outputs": [
    {
     "data": {
      "text/plain": [
       "{'AUX ADJ NOUN ADV ADJ ADP PROPN PROPN PROPN PUNCT',\n",
       " 'AUX ADJ PROPN PROPN VERB DET NOUN NOUN PUNCT',\n",
       " 'AUX DET NUM PUNCT PROPN PROPN DET ADJ NOUN ADP DET ADJ PUNCT ADJ NOUN PUNCT',\n",
       " 'AUX DET PROPN PROPN PROPN PRON PUNCT',\n",
       " 'AUX NOUN DET PROPN PUNCT',\n",
       " 'AUX PROPN DET PROPN PUNCT',\n",
       " 'AUX PROPN NOUN NOUN ADJ ADP DET PROPN PUNCT',\n",
       " 'AUX PROPN NOUN PROPN PROPN ADP PROPN NOUN PUNCT',\n",
       " 'AUX PROPN PROPN PROPN ADJ PUNCT',\n",
       " 'AUX PROPN PROPN PUNCT',\n",
       " 'AUX PROPN PROPN VERB ADP NOUN PUNCT',\n",
       " 'AUX VERB ADP NOUN NOUN NOUN PROPN PUNCT',\n",
       " 'AUX VERB DET PROPN PROPN PROPN PROPN NOUN VERB NOUN PUNCT',\n",
       " 'AUX VERB NOUN ADJ ADP NOUN PUNCT',\n",
       " 'AUX VERB NOUN VERB PROPN PUNCT',\n",
       " 'VERB DET DET PROPN NOUN AUX VERB PUNCT',\n",
       " 'VERB DET NOUN AUX VERB ADP NOUN PUNCT',\n",
       " 'VERB DET NOUN NOUN AUX VERB PUNCT',\n",
       " 'VERB DET NOUN VERB ADP PROPN PUNCT',\n",
       " 'VERB DET PROPN PROPN PROPN AUX VERB PUNCT',\n",
       " 'VERB DET PROPN PROPN PROPN NOUN PART VERB NOUN PUNCT',\n",
       " 'VERB NOUN AUX ADJ PUNCT',\n",
       " 'VERB NOUN AUX DET NOUN PART VERB DET VERB PROPN PUNCT',\n",
       " 'VERB NOUN AUX NOUN PUNCT',\n",
       " 'VERB NOUN AUX PART VERB PROPN NOUN PUNCT',\n",
       " 'VERB NOUN AUX VERB ADP PROPN CCONJ ADJ NOUN PUNCT',\n",
       " 'VERB NOUN NOUN AUX ADJ ADP NOUN PUNCT',\n",
       " 'VERB NOUN VERB ADJ PUNCT',\n",
       " 'VERB NOUN VERB NOUN PUNCT PROPN PUNCT',\n",
       " 'VERB NOUN VERB NOUN VERB VERB ADP NOUN PUNCT',\n",
       " 'VERB PRON AUX DET PROPN PROPN PROPN PUNCT',\n",
       " 'VERB PROPN AUX DET PROPN PROPN PUNCT',\n",
       " 'VERB PROPN CCONJ PROPN PUNCT VERB NOUN AUX ADJ PUNCT',\n",
       " 'VERB PROPN NOUN AUX ADJ PUNCT',\n",
       " 'VERB PROPN NOUN AUX VERB ADP NOUN PUNCT',\n",
       " 'VERB PROPN NOUN AUX VERB ADV ADP NOUN PUNCT',\n",
       " 'VERB PROPN PRON AUX VERB DET NOUN AUX VERB PART VERB PUNCT',\n",
       " 'VERB PROPN PROPN ADV VERB PROPN PROPN PUNCT',\n",
       " 'VERB PROPN PROPN AUX ADJ PUNCT',\n",
       " 'VERB PROPN PROPN AUX DET PROPN PROPN PUNCT',\n",
       " 'VERB PROPN PROPN AUX VERB PUNCT',\n",
       " 'VERB PROPN PROPN NOUN AUX ADJ PART VERB ADP PROPN PUNCT',\n",
       " 'VERB PROPN PROPN PROPN NOUN AUX VERB PUNCT',\n",
       " 'VERB PROPN VERB NOUN ADP NOUN PUNCT',\n",
       " 'VERB VERB AUX VERB ADP PROPN PUNCT',\n",
       " 'VERB VERB NOUN AUX VERB PUNCT',\n",
       " 'VERB VERB NOUN NOUN AUX ADJ ADP DET NOUN PUNCT'}"
      ]
     },
     "execution_count": 29,
     "metadata": {},
     "output_type": "execute_result"
    }
   ],
   "source": [
    "s"
   ]
  },
  {
   "cell_type": "code",
   "execution_count": 36,
   "metadata": {},
   "outputs": [],
   "source": [
    "doc = nlp(\"can it okay\")"
   ]
  },
  {
   "cell_type": "code",
   "execution_count": 37,
   "metadata": {},
   "outputs": [
    {
     "name": "stdout",
     "output_type": "stream",
     "text": [
      "VERB\n",
      "PRON\n",
      "ADJ\n"
     ]
    }
   ],
   "source": [
    "for token in doc:\n",
    "    print(token.pos_)"
   ]
  },
  {
   "cell_type": "code",
   "execution_count": 45,
   "metadata": {},
   "outputs": [
    {
     "data": {
      "text/plain": [
       "['_',\n",
       " '__bytes__',\n",
       " '__class__',\n",
       " '__delattr__',\n",
       " '__dir__',\n",
       " '__doc__',\n",
       " '__eq__',\n",
       " '__format__',\n",
       " '__ge__',\n",
       " '__getattribute__',\n",
       " '__getitem__',\n",
       " '__gt__',\n",
       " '__hash__',\n",
       " '__init__',\n",
       " '__init_subclass__',\n",
       " '__iter__',\n",
       " '__le__',\n",
       " '__len__',\n",
       " '__lt__',\n",
       " '__ne__',\n",
       " '__new__',\n",
       " '__pyx_vtable__',\n",
       " '__reduce__',\n",
       " '__reduce_ex__',\n",
       " '__repr__',\n",
       " '__setattr__',\n",
       " '__setstate__',\n",
       " '__sizeof__',\n",
       " '__str__',\n",
       " '__subclasshook__',\n",
       " '__unicode__',\n",
       " '_bulk_merge',\n",
       " '_py_tokens',\n",
       " '_realloc',\n",
       " '_vector',\n",
       " '_vector_norm',\n",
       " 'cats',\n",
       " 'char_span',\n",
       " 'count_by',\n",
       " 'doc',\n",
       " 'ents',\n",
       " 'extend_tensor',\n",
       " 'from_array',\n",
       " 'from_bytes',\n",
       " 'from_disk',\n",
       " 'get_extension',\n",
       " 'get_lca_matrix',\n",
       " 'has_extension',\n",
       " 'has_vector',\n",
       " 'is_nered',\n",
       " 'is_parsed',\n",
       " 'is_sentenced',\n",
       " 'is_tagged',\n",
       " 'lang',\n",
       " 'lang_',\n",
       " 'mem',\n",
       " 'merge',\n",
       " 'noun_chunks',\n",
       " 'noun_chunks_iterator',\n",
       " 'print_tree',\n",
       " 'remove_extension',\n",
       " 'retokenize',\n",
       " 'sentiment',\n",
       " 'sents',\n",
       " 'set_extension',\n",
       " 'similarity',\n",
       " 'tensor',\n",
       " 'text',\n",
       " 'text_with_ws',\n",
       " 'to_array',\n",
       " 'to_bytes',\n",
       " 'to_disk',\n",
       " 'to_json',\n",
       " 'to_utf8_array',\n",
       " 'user_data',\n",
       " 'user_hooks',\n",
       " 'user_span_hooks',\n",
       " 'user_token_hooks',\n",
       " 'vector',\n",
       " 'vector_norm',\n",
       " 'vocab']"
      ]
     },
     "execution_count": 45,
     "metadata": {},
     "output_type": "execute_result"
    }
   ],
   "source": [
    "dir(doc)"
   ]
  },
  {
   "cell_type": "code",
   "execution_count": 10,
   "metadata": {},
   "outputs": [
    {
     "ename": "ModuleNotFoundError",
     "evalue": "No module named '__main__.pplm'; '__main__' is not a package",
     "output_type": "error",
     "traceback": [
      "\u001b[0;31m---------------------------------------------------------------------------\u001b[0m",
      "\u001b[0;31mModuleNotFoundError\u001b[0m                       Traceback (most recent call last)",
      "\u001b[0;32m<ipython-input-10-043f6c52da4e>\u001b[0m in \u001b[0;36m<module>\u001b[0;34m\u001b[0m\n\u001b[0;32m----> 1\u001b[0;31m \u001b[0;32mfrom\u001b[0m \u001b[0;34m.\u001b[0m\u001b[0mpplm\u001b[0m \u001b[0;32mimport\u001b[0m \u001b[0;34m*\u001b[0m\u001b[0;34m\u001b[0m\u001b[0;34m\u001b[0m\u001b[0m\n\u001b[0m",
      "\u001b[0;31mModuleNotFoundError\u001b[0m: No module named '__main__.pplm'; '__main__' is not a package"
     ]
    }
   ],
   "source": [
    "from .pplm import *"
   ]
  },
  {
   "cell_type": "code",
   "execution_count": 7,
   "metadata": {},
   "outputs": [
    {
     "ename": "ModuleNotFoundError",
     "evalue": "No module named 'pplm_classification_head'",
     "output_type": "error",
     "traceback": [
      "\u001b[0;31m---------------------------------------------------------------------------\u001b[0m",
      "\u001b[0;31mModuleNotFoundError\u001b[0m                       Traceback (most recent call last)",
      "\u001b[0;32m<ipython-input-7-8c378394d562>\u001b[0m in \u001b[0;36m<module>\u001b[0;34m\u001b[0m\n\u001b[0;32m----> 1\u001b[0;31m \u001b[0;32mfrom\u001b[0m \u001b[0mpplm\u001b[0m\u001b[0;34m.\u001b[0m\u001b[0mrun_pplm\u001b[0m \u001b[0;32mimport\u001b[0m \u001b[0;34m*\u001b[0m\u001b[0;34m\u001b[0m\u001b[0;34m\u001b[0m\u001b[0m\n\u001b[0m",
      "\u001b[0;32m/tf/data/pplm/run_pplm.py\u001b[0m in \u001b[0;36m<module>\u001b[0;34m\u001b[0m\n\u001b[1;32m     35\u001b[0m \u001b[0;32mfrom\u001b[0m \u001b[0mtqdm\u001b[0m \u001b[0;32mimport\u001b[0m \u001b[0mtrange\u001b[0m\u001b[0;34m\u001b[0m\u001b[0;34m\u001b[0m\u001b[0m\n\u001b[1;32m     36\u001b[0m \u001b[0;34m\u001b[0m\u001b[0m\n\u001b[0;32m---> 37\u001b[0;31m \u001b[0;32mfrom\u001b[0m \u001b[0mpplm_classification_head\u001b[0m \u001b[0;32mimport\u001b[0m \u001b[0mClassificationHead\u001b[0m\u001b[0;34m\u001b[0m\u001b[0;34m\u001b[0m\u001b[0m\n\u001b[0m\u001b[1;32m     38\u001b[0m \u001b[0;32mfrom\u001b[0m \u001b[0mtransformers\u001b[0m \u001b[0;32mimport\u001b[0m \u001b[0mGPT2Tokenizer\u001b[0m\u001b[0;34m\u001b[0m\u001b[0;34m\u001b[0m\u001b[0m\n\u001b[1;32m     39\u001b[0m \u001b[0;32mfrom\u001b[0m \u001b[0mtransformers\u001b[0m\u001b[0;34m.\u001b[0m\u001b[0mfile_utils\u001b[0m \u001b[0;32mimport\u001b[0m \u001b[0mcached_path\u001b[0m\u001b[0;34m\u001b[0m\u001b[0;34m\u001b[0m\u001b[0m\n",
      "\u001b[0;31mModuleNotFoundError\u001b[0m: No module named 'pplm_classification_head'"
     ]
    }
   ],
   "source": [
    "from pplm.run_pplm import *"
   ]
  },
  {
   "cell_type": "code",
   "execution_count": null,
   "metadata": {},
   "outputs": [],
   "source": []
  }
 ],
 "metadata": {
  "kernelspec": {
   "display_name": "Python 3",
   "language": "python",
   "name": "python3"
  },
  "language_info": {
   "codemirror_mode": {
    "name": "ipython",
    "version": 3
   },
   "file_extension": ".py",
   "mimetype": "text/x-python",
   "name": "python",
   "nbconvert_exporter": "python",
   "pygments_lexer": "ipython3",
   "version": "3.6.9"
  }
 },
 "nbformat": 4,
 "nbformat_minor": 4
}
