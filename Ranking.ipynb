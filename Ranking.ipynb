{
 "cells": [
  {
   "cell_type": "code",
   "execution_count": 1,
   "metadata": {},
   "outputs": [
    {
     "data": {
      "text/html": [
       "<style>.container { width:95% !important; }</style>"
      ],
      "text/plain": [
       "<IPython.core.display.HTML object>"
      ]
     },
     "metadata": {},
     "output_type": "display_data"
    }
   ],
   "source": [
    "from IPython.core.display import display, HTML\n",
    "display(HTML(\"<style>.container { width:95% !important; }</style>\"))"
   ]
  },
  {
   "cell_type": "code",
   "execution_count": 3,
   "metadata": {},
   "outputs": [],
   "source": [
    "import tensorflow as tf\n",
    "from tensorflow import keras\n",
    "from transformers import AutoTokenizer, TFAutoModelForSequenceClassification, AutoConfig\n",
    "from sklearn.model_selection import train_test_split\n",
    "\n",
    "from tqdm.notebook import tqdm_notebook\n",
    "import tensorflow_hub as hub\n",
    "import numpy as np\n",
    "import pandas as pd\n",
    "import xml.etree.ElementTree as ET\n",
    "from sklearn.model_selection import train_test_split\n",
    "\n",
    "from elasticsearch import Elasticsearch\n",
    "from elasticsearch_dsl import Search, Q\n",
    "\n",
    "from functools import partial\n",
    "import matplotlib.pyplot as plt\n",
    "import seaborn as sns\n",
    "from pathlib import Path"
   ]
  },
  {
   "cell_type": "code",
   "execution_count": 3,
   "metadata": {},
   "outputs": [],
   "source": [
    "sns.set()"
   ]
  },
  {
   "cell_type": "code",
   "execution_count": 4,
   "metadata": {
    "scrolled": false
   },
   "outputs": [
    {
     "data": {
      "text/html": [
       "<div>\n",
       "<style scoped>\n",
       "    .dataframe tbody tr th:only-of-type {\n",
       "        vertical-align: middle;\n",
       "    }\n",
       "\n",
       "    .dataframe tbody tr th {\n",
       "        vertical-align: top;\n",
       "    }\n",
       "\n",
       "    .dataframe thead th {\n",
       "        text-align: right;\n",
       "    }\n",
       "</style>\n",
       "<table border=\"1\" class=\"dataframe\">\n",
       "  <thead>\n",
       "    <tr style=\"text-align: right;\">\n",
       "      <th></th>\n",
       "      <th>topic</th>\n",
       "      <th>query</th>\n",
       "    </tr>\n",
       "  </thead>\n",
       "  <tbody>\n",
       "    <tr>\n",
       "      <th>0</th>\n",
       "      <td>1</td>\n",
       "      <td>Should Teachers Get Tenure?</td>\n",
       "    </tr>\n",
       "    <tr>\n",
       "      <th>1</th>\n",
       "      <td>2</td>\n",
       "      <td>Is Vaping with E-Cigarettes Safe?</td>\n",
       "    </tr>\n",
       "    <tr>\n",
       "      <th>2</th>\n",
       "      <td>3</td>\n",
       "      <td>Should Insider Trading Be Allowed?</td>\n",
       "    </tr>\n",
       "    <tr>\n",
       "      <th>3</th>\n",
       "      <td>4</td>\n",
       "      <td>Should Corporal Punishment Be Used in Schools?</td>\n",
       "    </tr>\n",
       "    <tr>\n",
       "      <th>4</th>\n",
       "      <td>5</td>\n",
       "      <td>Should Social Security Be Privatized?</td>\n",
       "    </tr>\n",
       "  </tbody>\n",
       "</table>\n",
       "</div>"
      ],
      "text/plain": [
       "   topic                                           query\n",
       "0      1                     Should Teachers Get Tenure?\n",
       "1      2               Is Vaping with E-Cigarettes Safe?\n",
       "2      3              Should Insider Trading Be Allowed?\n",
       "3      4  Should Corporal Punishment Be Used in Schools?\n",
       "4      5           Should Social Security Be Privatized?"
      ]
     },
     "metadata": {},
     "output_type": "display_data"
    },
    {
     "data": {
      "text/html": [
       "<div>\n",
       "<style scoped>\n",
       "    .dataframe tbody tr th:only-of-type {\n",
       "        vertical-align: middle;\n",
       "    }\n",
       "\n",
       "    .dataframe tbody tr th {\n",
       "        vertical-align: top;\n",
       "    }\n",
       "\n",
       "    .dataframe thead th {\n",
       "        text-align: right;\n",
       "    }\n",
       "</style>\n",
       "<table border=\"1\" class=\"dataframe\">\n",
       "  <thead>\n",
       "    <tr style=\"text-align: right;\">\n",
       "      <th></th>\n",
       "      <th>index</th>\n",
       "      <th>id</th>\n",
       "      <th>query</th>\n",
       "      <th>text</th>\n",
       "      <th>conclusion</th>\n",
       "      <th>relevance</th>\n",
       "      <th>relevance_binary</th>\n",
       "    </tr>\n",
       "  </thead>\n",
       "  <tbody>\n",
       "    <tr>\n",
       "      <th>0</th>\n",
       "      <td>353</td>\n",
       "      <td>d267a5af-2019-04-18T18:07:23Z-00009-000</td>\n",
       "      <td>Should Marijuana Be a Medical Option?</td>\n",
       "      <td>Marijuana is a major concern to the United Sta...</td>\n",
       "      <td>Medical Marijuana</td>\n",
       "      <td>3</td>\n",
       "      <td>1</td>\n",
       "    </tr>\n",
       "    <tr>\n",
       "      <th>1</th>\n",
       "      <td>864</td>\n",
       "      <td>7839a8e-2019-04-18T13:02:10Z-00000-000</td>\n",
       "      <td>Is Sexual Orientation Determined at Birth?</td>\n",
       "      <td>Why did you accept my debate if you agreed wit...</td>\n",
       "      <td>Sexual Orientation is a choice.</td>\n",
       "      <td>-2</td>\n",
       "      <td>0</td>\n",
       "    </tr>\n",
       "    <tr>\n",
       "      <th>2</th>\n",
       "      <td>1312</td>\n",
       "      <td>e100392e-2019-04-18T19:19:21Z-00000-000</td>\n",
       "      <td>Do Standardized Tests Improve Education?</td>\n",
       "      <td>You don't it, you have to provide PROOF you di...</td>\n",
       "      <td>Cannabis Sativa Enhances my Life</td>\n",
       "      <td>-2</td>\n",
       "      <td>0</td>\n",
       "    </tr>\n",
       "    <tr>\n",
       "      <th>3</th>\n",
       "      <td>192</td>\n",
       "      <td>5339b784-2019-04-18T15:45:56Z-00005-000</td>\n",
       "      <td>Should the Federal Minimum Wage Be Increased?</td>\n",
       "      <td>I accept this challenge and negate the resolut...</td>\n",
       "      <td>Resolved: Minimum wages in the United States s...</td>\n",
       "      <td>2</td>\n",
       "      <td>1</td>\n",
       "    </tr>\n",
       "    <tr>\n",
       "      <th>4</th>\n",
       "      <td>782</td>\n",
       "      <td>61bcba6c-2019-04-18T15:04:19Z-00004-000</td>\n",
       "      <td>Should Animals Be Used for Scientific or Comme...</td>\n",
       "      <td>Well, first of all, thanks for accepting.-----...</td>\n",
       "      <td>Animal Testing</td>\n",
       "      <td>3</td>\n",
       "      <td>1</td>\n",
       "    </tr>\n",
       "  </tbody>\n",
       "</table>\n",
       "</div>"
      ],
      "text/plain": [
       "   index                                       id  \\\n",
       "0    353  d267a5af-2019-04-18T18:07:23Z-00009-000   \n",
       "1    864   7839a8e-2019-04-18T13:02:10Z-00000-000   \n",
       "2   1312  e100392e-2019-04-18T19:19:21Z-00000-000   \n",
       "3    192  5339b784-2019-04-18T15:45:56Z-00005-000   \n",
       "4    782  61bcba6c-2019-04-18T15:04:19Z-00004-000   \n",
       "\n",
       "                                               query  \\\n",
       "0              Should Marijuana Be a Medical Option?   \n",
       "1         Is Sexual Orientation Determined at Birth?   \n",
       "2           Do Standardized Tests Improve Education?   \n",
       "3      Should the Federal Minimum Wage Be Increased?   \n",
       "4  Should Animals Be Used for Scientific or Comme...   \n",
       "\n",
       "                                                text  \\\n",
       "0  Marijuana is a major concern to the United Sta...   \n",
       "1  Why did you accept my debate if you agreed wit...   \n",
       "2  You don't it, you have to provide PROOF you di...   \n",
       "3  I accept this challenge and negate the resolut...   \n",
       "4  Well, first of all, thanks for accepting.-----...   \n",
       "\n",
       "                                          conclusion  relevance  \\\n",
       "0                                  Medical Marijuana          3   \n",
       "1                    Sexual Orientation is a choice.         -2   \n",
       "2                   Cannabis Sativa Enhances my Life         -2   \n",
       "3  Resolved: Minimum wages in the United States s...          2   \n",
       "4                                     Animal Testing          3   \n",
       "\n",
       "   relevance_binary  \n",
       "0                 1  \n",
       "1                 0  \n",
       "2                 0  \n",
       "3                 1  \n",
       "4                 1  "
      ]
     },
     "metadata": {},
     "output_type": "display_data"
    },
    {
     "name": "stdout",
     "output_type": "stream",
     "text": [
      "CPU times: user 1.01 s, sys: 480 ms, total: 1.49 s\n",
      "Wall time: 1.49 s\n"
     ]
    }
   ],
   "source": [
    "%%time\n",
    "judgments = pd.read_csv('Data/tira-qrels', delim_whitespace=True, names=['topic','iteration','id','relevance'])\n",
    "arguments = pd.read_pickle('Data/dataset.pkl')\n",
    "\n",
    "tree = ET.parse('Data/topics-automatic-runs-task-1.xml')\n",
    "root = tree.getroot()\n",
    "\n",
    "topics = []\n",
    "for child in root:\n",
    "    d = {'topic':int(child[0].text), 'query':child[1].text}\n",
    "    topics.append(d)\n",
    "topics = pd.DataFrame(topics)\n",
    "\n",
    "relevance = judgments.merge(topics)\n",
    "relevance['relevance_binary'] = (relevance['relevance'] != -2).astype(int)\n",
    "relevance = relevance.merge(arguments[['id', 'text', 'conclusion']])\n",
    "relevance = relevance[['id', 'query', 'text', 'conclusion', 'relevance','relevance_binary']]\n",
    "relevance = relevance.sample(frac=1, random_state=42)\n",
    "relevance.reset_index(inplace=True)\n",
    "display(topics[:5])\n",
    "display(relevance[:5])"
   ]
  },
  {
   "cell_type": "markdown",
   "metadata": {},
   "source": [
    "# With Huggingface"
   ]
  },
  {
   "cell_type": "code",
   "execution_count": 5,
   "metadata": {},
   "outputs": [
    {
     "data": {
      "application/vnd.jupyter.widget-view+json": {
       "model_id": "056ab9b660d543dda9f64fe05c3b71cb",
       "version_major": 2,
       "version_minor": 0
      },
      "text/plain": [
       "HBox(children=(FloatProgress(value=0.0, description='Downloading', max=546.0, style=ProgressStyle(description_…"
      ]
     },
     "metadata": {},
     "output_type": "display_data"
    },
    {
     "name": "stdout",
     "output_type": "stream",
     "text": [
      "\n"
     ]
    },
    {
     "data": {
      "application/vnd.jupyter.widget-view+json": {
       "model_id": "97747631bffd42699d9d9805af67218d",
       "version_major": 2,
       "version_minor": 0
      },
      "text/plain": [
       "HBox(children=(FloatProgress(value=0.0, description='Downloading', max=231508.0, style=ProgressStyle(descripti…"
      ]
     },
     "metadata": {},
     "output_type": "display_data"
    },
    {
     "name": "stdout",
     "output_type": "stream",
     "text": [
      "\n"
     ]
    }
   ],
   "source": [
    "MODEL_TO_USE = \"distilbert-base-uncased\"\n",
    "tokenizer = AutoTokenizer.from_pretrained(MODEL_TO_USE, use_fast=True)"
   ]
  },
  {
   "cell_type": "code",
   "execution_count": 6,
   "metadata": {},
   "outputs": [
    {
     "data": {
      "application/vnd.jupyter.widget-view+json": {
       "model_id": "7d9cfba7bbf44f70a23a4f4bb10703df",
       "version_major": 2,
       "version_minor": 0
      },
      "text/plain": [
       "HBox(children=(FloatProgress(value=0.0, max=1.0), HTML(value='')))"
      ]
     },
     "metadata": {},
     "output_type": "display_data"
    },
    {
     "name": "stdout",
     "output_type": "stream",
     "text": [
      "\n",
      "CPU times: user 2.64 s, sys: 387 ms, total: 3.02 s\n",
      "Wall time: 792 ms\n"
     ]
    },
    {
     "data": {
      "text/html": [
       "<div>\n",
       "<style scoped>\n",
       "    .dataframe tbody tr th:only-of-type {\n",
       "        vertical-align: middle;\n",
       "    }\n",
       "\n",
       "    .dataframe tbody tr th {\n",
       "        vertical-align: top;\n",
       "    }\n",
       "\n",
       "    .dataframe thead th {\n",
       "        text-align: right;\n",
       "    }\n",
       "</style>\n",
       "<table border=\"1\" class=\"dataframe\">\n",
       "  <thead>\n",
       "    <tr style=\"text-align: right;\">\n",
       "      <th></th>\n",
       "      <th>input_ids</th>\n",
       "      <th>attention_mask</th>\n",
       "      <th>id</th>\n",
       "      <th>old_index</th>\n",
       "      <th>relevance_score</th>\n",
       "      <th>binary_score</th>\n",
       "    </tr>\n",
       "  </thead>\n",
       "  <tbody>\n",
       "    <tr>\n",
       "      <th>0</th>\n",
       "      <td>[101, 2323, 16204, 2022, 1037, 2966, 5724, 102...</td>\n",
       "      <td>[1, 1, 1, 1, 1, 1, 1, 1, 1, 1, 1, 1, 1, 1, 1, ...</td>\n",
       "      <td>d267a5af-2019-04-18T18:07:23Z-00009-000</td>\n",
       "      <td>0</td>\n",
       "      <td>3</td>\n",
       "      <td>1</td>\n",
       "    </tr>\n",
       "    <tr>\n",
       "      <th>1</th>\n",
       "      <td>[101, 2003, 4424, 10296, 4340, 2012, 4182, 102...</td>\n",
       "      <td>[1, 1, 1, 1, 1, 1, 1, 1, 1, 1, 1, 1, 1, 1, 1, ...</td>\n",
       "      <td>7839a8e-2019-04-18T13:02:10Z-00000-000</td>\n",
       "      <td>1</td>\n",
       "      <td>-2</td>\n",
       "      <td>0</td>\n",
       "    </tr>\n",
       "    <tr>\n",
       "      <th>2</th>\n",
       "      <td>[101, 2079, 16367, 5852, 5335, 2495, 1029, 102...</td>\n",
       "      <td>[1, 1, 1, 1, 1, 1, 1, 1, 1, 1, 1, 1, 1, 1, 1, ...</td>\n",
       "      <td>e100392e-2019-04-18T19:19:21Z-00000-000</td>\n",
       "      <td>2</td>\n",
       "      <td>-2</td>\n",
       "      <td>0</td>\n",
       "    </tr>\n",
       "  </tbody>\n",
       "</table>\n",
       "</div>"
      ],
      "text/plain": [
       "                                           input_ids  \\\n",
       "0  [101, 2323, 16204, 2022, 1037, 2966, 5724, 102...   \n",
       "1  [101, 2003, 4424, 10296, 4340, 2012, 4182, 102...   \n",
       "2  [101, 2079, 16367, 5852, 5335, 2495, 1029, 102...   \n",
       "\n",
       "                                      attention_mask  \\\n",
       "0  [1, 1, 1, 1, 1, 1, 1, 1, 1, 1, 1, 1, 1, 1, 1, ...   \n",
       "1  [1, 1, 1, 1, 1, 1, 1, 1, 1, 1, 1, 1, 1, 1, 1, ...   \n",
       "2  [1, 1, 1, 1, 1, 1, 1, 1, 1, 1, 1, 1, 1, 1, 1, ...   \n",
       "\n",
       "                                        id  old_index  relevance_score  \\\n",
       "0  d267a5af-2019-04-18T18:07:23Z-00009-000          0                3   \n",
       "1   7839a8e-2019-04-18T13:02:10Z-00000-000          1               -2   \n",
       "2  e100392e-2019-04-18T19:19:21Z-00000-000          2               -2   \n",
       "\n",
       "   binary_score  \n",
       "0             1  \n",
       "1             0  \n",
       "2             0  "
      ]
     },
     "execution_count": 6,
     "metadata": {},
     "output_type": "execute_result"
    }
   ],
   "source": [
    "%%time\n",
    "tokenized = []\n",
    "for chunk in tqdm_notebook(np.array_split(relevance, 1), total=1):\n",
    "    tokenized_chunk = tokenizer.batch_encode_plus(list(zip(list(chunk['query'].values), list(chunk['text'].values))), max_length=tokenizer.max_len, pad_to_max_length=True, return_overflowing_tokens=True)\n",
    "    tokenized_chunk.pop('token_type_ids')\n",
    "\n",
    "    overflow_index = tokenized_chunk.pop('overflow_to_sample_mapping')\n",
    "\n",
    "    # Repeating indices are included as lists of the corresponding index eg: [0,1, [2,2,2,2], [3,3]...]\n",
    "    overflow_index = np.hstack(overflow_index)\n",
    "    text_ids = chunk['id'].values\n",
    "    text_ids = text_ids[overflow_index]\n",
    "    \n",
    "    old_index = chunk.index.to_series().values\n",
    "    old_index = old_index[overflow_index]\n",
    "    \n",
    "    relevance_score = chunk['relevance'].values\n",
    "    relevance_score = relevance_score[overflow_index]\n",
    "    \n",
    "    binary_score = chunk['relevance_binary'].values\n",
    "    binary_score = binary_score[overflow_index]\n",
    "\n",
    "    df = pd.DataFrame(tokenized_chunk)\n",
    "    df[['input_ids', 'attention_mask']] = df[['input_ids', 'attention_mask']].applymap(np.array)\n",
    "    df['id'] = text_ids\n",
    "    df['old_index'] = old_index\n",
    "    df['relevance_score'] = relevance_score\n",
    "    df['binary_score'] = binary_score\n",
    "    tokenized.append(df)\n",
    "tokenized = pd.concat(tokenized)\n",
    "tokenized.reset_index(inplace=True, drop=True)\n",
    "tokenized[:3]"
   ]
  },
  {
   "cell_type": "code",
   "execution_count": 7,
   "metadata": {},
   "outputs": [],
   "source": [
    "tokenized_train, tokenized_valid = train_test_split(tokenized, shuffle=False, random_state=42, train_size=0.85)"
   ]
  },
  {
   "cell_type": "code",
   "execution_count": 8,
   "metadata": {},
   "outputs": [
    {
     "data": {
      "application/vnd.jupyter.widget-view+json": {
       "model_id": "ab3844851c884fc0a15fe5fe5e42ca14",
       "version_major": 2,
       "version_minor": 0
      },
      "text/plain": [
       "HBox(children=(FloatProgress(value=0.0, description='Downloading', max=363423424.0, style=ProgressStyle(descri…"
      ]
     },
     "metadata": {},
     "output_type": "display_data"
    },
    {
     "name": "stdout",
     "output_type": "stream",
     "text": [
      "\n"
     ]
    }
   ],
   "source": [
    "config = AutoConfig.from_pretrained(MODEL_TO_USE)\n",
    "config.num_labels=2\n",
    "seq_model = TFAutoModelForSequenceClassification.from_pretrained(MODEL_TO_USE, config=config)"
   ]
  },
  {
   "cell_type": "code",
   "execution_count": 9,
   "metadata": {},
   "outputs": [],
   "source": [
    "i_train = np.stack(tokenized_train['input_ids'])\n",
    "m_train = np.stack(tokenized_train['attention_mask'])\n",
    "relevance_train = np.stack(tokenized_train['relevance_score'].values)\n",
    "binary_train = np.stack(tokenized_train['binary_score'].values)\n",
    "\n",
    "i_valid = np.stack(tokenized_valid['input_ids'])\n",
    "m_valid = np.stack(tokenized_valid['attention_mask'])\n",
    "relevance_valid = np.stack(tokenized_valid['relevance_score'].values)\n",
    "binary_valid = np.stack(tokenized_valid['binary_score'].values)"
   ]
  },
  {
   "cell_type": "markdown",
   "metadata": {},
   "source": [
    "## Define a multiple input - multiple output keras neural network using the functional API, with a huggingface sequence classifier with two outputs"
   ]
  },
  {
   "cell_type": "code",
   "execution_count": 16,
   "metadata": {},
   "outputs": [],
   "source": [
    "keras.backend.clear_session()\n",
    "\n",
    "input_ids = keras.layers.Input(shape=[512], name=\"input_ids\", dtype=tf.int64)\n",
    "input_masks = keras.layers.Input(shape=[512], name=\"masks\", dtype=tf.int64)\n",
    "seq_model = TFAutoModelForSequenceClassification.from_pretrained(MODEL_TO_USE, config=config)\n",
    "two_outputs = seq_model(input_ids, attention_mask=input_masks, training=True)[0]\n",
    "output_relevance = keras.layers.Lambda(lambda x: x[:,0], name=\"relevance_regressor\")(two_outputs)\n",
    "output_binary = keras.layers.Lambda(lambda x: x[:,1])(two_outputs)\n",
    "output_binary = keras.layers.Activation('sigmoid', name=\"binary_relevance_classifier\")(output_binary)\n",
    "model = keras.Model(inputs=[input_ids, input_masks], outputs=[output_relevance, output_binary])\n",
    "\n",
    "\n"
   ]
  },
  {
   "cell_type": "code",
   "execution_count": 27,
   "metadata": {},
   "outputs": [],
   "source": [
    "model.compile(loss=[\"mse\", keras.losses.BinaryCrossentropy(from_logits=True)], loss_weights=[0.95, 0.05], optimizer=keras.optimizers.Adam(learning_rate=3e-5))\n",
    "callback_list = [keras.callbacks.ReduceLROnPlateau(monitor='val_loss', factor=0.1, patience=10)]"
   ]
  },
  {
   "cell_type": "code",
   "execution_count": 28,
   "metadata": {},
   "outputs": [
    {
     "name": "stdout",
     "output_type": "stream",
     "text": [
      "Train on 1218 samples, validate on 216 samples\n",
      "Epoch 1/10\n",
      "1218/1218 [==============================] - 34s 28ms/sample - loss: 0.9262 - relevance_regressor_loss: 0.9402 - binary_relevance_classifier_loss: 0.4760 - val_loss: 2.6160 - val_relevance_regressor_loss: 2.7018 - val_binary_relevance_classifier_loss: 0.4951\n",
      "Epoch 2/10\n",
      "1218/1218 [==============================] - 28s 23ms/sample - loss: 0.8137 - relevance_regressor_loss: 0.8237 - binary_relevance_classifier_loss: 0.4675 - val_loss: 2.8858 - val_relevance_regressor_loss: 3.0372 - val_binary_relevance_classifier_loss: 0.4908\n",
      "Epoch 3/10\n",
      "1218/1218 [==============================] - 29s 23ms/sample - loss: 0.5391 - relevance_regressor_loss: 0.5380 - binary_relevance_classifier_loss: 0.4483 - val_loss: 2.6934 - val_relevance_regressor_loss: 2.8648 - val_binary_relevance_classifier_loss: 0.4812\n",
      "Epoch 4/10\n",
      "1218/1218 [==============================] - 29s 24ms/sample - loss: 0.5088 - relevance_regressor_loss: 0.5143 - binary_relevance_classifier_loss: 0.4409 - val_loss: 2.6646 - val_relevance_regressor_loss: 2.7523 - val_binary_relevance_classifier_loss: 0.4848\n",
      "Epoch 5/10\n",
      "1218/1218 [==============================] - 29s 24ms/sample - loss: 0.3425 - relevance_regressor_loss: 0.3348 - binary_relevance_classifier_loss: 0.4326 - val_loss: 2.7445 - val_relevance_regressor_loss: 2.9010 - val_binary_relevance_classifier_loss: 0.4832\n",
      "Epoch 6/10\n",
      "1218/1218 [==============================] - 29s 24ms/sample - loss: 0.2251 - relevance_regressor_loss: 0.2157 - binary_relevance_classifier_loss: 0.4263 - val_loss: 2.8833 - val_relevance_regressor_loss: 3.0029 - val_binary_relevance_classifier_loss: 0.4786\n",
      "Epoch 7/10\n",
      "1218/1218 [==============================] - 29s 24ms/sample - loss: 0.1767 - relevance_regressor_loss: 0.1622 - binary_relevance_classifier_loss: 0.4196 - val_loss: 2.9660 - val_relevance_regressor_loss: 3.0749 - val_binary_relevance_classifier_loss: 0.4779\n",
      "Epoch 8/10\n",
      "1218/1218 [==============================] - 29s 24ms/sample - loss: 0.1382 - relevance_regressor_loss: 0.1230 - binary_relevance_classifier_loss: 0.4134 - val_loss: 2.9062 - val_relevance_regressor_loss: 3.0405 - val_binary_relevance_classifier_loss: 0.4804\n",
      "Epoch 9/10\n",
      "1218/1218 [==============================] - 29s 24ms/sample - loss: 0.1232 - relevance_regressor_loss: 0.1069 - binary_relevance_classifier_loss: 0.4128 - val_loss: 2.8990 - val_relevance_regressor_loss: 3.0156 - val_binary_relevance_classifier_loss: 0.4753\n",
      "Epoch 10/10\n",
      "1218/1218 [==============================] - 29s 24ms/sample - loss: 0.0980 - relevance_regressor_loss: 0.0813 - binary_relevance_classifier_loss: 0.4128 - val_loss: 2.7559 - val_relevance_regressor_loss: 2.8416 - val_binary_relevance_classifier_loss: 0.4761\n"
     ]
    }
   ],
   "source": [
    "hist = model.fit([i_train, m_train], [relevance_train, binary_train], batch_size=16, epochs=10, validation_data=([i_valid, m_valid],[relevance_valid, binary_valid]), callbacks=callback_list)"
   ]
  },
  {
   "cell_type": "code",
   "execution_count": 26,
   "metadata": {},
   "outputs": [
    {
     "data": {
      "text/plain": [
       "[array([ 2.8726282, -1.4778128, -1.8138078], dtype=float32),\n",
       " array([0.88905877, 0.39731556, 0.44301707], dtype=float32)]"
      ]
     },
     "execution_count": 26,
     "metadata": {},
     "output_type": "execute_result"
    }
   ],
   "source": [
    "model.predict([i_train[:3], m_train[:3]])"
   ]
  },
  {
   "cell_type": "code",
   "execution_count": 29,
   "metadata": {},
   "outputs": [
    {
     "data": {
      "text/plain": [
       "PosixPath('Ranker/distilbert-base-uncased_for_sequence_classification/0002')"
      ]
     },
     "execution_count": 29,
     "metadata": {},
     "output_type": "execute_result"
    }
   ],
   "source": [
    "model_version = \"0002\"\n",
    "model_name = f\"{MODEL_TO_USE}_for_sequence_classification\"\n",
    "folder_name = \"Ranker\"\n",
    "model_path = Path('.') / folder_name / model_name / model_version\n",
    "model_path"
   ]
  },
  {
   "cell_type": "code",
   "execution_count": 30,
   "metadata": {},
   "outputs": [
    {
     "name": "stdout",
     "output_type": "stream",
     "text": [
      "WARNING:tensorflow:Skipping full serialization of Keras layer <tensorflow.python.keras.layers.core.Dropout object at 0x7f8f5c528a20>, because it is not built.\n",
      "WARNING:tensorflow:Skipping full serialization of Keras layer <tensorflow.python.keras.layers.core.Dropout object at 0x7f8f5c519400>, because it is not built.\n",
      "WARNING:tensorflow:Skipping full serialization of Keras layer <tensorflow.python.keras.layers.core.Dropout object at 0x7f8f5c525ac8>, because it is not built.\n",
      "WARNING:tensorflow:Skipping full serialization of Keras layer <tensorflow.python.keras.layers.core.Dropout object at 0x7f8f5a3a4668>, because it is not built.\n",
      "WARNING:tensorflow:Skipping full serialization of Keras layer <tensorflow.python.keras.layers.core.Dropout object at 0x7f8f5a393208>, because it is not built.\n",
      "WARNING:tensorflow:Skipping full serialization of Keras layer <tensorflow.python.keras.layers.core.Dropout object at 0x7f8f5a5b3d68>, because it is not built.\n",
      "INFO:tensorflow:Assets written to: Ranker/distilbert-base-uncased_for_sequence_classification/0002/assets\n"
     ]
    }
   ],
   "source": [
    "tf.saved_model.save(model, str(model_path))"
   ]
  },
  {
   "cell_type": "markdown",
   "metadata": {},
   "source": [
    "# With TF-Hub"
   ]
  },
  {
   "cell_type": "code",
   "execution_count": 5,
   "metadata": {
    "scrolled": true
   },
   "outputs": [
    {
     "name": "stderr",
     "output_type": "stream",
     "text": [
      "INFO:absl:Using /tmp/tfhub_modules to cache modules.\n",
      "INFO:absl:Downloading TF-Hub Module 'https://tfhub.dev/google/universal-sentence-encoder-qa/3'.\n",
      "INFO:absl:Downloading https://tfhub.dev/google/universal-sentence-encoder-qa/3: 180.04MB\n",
      "INFO:absl:Downloading https://tfhub.dev/google/universal-sentence-encoder-qa/3: 350.04MB\n",
      "INFO:absl:Downloading https://tfhub.dev/google/universal-sentence-encoder-qa/3: 520.04MB\n",
      "INFO:absl:Downloaded https://tfhub.dev/google/universal-sentence-encoder-qa/3, Total size: 588.94MB\n",
      "INFO:absl:Downloaded TF-Hub Module 'https://tfhub.dev/google/universal-sentence-encoder-qa/3'.\n"
     ]
    },
    {
     "name": "stdout",
     "output_type": "stream",
     "text": [
      "CPU times: user 30.6 s, sys: 5.57 s, total: 36.2 s\n",
      "Wall time: 1min 11s\n"
     ]
    }
   ],
   "source": [
    "%%time\n",
    "keras.backend.clear_session()\n",
    "\n",
    "module = hub.load('https://tfhub.dev/google/universal-sentence-encoder-qa/3')\n",
    "query_embedder = module.signatures['question_encoder']\n",
    "arg_embedder = module.signatures['response_encoder']"
   ]
  },
  {
   "cell_type": "code",
   "execution_count": 7,
   "metadata": {},
   "outputs": [],
   "source": [
    "def make_dataset_for_encoding(df, batch_size=128):\n",
    "    df = df.copy()\n",
    "    dataset = tf.data.Dataset.from_tensor_slices(dict(df[['query','text','conclusion']]))\n",
    "    dataset = dataset.batch(batch_size)\n",
    "    return dataset"
   ]
  },
  {
   "cell_type": "code",
   "execution_count": 8,
   "metadata": {},
   "outputs": [
    {
     "data": {
      "application/vnd.jupyter.widget-view+json": {
       "model_id": "40294a5fc71e4f37a2baf06c0e7e78a9",
       "version_major": 2,
       "version_minor": 0
      },
      "text/plain": [
       "HBox(children=(FloatProgress(value=0.0, max=45.0), HTML(value='')))"
      ]
     },
     "metadata": {},
     "output_type": "display_data"
    },
    {
     "name": "stdout",
     "output_type": "stream",
     "text": [
      "\n"
     ]
    }
   ],
   "source": [
    "dataset = make_dataset_for_encoding(relevance, batch_size=32)\n",
    "\n",
    "query_encodings = []\n",
    "arg_encodings = []\n",
    "dot_ps = []\n",
    "for batch in tqdm_notebook(dataset, total=tf.data.experimental.cardinality(dataset).numpy()):\n",
    "    query_encoding = query_embedder(batch['query'])\n",
    "    query_encoding = query_encoding['outputs'].numpy()\n",
    "    \n",
    "    arg_encoding = arg_embedder(input=batch['text'], context=batch['conclusion'])\n",
    "    arg_encoding = arg_encoding['outputs'].numpy()\n",
    "    \n",
    "    #Use einstein notation to perform row-by-row dot-product\n",
    "    dot_p = np.einsum('ij,ij->i',query_encoding, arg_encoding)\n",
    "    \n",
    "    query_encodings.append(query_encoding)\n",
    "    arg_encodings.append(arg_encoding)\n",
    "    dot_ps.append(dot_p)\n",
    "query_encodings = np.vstack(query_encodings)\n",
    "arg_encodings = np.vstack(arg_encodings)\n",
    "encodings = np.hstack([query_encodings, arg_encodings])\n",
    "\n",
    "#Add a column dimension to dot_ps to be able to vstack it\n",
    "dot_ps = np.vstack([item[:, np.newaxis] for item in dot_ps])"
   ]
  },
  {
   "cell_type": "markdown",
   "metadata": {},
   "source": [
    "## Create a *Wide and Deep* network to predict relevance from a query and an argument"
   ]
  },
  {
   "cell_type": "markdown",
   "metadata": {},
   "source": [
    "The wide network will use the elasticsearch LMDirichlet scores and the dot-product of the query embedding and argument embedding returned by the Universal Sentence Encoder for question-answering"
   ]
  },
  {
   "cell_type": "code",
   "execution_count": 9,
   "metadata": {},
   "outputs": [
    {
     "data": {
      "text/plain": [
       "True"
      ]
     },
     "execution_count": 9,
     "metadata": {},
     "output_type": "execute_result"
    }
   ],
   "source": [
    "es = Elasticsearch()\n",
    "es.ping()"
   ]
  },
  {
   "cell_type": "code",
   "execution_count": 68,
   "metadata": {},
   "outputs": [
    {
     "data": {
      "text/html": [
       "<div>\n",
       "<style scoped>\n",
       "    .dataframe tbody tr th:only-of-type {\n",
       "        vertical-align: middle;\n",
       "    }\n",
       "\n",
       "    .dataframe tbody tr th {\n",
       "        vertical-align: top;\n",
       "    }\n",
       "\n",
       "    .dataframe thead th {\n",
       "        text-align: right;\n",
       "    }\n",
       "</style>\n",
       "<table border=\"1\" class=\"dataframe\">\n",
       "  <thead>\n",
       "    <tr style=\"text-align: right;\">\n",
       "      <th></th>\n",
       "      <th>index</th>\n",
       "      <th>id</th>\n",
       "      <th>query</th>\n",
       "      <th>text</th>\n",
       "      <th>conclusion</th>\n",
       "      <th>relevance</th>\n",
       "      <th>relevance_binary</th>\n",
       "    </tr>\n",
       "  </thead>\n",
       "  <tbody>\n",
       "    <tr>\n",
       "      <th>0</th>\n",
       "      <td>353</td>\n",
       "      <td>d267a5af-2019-04-18T18:07:23Z-00009-000</td>\n",
       "      <td>Should Marijuana Be a Medical Option?</td>\n",
       "      <td>Marijuana is a major concern to the United Sta...</td>\n",
       "      <td>Medical Marijuana</td>\n",
       "      <td>3</td>\n",
       "      <td>1</td>\n",
       "    </tr>\n",
       "    <tr>\n",
       "      <th>1</th>\n",
       "      <td>864</td>\n",
       "      <td>7839a8e-2019-04-18T13:02:10Z-00000-000</td>\n",
       "      <td>Is Sexual Orientation Determined at Birth?</td>\n",
       "      <td>Why did you accept my debate if you agreed wit...</td>\n",
       "      <td>Sexual Orientation is a choice.</td>\n",
       "      <td>-2</td>\n",
       "      <td>0</td>\n",
       "    </tr>\n",
       "    <tr>\n",
       "      <th>2</th>\n",
       "      <td>1312</td>\n",
       "      <td>e100392e-2019-04-18T19:19:21Z-00000-000</td>\n",
       "      <td>Do Standardized Tests Improve Education?</td>\n",
       "      <td>You don't it, you have to provide PROOF you di...</td>\n",
       "      <td>Cannabis Sativa Enhances my Life</td>\n",
       "      <td>-2</td>\n",
       "      <td>0</td>\n",
       "    </tr>\n",
       "    <tr>\n",
       "      <th>3</th>\n",
       "      <td>192</td>\n",
       "      <td>5339b784-2019-04-18T15:45:56Z-00005-000</td>\n",
       "      <td>Should the Federal Minimum Wage Be Increased?</td>\n",
       "      <td>I accept this challenge and negate the resolut...</td>\n",
       "      <td>Resolved: Minimum wages in the United States s...</td>\n",
       "      <td>2</td>\n",
       "      <td>1</td>\n",
       "    </tr>\n",
       "    <tr>\n",
       "      <th>4</th>\n",
       "      <td>782</td>\n",
       "      <td>61bcba6c-2019-04-18T15:04:19Z-00004-000</td>\n",
       "      <td>Should Animals Be Used for Scientific or Comme...</td>\n",
       "      <td>Well, first of all, thanks for accepting.-----...</td>\n",
       "      <td>Animal Testing</td>\n",
       "      <td>3</td>\n",
       "      <td>1</td>\n",
       "    </tr>\n",
       "    <tr>\n",
       "      <th>...</th>\n",
       "      <td>...</td>\n",
       "      <td>...</td>\n",
       "      <td>...</td>\n",
       "      <td>...</td>\n",
       "      <td>...</td>\n",
       "      <td>...</td>\n",
       "      <td>...</td>\n",
       "    </tr>\n",
       "    <tr>\n",
       "      <th>1406</th>\n",
       "      <td>1095</td>\n",
       "      <td>36f68365-2019-04-18T15:05:04Z-00000-000</td>\n",
       "      <td>Do Electronic Voting Machines Improve the Voti...</td>\n",
       "      <td>As you can see, my opponent has failed to back...</td>\n",
       "      <td>Earth's orbit around the Sun</td>\n",
       "      <td>-2</td>\n",
       "      <td>0</td>\n",
       "    </tr>\n",
       "    <tr>\n",
       "      <th>1407</th>\n",
       "      <td>1130</td>\n",
       "      <td>2c05e9fb-2019-04-15T20:23:05Z-00005-000</td>\n",
       "      <td>Do Electronic Voting Machines Improve the Voti...</td>\n",
       "      <td>Remote electronic voting can be conducted very...</td>\n",
       "      <td>allow the use of electronic and internet votin...</td>\n",
       "      <td>-2</td>\n",
       "      <td>0</td>\n",
       "    </tr>\n",
       "    <tr>\n",
       "      <th>1408</th>\n",
       "      <td>1294</td>\n",
       "      <td>b760077b-2019-04-18T13:01:46Z-00003-000</td>\n",
       "      <td>Do Standardized Tests Improve Education?</td>\n",
       "      <td>Challenge accepted, Standardized tests should ...</td>\n",
       "      <td>Standardized Tests</td>\n",
       "      <td>3</td>\n",
       "      <td>1</td>\n",
       "    </tr>\n",
       "    <tr>\n",
       "      <th>1409</th>\n",
       "      <td>860</td>\n",
       "      <td>b9c0e12b-2019-04-18T13:51:22Z-00005-000</td>\n",
       "      <td>Is Sexual Orientation Determined at Birth?</td>\n",
       "      <td>Lol well that was a waste of a round. But I gu...</td>\n",
       "      <td>there is nothing wrong with zoosexuality/beast...</td>\n",
       "      <td>3</td>\n",
       "      <td>1</td>\n",
       "    </tr>\n",
       "    <tr>\n",
       "      <th>1410</th>\n",
       "      <td>1126</td>\n",
       "      <td>2baaf2c1-2019-04-18T18:57:49Z-00000-000</td>\n",
       "      <td>Do Electronic Voting Machines Improve the Voti...</td>\n",
       "      <td>As expected, a cowardly forfeit. Vote Con</td>\n",
       "      <td>Electronics have a positive affect on our live...</td>\n",
       "      <td>-2</td>\n",
       "      <td>0</td>\n",
       "    </tr>\n",
       "  </tbody>\n",
       "</table>\n",
       "<p>1411 rows × 7 columns</p>\n",
       "</div>"
      ],
      "text/plain": [
       "      index                                       id  \\\n",
       "0       353  d267a5af-2019-04-18T18:07:23Z-00009-000   \n",
       "1       864   7839a8e-2019-04-18T13:02:10Z-00000-000   \n",
       "2      1312  e100392e-2019-04-18T19:19:21Z-00000-000   \n",
       "3       192  5339b784-2019-04-18T15:45:56Z-00005-000   \n",
       "4       782  61bcba6c-2019-04-18T15:04:19Z-00004-000   \n",
       "...     ...                                      ...   \n",
       "1406   1095  36f68365-2019-04-18T15:05:04Z-00000-000   \n",
       "1407   1130  2c05e9fb-2019-04-15T20:23:05Z-00005-000   \n",
       "1408   1294  b760077b-2019-04-18T13:01:46Z-00003-000   \n",
       "1409    860  b9c0e12b-2019-04-18T13:51:22Z-00005-000   \n",
       "1410   1126  2baaf2c1-2019-04-18T18:57:49Z-00000-000   \n",
       "\n",
       "                                                  query  \\\n",
       "0                 Should Marijuana Be a Medical Option?   \n",
       "1            Is Sexual Orientation Determined at Birth?   \n",
       "2              Do Standardized Tests Improve Education?   \n",
       "3         Should the Federal Minimum Wage Be Increased?   \n",
       "4     Should Animals Be Used for Scientific or Comme...   \n",
       "...                                                 ...   \n",
       "1406  Do Electronic Voting Machines Improve the Voti...   \n",
       "1407  Do Electronic Voting Machines Improve the Voti...   \n",
       "1408           Do Standardized Tests Improve Education?   \n",
       "1409         Is Sexual Orientation Determined at Birth?   \n",
       "1410  Do Electronic Voting Machines Improve the Voti...   \n",
       "\n",
       "                                                   text  \\\n",
       "0     Marijuana is a major concern to the United Sta...   \n",
       "1     Why did you accept my debate if you agreed wit...   \n",
       "2     You don't it, you have to provide PROOF you di...   \n",
       "3     I accept this challenge and negate the resolut...   \n",
       "4     Well, first of all, thanks for accepting.-----...   \n",
       "...                                                 ...   \n",
       "1406  As you can see, my opponent has failed to back...   \n",
       "1407  Remote electronic voting can be conducted very...   \n",
       "1408  Challenge accepted, Standardized tests should ...   \n",
       "1409  Lol well that was a waste of a round. But I gu...   \n",
       "1410          As expected, a cowardly forfeit. Vote Con   \n",
       "\n",
       "                                             conclusion  relevance  \\\n",
       "0                                     Medical Marijuana          3   \n",
       "1                       Sexual Orientation is a choice.         -2   \n",
       "2                      Cannabis Sativa Enhances my Life         -2   \n",
       "3     Resolved: Minimum wages in the United States s...          2   \n",
       "4                                        Animal Testing          3   \n",
       "...                                                 ...        ...   \n",
       "1406                       Earth's orbit around the Sun         -2   \n",
       "1407  allow the use of electronic and internet votin...         -2   \n",
       "1408                                 Standardized Tests          3   \n",
       "1409  there is nothing wrong with zoosexuality/beast...          3   \n",
       "1410  Electronics have a positive affect on our live...         -2   \n",
       "\n",
       "      relevance_binary  \n",
       "0                    1  \n",
       "1                    0  \n",
       "2                    0  \n",
       "3                    1  \n",
       "4                    1  \n",
       "...                ...  \n",
       "1406                 0  \n",
       "1407                 0  \n",
       "1408                 1  \n",
       "1409                 1  \n",
       "1410                 0  \n",
       "\n",
       "[1411 rows x 7 columns]"
      ]
     },
     "execution_count": 68,
     "metadata": {},
     "output_type": "execute_result"
    }
   ],
   "source": [
    "relevance"
   ]
  },
  {
   "cell_type": "markdown",
   "metadata": {},
   "source": [
    "## Compute Dirichlet scores for every query-argument in the judgments"
   ]
  },
  {
   "cell_type": "code",
   "execution_count": 10,
   "metadata": {},
   "outputs": [
    {
     "name": "stdout",
     "output_type": "stream",
     "text": [
      "CPU times: user 3.24 s, sys: 126 ms, total: 3.36 s\n",
      "Wall time: 9.76 s\n"
     ]
    }
   ],
   "source": [
    "%%time\n",
    "dirichlet_scores = np.zeros(dot_ps.shape)\n",
    "for i, row in relevance.iterrows():\n",
    "    s = Search(using=es, index='arg_index')\n",
    "    s.query = Q(\"match\", text=row['query']) & Q(\"term\", _id=row['id'])\n",
    "    response = s.execute()\n",
    "    if not response.hits.total.value == 0:\n",
    "        dirichlet_scores[i,0] = response[0].meta.score"
   ]
  },
  {
   "cell_type": "code",
   "execution_count": 11,
   "metadata": {},
   "outputs": [
    {
     "data": {
      "text/plain": [
       "167"
      ]
     },
     "execution_count": 11,
     "metadata": {},
     "output_type": "execute_result"
    }
   ],
   "source": [
    "np.sum(dirichlet_scores == 0)"
   ]
  },
  {
   "cell_type": "code",
   "execution_count": 12,
   "metadata": {},
   "outputs": [
    {
     "data": {
      "text/plain": [
       "295"
      ]
     },
     "execution_count": 12,
     "metadata": {},
     "output_type": "execute_result"
    }
   ],
   "source": [
    "np.sum((relevance.relevance == -2).values)"
   ]
  },
  {
   "cell_type": "markdown",
   "metadata": {},
   "source": [
    "## Create network with the tf.keras functional API"
   ]
  },
  {
   "cell_type": "code",
   "execution_count": 13,
   "metadata": {},
   "outputs": [],
   "source": [
    "wide_i = np.hstack([dot_ps, dirichlet_scores, relevance.text.str.len().values[:, np.newaxis]])\n",
    "deep_i = encodings\n",
    "targets = relevance[[\"relevance\", \"relevance_binary\"]].values"
   ]
  },
  {
   "cell_type": "code",
   "execution_count": 14,
   "metadata": {},
   "outputs": [],
   "source": [
    "wide_i_train, wide_i_valid, deep_i_train, deep_i_valid, targets_train, targets_valid = train_test_split(wide_i, deep_i, targets, random_state=42, train_size=0.85)"
   ]
  },
  {
   "cell_type": "code",
   "execution_count": 16,
   "metadata": {},
   "outputs": [],
   "source": [
    "#From Aurelien Geron's HOML https://learning.oreilly.com/library/view/hands-on-machine-learning/9781492032632/ch11.html\n",
    "RegularizedDense = partial(keras.layers.Dense, activation=\"elu\", kernel_initializer=\"he_normal\", kernel_regularizer=keras.regularizers.l2())"
   ]
  },
  {
   "cell_type": "code",
   "execution_count": 74,
   "metadata": {},
   "outputs": [],
   "source": [
    "keras.backend.clear_session()\n",
    "\n",
    "input_wide = keras.layers.Input(shape=[3], name=\"wide\")\n",
    "input_deep = keras.layers.Input(shape=[1024], name=\"deep\")\n",
    "\n",
    "norm_input_deep = keras.layers.BatchNormalization()(input_deep)\n",
    "\n",
    "hidden1 = RegularizedDense(1024)(norm_input_deep)\n",
    "hidden1 = keras.layers.BatchNormalization()(hidden1)\n",
    "\n",
    "hidden2 = RegularizedDense(512)(hidden1)\n",
    "hidden2 = keras.layers.BatchNormalization()(hidden2)\n",
    "\n",
    "hidden3 = RegularizedDense(128)(hidden2)\n",
    "hidden3 = keras.layers.BatchNormalization()(hidden3)\n",
    "\n",
    "hidden4 = RegularizedDense(64)(hidden3)\n",
    "hidden4 = keras.layers.BatchNormalization()(hidden4)\n",
    "\n",
    "hidden5 = RegularizedDense(32)(hidden4)\n",
    "\n",
    "concat = keras.layers.concatenate([input_wide, hidden4])\n",
    "\n",
    "mix = RegularizedDense(8)(concat)\n",
    "\n",
    "output_reg = keras.layers.Dense(1, name=\"output_reg\")(mix)\n",
    "output_class = keras.layers.Dense(1, activation=\"sigmoid\", name=\"output_class\")(mix)\n",
    "output_aux = keras.layers.Dense(1, activation=\"sigmoid\", name=\"output_aux\")(hidden4)\n",
    "\n",
    "wide_and_deep = keras.Model(inputs=[input_wide, input_deep], outputs=[output_reg, output_class, output_aux])"
   ]
  },
  {
   "cell_type": "code",
   "execution_count": 75,
   "metadata": {
    "scrolled": false
   },
   "outputs": [],
   "source": [
    "wide_and_deep.compile(loss=[\"mse\", keras.losses.BinaryCrossentropy(from_logits=True), keras.losses.BinaryCrossentropy(from_logits=True)], loss_weights=[0.9, 0.08, 0.02], optimizer=\"rmsprop\")\n",
    "callbak_list = [keras.callbacks.ReduceLROnPlateau(monitor='val_loss', factor=0.4, patience=4), keras.callbacks.EarlyStopping(patience=100, restore_best_weights=True)]"
   ]
  },
  {
   "cell_type": "code",
   "execution_count": 76,
   "metadata": {},
   "outputs": [
    {
     "name": "stdout",
     "output_type": "stream",
     "text": [
      "Train on 1199 samples, validate on 212 samples\n",
      "Epoch 1/500\n",
      "1199/1199 [==============================] - 2s 2ms/sample - loss: 71.3278 - output_reg_loss: 40.3474 - output_class_loss: 0.5270 - output_aux_loss: 0.6057 - val_loss: 36.8653 - val_output_reg_loss: 3.3807 - val_output_class_loss: 0.4875 - val_output_aux_loss: 0.5533\n",
      "Epoch 2/500\n",
      "1199/1199 [==============================] - 0s 270us/sample - loss: 35.9541 - output_reg_loss: 3.3850 - output_class_loss: 0.5276 - output_aux_loss: 0.5754 - val_loss: 34.7680 - val_output_reg_loss: 3.5594 - val_output_class_loss: 0.4875 - val_output_aux_loss: 0.5430\n",
      "Epoch 3/500\n",
      "1199/1199 [==============================] - 0s 296us/sample - loss: 34.3365 - output_reg_loss: 4.7831 - output_class_loss: 0.5270 - output_aux_loss: 0.5568 - val_loss: 31.9253 - val_output_reg_loss: 4.2134 - val_output_class_loss: 0.4875 - val_output_aux_loss: 0.5383\n",
      "Epoch 4/500\n",
      "1199/1199 [==============================] - 0s 292us/sample - loss: 31.0504 - output_reg_loss: 5.7659 - output_class_loss: 0.5282 - output_aux_loss: 0.5494 - val_loss: 27.4431 - val_output_reg_loss: 4.0728 - val_output_class_loss: 0.4875 - val_output_aux_loss: 0.5362\n",
      "Epoch 5/500\n",
      "1199/1199 [==============================] - 0s 283us/sample - loss: 26.2842 - output_reg_loss: 5.0683 - output_class_loss: 0.5273 - output_aux_loss: 0.5452 - val_loss: 23.8613 - val_output_reg_loss: 4.4035 - val_output_class_loss: 0.4875 - val_output_aux_loss: 0.5270\n",
      "Epoch 6/500\n",
      "1199/1199 [==============================] - 0s 284us/sample - loss: 21.7156 - output_reg_loss: 3.6533 - output_class_loss: 0.5281 - output_aux_loss: 0.5361 - val_loss: 24.6605 - val_output_reg_loss: 9.5013 - val_output_class_loss: 0.4874 - val_output_aux_loss: 0.5183\n",
      "Epoch 7/500\n",
      "1199/1199 [==============================] - 0s 290us/sample - loss: 18.0264 - output_reg_loss: 2.9814 - output_class_loss: 0.5270 - output_aux_loss: 0.5338 - val_loss: 16.6643 - val_output_reg_loss: 3.3902 - val_output_class_loss: 0.4874 - val_output_aux_loss: 0.5140\n",
      "Epoch 8/500\n",
      "1199/1199 [==============================] - 0s 284us/sample - loss: 16.3644 - output_reg_loss: 4.3667 - output_class_loss: 0.5275 - output_aux_loss: 0.5263 - val_loss: 16.6952 - val_output_reg_loss: 6.4078 - val_output_class_loss: 0.4874 - val_output_aux_loss: 0.5124\n",
      "Epoch 9/500\n",
      "1199/1199 [==============================] - 0s 294us/sample - loss: 14.1016 - output_reg_loss: 4.1687 - output_class_loss: 0.5285 - output_aux_loss: 0.5265 - val_loss: 12.9582 - val_output_reg_loss: 4.2198 - val_output_class_loss: 0.4874 - val_output_aux_loss: 0.5077\n",
      "Epoch 10/500\n",
      "1199/1199 [==============================] - 0s 288us/sample - loss: 11.6194 - output_reg_loss: 3.3093 - output_class_loss: 0.5275 - output_aux_loss: 0.5114 - val_loss: 11.6077 - val_output_reg_loss: 4.3741 - val_output_class_loss: 0.4874 - val_output_aux_loss: 0.5016\n",
      "Epoch 11/500\n",
      "1199/1199 [==============================] - 0s 282us/sample - loss: 10.8705 - output_reg_loss: 3.9558 - output_class_loss: 0.5278 - output_aux_loss: 0.5119 - val_loss: 12.1121 - val_output_reg_loss: 6.4360 - val_output_class_loss: 0.4873 - val_output_aux_loss: 0.5002\n",
      "Epoch 12/500\n",
      "1199/1199 [==============================] - 0s 302us/sample - loss: 9.2139 - output_reg_loss: 3.3017 - output_class_loss: 0.5261 - output_aux_loss: 0.5033 - val_loss: 8.9016 - val_output_reg_loss: 3.6648 - val_output_class_loss: 0.4873 - val_output_aux_loss: 0.4949\n",
      "Epoch 13/500\n",
      "1199/1199 [==============================] - 0s 272us/sample - loss: 8.0700 - output_reg_loss: 3.0203 - output_class_loss: 0.5275 - output_aux_loss: 0.5028 - val_loss: 9.4237 - val_output_reg_loss: 5.2909 - val_output_class_loss: 0.4873 - val_output_aux_loss: 0.4959\n",
      "Epoch 14/500\n",
      "1199/1199 [==============================] - 0s 292us/sample - loss: 7.1878 - output_reg_loss: 2.7593 - output_class_loss: 0.5300 - output_aux_loss: 0.4963 - val_loss: 7.0836 - val_output_reg_loss: 3.1414 - val_output_class_loss: 0.4873 - val_output_aux_loss: 0.4899\n",
      "Epoch 15/500\n",
      "1199/1199 [==============================] - 0s 285us/sample - loss: 7.1247 - output_reg_loss: 3.3006 - output_class_loss: 0.5284 - output_aux_loss: 0.4963 - val_loss: 6.6432 - val_output_reg_loss: 3.2397 - val_output_class_loss: 0.4873 - val_output_aux_loss: 0.4872\n",
      "Epoch 16/500\n",
      "1199/1199 [==============================] - 0s 272us/sample - loss: 6.8860 - output_reg_loss: 3.6862 - output_class_loss: 0.5281 - output_aux_loss: 0.4932 - val_loss: 11.7352 - val_output_reg_loss: 9.1903 - val_output_class_loss: 0.4873 - val_output_aux_loss: 0.4818\n",
      "Epoch 17/500\n",
      "1199/1199 [==============================] - 0s 295us/sample - loss: 6.5069 - output_reg_loss: 3.5466 - output_class_loss: 0.5276 - output_aux_loss: 0.5049 - val_loss: 5.6557 - val_output_reg_loss: 2.9439 - val_output_class_loss: 0.4872 - val_output_aux_loss: 0.4855\n",
      "Epoch 18/500\n",
      "1199/1199 [==============================] - 0s 282us/sample - loss: 6.3633 - output_reg_loss: 3.7028 - output_class_loss: 0.5277 - output_aux_loss: 0.5032 - val_loss: 5.5007 - val_output_reg_loss: 2.9532 - val_output_class_loss: 0.4870 - val_output_aux_loss: 0.4895\n",
      "Epoch 19/500\n",
      "1199/1199 [==============================] - 0s 288us/sample - loss: 4.8584 - output_reg_loss: 2.3019 - output_class_loss: 0.5286 - output_aux_loss: 0.4953 - val_loss: 5.3811 - val_output_reg_loss: 3.1348 - val_output_class_loss: 0.4870 - val_output_aux_loss: 0.4819\n",
      "Epoch 20/500\n",
      "1199/1199 [==============================] - 0s 262us/sample - loss: 5.3813 - output_reg_loss: 3.0696 - output_class_loss: 0.5275 - output_aux_loss: 0.4958 - val_loss: 5.5958 - val_output_reg_loss: 3.6792 - val_output_class_loss: 0.4868 - val_output_aux_loss: 0.4834\n",
      "Epoch 21/500\n",
      "1199/1199 [==============================] - 0s 279us/sample - loss: 4.8307 - output_reg_loss: 2.6837 - output_class_loss: 0.5260 - output_aux_loss: 0.4929 - val_loss: 5.6557 - val_output_reg_loss: 3.9123 - val_output_class_loss: 0.4868 - val_output_aux_loss: 0.4839\n",
      "Epoch 22/500\n",
      "1199/1199 [==============================] - 0s 289us/sample - loss: 5.0406 - output_reg_loss: 3.0692 - output_class_loss: 0.5282 - output_aux_loss: 0.4968 - val_loss: 4.6211 - val_output_reg_loss: 2.8124 - val_output_class_loss: 0.4867 - val_output_aux_loss: 0.4825\n",
      "Epoch 23/500\n",
      "1199/1199 [==============================] - 0s 278us/sample - loss: 4.9730 - output_reg_loss: 3.1186 - output_class_loss: 0.5288 - output_aux_loss: 0.4892 - val_loss: 4.6757 - val_output_reg_loss: 3.1833 - val_output_class_loss: 0.4869 - val_output_aux_loss: 0.4830\n",
      "Epoch 24/500\n",
      "1199/1199 [==============================] - 0s 288us/sample - loss: 4.7541 - output_reg_loss: 2.9886 - output_class_loss: 0.5278 - output_aux_loss: 0.4941 - val_loss: 5.0264 - val_output_reg_loss: 3.6280 - val_output_class_loss: 0.4864 - val_output_aux_loss: 0.4875\n",
      "Epoch 25/500\n",
      "1199/1199 [==============================] - 0s 279us/sample - loss: 4.3288 - output_reg_loss: 2.6688 - output_class_loss: 0.5257 - output_aux_loss: 0.4938 - val_loss: 4.4968 - val_output_reg_loss: 3.0140 - val_output_class_loss: 0.4860 - val_output_aux_loss: 0.4835\n",
      "Epoch 26/500\n",
      "1199/1199 [==============================] - 0s 280us/sample - loss: 4.1729 - output_reg_loss: 2.5321 - output_class_loss: 0.5276 - output_aux_loss: 0.4884 - val_loss: 5.6424 - val_output_reg_loss: 4.7032 - val_output_class_loss: 0.4864 - val_output_aux_loss: 0.4831\n",
      "Epoch 27/500\n",
      "1199/1199 [==============================] - 0s 295us/sample - loss: 5.1015 - output_reg_loss: 3.6386 - output_class_loss: 0.5283 - output_aux_loss: 0.4861 - val_loss: 4.2895 - val_output_reg_loss: 3.0099 - val_output_class_loss: 0.4862 - val_output_aux_loss: 0.4770\n",
      "Epoch 28/500\n",
      "1199/1199 [==============================] - 0s 276us/sample - loss: 3.5515 - output_reg_loss: 2.1429 - output_class_loss: 0.5281 - output_aux_loss: 0.4843 - val_loss: 19.3047 - val_output_reg_loss: 19.9361 - val_output_class_loss: 0.4857 - val_output_aux_loss: 0.4723\n",
      "Epoch 29/500\n",
      "1199/1199 [==============================] - 0s 267us/sample - loss: 3.7920 - output_reg_loss: 2.3135 - output_class_loss: 0.5266 - output_aux_loss: 0.4836 - val_loss: 6.2014 - val_output_reg_loss: 5.0865 - val_output_class_loss: 0.4853 - val_output_aux_loss: 0.4765\n",
      "Epoch 30/500\n"
     ]
    },
    {
     "name": "stdout",
     "output_type": "stream",
     "text": [
      "1199/1199 [==============================] - 0s 265us/sample - loss: 4.6421 - output_reg_loss: 3.2750 - output_class_loss: 0.5257 - output_aux_loss: 0.4777 - val_loss: 4.8980 - val_output_reg_loss: 3.8728 - val_output_class_loss: 0.4846 - val_output_aux_loss: 0.4783\n",
      "Epoch 31/500\n",
      "1199/1199 [==============================] - 0s 292us/sample - loss: 4.1716 - output_reg_loss: 2.8097 - output_class_loss: 0.5265 - output_aux_loss: 0.4813 - val_loss: 4.0448 - val_output_reg_loss: 2.9179 - val_output_class_loss: 0.4849 - val_output_aux_loss: 0.4755\n",
      "Epoch 32/500\n",
      "1199/1199 [==============================] - 0s 266us/sample - loss: 3.8656 - output_reg_loss: 2.5518 - output_class_loss: 0.5263 - output_aux_loss: 0.4805 - val_loss: 4.7847 - val_output_reg_loss: 3.9220 - val_output_class_loss: 0.4854 - val_output_aux_loss: 0.4748\n",
      "Epoch 33/500\n",
      "1199/1199 [==============================] - 0s 276us/sample - loss: 3.8092 - output_reg_loss: 2.5110 - output_class_loss: 0.5237 - output_aux_loss: 0.4835 - val_loss: 4.1166 - val_output_reg_loss: 3.0482 - val_output_class_loss: 0.4823 - val_output_aux_loss: 0.4965\n",
      "Epoch 34/500\n",
      "1199/1199 [==============================] - 0s 295us/sample - loss: 3.8676 - output_reg_loss: 2.6335 - output_class_loss: 0.5247 - output_aux_loss: 0.4801 - val_loss: 3.8677 - val_output_reg_loss: 2.6551 - val_output_class_loss: 0.4808 - val_output_aux_loss: 0.4761\n",
      "Epoch 35/500\n",
      "1199/1199 [==============================] - 0s 291us/sample - loss: 4.3563 - output_reg_loss: 3.2286 - output_class_loss: 0.5239 - output_aux_loss: 0.4777 - val_loss: 3.7216 - val_output_reg_loss: 2.5661 - val_output_class_loss: 0.4839 - val_output_aux_loss: 0.4864\n",
      "Epoch 36/500\n",
      "1199/1199 [==============================] - 0s 272us/sample - loss: 2.8601 - output_reg_loss: 1.6421 - output_class_loss: 0.5220 - output_aux_loss: 0.4771 - val_loss: 4.4384 - val_output_reg_loss: 3.3837 - val_output_class_loss: 0.4806 - val_output_aux_loss: 0.4885\n",
      "Epoch 37/500\n",
      "1199/1199 [==============================] - 0s 284us/sample - loss: 3.6731 - output_reg_loss: 2.6755 - output_class_loss: 0.5222 - output_aux_loss: 0.4728 - val_loss: 11.6244 - val_output_reg_loss: 12.4039 - val_output_class_loss: 0.4811 - val_output_aux_loss: 0.4818\n",
      "Epoch 38/500\n",
      "1199/1199 [==============================] - 0s 279us/sample - loss: 3.9139 - output_reg_loss: 2.8651 - output_class_loss: 0.5232 - output_aux_loss: 0.4768 - val_loss: 4.0609 - val_output_reg_loss: 3.0883 - val_output_class_loss: 0.4783 - val_output_aux_loss: 0.4923\n",
      "Epoch 39/500\n",
      "1199/1199 [==============================] - 0s 282us/sample - loss: 2.8723 - output_reg_loss: 1.7793 - output_class_loss: 0.5187 - output_aux_loss: 0.4674 - val_loss: 5.4227 - val_output_reg_loss: 4.9398 - val_output_class_loss: 0.4798 - val_output_aux_loss: 0.4805\n",
      "Epoch 40/500\n",
      "1199/1199 [==============================] - 0s 299us/sample - loss: 2.0873 - output_reg_loss: 0.9184 - output_class_loss: 0.5199 - output_aux_loss: 0.4601 - val_loss: 3.5461 - val_output_reg_loss: 2.8007 - val_output_class_loss: 0.4810 - val_output_aux_loss: 0.4738\n",
      "Epoch 41/500\n",
      "1199/1199 [==============================] - 0s 280us/sample - loss: 1.8191 - output_reg_loss: 0.7354 - output_class_loss: 0.5199 - output_aux_loss: 0.4560 - val_loss: 4.1372 - val_output_reg_loss: 3.6081 - val_output_class_loss: 0.4793 - val_output_aux_loss: 0.4780\n",
      "Epoch 42/500\n",
      "1199/1199 [==============================] - 0s 291us/sample - loss: 1.7064 - output_reg_loss: 0.6742 - output_class_loss: 0.5195 - output_aux_loss: 0.4530 - val_loss: 3.2547 - val_output_reg_loss: 2.5775 - val_output_class_loss: 0.4796 - val_output_aux_loss: 0.4780\n",
      "Epoch 43/500\n",
      "1199/1199 [==============================] - 0s 284us/sample - loss: 1.7364 - output_reg_loss: 0.7598 - output_class_loss: 0.5198 - output_aux_loss: 0.4560 - val_loss: 3.2536 - val_output_reg_loss: 2.5687 - val_output_class_loss: 0.4796 - val_output_aux_loss: 0.4756\n",
      "Epoch 44/500\n",
      "1199/1199 [==============================] - 0s 276us/sample - loss: 1.6805 - output_reg_loss: 0.7360 - output_class_loss: 0.5182 - output_aux_loss: 0.4541 - val_loss: 3.3703 - val_output_reg_loss: 2.6481 - val_output_class_loss: 0.4794 - val_output_aux_loss: 0.4798\n",
      "Epoch 45/500\n",
      "1199/1199 [==============================] - 0s 275us/sample - loss: 1.6609 - output_reg_loss: 0.7407 - output_class_loss: 0.5171 - output_aux_loss: 0.4540 - val_loss: 3.3846 - val_output_reg_loss: 2.7383 - val_output_class_loss: 0.4767 - val_output_aux_loss: 0.4849\n",
      "Epoch 46/500\n",
      "1199/1199 [==============================] - 0s 279us/sample - loss: 1.7309 - output_reg_loss: 0.8393 - output_class_loss: 0.5166 - output_aux_loss: 0.4555 - val_loss: 3.3575 - val_output_reg_loss: 2.6948 - val_output_class_loss: 0.4789 - val_output_aux_loss: 0.4830\n",
      "Epoch 47/500\n",
      "1199/1199 [==============================] - 0s 284us/sample - loss: 1.4692 - output_reg_loss: 0.5809 - output_class_loss: 0.5137 - output_aux_loss: 0.4472 - val_loss: 3.2622 - val_output_reg_loss: 2.7127 - val_output_class_loss: 0.4781 - val_output_aux_loss: 0.4910\n",
      "Epoch 48/500\n",
      "1199/1199 [==============================] - 0s 278us/sample - loss: 1.3308 - output_reg_loss: 0.4423 - output_class_loss: 0.5149 - output_aux_loss: 0.4532 - val_loss: 3.2630 - val_output_reg_loss: 2.6999 - val_output_class_loss: 0.4784 - val_output_aux_loss: 0.4866\n",
      "Epoch 49/500\n",
      "1199/1199 [==============================] - 0s 278us/sample - loss: 1.2317 - output_reg_loss: 0.3585 - output_class_loss: 0.5148 - output_aux_loss: 0.4462 - val_loss: 3.2580 - val_output_reg_loss: 2.6893 - val_output_class_loss: 0.4781 - val_output_aux_loss: 0.4855\n",
      "Epoch 50/500\n",
      "1199/1199 [==============================] - 0s 281us/sample - loss: 1.1954 - output_reg_loss: 0.3366 - output_class_loss: 0.5156 - output_aux_loss: 0.4489 - val_loss: 3.2617 - val_output_reg_loss: 2.7920 - val_output_class_loss: 0.4784 - val_output_aux_loss: 0.4879\n",
      "Epoch 51/500\n",
      "1199/1199 [==============================] - 0s 274us/sample - loss: 1.0991 - output_reg_loss: 0.2533 - output_class_loss: 0.5155 - output_aux_loss: 0.4454 - val_loss: 3.1818 - val_output_reg_loss: 2.6662 - val_output_class_loss: 0.4783 - val_output_aux_loss: 0.4891\n",
      "Epoch 52/500\n",
      "1199/1199 [==============================] - 0s 269us/sample - loss: 1.1244 - output_reg_loss: 0.2969 - output_class_loss: 0.5146 - output_aux_loss: 0.4458 - val_loss: 3.2296 - val_output_reg_loss: 2.8489 - val_output_class_loss: 0.4777 - val_output_aux_loss: 0.4927\n",
      "Epoch 53/500\n",
      "1199/1199 [==============================] - 0s 287us/sample - loss: 1.0755 - output_reg_loss: 0.2634 - output_class_loss: 0.5155 - output_aux_loss: 0.4446 - val_loss: 3.2407 - val_output_reg_loss: 2.7444 - val_output_class_loss: 0.4788 - val_output_aux_loss: 0.4882\n",
      "Epoch 54/500\n",
      "1199/1199 [==============================] - 0s 286us/sample - loss: 1.1359 - output_reg_loss: 0.3505 - output_class_loss: 0.5143 - output_aux_loss: 0.4452 - val_loss: 3.3222 - val_output_reg_loss: 3.0035 - val_output_class_loss: 0.4777 - val_output_aux_loss: 0.4878\n",
      "Epoch 55/500\n",
      "1199/1199 [==============================] - 0s 286us/sample - loss: 1.0787 - output_reg_loss: 0.2889 - output_class_loss: 0.5131 - output_aux_loss: 0.4453 - val_loss: 3.1981 - val_output_reg_loss: 2.7876 - val_output_class_loss: 0.4785 - val_output_aux_loss: 0.4908\n",
      "Epoch 56/500\n",
      "1199/1199 [==============================] - 0s 282us/sample - loss: 0.9778 - output_reg_loss: 0.1850 - output_class_loss: 0.5153 - output_aux_loss: 0.4397 - val_loss: 3.2326 - val_output_reg_loss: 2.8972 - val_output_class_loss: 0.4782 - val_output_aux_loss: 0.4912\n",
      "Epoch 57/500\n",
      "1199/1199 [==============================] - 0s 285us/sample - loss: 0.9469 - output_reg_loss: 0.1593 - output_class_loss: 0.5142 - output_aux_loss: 0.4389 - val_loss: 3.1884 - val_output_reg_loss: 2.8167 - val_output_class_loss: 0.4777 - val_output_aux_loss: 0.4938\n",
      "Epoch 58/500\n",
      "1199/1199 [==============================] - 0s 287us/sample - loss: 0.9392 - output_reg_loss: 0.1593 - output_class_loss: 0.5145 - output_aux_loss: 0.4409 - val_loss: 3.2031 - val_output_reg_loss: 2.8723 - val_output_class_loss: 0.4780 - val_output_aux_loss: 0.4917\n",
      "Epoch 59/500\n",
      "1199/1199 [==============================] - 0s 286us/sample - loss: 0.9470 - output_reg_loss: 0.1802 - output_class_loss: 0.5152 - output_aux_loss: 0.4405 - val_loss: 3.2361 - val_output_reg_loss: 2.8686 - val_output_class_loss: 0.4775 - val_output_aux_loss: 0.4957\n",
      "Epoch 60/500\n",
      "1199/1199 [==============================] - 0s 286us/sample - loss: 0.9010 - output_reg_loss: 0.1284 - output_class_loss: 0.5126 - output_aux_loss: 0.4381 - val_loss: 3.2808 - val_output_reg_loss: 2.9702 - val_output_class_loss: 0.4779 - val_output_aux_loss: 0.4966\n",
      "Epoch 61/500\n",
      "1199/1199 [==============================] - 0s 283us/sample - loss: 0.9125 - output_reg_loss: 0.1456 - output_class_loss: 0.5125 - output_aux_loss: 0.4414 - val_loss: 3.2971 - val_output_reg_loss: 2.9928 - val_output_class_loss: 0.4783 - val_output_aux_loss: 0.4980\n",
      "Epoch 62/500\n",
      "1199/1199 [==============================] - 0s 282us/sample - loss: 0.8834 - output_reg_loss: 0.1149 - output_class_loss: 0.5144 - output_aux_loss: 0.4378 - val_loss: 3.2983 - val_output_reg_loss: 2.9803 - val_output_class_loss: 0.4784 - val_output_aux_loss: 0.4990\n",
      "Epoch 63/500\n",
      "1199/1199 [==============================] - 0s 285us/sample - loss: 0.9055 - output_reg_loss: 0.1440 - output_class_loss: 0.5132 - output_aux_loss: 0.4423 - val_loss: 3.3114 - val_output_reg_loss: 2.9871 - val_output_class_loss: 0.4780 - val_output_aux_loss: 0.4990\n",
      "Epoch 64/500\n",
      "1199/1199 [==============================] - 0s 285us/sample - loss: 0.8960 - output_reg_loss: 0.1360 - output_class_loss: 0.5138 - output_aux_loss: 0.4381 - val_loss: 3.3140 - val_output_reg_loss: 2.9934 - val_output_class_loss: 0.4781 - val_output_aux_loss: 0.5005\n",
      "Epoch 65/500\n",
      "1199/1199 [==============================] - 0s 279us/sample - loss: 0.8662 - output_reg_loss: 0.1028 - output_class_loss: 0.5128 - output_aux_loss: 0.4400 - val_loss: 3.3351 - val_output_reg_loss: 3.0358 - val_output_class_loss: 0.4781 - val_output_aux_loss: 0.5011\n",
      "Epoch 66/500\n",
      "1199/1199 [==============================] - 0s 282us/sample - loss: 0.8658 - output_reg_loss: 0.1048 - output_class_loss: 0.5137 - output_aux_loss: 0.4381 - val_loss: 3.3379 - val_output_reg_loss: 3.0190 - val_output_class_loss: 0.4782 - val_output_aux_loss: 0.5022\n",
      "Epoch 67/500\n",
      "1199/1199 [==============================] - 0s 284us/sample - loss: 0.8784 - output_reg_loss: 0.1188 - output_class_loss: 0.5133 - output_aux_loss: 0.4363 - val_loss: 3.3502 - val_output_reg_loss: 3.0336 - val_output_class_loss: 0.4781 - val_output_aux_loss: 0.5028\n",
      "Epoch 68/500\n",
      "1199/1199 [==============================] - 0s 282us/sample - loss: 0.8859 - output_reg_loss: 0.1296 - output_class_loss: 0.5140 - output_aux_loss: 0.4406 - val_loss: 3.3648 - val_output_reg_loss: 3.0522 - val_output_class_loss: 0.4781 - val_output_aux_loss: 0.5033\n",
      "Epoch 69/500\n",
      "1199/1199 [==============================] - 0s 282us/sample - loss: 0.8651 - output_reg_loss: 0.1057 - output_class_loss: 0.5136 - output_aux_loss: 0.4390 - val_loss: 3.3784 - val_output_reg_loss: 3.0709 - val_output_class_loss: 0.4781 - val_output_aux_loss: 0.5038\n",
      "Epoch 70/500\n",
      "1199/1199 [==============================] - 0s 284us/sample - loss: 0.8919 - output_reg_loss: 0.1356 - output_class_loss: 0.5141 - output_aux_loss: 0.4414 - val_loss: 3.3871 - val_output_reg_loss: 3.0805 - val_output_class_loss: 0.4781 - val_output_aux_loss: 0.5040\n",
      "Epoch 71/500\n",
      "1199/1199 [==============================] - 0s 283us/sample - loss: 0.8689 - output_reg_loss: 0.1123 - output_class_loss: 0.5132 - output_aux_loss: 0.4391 - val_loss: 3.3964 - val_output_reg_loss: 3.0906 - val_output_class_loss: 0.4781 - val_output_aux_loss: 0.5043\n",
      "Epoch 72/500\n",
      "1199/1199 [==============================] - 0s 284us/sample - loss: 0.8742 - output_reg_loss: 0.1174 - output_class_loss: 0.5146 - output_aux_loss: 0.4391 - val_loss: 3.4044 - val_output_reg_loss: 3.0991 - val_output_class_loss: 0.4781 - val_output_aux_loss: 0.5047\n",
      "Epoch 73/500\n",
      "1199/1199 [==============================] - 0s 281us/sample - loss: 0.8728 - output_reg_loss: 0.1154 - output_class_loss: 0.5130 - output_aux_loss: 0.4393 - val_loss: 3.4089 - val_output_reg_loss: 3.1043 - val_output_class_loss: 0.4782 - val_output_aux_loss: 0.5050\n",
      "Epoch 74/500\n",
      "1199/1199 [==============================] - 0s 283us/sample - loss: 0.8664 - output_reg_loss: 0.1086 - output_class_loss: 0.5133 - output_aux_loss: 0.4394 - val_loss: 3.4156 - val_output_reg_loss: 3.1129 - val_output_class_loss: 0.4782 - val_output_aux_loss: 0.5053\n",
      "Epoch 75/500\n",
      "1199/1199 [==============================] - 0s 285us/sample - loss: 0.8593 - output_reg_loss: 0.1021 - output_class_loss: 0.5120 - output_aux_loss: 0.4375 - val_loss: 3.4181 - val_output_reg_loss: 3.1151 - val_output_class_loss: 0.4782 - val_output_aux_loss: 0.5058\n",
      "Epoch 76/500\n",
      "1199/1199 [==============================] - 0s 281us/sample - loss: 0.8706 - output_reg_loss: 0.1140 - output_class_loss: 0.5127 - output_aux_loss: 0.4405 - val_loss: 3.4223 - val_output_reg_loss: 3.1205 - val_output_class_loss: 0.4783 - val_output_aux_loss: 0.5060\n",
      "Epoch 77/500\n",
      "1199/1199 [==============================] - 0s 280us/sample - loss: 0.8538 - output_reg_loss: 0.0951 - output_class_loss: 0.5140 - output_aux_loss: 0.4381 - val_loss: 3.4247 - val_output_reg_loss: 3.1236 - val_output_class_loss: 0.4783 - val_output_aux_loss: 0.5061\n",
      "Epoch 78/500\n",
      "1199/1199 [==============================] - 0s 282us/sample - loss: 0.8679 - output_reg_loss: 0.1129 - output_class_loss: 0.5123 - output_aux_loss: 0.4393 - val_loss: 3.4298 - val_output_reg_loss: 3.1290 - val_output_class_loss: 0.4783 - val_output_aux_loss: 0.5063\n",
      "Epoch 79/500\n",
      "1199/1199 [==============================] - 0s 284us/sample - loss: 0.8628 - output_reg_loss: 0.1059 - output_class_loss: 0.5132 - output_aux_loss: 0.4377 - val_loss: 3.4339 - val_output_reg_loss: 3.1333 - val_output_class_loss: 0.4783 - val_output_aux_loss: 0.5064\n",
      "Epoch 80/500\n",
      "1199/1199 [==============================] - 0s 282us/sample - loss: 0.8580 - output_reg_loss: 0.1003 - output_class_loss: 0.5123 - output_aux_loss: 0.4368 - val_loss: 3.4356 - val_output_reg_loss: 3.1350 - val_output_class_loss: 0.4783 - val_output_aux_loss: 0.5065\n",
      "Epoch 81/500\n",
      "1199/1199 [==============================] - 0s 282us/sample - loss: 0.8611 - output_reg_loss: 0.1039 - output_class_loss: 0.5134 - output_aux_loss: 0.4375 - val_loss: 3.4407 - val_output_reg_loss: 3.1410 - val_output_class_loss: 0.4783 - val_output_aux_loss: 0.5066\n",
      "Epoch 82/500\n",
      "1199/1199 [==============================] - 0s 281us/sample - loss: 0.8742 - output_reg_loss: 0.1178 - output_class_loss: 0.5130 - output_aux_loss: 0.4390 - val_loss: 3.4436 - val_output_reg_loss: 3.1438 - val_output_class_loss: 0.4783 - val_output_aux_loss: 0.5067\n",
      "Epoch 83/500\n",
      "1199/1199 [==============================] - 0s 283us/sample - loss: 0.8690 - output_reg_loss: 0.1123 - output_class_loss: 0.5135 - output_aux_loss: 0.4387 - val_loss: 3.4448 - val_output_reg_loss: 3.1458 - val_output_class_loss: 0.4783 - val_output_aux_loss: 0.5068\n",
      "Epoch 84/500\n",
      "1199/1199 [==============================] - 0s 283us/sample - loss: 0.8571 - output_reg_loss: 0.1011 - output_class_loss: 0.5132 - output_aux_loss: 0.4378 - val_loss: 3.4455 - val_output_reg_loss: 3.1468 - val_output_class_loss: 0.4783 - val_output_aux_loss: 0.5067\n",
      "Epoch 85/500\n",
      "1199/1199 [==============================] - 0s 282us/sample - loss: 0.8766 - output_reg_loss: 0.1208 - output_class_loss: 0.5136 - output_aux_loss: 0.4375 - val_loss: 3.4480 - val_output_reg_loss: 3.1493 - val_output_class_loss: 0.4784 - val_output_aux_loss: 0.5068\n",
      "Epoch 86/500\n",
      "1199/1199 [==============================] - 0s 276us/sample - loss: 0.8566 - output_reg_loss: 0.0986 - output_class_loss: 0.5133 - output_aux_loss: 0.4371 - val_loss: 3.4478 - val_output_reg_loss: 3.1488 - val_output_class_loss: 0.4784 - val_output_aux_loss: 0.5068\n",
      "Epoch 87/500\n",
      "1199/1199 [==============================] - 0s 280us/sample - loss: 0.8995 - output_reg_loss: 0.1458 - output_class_loss: 0.5137 - output_aux_loss: 0.4411 - val_loss: 3.4497 - val_output_reg_loss: 3.1505 - val_output_class_loss: 0.4784 - val_output_aux_loss: 0.5068\n",
      "Epoch 88/500\n"
     ]
    },
    {
     "name": "stdout",
     "output_type": "stream",
     "text": [
      "1199/1199 [==============================] - 0s 286us/sample - loss: 0.8933 - output_reg_loss: 0.1394 - output_class_loss: 0.5129 - output_aux_loss: 0.4410 - val_loss: 3.4506 - val_output_reg_loss: 3.1521 - val_output_class_loss: 0.4784 - val_output_aux_loss: 0.5069\n",
      "Epoch 89/500\n",
      "1199/1199 [==============================] - 0s 283us/sample - loss: 0.8671 - output_reg_loss: 0.1109 - output_class_loss: 0.5138 - output_aux_loss: 0.4391 - val_loss: 3.4508 - val_output_reg_loss: 3.1528 - val_output_class_loss: 0.4784 - val_output_aux_loss: 0.5068\n",
      "Epoch 90/500\n",
      "1199/1199 [==============================] - 0s 282us/sample - loss: 0.8674 - output_reg_loss: 0.1108 - output_class_loss: 0.5122 - output_aux_loss: 0.4391 - val_loss: 3.4525 - val_output_reg_loss: 3.1545 - val_output_class_loss: 0.4784 - val_output_aux_loss: 0.5069\n",
      "Epoch 91/500\n",
      "1199/1199 [==============================] - 0s 282us/sample - loss: 0.8518 - output_reg_loss: 0.0930 - output_class_loss: 0.5137 - output_aux_loss: 0.4370 - val_loss: 3.4499 - val_output_reg_loss: 3.1511 - val_output_class_loss: 0.4783 - val_output_aux_loss: 0.5069\n",
      "Epoch 92/500\n",
      "1199/1199 [==============================] - 0s 284us/sample - loss: 0.8560 - output_reg_loss: 0.0980 - output_class_loss: 0.5142 - output_aux_loss: 0.4390 - val_loss: 3.4475 - val_output_reg_loss: 3.1489 - val_output_class_loss: 0.4783 - val_output_aux_loss: 0.5069\n",
      "Epoch 93/500\n",
      "1199/1199 [==============================] - 0s 281us/sample - loss: 0.8644 - output_reg_loss: 0.1078 - output_class_loss: 0.5138 - output_aux_loss: 0.4371 - val_loss: 3.4480 - val_output_reg_loss: 3.1493 - val_output_class_loss: 0.4783 - val_output_aux_loss: 0.5069\n",
      "Epoch 94/500\n",
      "1199/1199 [==============================] - 0s 281us/sample - loss: 0.8698 - output_reg_loss: 0.1139 - output_class_loss: 0.5138 - output_aux_loss: 0.4386 - val_loss: 3.4480 - val_output_reg_loss: 3.1497 - val_output_class_loss: 0.4783 - val_output_aux_loss: 0.5070\n",
      "Epoch 95/500\n",
      "1199/1199 [==============================] - 0s 284us/sample - loss: 0.8947 - output_reg_loss: 0.1415 - output_class_loss: 0.5149 - output_aux_loss: 0.4406 - val_loss: 3.4497 - val_output_reg_loss: 3.1515 - val_output_class_loss: 0.4783 - val_output_aux_loss: 0.5070\n",
      "Epoch 96/500\n",
      "1199/1199 [==============================] - 0s 284us/sample - loss: 0.8715 - output_reg_loss: 0.1161 - output_class_loss: 0.5135 - output_aux_loss: 0.4396 - val_loss: 3.4509 - val_output_reg_loss: 3.1530 - val_output_class_loss: 0.4783 - val_output_aux_loss: 0.5070\n",
      "Epoch 97/500\n",
      "1199/1199 [==============================] - 0s 286us/sample - loss: 0.8498 - output_reg_loss: 0.0918 - output_class_loss: 0.5139 - output_aux_loss: 0.4361 - val_loss: 3.4497 - val_output_reg_loss: 3.1516 - val_output_class_loss: 0.4783 - val_output_aux_loss: 0.5070\n",
      "Epoch 98/500\n",
      "1199/1199 [==============================] - 0s 285us/sample - loss: 0.8797 - output_reg_loss: 0.1241 - output_class_loss: 0.5134 - output_aux_loss: 0.4412 - val_loss: 3.4522 - val_output_reg_loss: 3.1546 - val_output_class_loss: 0.4784 - val_output_aux_loss: 0.5070\n",
      "Epoch 99/500\n",
      "1199/1199 [==============================] - 0s 281us/sample - loss: 0.8660 - output_reg_loss: 0.1099 - output_class_loss: 0.5128 - output_aux_loss: 0.4391 - val_loss: 3.4534 - val_output_reg_loss: 3.1560 - val_output_class_loss: 0.4784 - val_output_aux_loss: 0.5071\n",
      "Epoch 100/500\n",
      "1199/1199 [==============================] - 0s 280us/sample - loss: 0.8571 - output_reg_loss: 0.0994 - output_class_loss: 0.5128 - output_aux_loss: 0.4399 - val_loss: 3.4536 - val_output_reg_loss: 3.1561 - val_output_class_loss: 0.4784 - val_output_aux_loss: 0.5070\n",
      "Epoch 101/500\n",
      "1199/1199 [==============================] - 0s 282us/sample - loss: 0.8744 - output_reg_loss: 0.1200 - output_class_loss: 0.5139 - output_aux_loss: 0.4398 - val_loss: 3.4537 - val_output_reg_loss: 3.1558 - val_output_class_loss: 0.4784 - val_output_aux_loss: 0.5070\n",
      "Epoch 102/500\n",
      "1199/1199 [==============================] - 0s 286us/sample - loss: 0.8554 - output_reg_loss: 0.0973 - output_class_loss: 0.5134 - output_aux_loss: 0.4388 - val_loss: 3.4515 - val_output_reg_loss: 3.1533 - val_output_class_loss: 0.4784 - val_output_aux_loss: 0.5070\n",
      "Epoch 103/500\n",
      "1199/1199 [==============================] - 0s 280us/sample - loss: 0.8847 - output_reg_loss: 0.1313 - output_class_loss: 0.5132 - output_aux_loss: 0.4398 - val_loss: 3.4536 - val_output_reg_loss: 3.1558 - val_output_class_loss: 0.4784 - val_output_aux_loss: 0.5071\n",
      "Epoch 104/500\n",
      "1199/1199 [==============================] - 0s 282us/sample - loss: 0.8594 - output_reg_loss: 0.1022 - output_class_loss: 0.5143 - output_aux_loss: 0.4370 - val_loss: 3.4524 - val_output_reg_loss: 3.1548 - val_output_class_loss: 0.4784 - val_output_aux_loss: 0.5070\n",
      "Epoch 105/500\n",
      "1199/1199 [==============================] - 0s 278us/sample - loss: 0.8853 - output_reg_loss: 0.1308 - output_class_loss: 0.5135 - output_aux_loss: 0.4410 - val_loss: 3.4523 - val_output_reg_loss: 3.1551 - val_output_class_loss: 0.4784 - val_output_aux_loss: 0.5070\n",
      "Epoch 106/500\n",
      "1199/1199 [==============================] - 0s 278us/sample - loss: 0.8473 - output_reg_loss: 0.0900 - output_class_loss: 0.5146 - output_aux_loss: 0.4377 - val_loss: 3.4509 - val_output_reg_loss: 3.1534 - val_output_class_loss: 0.4784 - val_output_aux_loss: 0.5069\n",
      "Epoch 107/500\n",
      "1199/1199 [==============================] - 0s 282us/sample - loss: 0.8622 - output_reg_loss: 0.1055 - output_class_loss: 0.5130 - output_aux_loss: 0.4392 - val_loss: 3.4501 - val_output_reg_loss: 3.1524 - val_output_class_loss: 0.4784 - val_output_aux_loss: 0.5070\n",
      "Epoch 108/500\n",
      "1199/1199 [==============================] - 0s 281us/sample - loss: 0.8680 - output_reg_loss: 0.1135 - output_class_loss: 0.5141 - output_aux_loss: 0.4424 - val_loss: 3.4506 - val_output_reg_loss: 3.1531 - val_output_class_loss: 0.4784 - val_output_aux_loss: 0.5069\n",
      "Epoch 109/500\n",
      "1199/1199 [==============================] - 0s 276us/sample - loss: 0.8721 - output_reg_loss: 0.1154 - output_class_loss: 0.5130 - output_aux_loss: 0.4389 - val_loss: 3.4507 - val_output_reg_loss: 3.1532 - val_output_class_loss: 0.4784 - val_output_aux_loss: 0.5069\n",
      "Epoch 110/500\n",
      "1199/1199 [==============================] - 0s 280us/sample - loss: 0.8535 - output_reg_loss: 0.0953 - output_class_loss: 0.5135 - output_aux_loss: 0.4371 - val_loss: 3.4511 - val_output_reg_loss: 3.1533 - val_output_class_loss: 0.4784 - val_output_aux_loss: 0.5069\n",
      "Epoch 111/500\n",
      "1199/1199 [==============================] - 0s 285us/sample - loss: 0.8850 - output_reg_loss: 0.1321 - output_class_loss: 0.5134 - output_aux_loss: 0.4398 - val_loss: 3.4515 - val_output_reg_loss: 3.1541 - val_output_class_loss: 0.4783 - val_output_aux_loss: 0.5069\n",
      "Epoch 112/500\n",
      "1199/1199 [==============================] - 0s 281us/sample - loss: 0.8705 - output_reg_loss: 0.1139 - output_class_loss: 0.5143 - output_aux_loss: 0.4406 - val_loss: 3.4522 - val_output_reg_loss: 3.1551 - val_output_class_loss: 0.4784 - val_output_aux_loss: 0.5069\n",
      "Epoch 113/500\n",
      "1199/1199 [==============================] - 0s 277us/sample - loss: 0.8468 - output_reg_loss: 0.0881 - output_class_loss: 0.5129 - output_aux_loss: 0.4385 - val_loss: 3.4507 - val_output_reg_loss: 3.1537 - val_output_class_loss: 0.4784 - val_output_aux_loss: 0.5069\n",
      "Epoch 114/500\n",
      "1199/1199 [==============================] - 0s 286us/sample - loss: 0.8431 - output_reg_loss: 0.0844 - output_class_loss: 0.5133 - output_aux_loss: 0.4384 - val_loss: 3.4500 - val_output_reg_loss: 3.1527 - val_output_class_loss: 0.4783 - val_output_aux_loss: 0.5069\n",
      "Epoch 115/500\n",
      "1199/1199 [==============================] - 0s 280us/sample - loss: 0.8775 - output_reg_loss: 0.1212 - output_class_loss: 0.5133 - output_aux_loss: 0.4398 - val_loss: 3.4498 - val_output_reg_loss: 3.1531 - val_output_class_loss: 0.4783 - val_output_aux_loss: 0.5068\n",
      "Epoch 116/500\n",
      "1199/1199 [==============================] - 0s 281us/sample - loss: 0.8732 - output_reg_loss: 0.1169 - output_class_loss: 0.5139 - output_aux_loss: 0.4391 - val_loss: 3.4509 - val_output_reg_loss: 3.1537 - val_output_class_loss: 0.4783 - val_output_aux_loss: 0.5069\n",
      "Epoch 117/500\n",
      "1199/1199 [==============================] - 0s 282us/sample - loss: 0.8532 - output_reg_loss: 0.0964 - output_class_loss: 0.5138 - output_aux_loss: 0.4386 - val_loss: 3.4491 - val_output_reg_loss: 3.1517 - val_output_class_loss: 0.4783 - val_output_aux_loss: 0.5069\n",
      "Epoch 118/500\n",
      "1199/1199 [==============================] - 0s 279us/sample - loss: 0.8701 - output_reg_loss: 0.1143 - output_class_loss: 0.5137 - output_aux_loss: 0.4408 - val_loss: 3.4477 - val_output_reg_loss: 3.1498 - val_output_class_loss: 0.4783 - val_output_aux_loss: 0.5070\n",
      "Epoch 119/500\n",
      "1199/1199 [==============================] - 0s 283us/sample - loss: 0.8764 - output_reg_loss: 0.1212 - output_class_loss: 0.5143 - output_aux_loss: 0.4395 - val_loss: 3.4475 - val_output_reg_loss: 3.1496 - val_output_class_loss: 0.4783 - val_output_aux_loss: 0.5069\n",
      "Epoch 120/500\n",
      "1199/1199 [==============================] - 0s 281us/sample - loss: 0.8762 - output_reg_loss: 0.1278 - output_class_loss: 0.5147 - output_aux_loss: 0.4419 - val_loss: 3.4465 - val_output_reg_loss: 3.1485 - val_output_class_loss: 0.4783 - val_output_aux_loss: 0.5068\n",
      "Epoch 121/500\n",
      "1199/1199 [==============================] - 0s 282us/sample - loss: 0.8582 - output_reg_loss: 0.1001 - output_class_loss: 0.5132 - output_aux_loss: 0.4389 - val_loss: 3.4460 - val_output_reg_loss: 3.1480 - val_output_class_loss: 0.4783 - val_output_aux_loss: 0.5068\n",
      "Epoch 122/500\n",
      "1199/1199 [==============================] - 0s 285us/sample - loss: 0.8710 - output_reg_loss: 0.1158 - output_class_loss: 0.5140 - output_aux_loss: 0.4383 - val_loss: 3.4473 - val_output_reg_loss: 3.1497 - val_output_class_loss: 0.4783 - val_output_aux_loss: 0.5068\n",
      "Epoch 123/500\n",
      "1199/1199 [==============================] - 0s 280us/sample - loss: 0.8745 - output_reg_loss: 0.1214 - output_class_loss: 0.5147 - output_aux_loss: 0.4405 - val_loss: 3.4487 - val_output_reg_loss: 3.1512 - val_output_class_loss: 0.4783 - val_output_aux_loss: 0.5068\n",
      "Epoch 124/500\n",
      "1199/1199 [==============================] - 0s 280us/sample - loss: 0.8667 - output_reg_loss: 0.1099 - output_class_loss: 0.5136 - output_aux_loss: 0.4392 - val_loss: 3.4495 - val_output_reg_loss: 3.1520 - val_output_class_loss: 0.4783 - val_output_aux_loss: 0.5069\n",
      "Epoch 125/500\n",
      "1199/1199 [==============================] - 0s 285us/sample - loss: 0.8728 - output_reg_loss: 0.1159 - output_class_loss: 0.5129 - output_aux_loss: 0.4416 - val_loss: 3.4504 - val_output_reg_loss: 3.1527 - val_output_class_loss: 0.4783 - val_output_aux_loss: 0.5069\n",
      "Epoch 126/500\n",
      "1199/1199 [==============================] - 0s 281us/sample - loss: 0.8671 - output_reg_loss: 0.1110 - output_class_loss: 0.5139 - output_aux_loss: 0.4384 - val_loss: 3.4489 - val_output_reg_loss: 3.1509 - val_output_class_loss: 0.4783 - val_output_aux_loss: 0.5069\n",
      "Epoch 127/500\n",
      "1199/1199 [==============================] - 0s 287us/sample - loss: 0.8589 - output_reg_loss: 0.1020 - output_class_loss: 0.5134 - output_aux_loss: 0.4394 - val_loss: 3.4492 - val_output_reg_loss: 3.1512 - val_output_class_loss: 0.4783 - val_output_aux_loss: 0.5069\n",
      "Epoch 128/500\n",
      "1199/1199 [==============================] - 0s 282us/sample - loss: 0.8638 - output_reg_loss: 0.1086 - output_class_loss: 0.5137 - output_aux_loss: 0.4380 - val_loss: 3.4495 - val_output_reg_loss: 3.1512 - val_output_class_loss: 0.4784 - val_output_aux_loss: 0.5069\n",
      "Epoch 129/500\n",
      "1199/1199 [==============================] - 0s 282us/sample - loss: 0.8590 - output_reg_loss: 0.1012 - output_class_loss: 0.5131 - output_aux_loss: 0.4392 - val_loss: 3.4491 - val_output_reg_loss: 3.1509 - val_output_class_loss: 0.4783 - val_output_aux_loss: 0.5069\n",
      "Epoch 130/500\n",
      "1199/1199 [==============================] - 0s 283us/sample - loss: 0.8745 - output_reg_loss: 0.1199 - output_class_loss: 0.5133 - output_aux_loss: 0.4393 - val_loss: 3.4502 - val_output_reg_loss: 3.1518 - val_output_class_loss: 0.4784 - val_output_aux_loss: 0.5069\n",
      "Epoch 131/500\n",
      "1199/1199 [==============================] - 0s 283us/sample - loss: 0.8561 - output_reg_loss: 0.0981 - output_class_loss: 0.5139 - output_aux_loss: 0.4386 - val_loss: 3.4494 - val_output_reg_loss: 3.1508 - val_output_class_loss: 0.4784 - val_output_aux_loss: 0.5069\n",
      "Epoch 132/500\n",
      "1199/1199 [==============================] - 0s 284us/sample - loss: 0.8736 - output_reg_loss: 0.1182 - output_class_loss: 0.5138 - output_aux_loss: 0.4404 - val_loss: 3.4495 - val_output_reg_loss: 3.1511 - val_output_class_loss: 0.4784 - val_output_aux_loss: 0.5070\n",
      "Epoch 133/500\n",
      "1199/1199 [==============================] - 0s 284us/sample - loss: 0.8654 - output_reg_loss: 0.1107 - output_class_loss: 0.5118 - output_aux_loss: 0.4386 - val_loss: 3.4489 - val_output_reg_loss: 3.1498 - val_output_class_loss: 0.4783 - val_output_aux_loss: 0.5070\n",
      "Epoch 134/500\n",
      "1199/1199 [==============================] - 0s 284us/sample - loss: 0.8938 - output_reg_loss: 0.1425 - output_class_loss: 0.5132 - output_aux_loss: 0.4412 - val_loss: 3.4507 - val_output_reg_loss: 3.1522 - val_output_class_loss: 0.4783 - val_output_aux_loss: 0.5070\n",
      "Epoch 135/500\n",
      "1199/1199 [==============================] - 0s 265us/sample - loss: 0.8742 - output_reg_loss: 0.1179 - output_class_loss: 0.5133 - output_aux_loss: 0.4390 - val_loss: 3.4519 - val_output_reg_loss: 3.1535 - val_output_class_loss: 0.4783 - val_output_aux_loss: 0.5070\n",
      "Epoch 136/500\n",
      "1199/1199 [==============================] - 0s 248us/sample - loss: 0.8804 - output_reg_loss: 0.1244 - output_class_loss: 0.5133 - output_aux_loss: 0.4401 - val_loss: 3.4505 - val_output_reg_loss: 3.1519 - val_output_class_loss: 0.4783 - val_output_aux_loss: 0.5070\n",
      "Epoch 137/500\n",
      "1199/1199 [==============================] - 0s 261us/sample - loss: 0.8720 - output_reg_loss: 0.1164 - output_class_loss: 0.5133 - output_aux_loss: 0.4407 - val_loss: 3.4497 - val_output_reg_loss: 3.1511 - val_output_class_loss: 0.4783 - val_output_aux_loss: 0.5070\n",
      "Epoch 138/500\n",
      "1199/1199 [==============================] - 0s 281us/sample - loss: 0.8461 - output_reg_loss: 0.0872 - output_class_loss: 0.5134 - output_aux_loss: 0.4363 - val_loss: 3.4498 - val_output_reg_loss: 3.1508 - val_output_class_loss: 0.4783 - val_output_aux_loss: 0.5070\n",
      "Epoch 139/500\n",
      "1199/1199 [==============================] - 0s 276us/sample - loss: 0.8589 - output_reg_loss: 0.1018 - output_class_loss: 0.5120 - output_aux_loss: 0.4390 - val_loss: 3.4496 - val_output_reg_loss: 3.1504 - val_output_class_loss: 0.4783 - val_output_aux_loss: 0.5070\n",
      "Epoch 140/500\n",
      "1199/1199 [==============================] - 0s 274us/sample - loss: 0.8560 - output_reg_loss: 0.0981 - output_class_loss: 0.5144 - output_aux_loss: 0.4393 - val_loss: 3.4484 - val_output_reg_loss: 3.1494 - val_output_class_loss: 0.4783 - val_output_aux_loss: 0.5070\n",
      "Epoch 141/500\n",
      "1199/1199 [==============================] - 0s 263us/sample - loss: 0.8761 - output_reg_loss: 0.1200 - output_class_loss: 0.5131 - output_aux_loss: 0.4390 - val_loss: 3.4499 - val_output_reg_loss: 3.1512 - val_output_class_loss: 0.4783 - val_output_aux_loss: 0.5070\n",
      "Epoch 142/500\n",
      "1199/1199 [==============================] - 0s 274us/sample - loss: 0.8830 - output_reg_loss: 0.1292 - output_class_loss: 0.5133 - output_aux_loss: 0.4397 - val_loss: 3.4508 - val_output_reg_loss: 3.1525 - val_output_class_loss: 0.4784 - val_output_aux_loss: 0.5069\n",
      "Epoch 143/500\n",
      "1199/1199 [==============================] - 0s 273us/sample - loss: 0.8700 - output_reg_loss: 0.1143 - output_class_loss: 0.5124 - output_aux_loss: 0.4390 - val_loss: 3.4531 - val_output_reg_loss: 3.1551 - val_output_class_loss: 0.4784 - val_output_aux_loss: 0.5069\n",
      "Epoch 144/500\n",
      "1199/1199 [==============================] - 0s 283us/sample - loss: 0.8761 - output_reg_loss: 0.1200 - output_class_loss: 0.5124 - output_aux_loss: 0.4411 - val_loss: 3.4539 - val_output_reg_loss: 3.1550 - val_output_class_loss: 0.4784 - val_output_aux_loss: 0.5070\n",
      "Epoch 145/500\n",
      "1199/1199 [==============================] - 0s 280us/sample - loss: 0.8501 - output_reg_loss: 0.0916 - output_class_loss: 0.5143 - output_aux_loss: 0.4376 - val_loss: 3.4508 - val_output_reg_loss: 3.1522 - val_output_class_loss: 0.4784 - val_output_aux_loss: 0.5069\n",
      "Epoch 146/500\n"
     ]
    },
    {
     "name": "stdout",
     "output_type": "stream",
     "text": [
      "1199/1199 [==============================] - 0s 286us/sample - loss: 0.8746 - output_reg_loss: 0.1204 - output_class_loss: 0.5140 - output_aux_loss: 0.4390 - val_loss: 3.4496 - val_output_reg_loss: 3.1506 - val_output_class_loss: 0.4784 - val_output_aux_loss: 0.5069\n",
      "Epoch 147/500\n",
      "1199/1199 [==============================] - 0s 284us/sample - loss: 0.8886 - output_reg_loss: 0.1340 - output_class_loss: 0.5131 - output_aux_loss: 0.4409 - val_loss: 3.4528 - val_output_reg_loss: 3.1542 - val_output_class_loss: 0.4784 - val_output_aux_loss: 0.5070\n",
      "Epoch 148/500\n",
      "1199/1199 [==============================] - 0s 279us/sample - loss: 0.8665 - output_reg_loss: 0.1104 - output_class_loss: 0.5122 - output_aux_loss: 0.4391 - val_loss: 3.4559 - val_output_reg_loss: 3.1577 - val_output_class_loss: 0.4784 - val_output_aux_loss: 0.5071\n",
      "Epoch 149/500\n",
      "1199/1199 [==============================] - 0s 284us/sample - loss: 0.8691 - output_reg_loss: 0.1130 - output_class_loss: 0.5131 - output_aux_loss: 0.4388 - val_loss: 3.4537 - val_output_reg_loss: 3.1556 - val_output_class_loss: 0.4784 - val_output_aux_loss: 0.5070\n",
      "Epoch 150/500\n",
      "1199/1199 [==============================] - 0s 286us/sample - loss: 0.8491 - output_reg_loss: 0.0919 - output_class_loss: 0.5134 - output_aux_loss: 0.4372 - val_loss: 3.4522 - val_output_reg_loss: 3.1541 - val_output_class_loss: 0.4784 - val_output_aux_loss: 0.5071\n",
      "Epoch 151/500\n",
      "1199/1199 [==============================] - 0s 292us/sample - loss: 0.8626 - output_reg_loss: 0.1049 - output_class_loss: 0.5135 - output_aux_loss: 0.4388 - val_loss: 3.4508 - val_output_reg_loss: 3.1525 - val_output_class_loss: 0.4784 - val_output_aux_loss: 0.5071\n"
     ]
    }
   ],
   "source": [
    "hist = wide_and_deep.fit([wide_i_train, deep_i_train], [targets_train[:,0], targets_train[:,1], targets_train[:,1]], batch_size=64, epochs=500, validation_data=([wide_i_valid, deep_i_valid],[targets_valid[:,0], targets_valid[:,1], targets_valid[:,1]]), callbacks=callbak_list)"
   ]
  },
  {
   "cell_type": "code",
   "execution_count": 82,
   "metadata": {},
   "outputs": [
    {
     "data": {
      "image/png": "[encoded data removed]",
      "text/plain": [
       "<Figure size 1152x360 with 1 Axes>"
      ]
     },
     "metadata": {},
     "output_type": "display_data"
    }
   ],
   "source": [
    "pd.DataFrame(hist.history).plot(figsize=(16,5))\n",
    "plt.grid(True)\n",
    "plt.gca().set_xlim(0, 60);"
   ]
  },
  {
   "cell_type": "code",
   "execution_count": 31,
   "metadata": {},
   "outputs": [
    {
     "data": {
      "text/plain": [
       "PosixPath('Ranker/Wide_and_deep/0001')"
      ]
     },
     "execution_count": 31,
     "metadata": {},
     "output_type": "execute_result"
    }
   ],
   "source": [
    "model_version = \"0001\"\n",
    "model_name = f\"Wide_and_deep\"\n",
    "folder_name = \"Ranker\"\n",
    "model_path = Path('.') / folder_name / model_name / model_version\n",
    "model_path"
   ]
  },
  {
   "cell_type": "code",
   "execution_count": 99,
   "metadata": {},
   "outputs": [
    {
     "name": "stdout",
     "output_type": "stream",
     "text": [
      "WARNING:tensorflow:From /usr/local/lib/python3.6/dist-packages/tensorflow_core/python/ops/resource_variable_ops.py:1786: calling BaseResourceVariable.__init__ (from tensorflow.python.ops.resource_variable_ops) with constraint is deprecated and will be removed in a future version.\n",
      "Instructions for updating:\n",
      "If using Keras pass *_constraint arguments to layers.\n"
     ]
    },
    {
     "name": "stderr",
     "output_type": "stream",
     "text": [
      "WARNING:tensorflow:From /usr/local/lib/python3.6/dist-packages/tensorflow_core/python/ops/resource_variable_ops.py:1786: calling BaseResourceVariable.__init__ (from tensorflow.python.ops.resource_variable_ops) with constraint is deprecated and will be removed in a future version.\n",
      "Instructions for updating:\n",
      "If using Keras pass *_constraint arguments to layers.\n"
     ]
    },
    {
     "name": "stdout",
     "output_type": "stream",
     "text": [
      "INFO:tensorflow:Assets written to: Ranker/Wide_and_deep/0001/assets\n"
     ]
    },
    {
     "name": "stderr",
     "output_type": "stream",
     "text": [
      "INFO:tensorflow:Assets written to: Ranker/Wide_and_deep/0001/assets\n"
     ]
    }
   ],
   "source": [
    "tf.saved_model.save(wide_and_deep, str(model_path))"
   ]
  },
  {
   "cell_type": "code",
   "execution_count": 32,
   "metadata": {},
   "outputs": [],
   "source": [
    "saved = tf.saved_model.load(str(model_path))"
   ]
  },
  {
   "cell_type": "code",
   "execution_count": 127,
   "metadata": {},
   "outputs": [
    {
     "data": {
      "text/plain": [
       "array([[ 2.8928533 ,  0.9704128 ,  0.98743176],\n",
       "       [ 2.561707  ,  0.9995395 ,  0.98402   ],\n",
       "       [ 2.1417546 ,  1.        ,  0.5266872 ],\n",
       "       [-1.6622685 ,  0.7752465 ,  0.0030073 ],\n",
       "       [ 1.926726  ,  0.83108264,  0.64579827],\n",
       "       [-2.0586238 ,  1.        ,  0.00648006],\n",
       "       [ 2.5759215 ,  0.44798842,  0.994214  ],\n",
       "       [ 2.5627904 ,  0.9999865 ,  0.98607326],\n",
       "       [ 2.5818334 ,  1.        ,  0.9815516 ],\n",
       "       [-1.2719997 ,  0.41126958,  0.2955733 ],\n",
       "       [ 0.7790857 ,  0.85046184,  0.9160191 ],\n",
       "       [ 2.266831  ,  1.        ,  0.9506311 ],\n",
       "       [ 2.425324  ,  1.        ,  0.99231404],\n",
       "       [ 1.9865805 ,  0.99985564,  0.99396825],\n",
       "       [-1.1588486 ,  0.45280668,  0.33410197],\n",
       "       [ 2.5291905 ,  0.9954821 ,  0.99029267],\n",
       "       [ 2.400208  ,  1.        ,  0.986005  ],\n",
       "       [ 2.5002713 ,  0.98512113,  0.99373627],\n",
       "       [ 2.552332  ,  0.40819436,  0.99062973],\n",
       "       [ 0.06720359,  0.304662  ,  0.9487712 ]], dtype=float32)"
      ]
     },
     "execution_count": 127,
     "metadata": {},
     "output_type": "execute_result"
    }
   ],
   "source": [
    "np.hstack(saved([tf.constant(wide_i_train[:20], dtype=tf.float32), tf.constant(deep_i_train[:20],dtype=tf.float32)], training=False))"
   ]
  },
  {
   "cell_type": "code",
   "execution_count": 130,
   "metadata": {},
   "outputs": [
    {
     "data": {
      "text/plain": [
       "array([[ 3,  1,  1],\n",
       "       [-2,  0,  0],\n",
       "       [-2,  0,  0],\n",
       "       [ 2,  1,  1],\n",
       "       [ 3,  1,  1],\n",
       "       [-2,  0,  0],\n",
       "       [ 3,  1,  1],\n",
       "       [ 3,  1,  1],\n",
       "       [ 2,  1,  1],\n",
       "       [ 3,  1,  1],\n",
       "       [-2,  0,  0],\n",
       "       [-2,  0,  0],\n",
       "       [ 3,  1,  1],\n",
       "       [-2,  0,  0],\n",
       "       [-2,  0,  0],\n",
       "       [ 3,  1,  1],\n",
       "       [ 3,  1,  1],\n",
       "       [ 2,  1,  1],\n",
       "       [ 3,  1,  1],\n",
       "       [ 0,  1,  1]])"
      ]
     },
     "execution_count": 130,
     "metadata": {},
     "output_type": "execute_result"
    }
   ],
   "source": [
    "targets[:20, [0,1,1]]"
   ]
  },
  {
   "cell_type": "code",
   "execution_count": null,
   "metadata": {},
   "outputs": [],
   "source": []
  }
 ],
 "metadata": {
  "kernelspec": {
   "display_name": "Python 3",
   "language": "python",
   "name": "python3"
  },
  "language_info": {
   "codemirror_mode": {
    "name": "ipython",
    "version": 3
   },
   "file_extension": ".py",
   "mimetype": "text/x-python",
   "name": "python",
   "nbconvert_exporter": "python",
   "pygments_lexer": "ipython3",
   "version": "3.6.9"
  }
 },
 "nbformat": 4,
 "nbformat_minor": 4
}
