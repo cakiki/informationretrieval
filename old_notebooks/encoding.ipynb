{
 "cells": [
  {
   "cell_type": "code",
   "execution_count": 1,
   "metadata": {},
   "outputs": [
    {
     "data": {
      "text/html": [
       "<style>.container { width:85% !important; }</style>"
      ],
      "text/plain": [
       "<IPython.core.display.HTML object>"
      ]
     },
     "metadata": {},
     "output_type": "display_data"
    }
   ],
   "source": [
    "from IPython.core.display import display, HTML\n",
    "display(HTML(\"<style>.container { width:85% !important; }</style>\"))"
   ]
  },
  {
   "cell_type": "code",
   "execution_count": 2,
   "metadata": {},
   "outputs": [],
   "source": [
    "import pandas as pd\n",
    "import numpy as np\n",
    "import torch\n",
    "import matplotlib.pyplot as plt\n",
    "from transformers import AutoModel, AutoTokenizer, ALL_PRETRAINED_CONFIG_ARCHIVE_MAP \n",
    "import faiss\n",
    "import annoy\n",
    "from tqdm.notebook import tqdm_notebook as tqdmnb"
   ]
  },
  {
   "cell_type": "code",
   "execution_count": 54,
   "metadata": {},
   "outputs": [],
   "source": [
    "MODEL_TO_USE = 'bert-large-uncased'"
   ]
  },
  {
   "cell_type": "code",
   "execution_count": 5,
   "metadata": {
    "scrolled": true
   },
   "outputs": [
    {
     "name": "stdout",
     "output_type": "stream",
     "text": [
      "CPU times: user 1min 40s, sys: 3.28 s, total: 1min 43s\n",
      "Wall time: 1min 43s\n"
     ]
    }
   ],
   "source": [
    "%%time\n",
    "args = pd.read_pickle(f'args_encoded_{MODEL_TO_USE}.pkl')\n",
    "args.dropna(inplace=True)\n",
    "args.reset_index(inplace=True, drop=True)\n",
    "i = np.stack(args['input_ids'])\n",
    "m = np.stack(args['attention_mask'])"
   ]
  },
  {
   "cell_type": "code",
   "execution_count": 56,
   "metadata": {},
   "outputs": [
    {
     "data": {
      "text/html": [
       "<div>\n",
       "<style scoped>\n",
       "    .dataframe tbody tr th:only-of-type {\n",
       "        vertical-align: middle;\n",
       "    }\n",
       "\n",
       "    .dataframe tbody tr th {\n",
       "        vertical-align: top;\n",
       "    }\n",
       "\n",
       "    .dataframe thead th {\n",
       "        text-align: right;\n",
       "    }\n",
       "</style>\n",
       "<table border=\"1\" class=\"dataframe\">\n",
       "  <thead>\n",
       "    <tr style=\"text-align: right;\">\n",
       "      <th></th>\n",
       "      <th>id</th>\n",
       "      <th>text</th>\n",
       "      <th>input_ids</th>\n",
       "      <th>attention_mask</th>\n",
       "    </tr>\n",
       "  </thead>\n",
       "  <tbody>\n",
       "    <tr>\n",
       "      <th>0</th>\n",
       "      <td>c67482ba-2019-04-18T13:32:05Z-00000-000</td>\n",
       "      <td>My opponent forfeited every round. None of my ...</td>\n",
       "      <td>[101, 2026, 7116, 2005, 21156, 2098, 2296, 246...</td>\n",
       "      <td>[1, 1, 1, 1, 1, 1, 1, 1, 1, 1, 1, 1, 1, 1, 1, ...</td>\n",
       "    </tr>\n",
       "    <tr>\n",
       "      <th>1</th>\n",
       "      <td>c67482ba-2019-04-18T13:32:05Z-00001-000</td>\n",
       "      <td>How do you propose the school will fund your p...</td>\n",
       "      <td>[101, 2129, 2079, 2017, 16599, 1996, 2082, 209...</td>\n",
       "      <td>[1, 1, 1, 1, 1, 1, 1, 1, 1, 1, 1, 1, 1, 1, 1, ...</td>\n",
       "    </tr>\n",
       "    <tr>\n",
       "      <th>2</th>\n",
       "      <td>c67482ba-2019-04-18T13:32:05Z-00002-000</td>\n",
       "      <td>Schools have no compelling interest in providi...</td>\n",
       "      <td>[101, 2816, 2031, 2053, 17075, 3037, 1999, 434...</td>\n",
       "      <td>[1, 1, 1, 1, 1, 1, 1, 1, 1, 1, 1, 1, 1, 1, 1, ...</td>\n",
       "    </tr>\n",
       "    <tr>\n",
       "      <th>3</th>\n",
       "      <td>c67482ba-2019-04-18T13:32:05Z-00003-000</td>\n",
       "      <td>As a senior at my school. My group and I are f...</td>\n",
       "      <td>[101, 2004, 1037, 3026, 2012, 2026, 2082, 1012...</td>\n",
       "      <td>[1, 1, 1, 1, 1, 1, 1, 1, 1, 1, 1, 1, 1, 1, 1, ...</td>\n",
       "    </tr>\n",
       "    <tr>\n",
       "      <th>4</th>\n",
       "      <td>4d3d4471-2019-04-18T11:45:01Z-00000-000</td>\n",
       "      <td>The resolution used by Pro *assumes* that Aust...</td>\n",
       "      <td>[101, 1996, 5813, 2109, 2011, 4013, 1008, 1598...</td>\n",
       "      <td>[1, 1, 1, 1, 1, 1, 1, 1, 1, 1, 1, 1, 1, 1, 1, ...</td>\n",
       "    </tr>\n",
       "    <tr>\n",
       "      <th>...</th>\n",
       "      <td>...</td>\n",
       "      <td>...</td>\n",
       "      <td>...</td>\n",
       "      <td>...</td>\n",
       "    </tr>\n",
       "    <tr>\n",
       "      <th>555496</th>\n",
       "      <td>671509c8-2019-04-17T11:47:34Z-00067-000</td>\n",
       "      <td>Seth Sandronsky. \"Rethinking Charter Schools\"....</td>\n",
       "      <td>[101, 6662, 5472, 28212, 4801, 1012, 1000, 212...</td>\n",
       "      <td>[1, 1, 1, 1, 1, 1, 1, 1, 1, 1, 1, 1, 1, 1, 1, ...</td>\n",
       "    </tr>\n",
       "    <tr>\n",
       "      <th>555497</th>\n",
       "      <td>671509c8-2019-04-17T11:47:34Z-00052-000</td>\n",
       "      <td>Charter schools proliferated too quickly to mo...</td>\n",
       "      <td>[101, 6111, 2816, 4013, 15509, 9250, 2205, 285...</td>\n",
       "      <td>[1, 1, 1, 1, 1, 1, 1, 1, 1, 1, 1, 0, 0, 0, 0, ...</td>\n",
       "    </tr>\n",
       "    <tr>\n",
       "      <th>555498</th>\n",
       "      <td>671509c8-2019-04-17T11:47:34Z-00037-000</td>\n",
       "      <td>Public schools can offer everything charter sc...</td>\n",
       "      <td>[101, 2270, 2816, 2064, 3749, 2673, 6111, 2816...</td>\n",
       "      <td>[1, 1, 1, 1, 1, 1, 1, 1, 1, 1, 0, 0, 0, 0, 0, ...</td>\n",
       "    </tr>\n",
       "    <tr>\n",
       "      <th>555499</th>\n",
       "      <td>671509c8-2019-04-17T11:47:34Z-00022-000</td>\n",
       "      <td>Charter schools are damaging private schools</td>\n",
       "      <td>[101, 6111, 2816, 2024, 15011, 2797, 2816, 102...</td>\n",
       "      <td>[1, 1, 1, 1, 1, 1, 1, 1, 0, 0, 0, 0, 0, 0, 0, ...</td>\n",
       "    </tr>\n",
       "    <tr>\n",
       "      <th>555500</th>\n",
       "      <td>671509c8-2019-04-17T11:47:34Z-00007-000</td>\n",
       "      <td>Charter schools are exploited most by affable ...</td>\n",
       "      <td>[101, 6111, 2816, 2024, 18516, 2087, 2011, 213...</td>\n",
       "      <td>[1, 1, 1, 1, 1, 1, 1, 1, 1, 1, 1, 1, 0, 0, 0, ...</td>\n",
       "    </tr>\n",
       "  </tbody>\n",
       "</table>\n",
       "<p>555501 rows × 4 columns</p>\n",
       "</div>"
      ],
      "text/plain": [
       "                                             id  \\\n",
       "0       c67482ba-2019-04-18T13:32:05Z-00000-000   \n",
       "1       c67482ba-2019-04-18T13:32:05Z-00001-000   \n",
       "2       c67482ba-2019-04-18T13:32:05Z-00002-000   \n",
       "3       c67482ba-2019-04-18T13:32:05Z-00003-000   \n",
       "4       4d3d4471-2019-04-18T11:45:01Z-00000-000   \n",
       "...                                         ...   \n",
       "555496  671509c8-2019-04-17T11:47:34Z-00067-000   \n",
       "555497  671509c8-2019-04-17T11:47:34Z-00052-000   \n",
       "555498  671509c8-2019-04-17T11:47:34Z-00037-000   \n",
       "555499  671509c8-2019-04-17T11:47:34Z-00022-000   \n",
       "555500  671509c8-2019-04-17T11:47:34Z-00007-000   \n",
       "\n",
       "                                                     text  \\\n",
       "0       My opponent forfeited every round. None of my ...   \n",
       "1       How do you propose the school will fund your p...   \n",
       "2       Schools have no compelling interest in providi...   \n",
       "3       As a senior at my school. My group and I are f...   \n",
       "4       The resolution used by Pro *assumes* that Aust...   \n",
       "...                                                   ...   \n",
       "555496  Seth Sandronsky. \"Rethinking Charter Schools\"....   \n",
       "555497  Charter schools proliferated too quickly to mo...   \n",
       "555498  Public schools can offer everything charter sc...   \n",
       "555499       Charter schools are damaging private schools   \n",
       "555500  Charter schools are exploited most by affable ...   \n",
       "\n",
       "                                                input_ids  \\\n",
       "0       [101, 2026, 7116, 2005, 21156, 2098, 2296, 246...   \n",
       "1       [101, 2129, 2079, 2017, 16599, 1996, 2082, 209...   \n",
       "2       [101, 2816, 2031, 2053, 17075, 3037, 1999, 434...   \n",
       "3       [101, 2004, 1037, 3026, 2012, 2026, 2082, 1012...   \n",
       "4       [101, 1996, 5813, 2109, 2011, 4013, 1008, 1598...   \n",
       "...                                                   ...   \n",
       "555496  [101, 6662, 5472, 28212, 4801, 1012, 1000, 212...   \n",
       "555497  [101, 6111, 2816, 4013, 15509, 9250, 2205, 285...   \n",
       "555498  [101, 2270, 2816, 2064, 3749, 2673, 6111, 2816...   \n",
       "555499  [101, 6111, 2816, 2024, 15011, 2797, 2816, 102...   \n",
       "555500  [101, 6111, 2816, 2024, 18516, 2087, 2011, 213...   \n",
       "\n",
       "                                           attention_mask  \n",
       "0       [1, 1, 1, 1, 1, 1, 1, 1, 1, 1, 1, 1, 1, 1, 1, ...  \n",
       "1       [1, 1, 1, 1, 1, 1, 1, 1, 1, 1, 1, 1, 1, 1, 1, ...  \n",
       "2       [1, 1, 1, 1, 1, 1, 1, 1, 1, 1, 1, 1, 1, 1, 1, ...  \n",
       "3       [1, 1, 1, 1, 1, 1, 1, 1, 1, 1, 1, 1, 1, 1, 1, ...  \n",
       "4       [1, 1, 1, 1, 1, 1, 1, 1, 1, 1, 1, 1, 1, 1, 1, ...  \n",
       "...                                                   ...  \n",
       "555496  [1, 1, 1, 1, 1, 1, 1, 1, 1, 1, 1, 1, 1, 1, 1, ...  \n",
       "555497  [1, 1, 1, 1, 1, 1, 1, 1, 1, 1, 1, 0, 0, 0, 0, ...  \n",
       "555498  [1, 1, 1, 1, 1, 1, 1, 1, 1, 1, 0, 0, 0, 0, 0, ...  \n",
       "555499  [1, 1, 1, 1, 1, 1, 1, 1, 0, 0, 0, 0, 0, 0, 0, ...  \n",
       "555500  [1, 1, 1, 1, 1, 1, 1, 1, 1, 1, 1, 1, 0, 0, 0, ...  \n",
       "\n",
       "[555501 rows x 4 columns]"
      ]
     },
     "execution_count": 56,
     "metadata": {},
     "output_type": "execute_result"
    }
   ],
   "source": [
    "args"
   ]
  },
  {
   "cell_type": "code",
   "execution_count": 46,
   "metadata": {},
   "outputs": [],
   "source": [
    "model = AutoModel.from_pretrained(MODEL_TO_USE)\n",
    "gpu = torch.device('cuda')\n",
    "model = model.cuda()"
   ]
  },
  {
   "cell_type": "code",
   "execution_count": 49,
   "metadata": {},
   "outputs": [
    {
     "data": {
      "application/vnd.jupyter.widget-view+json": {
       "model_id": "acc962e89a9545228ff67bac8eaf66df",
       "version_major": 2,
       "version_minor": 0
      },
      "text/plain": [
       "HBox(children=(FloatProgress(value=0.0, max=8679.0), HTML(value='')))"
      ]
     },
     "metadata": {},
     "output_type": "display_data"
    },
    {
     "name": "stdout",
     "output_type": "stream",
     "text": [
      "\n"
     ]
    }
   ],
   "source": [
    "outputs = []\n",
    "for batch_i, batch_m in tqdmnb(zip(np.array_split(i, 8679), np.array_split(m, 8679)), total=8679):\n",
    "    tensor_i = torch.tensor(batch_i).to(gpu)\n",
    "    tensor_m = torch.tensor(batch_m).to(gpu)\n",
    "    with torch.no_grad():\n",
    "        output = model(tensor_i, attention_mask=tensor_m)[0][:,0,:].cpu().numpy()\n",
    "        outputs.append(output)"
   ]
  },
  {
   "cell_type": "code",
   "execution_count": 50,
   "metadata": {},
   "outputs": [],
   "source": [
    "arg_representations = np.vstack(outputs)"
   ]
  },
  {
   "cell_type": "code",
   "execution_count": 53,
   "metadata": {},
   "outputs": [
    {
     "name": "stdout",
     "output_type": "stream",
     "text": [
      "CPU times: user 0 ns, sys: 1.14 s, total: 1.14 s\n",
      "Wall time: 1.27 s\n"
     ]
    }
   ],
   "source": [
    "%%time\n",
    "np.save(f'./arg_representations_{MODEL_TO_USE}', arg_representations)"
   ]
  },
  {
   "cell_type": "code",
   "execution_count": 52,
   "metadata": {},
   "outputs": [
    {
     "data": {
      "text/plain": [
       "array([[ 0.22579737, -0.07349378, -1.0474814 , ..., -0.9103607 ,\n",
       "        -0.20819543, -0.17666322],\n",
       "       [-0.1498387 , -0.4468132 , -0.99795085, ..., -1.2222996 ,\n",
       "        -0.06732306,  0.26513594],\n",
       "       [ 0.47659963, -1.0098528 , -0.6905463 , ..., -0.86388797,\n",
       "        -0.432725  ,  0.15581201],\n",
       "       ...,\n",
       "       [-0.08755945, -0.49159864, -0.62298226, ..., -0.6357609 ,\n",
       "        -0.41940513,  0.25646588],\n",
       "       [ 0.0292035 , -0.8047588 , -0.3333864 , ..., -0.4762738 ,\n",
       "        -0.7674418 ,  0.17478399],\n",
       "       [-0.35893157, -0.23544711, -1.0336562 , ..., -0.09143204,\n",
       "        -0.5442716 ,  0.21634527]], dtype=float32)"
      ]
     },
     "execution_count": 52,
     "metadata": {},
     "output_type": "execute_result"
    }
   ],
   "source": [
    "arg_representations"
   ]
  },
  {
   "cell_type": "code",
   "execution_count": null,
   "metadata": {},
   "outputs": [],
   "source": []
  }
 ],
 "metadata": {
  "kernelspec": {
   "display_name": "Python 3",
   "language": "python",
   "name": "python3"
  },
  "language_info": {
   "codemirror_mode": {
    "name": "ipython",
    "version": 3
   },
   "file_extension": ".py",
   "mimetype": "text/x-python",
   "name": "python",
   "nbconvert_exporter": "python",
   "pygments_lexer": "ipython3",
   "version": "3.6.9"
  }
 },
 "nbformat": 4,
 "nbformat_minor": 4
}
