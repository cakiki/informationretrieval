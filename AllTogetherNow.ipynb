{
 "cells": [
  {
   "cell_type": "code",
   "execution_count": 1,
   "metadata": {},
   "outputs": [
    {
     "data": {
      "text/html": [
       "<style>.container { width:95% !important; }</style>"
      ],
      "text/plain": [
       "<IPython.core.display.HTML object>"
      ]
     },
     "metadata": {},
     "output_type": "display_data"
    }
   ],
   "source": [
    "from IPython.core.display import display, HTML\n",
    "display(HTML(\"<style>.container { width:95% !important; }</style>\"))\n",
    "from ipywidgets import Output\n",
    "out = Output()"
   ]
  },
  {
   "cell_type": "code",
   "execution_count": 2,
   "metadata": {},
   "outputs": [],
   "source": [
    "!pip install --disable-pip-version-check -q pandas transformers seaborn tensorflow_hub elasticsearch elasticsearch-dsl torch annoy faiss-cpu\n",
    "!pip install --disable-pip-version-check -qU scikit-learn nltk spacy\n",
    "!pip -q install --disable-pip-version-check --no-warn-script-location --user tensorflow-text \n",
    "with out:\n",
    "    !python -m spacy download en_core_web_sm\n",
    "#UNCOMMENT IF RUNNING ON GPU BECAUSE TENSORFLOW TEXT DISABLES GPU ACCESS \n",
    "#!pip -q uninstall -y tensorflow"
   ]
  },
  {
   "cell_type": "code",
   "execution_count": 1,
   "metadata": {},
   "outputs": [],
   "source": [
    "from utils import *"
   ]
  },
  {
   "cell_type": "markdown",
   "metadata": {},
   "source": [
    "# Make sure Elasticsearch is alive"
   ]
  },
  {
   "cell_type": "code",
   "execution_count": 6,
   "metadata": {},
   "outputs": [
    {
     "data": {
      "text/plain": [
       "True"
      ]
     },
     "execution_count": 6,
     "metadata": {},
     "output_type": "execute_result"
    }
   ],
   "source": [
    "es = Elasticsearch(timeout=100)\n",
    "es.ping()"
   ]
  },
  {
   "cell_type": "code",
   "execution_count": 13,
   "metadata": {
    "scrolled": true
   },
   "outputs": [
    {
     "data": {
      "text/plain": [
       "{'arg_index': {'mappings': {'properties': {'conclusion': {'type': 'text'},\n",
       "    'context': {'properties': {'sourceId': {'type': 'keyword'}}},\n",
       "    'stance': {'type': 'keyword'},\n",
       "    'text': {'type': 'text', 'similarity': 'my_dirichlet'}}}}}"
      ]
     },
     "execution_count": 13,
     "metadata": {},
     "output_type": "execute_result"
    }
   ],
   "source": [
    "es.indices.get_mapping(index=\"arg_index\")"
   ]
  },
  {
   "cell_type": "markdown",
   "metadata": {},
   "source": [
    "# Load the Topics, Judgments and Arguments into DataFrames"
   ]
  },
  {
   "cell_type": "code",
   "execution_count": 16,
   "metadata": {},
   "outputs": [
    {
     "data": {
      "text/html": [
       "<div>\n",
       "<style scoped>\n",
       "    .dataframe tbody tr th:only-of-type {\n",
       "        vertical-align: middle;\n",
       "    }\n",
       "\n",
       "    .dataframe tbody tr th {\n",
       "        vertical-align: top;\n",
       "    }\n",
       "\n",
       "    .dataframe thead th {\n",
       "        text-align: right;\n",
       "    }\n",
       "</style>\n",
       "<table border=\"1\" class=\"dataframe\">\n",
       "  <thead>\n",
       "    <tr style=\"text-align: right;\">\n",
       "      <th></th>\n",
       "      <th>topic</th>\n",
       "      <th>query</th>\n",
       "    </tr>\n",
       "  </thead>\n",
       "  <tbody>\n",
       "    <tr>\n",
       "      <th>0</th>\n",
       "      <td>1</td>\n",
       "      <td>Should Teachers Get Tenure?</td>\n",
       "    </tr>\n",
       "    <tr>\n",
       "      <th>1</th>\n",
       "      <td>2</td>\n",
       "      <td>Is Vaping with E-Cigarettes Safe?</td>\n",
       "    </tr>\n",
       "  </tbody>\n",
       "</table>\n",
       "</div>"
      ],
      "text/plain": [
       "   topic                              query\n",
       "0      1        Should Teachers Get Tenure?\n",
       "1      2  Is Vaping with E-Cigarettes Safe?"
      ]
     },
     "metadata": {},
     "output_type": "display_data"
    },
    {
     "data": {
      "text/html": [
       "<div>\n",
       "<style scoped>\n",
       "    .dataframe tbody tr th:only-of-type {\n",
       "        vertical-align: middle;\n",
       "    }\n",
       "\n",
       "    .dataframe tbody tr th {\n",
       "        vertical-align: top;\n",
       "    }\n",
       "\n",
       "    .dataframe thead th {\n",
       "        text-align: right;\n",
       "    }\n",
       "</style>\n",
       "<table border=\"1\" class=\"dataframe\">\n",
       "  <thead>\n",
       "    <tr style=\"text-align: right;\">\n",
       "      <th></th>\n",
       "      <th>topic</th>\n",
       "      <th>iteration</th>\n",
       "      <th>id</th>\n",
       "      <th>relevance</th>\n",
       "    </tr>\n",
       "  </thead>\n",
       "  <tbody>\n",
       "    <tr>\n",
       "      <th>0</th>\n",
       "      <td>9</td>\n",
       "      <td>0</td>\n",
       "      <td>5f1c7022-2019-04-18T15:36:48Z-00005-000</td>\n",
       "      <td>3</td>\n",
       "    </tr>\n",
       "    <tr>\n",
       "      <th>1</th>\n",
       "      <td>30</td>\n",
       "      <td>0</td>\n",
       "      <td>8e2fdd07-2019-04-18T15:40:20Z-00003-000</td>\n",
       "      <td>3</td>\n",
       "    </tr>\n",
       "  </tbody>\n",
       "</table>\n",
       "</div>"
      ],
      "text/plain": [
       "   topic  iteration                                       id  relevance\n",
       "0      9          0  5f1c7022-2019-04-18T15:36:48Z-00005-000          3\n",
       "1     30          0  8e2fdd07-2019-04-18T15:40:20Z-00003-000          3"
      ]
     },
     "metadata": {},
     "output_type": "display_data"
    },
    {
     "data": {
      "text/html": [
       "<div>\n",
       "<style scoped>\n",
       "    .dataframe tbody tr th:only-of-type {\n",
       "        vertical-align: middle;\n",
       "    }\n",
       "\n",
       "    .dataframe tbody tr th {\n",
       "        vertical-align: top;\n",
       "    }\n",
       "\n",
       "    .dataframe thead th {\n",
       "        text-align: right;\n",
       "    }\n",
       "</style>\n",
       "<table border=\"1\" class=\"dataframe\">\n",
       "  <thead>\n",
       "    <tr style=\"text-align: right;\">\n",
       "      <th></th>\n",
       "      <th>text</th>\n",
       "      <th>stance</th>\n",
       "      <th>id</th>\n",
       "      <th>conclusion</th>\n",
       "      <th>context.sourceId</th>\n",
       "      <th>context.previousArgumentInSourceId</th>\n",
       "      <th>context.acquisitionTime</th>\n",
       "      <th>context.discussionTitle</th>\n",
       "      <th>context.sourceTitle</th>\n",
       "      <th>context.sourceUrl</th>\n",
       "      <th>context.nextArgumentInSourceId</th>\n",
       "    </tr>\n",
       "  </thead>\n",
       "  <tbody>\n",
       "    <tr>\n",
       "      <th>0</th>\n",
       "      <td>My opponent forfeited every round. None of my ...</td>\n",
       "      <td>CON</td>\n",
       "      <td>c67482ba-2019-04-18T13:32:05Z-00000-000</td>\n",
       "      <td>Contraceptive Forms for High School Students</td>\n",
       "      <td>c67482ba-2019-04-18T13:32:05Z</td>\n",
       "      <td></td>\n",
       "      <td>2019-04-18T13:32:05Z</td>\n",
       "      <td>Contraceptive Forms for High School Students</td>\n",
       "      <td>Debate Argument: Contraceptive Forms for High ...</td>\n",
       "      <td>https://www.debate.org/debates/Contraceptive-F...</td>\n",
       "      <td>c67482ba-2019-04-18T13:32:05Z-00001-000</td>\n",
       "    </tr>\n",
       "    <tr>\n",
       "      <th>1</th>\n",
       "      <td>How do you propose the school will fund your p...</td>\n",
       "      <td>CON</td>\n",
       "      <td>c67482ba-2019-04-18T13:32:05Z-00001-000</td>\n",
       "      <td>Contraceptive Forms for High School Students</td>\n",
       "      <td>c67482ba-2019-04-18T13:32:05Z</td>\n",
       "      <td>c67482ba-2019-04-18T13:32:05Z-00000-000</td>\n",
       "      <td>2019-04-18T13:32:05Z</td>\n",
       "      <td>Contraceptive Forms for High School Students</td>\n",
       "      <td>Debate Argument: Contraceptive Forms for High ...</td>\n",
       "      <td>https://www.debate.org/debates/Contraceptive-F...</td>\n",
       "      <td>c67482ba-2019-04-18T13:32:05Z-00002-000</td>\n",
       "    </tr>\n",
       "  </tbody>\n",
       "</table>\n",
       "</div>"
      ],
      "text/plain": [
       "                                                text stance  \\\n",
       "0  My opponent forfeited every round. None of my ...    CON   \n",
       "1  How do you propose the school will fund your p...    CON   \n",
       "\n",
       "                                        id  \\\n",
       "0  c67482ba-2019-04-18T13:32:05Z-00000-000   \n",
       "1  c67482ba-2019-04-18T13:32:05Z-00001-000   \n",
       "\n",
       "                                     conclusion  \\\n",
       "0  Contraceptive Forms for High School Students   \n",
       "1  Contraceptive Forms for High School Students   \n",
       "\n",
       "                context.sourceId       context.previousArgumentInSourceId  \\\n",
       "0  c67482ba-2019-04-18T13:32:05Z                                            \n",
       "1  c67482ba-2019-04-18T13:32:05Z  c67482ba-2019-04-18T13:32:05Z-00000-000   \n",
       "\n",
       "  context.acquisitionTime                       context.discussionTitle  \\\n",
       "0    2019-04-18T13:32:05Z  Contraceptive Forms for High School Students   \n",
       "1    2019-04-18T13:32:05Z  Contraceptive Forms for High School Students   \n",
       "\n",
       "                                 context.sourceTitle  \\\n",
       "0  Debate Argument: Contraceptive Forms for High ...   \n",
       "1  Debate Argument: Contraceptive Forms for High ...   \n",
       "\n",
       "                                   context.sourceUrl  \\\n",
       "0  https://www.debate.org/debates/Contraceptive-F...   \n",
       "1  https://www.debate.org/debates/Contraceptive-F...   \n",
       "\n",
       "            context.nextArgumentInSourceId  \n",
       "0  c67482ba-2019-04-18T13:32:05Z-00001-000  \n",
       "1  c67482ba-2019-04-18T13:32:05Z-00002-000  "
      ]
     },
     "metadata": {},
     "output_type": "display_data"
    },
    {
     "name": "stdout",
     "output_type": "stream",
     "text": [
      "CPU times: user 713 ms, sys: 409 ms, total: 1.12 s\n",
      "Wall time: 1.12 s\n"
     ]
    }
   ],
   "source": [
    "%%time\n",
    "judgments = pd.read_csv('Data/tira-qrels', delim_whitespace=True, names=['topic','iteration','id','relevance'])\n",
    "arguments = pd.read_pickle('Data/dataset.pkl')\n",
    "\n",
    "tree = ET.parse('Data/topics-automatic-runs-task-1.xml')\n",
    "root = tree.getroot()\n",
    "\n",
    "topics = []\n",
    "for child in root:\n",
    "    d = {'topic':int(child[0].text), 'query':child[1].text}\n",
    "    topics.append(d)\n",
    "topics = pd.DataFrame(topics)\n",
    "display(topics[:2])\n",
    "display(judgments[:2])\n",
    "display(arguments[:2])"
   ]
  },
  {
   "cell_type": "markdown",
   "metadata": {},
   "source": [
    "# Load the semantic indices"
   ]
  },
  {
   "cell_type": "code",
   "execution_count": 5,
   "metadata": {},
   "outputs": [
    {
     "name": "stdout",
     "output_type": "stream",
     "text": [
      "Index already exists, now loading UniversalSentenceEncoderEmbeddings_angular_5\n",
      "Now reading in argument ids\n",
      "No tokenized pickle. Reading original dataset.\n",
      "-------------------\n",
      "-------ANNOY-------\n",
      "-------------------\n",
      "Index already exists, now loading UniversalSentenceEncoderEmbeddings_64_8\n",
      "Now reading in argument ids\n",
      "No tokenized pickle. Reading original dataset.\n",
      "-------------------\n",
      "-------FAISS-------\n",
      "-------------------\n",
      "Index already exists, now loading autoencoded_distilbert-base-uncased_1024_angular_5\n",
      "Now reading in argument ids\n",
      "Found tokenized pickle.\n",
      "-------------------\n",
      "-------ANNOY-------\n",
      "-------------------\n",
      "Index already exists, now loading autoencoded_distilbert-base-uncased_1024_64_8\n",
      "Now reading in argument ids\n",
      "Found tokenized pickle.\n",
      "-------------------\n",
      "-------FAISS-------\n",
      "-------------------\n"
     ]
    },
    {
     "data": {
      "application/vnd.jupyter.widget-view+json": {
       "model_id": "535df9c782d046e29d924cac3bd2f233",
       "version_major": 2,
       "version_minor": 0
      },
      "text/plain": [
       "HBox(children=(FloatProgress(value=0.0, description='Downloading', max=546.0, style=ProgressStyle(description_…"
      ]
     },
     "metadata": {},
     "output_type": "display_data"
    },
    {
     "name": "stdout",
     "output_type": "stream",
     "text": [
      "\n",
      "Index already exists, now loading distilbert-base-uncased_angular_5_0_to_2\n",
      "Now reading in argument ids\n",
      "Found tokenized pickle.\n",
      "-------------------\n",
      "-------ANNOY-------\n",
      "-------------------\n",
      "Index already exists, now loading distilbert-base-uncased_64_8_0_to_2\n",
      "Now reading in argument ids\n",
      "Found tokenized pickle.\n",
      "-------------------\n",
      "-------FAISS-------\n",
      "-------------------\n",
      "CPU times: user 12.2 s, sys: 4.25 s, total: 16.4 s\n",
      "Wall time: 17.4 s\n"
     ]
    }
   ],
   "source": [
    "%%time\n",
    "current_dir = Path(\".\")\n",
    "encoded_dir = current_dir / \"Encoded\"\n",
    "tokenized_dir = current_dir / \"Tokenized\"\n",
    "indices = {}\n",
    "for file in encoded_dir.iterdir():\n",
    "    annoy_index, arg_ids = make_or_load_annoy(embedding_posix=file, n_trees=5, b=2)\n",
    "    pq_index, _ = make_or_load_pq(embedding_posix=file, b=2)\n",
    "    indices[file.stem] = {\"annoy_index\":annoy_index, \"pq_index\":pq_index, \"arg_ids\":arg_ids}\n",
    "\n",
    "annoy_d = indices['distilbert-base-uncased']['annoy_index']\n",
    "pq_d = indices['distilbert-base-uncased']['pq_index']\n",
    "ids_d = indices['distilbert-base-uncased']['arg_ids']\n",
    "\n",
    "annoy_a = indices['autoencoded_distilbert-base-uncased_1024']['annoy_index']\n",
    "pq_a = indices['autoencoded_distilbert-base-uncased_1024']['pq_index']\n",
    "ids_a = indices['autoencoded_distilbert-base-uncased_1024']['arg_ids']\n",
    "\n",
    "annoy_g = indices['UniversalSentenceEncoderEmbeddings']['annoy_index']\n",
    "pq_g = indices['UniversalSentenceEncoderEmbeddings']['pq_index']\n",
    "ids_g = indices['UniversalSentenceEncoderEmbeddings']['arg_ids']"
   ]
  },
  {
   "cell_type": "markdown",
   "metadata": {},
   "source": [
    "# Load the embedding neural networks"
   ]
  },
  {
   "cell_type": "code",
   "execution_count": 8,
   "metadata": {},
   "outputs": [],
   "source": [
    "#LOAD DISTILBERT\n",
    "config = AutoConfig.from_pretrained('distilbert-base-uncased')\n",
    "config.output_hidden_states=True\n",
    "tokenizer = AutoTokenizer.from_pretrained('distilbert-base-uncased')\n",
    "dbert = TFAutoModel.from_pretrained('distilbert-base-uncased', config=config)\n",
    "#LOAD UNIVERSAL SENTENCE ENCODER\n",
    "embed = hub.load(\"https://tfhub.dev/google/universal-sentence-encoder/4\")\n",
    "#LOAD AUTOENCODER\n",
    "MODEL_TO_USE = 'distilbert-base-uncased'\n",
    "model_version = \"0001\"\n",
    "model_name = f\"Encoder{MODEL_TO_USE}_1024\"\n",
    "folder_name = \"Autoencoder_encoder\"\n",
    "model_path = Path('.') / folder_name / model_name / model_version\n",
    "ae_e = tf.saved_model.load(str(model_path))"
   ]
  },
  {
   "cell_type": "code",
   "execution_count": 68,
   "metadata": {},
   "outputs": [],
   "source": [
    "query = \"Abortion is not good\"\n",
    "num_vectors_to_find = 10000"
   ]
  },
  {
   "cell_type": "markdown",
   "metadata": {},
   "source": [
    "# Embed the query using every one of the embedders"
   ]
  },
  {
   "cell_type": "code",
   "execution_count": 51,
   "metadata": {},
   "outputs": [],
   "source": [
    "%%time\n",
    "#GET EMBEDDING FROM DISTILBERT\n",
    "mod_input = tokenizer.encode_plus(query)\n",
    "i = tf.constant(mod_input['input_ids'])[None, :]\n",
    "m = tf.constant(mod_input['attention_mask'])[None, :]\n",
    "output = dbert(i, attention_mask=m, training=False)\n",
    "embedding = np.hstack([thing.numpy()[:,0,:] for thing in reversed(output[-1])])\n",
    "d_embedding = embedding[:, 0*config.dim:2*config.dim]\n",
    "\n",
    "#GET EMBEDDING FROM UNIVERSAL SENTENCE ENCODER\n",
    "g_embedding = embed([query]).numpy()\n",
    "\n",
    "#GET EMBEDDING FROM AUTOENCODER\n",
    "a_embedding = embedding[:,:-config.dim]\n",
    "a_embedding = ae_e(tf.constant(a_embedding)).numpy()"
   ]
  },
  {
   "cell_type": "markdown",
   "metadata": {},
   "source": [
    "# Query FAISS and ANNOY for every embedding (6 different indices: 2 per embedding) and store the returned argument ids in a resultset corresponding to the index"
   ]
  },
  {
   "cell_type": "code",
   "execution_count": 52,
   "metadata": {},
   "outputs": [
    {
     "name": "stdout",
     "output_type": "stream",
     "text": [
      "CPU times: user 2.93 s, sys: 0 ns, total: 2.93 s\n",
      "Wall time: 429 ms\n"
     ]
    }
   ],
   "source": [
    "%%time\n",
    "result_indices = annoy_d.get_nns_by_vector(d_embedding.squeeze(), num_vectors_to_find, search_k=-1, include_distances=False)\n",
    "set_d_annoy = set(ids_d['id'][result_indices].values)\n",
    "\n",
    "result_indices = annoy_a.get_nns_by_vector(a_embedding.squeeze(), num_vectors_to_find, search_k=-1, include_distances=False)\n",
    "set_a_annoy = set(ids_d['id'][result_indices].values)\n",
    "\n",
    "result_indices = annoy_g.get_nns_by_vector(g_embedding.squeeze(), num_vectors_to_find, search_k=-1, include_distances=False)\n",
    "set_g_annoy = set(ids_d['id'][result_indices].values)\n",
    "\n",
    "_, result_indices = pq_d.search(d_embedding, num_vectors_to_find)  \n",
    "result_indices = result_indices.squeeze()\n",
    "set_d_pq = set(ids_d['id'][result_indices].values)\n",
    "\n",
    "_, result_indices = pq_a.search(a_embedding, num_vectors_to_find)  \n",
    "result_indices = result_indices.squeeze()\n",
    "set_a_pq = set(ids_a['id'][result_indices].values)\n",
    "\n",
    "_, result_indices = pq_g.search(g_embedding, num_vectors_to_find)  \n",
    "result_indices = result_indices.squeeze()\n",
    "set_g_pq = set(ids_g['id'][result_indices].values)"
   ]
  },
  {
   "cell_type": "markdown",
   "metadata": {},
   "source": [
    "# Run query against the Elasticsearch index and store the resulting argument ids in a set"
   ]
  },
  {
   "cell_type": "code",
   "execution_count": 10,
   "metadata": {},
   "outputs": [],
   "source": [
    "query = \"Should Animals Be Used for Scientific or Commercial Testing?\""
   ]
  },
  {
   "cell_type": "code",
   "execution_count": 11,
   "metadata": {},
   "outputs": [
    {
     "name": "stdout",
     "output_type": "stream",
     "text": [
      "CPU times: user 117 ms, sys: 53.6 ms, total: 170 ms\n",
      "Wall time: 2.62 s\n"
     ]
    }
   ],
   "source": [
    "%%time\n",
    "s = Search(using=es, index=\"arg_index\")\n",
    "\n",
    "s.query = Q(\"match\", text=query)\n",
    "s = s[:10000]\n",
    "\n",
    "response = s.execute()"
   ]
  },
  {
   "cell_type": "code",
   "execution_count": 13,
   "metadata": {},
   "outputs": [],
   "source": [
    "elastic_set = set()\n",
    "elastic_dic = {}\n",
    "for hit in response:\n",
    "    elastic_set.add(hit.meta.id)\n",
    "    elastic_dic[hit.meta.id] = hit.meta.score"
   ]
  },
  {
   "cell_type": "code",
   "execution_count": 14,
   "metadata": {},
   "outputs": [
    {
     "name": "stdout",
     "output_type": "stream",
     "text": [
      "PRO ARGUMENT CONCLUSION: Animals Should Be Used For Scientific or Commercial Testing.\n",
      "PRO ARGUMENT CONCLUSION: Monkeys should be considered persons in the eyes of the law\n",
      "CON ARGUMENT CONCLUSION: animal testing.\n",
      "CON ARGUMENT CONCLUSION: Animals Should Be Used For Scientific or Commercial Testing.\n",
      "CON ARGUMENT CONCLUSION: Experimenting on animals for science purposes shouldn't be banned\n",
      "CON ARGUMENT CONCLUSION: Animal testing does more good than harm.\n",
      "PRO ARGUMENT CONCLUSION: Animal testing should be banned\n",
      "CON ARGUMENT CONCLUSION: Animal rights\n",
      "CON ARGUMENT CONCLUSION: Should animal testing be banned\n",
      "CON ARGUMENT CONCLUSION: The US federal Government should ban ALL testing that requires the use of animals.\n",
      "PRO ARGUMENT CONCLUSION: Animal Testing should be allowed\n",
      "CON ARGUMENT CONCLUSION: Animal Testing should be allowed\n",
      "PRO ARGUMENT CONCLUSION: Monkeys should be considered persons in the eyes of the law\n",
      "CON ARGUMENT CONCLUSION: animal expirimentation\n",
      "CON ARGUMENT CONCLUSION: Animal Testing\n",
      "CON ARGUMENT CONCLUSION: Animal Testing\n",
      "CON ARGUMENT CONCLUSION: Animal Testing\n",
      "CON ARGUMENT CONCLUSION: An alternative for animal testing should be found.\n",
      "CON ARGUMENT CONCLUSION: Animal Testing\n",
      "PRO ARGUMENT CONCLUSION: Animal Testing\n"
     ]
    }
   ],
   "source": [
    "for hit in response[:20]:\n",
    "    print(f\"{hit.stance} ARGUMENT CONCLUSION: {hit.conclusion}\")"
   ]
  },
  {
   "cell_type": "markdown",
   "metadata": {},
   "source": [
    "# Expand the original query using transformer-based language models, both causal and not"
   ]
  },
  {
   "cell_type": "markdown",
   "metadata": {},
   "source": [
    "## Use a Cloze (Masked, BERT-like) Language Model to generate a list of keywords relevant to the original query and run those against the Elasticsearch index"
   ]
  },
  {
   "cell_type": "code",
   "execution_count": 44,
   "metadata": {},
   "outputs": [],
   "source": [
    "tokenizer_mlm = AutoTokenizer.from_pretrained('bert-large-uncased')\n",
    "model_mlm = BertForMaskedLM.from_pretrained('bert-large-uncased')"
   ]
  },
  {
   "cell_type": "code",
   "execution_count": 45,
   "metadata": {},
   "outputs": [
    {
     "name": "stdout",
     "output_type": "stream",
     "text": [
      "['infection', 'toxicity', 'development', 'human', 'accidental', 'blood', 'poverty', 'technology', 'research', 'infancy', 'animal', 'pregnancy', 'health', 'humans', 'stress', 'death', 'medicine', 'testing', 'cost', 'injury', 'disease', 'science', 'birth', 'fear', 'animals']\n",
      "CPU times: user 38.8 s, sys: 692 ms, total: 39.5 s\n",
      "Wall time: 3.29 s\n"
     ]
    }
   ],
   "source": [
    "%%time\n",
    "keywords = expand_mlm(model=model_mlm, tokenizer=tokenizer_mlm, query=\"Should Animals Be Used for Scientific or Commercial Testing?\", k=3)\n",
    "print(keywords)"
   ]
  },
  {
   "cell_type": "code",
   "execution_count": 47,
   "metadata": {},
   "outputs": [
    {
     "name": "stdout",
     "output_type": "stream",
     "text": [
      "CPU times: user 379 ms, sys: 8.05 ms, total: 387 ms\n",
      "Wall time: 1.03 s\n"
     ]
    }
   ],
   "source": [
    "%%time\n",
    "s = Search(using=es, index=\"arguments_index\")\n",
    "s.query = Q(\"match\", text=' '.join(keywords))\n",
    "s = s[:10000]\n",
    "\n",
    "response = s.execute()\n",
    "mlm_set = set()\n",
    "mlm_dic = {}\n",
    "for hit in response:\n",
    "    mlm_set.add(hit.meta.id)\n",
    "    mlm_dic[hit.meta.id] =hit.meta.score"
   ]
  },
  {
   "cell_type": "code",
   "execution_count": 48,
   "metadata": {},
   "outputs": [
    {
     "name": "stdout",
     "output_type": "stream",
     "text": [
      "PRO ARGUMENT CONCLUSION: The US federal Government should ban ALL testing that requires the use of animals.\n",
      "CON ARGUMENT CONCLUSION: Medical testing on animals does more good than harm.\n",
      "CON ARGUMENT CONCLUSION: animal testing.\n",
      "CON ARGUMENT CONCLUSION: Animal Testing does more harm than good\n",
      "PRO ARGUMENT CONCLUSION: Stem cell research on all types of stem cells should be completely legal\n",
      "PRO ARGUMENT CONCLUSION: Animals should be tested on\n",
      "PRO ARGUMENT CONCLUSION: Animals Should Be Used For Scientific or Commercial Testing.\n",
      "CON ARGUMENT CONCLUSION: Should animals be used for research (pro:yes con:no)\n",
      "PRO ARGUMENT CONCLUSION: Animal Testing\n",
      "PRO ARGUMENT CONCLUSION: Ethics Is More Important Than Science\n",
      "CON ARGUMENT CONCLUSION: Animal Testing\n",
      "PRO ARGUMENT CONCLUSION: People for Ethical Treatment of Animals\n",
      "PRO ARGUMENT CONCLUSION: Animal Testing\n",
      "CON ARGUMENT CONCLUSION: Animal Testing\n",
      "CON ARGUMENT CONCLUSION: Animal testing for medical research\n",
      "PRO ARGUMENT CONCLUSION: Animal Testing\n",
      "CON ARGUMENT CONCLUSION: Animal Testing\n",
      "PRO ARGUMENT CONCLUSION: This House Would Ban Animal Testing\n",
      "PRO ARGUMENT CONCLUSION: Animal Testing\n",
      "PRO ARGUMENT CONCLUSION: March Beginners Tournament: Animal Rights\n"
     ]
    }
   ],
   "source": [
    "for hit in response[:20]:\n",
    "    print(f\"{hit.stance} ARGUMENT CONCLUSION: {hit.conclusion}\")"
   ]
  },
  {
   "cell_type": "markdown",
   "metadata": {},
   "source": [
    "## Use a causal transformer language model (GPT2-like) to hallucinate new queries and run those against the Elasticsearch index"
   ]
  },
  {
   "cell_type": "code",
   "execution_count": 2,
   "metadata": {},
   "outputs": [],
   "source": [
    "LM_MODEL_TO_USE = \"gpt2\"\n",
    "tokenizer_lm = AutoTokenizer.from_pretrained(LM_MODEL_TO_USE)\n",
    "model_lm = AutoModelWithLMHead.from_pretrained(LM_MODEL_TO_USE)"
   ]
  },
  {
   "cell_type": "code",
   "execution_count": 3,
   "metadata": {},
   "outputs": [
    {
     "name": "stdout",
     "output_type": "stream",
     "text": [
      " \n",
      "Hallucinated 1 for query 1:  it's not a science.What is your favourite movie of all times, any more than most people would love an ice cream sandwich that they have on their plate when the day before has arrived and eaten at 3pm in front Ofelia St.? Well I guess some kids are just looking up to movies from such as The Muppets which had its timepiece set upon by John Carpenter while being\n",
      " \n",
      " \n",
      "Hallucinated 2 for query 1:  that's what they are. So the fact we have animals on our farms is an important point of emphasis in animal welfare policy and scientific research so there needs to be evidence, but this will not only help with a good comparison as opposed by saying if something does exist then it must necessarily work within human beings' rights law.\"On July 1st at 4:00 pm Eastern time (12am\n",
      " \n",
      " \n",
      "Hallucinated 3 for query 1:  of how much effort it takes to make sure animals have the proper diet, nutrition and training. But this also helps humans better understand their own needs so that they can help each other live as best human beings possible without fear:\n",
      "\n",
      "1) Animal testing will always give more information than a commercial lab would; 2). If an animal is given antibiotics before we test them in order not only could something like\n",
      " \n",
      " \n",
      "Hallucinated 1 for query 2:  You may have heard about \"piloting\". Poultry, chickens and other large mammals such as sheep are known to use a variety of chemicals that will be released when exposed during breeding season at low temperatures on the land (elements in this range usually include sulfuric acid). They also contain nitrogen oxide which releases toxins after fertilization by their parents/fertiles before they can develop into an\n",
      " \n",
      " \n",
      "Hallucinated 2 for query 2:  They're used to making drugs, vaccines and medicines in a laboratory that's safe enough but has some drawbacks too so there are plenty of ways humans can take them over time if necessary as well (especially with respect the human body). I've heard about this from someone who got an animal taken off his farm before testing positive on something called \"Piggy\" – where pigs don't get pregnant even\n",
      " \n",
      " \n",
      "Hallucinated 3 for query 2:  It's an interesting topic, and there are some intriguing ideas to be explored in it (I have seen many that were thought up by other scientists.) But as far back we could go on this issue of animal experimentation becomes more prevalent with time. There will always come a point at which the need arises where no scientific question ever should matter because \"science doesn't care\" even when asked otherwise; however\n",
      " \n",
      " \n",
      "Hallucinated 1 for query 3:  they are the ONLY way to test a human being.The New York Times has recently updated its report on Russia's annexation of Crimea and announced that Moscow will hold \"an unprecedented referendum\" by June 15, 2014 — just as President Vladimir Putin had promised last year in Sochi: if Ukraine rejects his demands over independence from Kiev; which it may be doing with little fanfare at all this time next\n",
      " \n",
      " \n",
      "Hallucinated 2 for query 3:  it is the only scientific and medical purpose to develop such methods of experimentation, testing by dogs on humans. If this was true then how could anyone believe that using animals in experiments would be safe from adverse effects upon human health unless they knew where these tests were coming off??? There are other studies about cats being tested under artificial conditions which may have some side benefits when used against their owners... In general I\n",
      " \n",
      " \n",
      "Hallucinated 3 for query 3:  we are not testing anything that is going to hurt us and it could kill the animals, so please don't ask.We all know this from an article by Richard Hofstadter called \"The Future of Food\": The Science Behind Soy Sauce Is A Key Factor In Its Consumption & Health Effects (in French). He describes how there's been a growing body research into genetically modifying food using engineered ingredients\n",
      " \n",
      " \n",
      "Hallucinated 1 for query 4:  We believe that animal testing should not be used in biomedical research and are concerned with protecting our public safety from unethical uses of animals (such as commercial breeding) without a compelling reason.\"\n",
      "Sitting at the front seat behind me, I can't help but notice my daughter's expression change when she tells us to go out into town while her husband walks through some old-school music hall building right\n",
      " \n",
      " \n",
      "Hallucinated 2 for query 4:  As long as we allow the research and experimentation of animals to flourish, there will always be animal testing on any scientific test subject - but when a new technology enters into this arena that brings it in touch with human experience becomes possible; how much more difficult would life's biggest risk become?\"A large number are currently under contract at Amazon Web Services (AWS), meaning many businesses can't afford their\n",
      " \n",
      " \n",
      "Hallucinated 3 for query 4:  The only scientific evidence in support of animal experimentation and the use thereof by human beings, though obviously there are some animals who will die at an alarming rate when exposed to toxic chemicals due primarily not just to environmental toxicity but also other psychological factors (e...For years there has been speculation that Nintendo could be taking their own brand out from Super Mario Bros as it was dubbed after one man's creation –\n",
      " \n",
      " \n",
      "Hallucinated 1 for query 5:  if the animals used were made to produce products that can be tested by any other type of animal testing laboratory. The tests should also use a controlled test, but they are more complicated and costly in terms both safety & health risks as well! Do people want my labelling because some have already had problems with it being taken off without their permission so this will make things easier on them?!\n",
      " \n",
      " \n",
      "Hallucinated 2 for query 5:  if the animals were made in such conditions. The tests on humans have shown no negative results and are very important because we want to see whether they behave like real creatures - especially when it comes time testing human use of them... In my view, most animal research is performed with great care as well (or better) than those conducted at home where many scientists make their money through sales/prom\n",
      " \n",
      " \n",
      "Hallucinated 3 for query 5: , it would be better if the animals could learn about them before they become useful as medicine and even food.\n",
      "\n",
      " - In other news:I'm very excited to see how Animal Research is done at BACS (The Association of Biomedical Laboratoryists). The program will allow students a chance \"to participate in an open dialogue with one another regarding research issues\". Please send us your questions\n",
      " \n",
      " \n",
      "Hallucinated 1 for query 6:  if they should be used to conduct research in other fields. Should animals, like plants and flowers of any type (including birds), just have their own tests performed with them every time it comes out that there is something else going on inside the organism when tested? That's probably not right either... You may get a positive result from using different types as your test subjects at some future date but I'd\n",
      " \n",
      " \n",
      "Hallucinated 2 for query 6: . We need to test a few more of the other things in this section... but it would be cool if we could show them off! The reason I want our own little testing is because these aren't real lab animals, they are just experiments that will make us aware when certain chemicals have been used by humans and not tested on animal products (we're pretty bad at measuring anything with regards how much\n",
      " \n",
      " \n",
      "Hallucinated 3 for query 6: . Can we be more scientific and/or commercially produced in order to have a lower risk of human disease?I'm not trying anything that's harmful on the level humans should consider.\" (Source)Mixed reality star Kim Kardashian was at her wedding reception, wearing white dresses over black gowns when she spotted some girls getting ready with their faces obscured by clothes from other models who are also guests\n",
      " \n",
      "CPU times: user 34min 3s, sys: 27.3 s, total: 34min 30s\n",
      "Wall time: 3min 8s\n"
     ]
    }
   ],
   "source": [
    "%%time\n",
    "greedy, sampled = expand_lm(model=model_lm, tokenizer=tokenizer_lm, query=\"Should Animals Be Used for Scientific or Commercial Testing?\")"
   ]
  },
  {
   "cell_type": "code",
   "execution_count": 39,
   "metadata": {},
   "outputs": [
    {
     "name": "stdout",
     "output_type": "stream",
     "text": [
      "CPU times: user 340 ms, sys: 24.4 ms, total: 365 ms\n",
      "Wall time: 34.2 s\n"
     ]
    }
   ],
   "source": [
    "%%time\n",
    "s = Search(using=es, index=\"arguments_index\")\n",
    "s.query = Q('bool', should=[Q(\"match\", text=query) for query in chain(*[greedy, sampled])], minimum_should_match=int(len(list(chain(*[greedy, sampled])))/2))\n",
    "s = s[:10000]\n",
    "response = s.execute()\n",
    "lm_set = set()\n",
    "lm_dic = {}\n",
    "for hit in response:\n",
    "    lm_set.add(hit.meta.id)\n",
    "    lm_dic[hit.meta.id] =hit.meta.score"
   ]
  },
  {
   "cell_type": "code",
   "execution_count": 40,
   "metadata": {},
   "outputs": [
    {
     "name": "stdout",
     "output_type": "stream",
     "text": [
      "CON ARGUMENT CONCLUSION: animal testing.\n",
      "PRO ARGUMENT CONCLUSION: Animals Should Be Used For Scientific or Commercial Testing.\n",
      "CON ARGUMENT CONCLUSION: Should animals be used for research (pro:yes con:no)\n",
      "PRO ARGUMENT CONCLUSION: Animal Testing\n",
      "CON ARGUMENT CONCLUSION: Resolved: An alternative for animal testing should be found.\n",
      "CON ARGUMENT CONCLUSION: Medical testing on animals does more good than harm.\n",
      "CON ARGUMENT CONCLUSION: Animal Testing\n",
      "CON ARGUMENT CONCLUSION: Should animals be used for research (pro:yes con:no)\n",
      "PRO ARGUMENT CONCLUSION: Resolved: An alternative for animal testing should be found.\n",
      "PRO ARGUMENT CONCLUSION: We should have lab rats in labatories\n",
      "CON ARGUMENT CONCLUSION: Animal Testing does more harm than good\n",
      "PRO ARGUMENT CONCLUSION: Animal Testing\n",
      "CON ARGUMENT CONCLUSION: Animal Testing\n",
      "CON ARGUMENT CONCLUSION: Resolved: An alternative for animal testing should be found.\n",
      "CON ARGUMENT CONCLUSION: Animal Testing does more harm than good\n",
      "CON ARGUMENT CONCLUSION: animal expirimentation\n",
      "PRO ARGUMENT CONCLUSION: Animal Testing\n",
      "PRO ARGUMENT CONCLUSION: People for Ethical Treatment of Animals\n",
      "PRO ARGUMENT CONCLUSION: This house believes: We need animals in bio-medical research\n",
      "PRO ARGUMENT CONCLUSION: Animal Testing\n"
     ]
    }
   ],
   "source": [
    "for hit in response[:20]:\n",
    "    print(f\"{hit.stance} ARGUMENT CONCLUSION: {hit.conclusion}\")"
   ]
  },
  {
   "cell_type": "code",
   "execution_count": 54,
   "metadata": {},
   "outputs": [
    {
     "data": {
      "text/plain": [
       "True"
      ]
     },
     "execution_count": 54,
     "metadata": {},
     "output_type": "execute_result"
    }
   ],
   "source": [
    "#Interestingly, (lm_dic.keys() & mlm_dic.keys()) returns a set! Same as doing lm_set.intersect(mlm_set)\n",
    "len(lm_dic.keys() & mlm_dic.keys()) == len(lm_set.intersection(mlm_set))"
   ]
  },
  {
   "cell_type": "markdown",
   "metadata": {},
   "source": [
    "## Use a Bag-of-Words (arg_bow) enhanced GPT2 model (Uber's PPLM: Plug-and-Play Language Model) to hallucinate queries and run those against the Elasticsearch index"
   ]
  },
  {
   "cell_type": "markdown",
   "metadata": {},
   "source": [
    "### The Bag of Words used attempts to steer the hallucinated text into sounding like an argument:"
   ]
  },
  {
   "cell_type": "code",
   "execution_count": 55,
   "metadata": {},
   "outputs": [
    {
     "name": "stdout",
     "output_type": "stream",
     "text": [
      "['accept', 'according', 'accordingly', 'affirm', 'agree', 'argue', 'argument', 'argumentation', 'assert', 'assumption', 'attack', 'attest', 'backing', 'basis', 'because', 'belief', 'believe', 'bias', 'biased', 'challenge', 'cite', 'claim', 'clear', 'con', 'concede', 'conclude', 'conclusion', 'concur', 'consequence', 'consequently', 'considering', 'context', 'controversial', 'convince', 'corroborate', 'convincing', 'corroboration', 'credibility', 'credible', 'criteria', 'criterion', 'debatable', 'debate', 'deduce', 'definition', 'determine', 'disagree', 'disprove', 'ergo', 'evidence', 'example', 'facts', 'fallacy', 'fallible', 'faulty', 'general', 'hence', 'hypothetical', 'imply', 'inconsistent', 'infer', 'irrelevant', 'justify', 'knowledge', 'logical', 'naturally', 'objectively ', 'opinion', 'perspective', 'persuade', 'persuasive', 'point', 'position', 'precisely', 'premise', 'pro', 'probable', 'proof', 'prove', 'rational', 'reason', 'rebuttal', 'reiterate', 'relevant', 'rhetoric', 'rhetorical', 'right', 'rumors', 'sure', 'surely', 'skeptical', 'skepticsm', 'sources', 'specific', 'stance', 'statistically', 'statistics', 'study', 'subjective ', 'subjectively', 'suppose', 'testimonial', 'theory', 'therefore', 'thesis', 'think', 'thought', 'thus', 'trustworthy', 'unconvinced', 'undermine', 'unsubstantiated', 'valid', 'warrant', 'whereas', 'wrong']\n"
     ]
    }
   ],
   "source": [
    "with open('arg_bow') as f:\n",
    "    bow = f.read().splitlines()\n",
    "print(bow)"
   ]
  },
  {
   "cell_type": "code",
   "execution_count": 2,
   "metadata": {},
   "outputs": [],
   "source": [
    "config = AutoConfig.from_pretrained(\"gpt2\")\n",
    "config.output_hidden_states = True\n",
    "tokenizer_pplm = AutoTokenizer.from_pretrained(\"gpt2\")\n",
    "model_pplm = AutoModelWithLMHead.from_pretrained(\"gpt2\", config=config)\n",
    "model_pplm.eval()    \n",
    "for param in model_pplm.parameters():\n",
    "    param.requires_grad = False"
   ]
  },
  {
   "cell_type": "code",
   "execution_count": 5,
   "metadata": {},
   "outputs": [
    {
     "name": "stdout",
     "output_type": "stream",
     "text": [
      ", but it's not a scientific question. It is an ethical one and I don't want to be the first person who says that since animals are used in research they should never have been tested on\n",
      ", but it's not a scientific question because the animals are already in their natural habitat and they're just trying to survive on what we call \"natural\" food sources like grasses that have been grown\n",
      " Because of the scientific and commercial implications.<|endoftext|>The following is a list compiled by me, based on my own experience with this project:\n",
      "\n",
      " (1) I have been working in an office environment where\n",
      ", it's a good question! It should be asked because the scientific community has been very clear that animals are not used in any way to test their knowledge of science and therefore they don't have an\n",
      ", but it's a good question. It would be interesting to see if there are any scientific studies that show the benefits of using animals in research and clinical trials as well as other forms thereof (e\n",
      ", I'm not a scientist. But if it's something that would be useful to the public and could help us understand why some animals are more likely than others in certain situations (like when we're\n",
      "CPU times: user 1h 57min 24s, sys: 1min 52s, total: 1h 59min 17s\n",
      "Wall time: 10min 46s\n"
     ]
    }
   ],
   "source": [
    "%%time\n",
    "pplm_hallucinated = expand_pplm(model=model_pplm, tokenizer=tokenizer_pplm, query=\"Should Animals Be Used for Scientific or Commercial Testing?\", length=40, num_iterations=4)"
   ]
  },
  {
   "cell_type": "code",
   "execution_count": 7,
   "metadata": {},
   "outputs": [
    {
     "name": "stdout",
     "output_type": "stream",
     "text": [
      "CPU times: user 9.86 ms, sys: 4.11 ms, total: 14 ms\n",
      "Wall time: 3.54 s\n"
     ]
    }
   ],
   "source": [
    "%%time\n",
    "s = Search(using=es, index=\"arguments_index\")\n",
    "s.query = Q('bool', should=[Q(\"match\", text=query) for query in pplm_hallucinated], minimum_should_match=int(len(pplm_hallucinated)/2))\n",
    "response = s.execute()\n",
    "pplm_set = set()\n",
    "pplm_dic = {}\n",
    "for hit in response:\n",
    "    pplm_set.add(hit.meta.id)\n",
    "    pplm_dic[hit.meta.id] =hit.meta.score"
   ]
  },
  {
   "cell_type": "code",
   "execution_count": 8,
   "metadata": {},
   "outputs": [
    {
     "name": "stdout",
     "output_type": "stream",
     "text": [
      "CON ARGUMENT CONCLUSION: Animal Testing\n",
      "PRO ARGUMENT CONCLUSION: Animals Should Be Used For Scientific or Commercial Testing.\n",
      "PRO ARGUMENT CONCLUSION: We should have lab rats in labatories\n",
      "CON ARGUMENT CONCLUSION: Should animals be used for research (pro:yes con:no)\n",
      "CON ARGUMENT CONCLUSION: Medical Research does more harm than good\n",
      "CON ARGUMENT CONCLUSION: animal testing.\n",
      "PRO ARGUMENT CONCLUSION: Animal Testing Should be Banned\n",
      "CON ARGUMENT CONCLUSION: Should animal testing be banned\n",
      "CON ARGUMENT CONCLUSION: Veganism and Animal Rights\n",
      "CON ARGUMENT CONCLUSION: Animal Testing\n"
     ]
    }
   ],
   "source": [
    "for hit in response[:20]:\n",
    "    print(f\"{hit.stance} ARGUMENT CONCLUSION: {hit.conclusion}\")"
   ]
  },
  {
   "cell_type": "markdown",
   "metadata": {},
   "source": [
    "# Get union and k-wise intersection of the resultsets of argument ids"
   ]
  },
  {
   "cell_type": "markdown",
   "metadata": {},
   "source": [
    "The k-wise intersection takes all possible combinations of k out of kmax resultsets and produces the intersection. The result is the union of all these intersections"
   ]
  },
  {
   "cell_type": "code",
   "execution_count": 94,
   "metadata": {},
   "outputs": [],
   "source": [
    "k=5\n",
    "union = set.union(*[set_d_annoy, set_a_annoy, set_g_annoy, set_d_pq, set_a_pq, set_g_pq])\n",
    "\n",
    "from itertools import combinations\n",
    "k_intersection = set()\n",
    "for set_list in combinations([set_d_annoy, set_a_annoy, set_g_annoy, set_d_pq, set_a_pq, set_g_pq, elastic_set], r=k):\n",
    "    k_intersection.update(set.intersection(*set_list))"
   ]
  },
  {
   "cell_type": "code",
   "execution_count": 95,
   "metadata": {},
   "outputs": [
    {
     "data": {
      "text/html": [
       "<div>\n",
       "<style scoped>\n",
       "    .dataframe tbody tr th:only-of-type {\n",
       "        vertical-align: middle;\n",
       "    }\n",
       "\n",
       "    .dataframe tbody tr th {\n",
       "        vertical-align: top;\n",
       "    }\n",
       "\n",
       "    .dataframe thead th {\n",
       "        text-align: right;\n",
       "    }\n",
       "</style>\n",
       "<table border=\"1\" class=\"dataframe\">\n",
       "  <thead>\n",
       "    <tr style=\"text-align: right;\">\n",
       "      <th></th>\n",
       "      <th>text</th>\n",
       "      <th>stance</th>\n",
       "      <th>id</th>\n",
       "      <th>conclusion</th>\n",
       "      <th>context.sourceId</th>\n",
       "      <th>context.previousArgumentInSourceId</th>\n",
       "      <th>context.acquisitionTime</th>\n",
       "      <th>context.discussionTitle</th>\n",
       "      <th>context.sourceTitle</th>\n",
       "      <th>context.sourceUrl</th>\n",
       "      <th>context.nextArgumentInSourceId</th>\n",
       "    </tr>\n",
       "  </thead>\n",
       "  <tbody>\n",
       "    <tr>\n",
       "      <th>544</th>\n",
       "      <td>I am against this statement that abortion is m...</td>\n",
       "      <td>CON</td>\n",
       "      <td>cb76cede-2019-04-18T11:58:57Z-00001-000</td>\n",
       "      <td>Abortion is Murder</td>\n",
       "      <td>cb76cede-2019-04-18T11:58:57Z</td>\n",
       "      <td>cb76cede-2019-04-18T11:58:57Z-00000-000</td>\n",
       "      <td>2019-04-18T11:58:57Z</td>\n",
       "      <td>Abortion is Murder</td>\n",
       "      <td>Debate Issue: Abortion is Murder | Debate.org</td>\n",
       "      <td>https://www.debate.org/debates/Abortion-is-Mur...</td>\n",
       "      <td>cb76cede-2019-04-18T11:58:57Z-00002-000</td>\n",
       "    </tr>\n",
       "    <tr>\n",
       "      <th>8762</th>\n",
       "      <td>Abortion is inmoral/inhumane - 1st round accep...</td>\n",
       "      <td>CON</td>\n",
       "      <td>242e2ea6-2019-04-18T11:32:58Z-00001-000</td>\n",
       "      <td>Abortion is inmoral and inhumane</td>\n",
       "      <td>242e2ea6-2019-04-18T11:32:58Z</td>\n",
       "      <td>242e2ea6-2019-04-18T11:32:58Z-00000-000</td>\n",
       "      <td>2019-04-18T11:32:58Z</td>\n",
       "      <td>Abortion is inmoral and inhumane</td>\n",
       "      <td>Debate Argument: Abortion is inmoral and inhum...</td>\n",
       "      <td>https://www.debate.org/debates/Abortion-is-inm...</td>\n",
       "      <td></td>\n",
       "    </tr>\n",
       "    <tr>\n",
       "      <th>8895</th>\n",
       "      <td>knowledge is the mechanism</td>\n",
       "      <td>CON</td>\n",
       "      <td>6737184-2019-04-18T15:34:09Z-00002-000</td>\n",
       "      <td>There is no mechanism that permits free will t...</td>\n",
       "      <td>6737184-2019-04-18T15:34:09Z</td>\n",
       "      <td>6737184-2019-04-18T15:34:09Z-00001-000</td>\n",
       "      <td>2019-04-18T15:34:09Z</td>\n",
       "      <td>There is no mechanism that permits free will t...</td>\n",
       "      <td>Debate Issue: There is no mechanism that permi...</td>\n",
       "      <td>https://www.debate.org/debates/There-is-no-mec...</td>\n",
       "      <td>6737184-2019-04-18T15:34:09Z-00003-000</td>\n",
       "    </tr>\n",
       "    <tr>\n",
       "      <th>10062</th>\n",
       "      <td>any right actions is moral</td>\n",
       "      <td>PRO</td>\n",
       "      <td>c4ac5612-2019-04-18T12:54:27Z-00005-000</td>\n",
       "      <td>morality=right+intent</td>\n",
       "      <td>c4ac5612-2019-04-18T12:54:27Z</td>\n",
       "      <td>c4ac5612-2019-04-18T12:54:27Z-00004-000</td>\n",
       "      <td>2019-04-18T12:54:27Z</td>\n",
       "      <td>morality=right+intent</td>\n",
       "      <td>Debate Issue: morality=right+intent | Debate.org</td>\n",
       "      <td>https://www.debate.org/debates/morality-right-...</td>\n",
       "      <td></td>\n",
       "    </tr>\n",
       "    <tr>\n",
       "      <th>11199</th>\n",
       "      <td>A fetus is still a human being therefore shoul...</td>\n",
       "      <td>CON</td>\n",
       "      <td>b1852c44-2019-04-18T18:27:05Z-00005-000</td>\n",
       "      <td>Abortion</td>\n",
       "      <td>b1852c44-2019-04-18T18:27:05Z</td>\n",
       "      <td>b1852c44-2019-04-18T18:27:05Z-00004-000</td>\n",
       "      <td>2019-04-18T18:27:05Z</td>\n",
       "      <td>Abortion</td>\n",
       "      <td>Debate Topic: Abortion | Debate.org</td>\n",
       "      <td>https://www.debate.org/debates/Abortion/146/</td>\n",
       "      <td>b1852c44-2019-04-18T18:27:05Z-00000-000</td>\n",
       "    </tr>\n",
       "    <tr>\n",
       "      <th>...</th>\n",
       "      <td>...</td>\n",
       "      <td>...</td>\n",
       "      <td>...</td>\n",
       "      <td>...</td>\n",
       "      <td>...</td>\n",
       "      <td>...</td>\n",
       "      <td>...</td>\n",
       "      <td>...</td>\n",
       "      <td>...</td>\n",
       "      <td>...</td>\n",
       "      <td>...</td>\n",
       "    </tr>\n",
       "    <tr>\n",
       "      <th>387347</th>\n",
       "      <td>Common prostitution is not a biblical conflict</td>\n",
       "      <td>PRO</td>\n",
       "      <td>87d0ccd3-2019-04-17T11:47:45Z-00062-000</td>\n",
       "      <td>Prostitution</td>\n",
       "      <td>87d0ccd3-2019-04-17T11:47:45Z</td>\n",
       "      <td>87d0ccd3-2019-04-17T11:47:45Z-00001-000</td>\n",
       "      <td>2019-04-17T11:47:45Z</td>\n",
       "      <td>Prostitution</td>\n",
       "      <td>Debate: Prostitution - Debatepedia</td>\n",
       "      <td>http://www.debatepedia.org/en/index.php/Debate...</td>\n",
       "      <td>87d0ccd3-2019-04-17T11:47:45Z-00047-000</td>\n",
       "    </tr>\n",
       "    <tr>\n",
       "      <th>387348</th>\n",
       "      <td>Prostitutes are vulnerable because they lack l...</td>\n",
       "      <td>PRO</td>\n",
       "      <td>87d0ccd3-2019-04-17T11:47:45Z-00047-000</td>\n",
       "      <td>Prostitution</td>\n",
       "      <td>87d0ccd3-2019-04-17T11:47:45Z</td>\n",
       "      <td>87d0ccd3-2019-04-17T11:47:45Z-00062-000</td>\n",
       "      <td>2019-04-17T11:47:45Z</td>\n",
       "      <td>Prostitution</td>\n",
       "      <td>Debate: Prostitution - Debatepedia</td>\n",
       "      <td>http://www.debatepedia.org/en/index.php/Debate...</td>\n",
       "      <td>87d0ccd3-2019-04-17T11:47:45Z-00032-000</td>\n",
       "    </tr>\n",
       "    <tr>\n",
       "      <th>387355</th>\n",
       "      <td>Governments should not set moral sexual standa...</td>\n",
       "      <td>PRO</td>\n",
       "      <td>87d0ccd3-2019-04-17T11:47:45Z-00063-000</td>\n",
       "      <td>Prostitution</td>\n",
       "      <td>87d0ccd3-2019-04-17T11:47:45Z</td>\n",
       "      <td>87d0ccd3-2019-04-17T11:47:45Z-00002-000</td>\n",
       "      <td>2019-04-17T11:47:45Z</td>\n",
       "      <td>Prostitution</td>\n",
       "      <td>Debate: Prostitution - Debatepedia</td>\n",
       "      <td>http://www.debatepedia.org/en/index.php/Debate...</td>\n",
       "      <td>87d0ccd3-2019-04-17T11:47:45Z-00048-000</td>\n",
       "    </tr>\n",
       "    <tr>\n",
       "      <th>387360</th>\n",
       "      <td>Legalizing drugs is the least bad option</td>\n",
       "      <td>PRO</td>\n",
       "      <td>a7c47a5c-2019-04-17T11:47:49Z-00026-000</td>\n",
       "      <td>Legalization of drugs</td>\n",
       "      <td>a7c47a5c-2019-04-17T11:47:49Z</td>\n",
       "      <td></td>\n",
       "      <td>2019-04-17T11:47:49Z</td>\n",
       "      <td>Legalization of drugs</td>\n",
       "      <td>Debate: Legalization of drugs - Debatepedia</td>\n",
       "      <td>http://www.debatepedia.org/en/index.php/Debate...</td>\n",
       "      <td>a7c47a5c-2019-04-17T11:47:49Z-00011-000</td>\n",
       "    </tr>\n",
       "    <tr>\n",
       "      <th>387435</th>\n",
       "      <td>Bank tax is not too great of a burden on banks</td>\n",
       "      <td>PRO</td>\n",
       "      <td>36fa654a-2019-04-17T11:47:28Z-00004-000</td>\n",
       "      <td>2010 US bank tax</td>\n",
       "      <td>36fa654a-2019-04-17T11:47:28Z</td>\n",
       "      <td>36fa654a-2019-04-17T11:47:28Z-00019-000</td>\n",
       "      <td>2019-04-17T11:47:28Z</td>\n",
       "      <td>2010 US bank tax</td>\n",
       "      <td>Debate: 2010 US bank tax - Debatepedia</td>\n",
       "      <td>http://www.debatepedia.org/en/index.php/Debate...</td>\n",
       "      <td>36fa654a-2019-04-17T11:47:28Z-00008-000</td>\n",
       "    </tr>\n",
       "  </tbody>\n",
       "</table>\n",
       "<p>533 rows × 11 columns</p>\n",
       "</div>"
      ],
      "text/plain": [
       "                                                     text stance  \\\n",
       "544     I am against this statement that abortion is m...    CON   \n",
       "8762    Abortion is inmoral/inhumane - 1st round accep...    CON   \n",
       "8895                           knowledge is the mechanism    CON   \n",
       "10062                          any right actions is moral    PRO   \n",
       "11199   A fetus is still a human being therefore shoul...    CON   \n",
       "...                                                   ...    ...   \n",
       "387347     Common prostitution is not a biblical conflict    PRO   \n",
       "387348  Prostitutes are vulnerable because they lack l...    PRO   \n",
       "387355  Governments should not set moral sexual standa...    PRO   \n",
       "387360           Legalizing drugs is the least bad option    PRO   \n",
       "387435     Bank tax is not too great of a burden on banks    PRO   \n",
       "\n",
       "                                             id  \\\n",
       "544     cb76cede-2019-04-18T11:58:57Z-00001-000   \n",
       "8762    242e2ea6-2019-04-18T11:32:58Z-00001-000   \n",
       "8895     6737184-2019-04-18T15:34:09Z-00002-000   \n",
       "10062   c4ac5612-2019-04-18T12:54:27Z-00005-000   \n",
       "11199   b1852c44-2019-04-18T18:27:05Z-00005-000   \n",
       "...                                         ...   \n",
       "387347  87d0ccd3-2019-04-17T11:47:45Z-00062-000   \n",
       "387348  87d0ccd3-2019-04-17T11:47:45Z-00047-000   \n",
       "387355  87d0ccd3-2019-04-17T11:47:45Z-00063-000   \n",
       "387360  a7c47a5c-2019-04-17T11:47:49Z-00026-000   \n",
       "387435  36fa654a-2019-04-17T11:47:28Z-00004-000   \n",
       "\n",
       "                                               conclusion  \\\n",
       "544                                    Abortion is Murder   \n",
       "8762                     Abortion is inmoral and inhumane   \n",
       "8895    There is no mechanism that permits free will t...   \n",
       "10062                               morality=right+intent   \n",
       "11199                                            Abortion   \n",
       "...                                                   ...   \n",
       "387347                                       Prostitution   \n",
       "387348                                       Prostitution   \n",
       "387355                                       Prostitution   \n",
       "387360                              Legalization of drugs   \n",
       "387435                                   2010 US bank tax   \n",
       "\n",
       "                     context.sourceId  \\\n",
       "544     cb76cede-2019-04-18T11:58:57Z   \n",
       "8762    242e2ea6-2019-04-18T11:32:58Z   \n",
       "8895     6737184-2019-04-18T15:34:09Z   \n",
       "10062   c4ac5612-2019-04-18T12:54:27Z   \n",
       "11199   b1852c44-2019-04-18T18:27:05Z   \n",
       "...                               ...   \n",
       "387347  87d0ccd3-2019-04-17T11:47:45Z   \n",
       "387348  87d0ccd3-2019-04-17T11:47:45Z   \n",
       "387355  87d0ccd3-2019-04-17T11:47:45Z   \n",
       "387360  a7c47a5c-2019-04-17T11:47:49Z   \n",
       "387435  36fa654a-2019-04-17T11:47:28Z   \n",
       "\n",
       "             context.previousArgumentInSourceId context.acquisitionTime  \\\n",
       "544     cb76cede-2019-04-18T11:58:57Z-00000-000    2019-04-18T11:58:57Z   \n",
       "8762    242e2ea6-2019-04-18T11:32:58Z-00000-000    2019-04-18T11:32:58Z   \n",
       "8895     6737184-2019-04-18T15:34:09Z-00001-000    2019-04-18T15:34:09Z   \n",
       "10062   c4ac5612-2019-04-18T12:54:27Z-00004-000    2019-04-18T12:54:27Z   \n",
       "11199   b1852c44-2019-04-18T18:27:05Z-00004-000    2019-04-18T18:27:05Z   \n",
       "...                                         ...                     ...   \n",
       "387347  87d0ccd3-2019-04-17T11:47:45Z-00001-000    2019-04-17T11:47:45Z   \n",
       "387348  87d0ccd3-2019-04-17T11:47:45Z-00062-000    2019-04-17T11:47:45Z   \n",
       "387355  87d0ccd3-2019-04-17T11:47:45Z-00002-000    2019-04-17T11:47:45Z   \n",
       "387360                                             2019-04-17T11:47:49Z   \n",
       "387435  36fa654a-2019-04-17T11:47:28Z-00019-000    2019-04-17T11:47:28Z   \n",
       "\n",
       "                                  context.discussionTitle  \\\n",
       "544                                    Abortion is Murder   \n",
       "8762                     Abortion is inmoral and inhumane   \n",
       "8895    There is no mechanism that permits free will t...   \n",
       "10062                               morality=right+intent   \n",
       "11199                                            Abortion   \n",
       "...                                                   ...   \n",
       "387347                                       Prostitution   \n",
       "387348                                       Prostitution   \n",
       "387355                                       Prostitution   \n",
       "387360                              Legalization of drugs   \n",
       "387435                                   2010 US bank tax   \n",
       "\n",
       "                                      context.sourceTitle  \\\n",
       "544         Debate Issue: Abortion is Murder | Debate.org   \n",
       "8762    Debate Argument: Abortion is inmoral and inhum...   \n",
       "8895    Debate Issue: There is no mechanism that permi...   \n",
       "10062    Debate Issue: morality=right+intent | Debate.org   \n",
       "11199                 Debate Topic: Abortion | Debate.org   \n",
       "...                                                   ...   \n",
       "387347                 Debate: Prostitution - Debatepedia   \n",
       "387348                 Debate: Prostitution - Debatepedia   \n",
       "387355                 Debate: Prostitution - Debatepedia   \n",
       "387360        Debate: Legalization of drugs - Debatepedia   \n",
       "387435             Debate: 2010 US bank tax - Debatepedia   \n",
       "\n",
       "                                        context.sourceUrl  \\\n",
       "544     https://www.debate.org/debates/Abortion-is-Mur...   \n",
       "8762    https://www.debate.org/debates/Abortion-is-inm...   \n",
       "8895    https://www.debate.org/debates/There-is-no-mec...   \n",
       "10062   https://www.debate.org/debates/morality-right-...   \n",
       "11199        https://www.debate.org/debates/Abortion/146/   \n",
       "...                                                   ...   \n",
       "387347  http://www.debatepedia.org/en/index.php/Debate...   \n",
       "387348  http://www.debatepedia.org/en/index.php/Debate...   \n",
       "387355  http://www.debatepedia.org/en/index.php/Debate...   \n",
       "387360  http://www.debatepedia.org/en/index.php/Debate...   \n",
       "387435  http://www.debatepedia.org/en/index.php/Debate...   \n",
       "\n",
       "                 context.nextArgumentInSourceId  \n",
       "544     cb76cede-2019-04-18T11:58:57Z-00002-000  \n",
       "8762                                             \n",
       "8895     6737184-2019-04-18T15:34:09Z-00003-000  \n",
       "10062                                            \n",
       "11199   b1852c44-2019-04-18T18:27:05Z-00000-000  \n",
       "...                                         ...  \n",
       "387347  87d0ccd3-2019-04-17T11:47:45Z-00047-000  \n",
       "387348  87d0ccd3-2019-04-17T11:47:45Z-00032-000  \n",
       "387355  87d0ccd3-2019-04-17T11:47:45Z-00048-000  \n",
       "387360  a7c47a5c-2019-04-17T11:47:49Z-00011-000  \n",
       "387435  36fa654a-2019-04-17T11:47:28Z-00008-000  \n",
       "\n",
       "[533 rows x 11 columns]"
      ]
     },
     "execution_count": 95,
     "metadata": {},
     "output_type": "execute_result"
    }
   ],
   "source": []
  },
  {
   "cell_type": "markdown",
   "metadata": {},
   "source": [
    "# Rerank a list of arguments using Distilbert and/or the Wide and Deep Network"
   ]
  },
  {
   "cell_type": "markdown",
   "metadata": {},
   "source": [
    "## Load the Distilbert ranker"
   ]
  },
  {
   "cell_type": "code",
   "execution_count": 103,
   "metadata": {},
   "outputs": [],
   "source": [
    "model_version = \"0002\"\n",
    "model_name = f\"distilbert-base-uncased_for_sequence_classification\"\n",
    "folder_name = \"Ranker\"\n",
    "model_path = Path('.') / folder_name / model_name / model_version\n",
    "db_rank = tf.saved_model.load(str(model_path))"
   ]
  },
  {
   "cell_type": "markdown",
   "metadata": {},
   "source": [
    "## Rerank the intersection set with Distilbert"
   ]
  },
  {
   "cell_type": "code",
   "execution_count": 136,
   "metadata": {},
   "outputs": [
    {
     "name": "stdout",
     "output_type": "stream",
     "text": [
      "CPU times: user 16min 49s, sys: 2min 34s, total: 19min 23s\n",
      "Wall time: 1min 8s\n"
     ]
    }
   ],
   "source": [
    "%%time\n",
    "db_reranked = []\n",
    "for i, arg in return_args(k_intersection).iterrows():\n",
    "    tokenized = tokenizer.encode_plus(query, arg['text'], max_length=tokenizer.max_len, pad_to_max_length=True)\n",
    "    i= tf.constant(tokenized['input_ids'], dtype=tf.int64)[None, :]\n",
    "    m= tf.constant(tokenized['attention_mask'], dtype=tf.int64)[None, :]\n",
    "    r,b = (np.array(db_rank([i,m], training=False)).squeeze())\n",
    "    db_reranked.append({\"id\": arg['id'], 'relevance':r, 'binary':b})"
   ]
  },
  {
   "cell_type": "code",
   "execution_count": 138,
   "metadata": {},
   "outputs": [
    {
     "data": {
      "text/html": [
       "<div>\n",
       "<style scoped>\n",
       "    .dataframe tbody tr th:only-of-type {\n",
       "        vertical-align: middle;\n",
       "    }\n",
       "\n",
       "    .dataframe tbody tr th {\n",
       "        vertical-align: top;\n",
       "    }\n",
       "\n",
       "    .dataframe thead th {\n",
       "        text-align: right;\n",
       "    }\n",
       "</style>\n",
       "<table border=\"1\" class=\"dataframe\">\n",
       "  <thead>\n",
       "    <tr style=\"text-align: right;\">\n",
       "      <th></th>\n",
       "      <th>id</th>\n",
       "      <th>relevance</th>\n",
       "      <th>binary</th>\n",
       "    </tr>\n",
       "  </thead>\n",
       "  <tbody>\n",
       "    <tr>\n",
       "      <th>0</th>\n",
       "      <td>cb76cede-2019-04-18T11:58:57Z-00001-000</td>\n",
       "      <td>-2.154010</td>\n",
       "      <td>0.047416</td>\n",
       "    </tr>\n",
       "    <tr>\n",
       "      <th>1</th>\n",
       "      <td>242e2ea6-2019-04-18T11:32:58Z-00001-000</td>\n",
       "      <td>-0.921782</td>\n",
       "      <td>0.259330</td>\n",
       "    </tr>\n",
       "    <tr>\n",
       "      <th>2</th>\n",
       "      <td>6737184-2019-04-18T15:34:09Z-00002-000</td>\n",
       "      <td>0.625956</td>\n",
       "      <td>0.808973</td>\n",
       "    </tr>\n",
       "    <tr>\n",
       "      <th>3</th>\n",
       "      <td>c4ac5612-2019-04-18T12:54:27Z-00005-000</td>\n",
       "      <td>-0.334137</td>\n",
       "      <td>0.478341</td>\n",
       "    </tr>\n",
       "    <tr>\n",
       "      <th>4</th>\n",
       "      <td>b1852c44-2019-04-18T18:27:05Z-00005-000</td>\n",
       "      <td>0.966623</td>\n",
       "      <td>0.895657</td>\n",
       "    </tr>\n",
       "    <tr>\n",
       "      <th>...</th>\n",
       "      <td>...</td>\n",
       "      <td>...</td>\n",
       "      <td>...</td>\n",
       "    </tr>\n",
       "    <tr>\n",
       "      <th>528</th>\n",
       "      <td>87d0ccd3-2019-04-17T11:47:45Z-00062-000</td>\n",
       "      <td>-0.417742</td>\n",
       "      <td>0.463349</td>\n",
       "    </tr>\n",
       "    <tr>\n",
       "      <th>529</th>\n",
       "      <td>87d0ccd3-2019-04-17T11:47:45Z-00047-000</td>\n",
       "      <td>3.092331</td>\n",
       "      <td>0.992629</td>\n",
       "    </tr>\n",
       "    <tr>\n",
       "      <th>530</th>\n",
       "      <td>87d0ccd3-2019-04-17T11:47:45Z-00063-000</td>\n",
       "      <td>-0.895341</td>\n",
       "      <td>0.358341</td>\n",
       "    </tr>\n",
       "    <tr>\n",
       "      <th>531</th>\n",
       "      <td>a7c47a5c-2019-04-17T11:47:49Z-00026-000</td>\n",
       "      <td>3.113705</td>\n",
       "      <td>0.993508</td>\n",
       "    </tr>\n",
       "    <tr>\n",
       "      <th>532</th>\n",
       "      <td>36fa654a-2019-04-17T11:47:28Z-00004-000</td>\n",
       "      <td>2.721726</td>\n",
       "      <td>0.990412</td>\n",
       "    </tr>\n",
       "  </tbody>\n",
       "</table>\n",
       "<p>533 rows × 3 columns</p>\n",
       "</div>"
      ],
      "text/plain": [
       "                                          id  relevance    binary\n",
       "0    cb76cede-2019-04-18T11:58:57Z-00001-000  -2.154010  0.047416\n",
       "1    242e2ea6-2019-04-18T11:32:58Z-00001-000  -0.921782  0.259330\n",
       "2     6737184-2019-04-18T15:34:09Z-00002-000   0.625956  0.808973\n",
       "3    c4ac5612-2019-04-18T12:54:27Z-00005-000  -0.334137  0.478341\n",
       "4    b1852c44-2019-04-18T18:27:05Z-00005-000   0.966623  0.895657\n",
       "..                                       ...        ...       ...\n",
       "528  87d0ccd3-2019-04-17T11:47:45Z-00062-000  -0.417742  0.463349\n",
       "529  87d0ccd3-2019-04-17T11:47:45Z-00047-000   3.092331  0.992629\n",
       "530  87d0ccd3-2019-04-17T11:47:45Z-00063-000  -0.895341  0.358341\n",
       "531  a7c47a5c-2019-04-17T11:47:49Z-00026-000   3.113705  0.993508\n",
       "532  36fa654a-2019-04-17T11:47:28Z-00004-000   2.721726  0.990412\n",
       "\n",
       "[533 rows x 3 columns]"
      ]
     },
     "execution_count": 138,
     "metadata": {},
     "output_type": "execute_result"
    }
   ],
   "source": [
    "db_reranked = pd.DataFrame(db_reranked)\n",
    "db_reranked"
   ]
  },
  {
   "cell_type": "markdown",
   "metadata": {},
   "source": [
    "## Load the Wide and Deep ranker"
   ]
  },
  {
   "cell_type": "code",
   "execution_count": 101,
   "metadata": {},
   "outputs": [],
   "source": [
    "model_version = \"0001\"\n",
    "model_name = f\"Wide_and_deep\"\n",
    "folder_name = \"Ranker\"\n",
    "model_path = Path('.') / folder_name / model_name / model_version\n",
    "wnd_rank = tf.saved_model.load(str(model_path))"
   ]
  },
  {
   "cell_type": "markdown",
   "metadata": {},
   "source": [
    "## Load the QA version of the Universal Sentence Encoder"
   ]
  },
  {
   "cell_type": "code",
   "execution_count": 102,
   "metadata": {},
   "outputs": [
    {
     "name": "stderr",
     "output_type": "stream",
     "text": [
      "INFO:absl:Downloading TF-Hub Module 'https://tfhub.dev/google/universal-sentence-encoder-qa/3'.\n",
      "INFO:absl:Downloading https://tfhub.dev/google/universal-sentence-encoder-qa/3: 170.04MB\n",
      "INFO:absl:Downloading https://tfhub.dev/google/universal-sentence-encoder-qa/3: 330.04MB\n",
      "INFO:absl:Downloading https://tfhub.dev/google/universal-sentence-encoder-qa/3: 480.04MB\n",
      "INFO:absl:Downloaded https://tfhub.dev/google/universal-sentence-encoder-qa/3, Total size: 588.94MB\n",
      "INFO:absl:Downloaded TF-Hub Module 'https://tfhub.dev/google/universal-sentence-encoder-qa/3'.\n"
     ]
    }
   ],
   "source": [
    "module = hub.load('https://tfhub.dev/google/universal-sentence-encoder-qa/3')\n",
    "query_embedder = module.signatures['question_encoder']\n",
    "arg_embedder = module.signatures['response_encoder']"
   ]
  },
  {
   "cell_type": "code",
   "execution_count": 180,
   "metadata": {},
   "outputs": [
    {
     "name": "stdout",
     "output_type": "stream",
     "text": [
      "CPU times: user 3min 50s, sys: 47.8 s, total: 4min 37s\n",
      "Wall time: 56.1 s\n"
     ]
    }
   ],
   "source": [
    "%%time\n",
    "use_reranked = []\n",
    "for i, arg in return_args(k_intersection).iterrows():\n",
    "    q = query_embedder(tf.constant([query]))['outputs'].numpy()\n",
    "    a = arg_embedder(input=tf.constant([arg['text']]), context=tf.constant([arg['conclusion']]))['outputs'].numpy()\n",
    "    dp = np.dot(q.squeeze(),a.squeeze())\n",
    "    deep_input = np.hstack([q,a])\n",
    "    s = Search(using=es, index='arg_index')\n",
    "    s.query = Q(\"match\", text=query) & Q(\"term\", _id=arg['id'])\n",
    "    response = s.execute()\n",
    "    length = len(arg['text'])\n",
    "    ds = 0\n",
    "    if not response.hits.total.value == 0:\n",
    "        ds = response[0].meta.score\n",
    "    wide_input = np.hstack([dp, ds, length])\n",
    "    r,b,aux = np.array(wnd_rank([tf.constant(wide_input, dtype=tf.float32)[None,:], tf.constant(deep_input, dtype=tf.float32)], training=False)).squeeze()\n",
    "    use_reranked.append({\"id\": arg['id'], 'relevance':r, 'binary':b, 'aux':aux})"
   ]
  },
  {
   "cell_type": "code",
   "execution_count": 182,
   "metadata": {},
   "outputs": [
    {
     "data": {
      "text/html": [
       "<div>\n",
       "<style scoped>\n",
       "    .dataframe tbody tr th:only-of-type {\n",
       "        vertical-align: middle;\n",
       "    }\n",
       "\n",
       "    .dataframe tbody tr th {\n",
       "        vertical-align: top;\n",
       "    }\n",
       "\n",
       "    .dataframe thead th {\n",
       "        text-align: right;\n",
       "    }\n",
       "</style>\n",
       "<table border=\"1\" class=\"dataframe\">\n",
       "  <thead>\n",
       "    <tr style=\"text-align: right;\">\n",
       "      <th></th>\n",
       "      <th>id</th>\n",
       "      <th>relevance</th>\n",
       "      <th>binary</th>\n",
       "      <th>aux</th>\n",
       "    </tr>\n",
       "  </thead>\n",
       "  <tbody>\n",
       "    <tr>\n",
       "      <th>0</th>\n",
       "      <td>cb76cede-2019-04-18T11:58:57Z-00001-000</td>\n",
       "      <td>-1.502114</td>\n",
       "      <td>0.600468</td>\n",
       "      <td>0.026989</td>\n",
       "    </tr>\n",
       "    <tr>\n",
       "      <th>1</th>\n",
       "      <td>242e2ea6-2019-04-18T11:32:58Z-00001-000</td>\n",
       "      <td>1.445340</td>\n",
       "      <td>0.404336</td>\n",
       "      <td>0.947017</td>\n",
       "    </tr>\n",
       "    <tr>\n",
       "      <th>2</th>\n",
       "      <td>6737184-2019-04-18T15:34:09Z-00002-000</td>\n",
       "      <td>0.346199</td>\n",
       "      <td>0.231686</td>\n",
       "      <td>0.716269</td>\n",
       "    </tr>\n",
       "    <tr>\n",
       "      <th>3</th>\n",
       "      <td>c4ac5612-2019-04-18T12:54:27Z-00005-000</td>\n",
       "      <td>-1.694745</td>\n",
       "      <td>0.500830</td>\n",
       "      <td>0.067210</td>\n",
       "    </tr>\n",
       "    <tr>\n",
       "      <th>4</th>\n",
       "      <td>b1852c44-2019-04-18T18:27:05Z-00005-000</td>\n",
       "      <td>1.025825</td>\n",
       "      <td>0.435745</td>\n",
       "      <td>0.967622</td>\n",
       "    </tr>\n",
       "    <tr>\n",
       "      <th>...</th>\n",
       "      <td>...</td>\n",
       "      <td>...</td>\n",
       "      <td>...</td>\n",
       "      <td>...</td>\n",
       "    </tr>\n",
       "    <tr>\n",
       "      <th>528</th>\n",
       "      <td>87d0ccd3-2019-04-17T11:47:45Z-00062-000</td>\n",
       "      <td>-0.184481</td>\n",
       "      <td>0.398180</td>\n",
       "      <td>0.889010</td>\n",
       "    </tr>\n",
       "    <tr>\n",
       "      <th>529</th>\n",
       "      <td>87d0ccd3-2019-04-17T11:47:45Z-00047-000</td>\n",
       "      <td>1.824704</td>\n",
       "      <td>0.541169</td>\n",
       "      <td>0.991493</td>\n",
       "    </tr>\n",
       "    <tr>\n",
       "      <th>530</th>\n",
       "      <td>87d0ccd3-2019-04-17T11:47:45Z-00063-000</td>\n",
       "      <td>2.003159</td>\n",
       "      <td>0.601674</td>\n",
       "      <td>0.990718</td>\n",
       "    </tr>\n",
       "    <tr>\n",
       "      <th>531</th>\n",
       "      <td>a7c47a5c-2019-04-17T11:47:49Z-00026-000</td>\n",
       "      <td>2.114252</td>\n",
       "      <td>0.567398</td>\n",
       "      <td>0.970235</td>\n",
       "    </tr>\n",
       "    <tr>\n",
       "      <th>532</th>\n",
       "      <td>36fa654a-2019-04-17T11:47:28Z-00004-000</td>\n",
       "      <td>2.800916</td>\n",
       "      <td>0.470836</td>\n",
       "      <td>0.993525</td>\n",
       "    </tr>\n",
       "  </tbody>\n",
       "</table>\n",
       "<p>533 rows × 4 columns</p>\n",
       "</div>"
      ],
      "text/plain": [
       "                                          id  relevance    binary       aux\n",
       "0    cb76cede-2019-04-18T11:58:57Z-00001-000  -1.502114  0.600468  0.026989\n",
       "1    242e2ea6-2019-04-18T11:32:58Z-00001-000   1.445340  0.404336  0.947017\n",
       "2     6737184-2019-04-18T15:34:09Z-00002-000   0.346199  0.231686  0.716269\n",
       "3    c4ac5612-2019-04-18T12:54:27Z-00005-000  -1.694745  0.500830  0.067210\n",
       "4    b1852c44-2019-04-18T18:27:05Z-00005-000   1.025825  0.435745  0.967622\n",
       "..                                       ...        ...       ...       ...\n",
       "528  87d0ccd3-2019-04-17T11:47:45Z-00062-000  -0.184481  0.398180  0.889010\n",
       "529  87d0ccd3-2019-04-17T11:47:45Z-00047-000   1.824704  0.541169  0.991493\n",
       "530  87d0ccd3-2019-04-17T11:47:45Z-00063-000   2.003159  0.601674  0.990718\n",
       "531  a7c47a5c-2019-04-17T11:47:49Z-00026-000   2.114252  0.567398  0.970235\n",
       "532  36fa654a-2019-04-17T11:47:28Z-00004-000   2.800916  0.470836  0.993525\n",
       "\n",
       "[533 rows x 4 columns]"
      ]
     },
     "execution_count": 182,
     "metadata": {},
     "output_type": "execute_result"
    }
   ],
   "source": [
    "use_reranked = pd.DataFrame(use_reranked)\n",
    "use_reranked"
   ]
  },
  {
   "cell_type": "markdown",
   "metadata": {},
   "source": [
    "# Combine the two rankings using the scaled scores"
   ]
  },
  {
   "cell_type": "code",
   "execution_count": 259,
   "metadata": {},
   "outputs": [
    {
     "data": {
      "text/html": [
       "<div>\n",
       "<style scoped>\n",
       "    .dataframe tbody tr th:only-of-type {\n",
       "        vertical-align: middle;\n",
       "    }\n",
       "\n",
       "    .dataframe tbody tr th {\n",
       "        vertical-align: top;\n",
       "    }\n",
       "\n",
       "    .dataframe thead th {\n",
       "        text-align: right;\n",
       "    }\n",
       "</style>\n",
       "<table border=\"1\" class=\"dataframe\">\n",
       "  <thead>\n",
       "    <tr style=\"text-align: right;\">\n",
       "      <th></th>\n",
       "      <th>arg_ids</th>\n",
       "      <th>mean</th>\n",
       "      <th>median</th>\n",
       "    </tr>\n",
       "  </thead>\n",
       "  <tbody>\n",
       "    <tr>\n",
       "      <th>0</th>\n",
       "      <td>cb76cede-2019-04-18T11:58:57Z-00001-000</td>\n",
       "      <td>0.126117</td>\n",
       "      <td>0.027077</td>\n",
       "    </tr>\n",
       "    <tr>\n",
       "      <th>1</th>\n",
       "      <td>242e2ea6-2019-04-18T11:32:58Z-00001-000</td>\n",
       "      <td>0.469289</td>\n",
       "      <td>0.248732</td>\n",
       "    </tr>\n",
       "    <tr>\n",
       "      <th>2</th>\n",
       "      <td>6737184-2019-04-18T15:34:09Z-00002-000</td>\n",
       "      <td>0.505933</td>\n",
       "      <td>0.536868</td>\n",
       "    </tr>\n",
       "    <tr>\n",
       "      <th>3</th>\n",
       "      <td>c4ac5612-2019-04-18T12:54:27Z-00005-000</td>\n",
       "      <td>0.258220</td>\n",
       "      <td>0.350304</td>\n",
       "    </tr>\n",
       "    <tr>\n",
       "      <th>4</th>\n",
       "      <td>b1852c44-2019-04-18T18:27:05Z-00005-000</td>\n",
       "      <td>0.667831</td>\n",
       "      <td>0.604580</td>\n",
       "    </tr>\n",
       "    <tr>\n",
       "      <th>...</th>\n",
       "      <td>...</td>\n",
       "      <td>...</td>\n",
       "      <td>...</td>\n",
       "    </tr>\n",
       "    <tr>\n",
       "      <th>528</th>\n",
       "      <td>87d0ccd3-2019-04-17T11:47:45Z-00062-000</td>\n",
       "      <td>0.451419</td>\n",
       "      <td>0.359522</td>\n",
       "    </tr>\n",
       "    <tr>\n",
       "      <th>529</th>\n",
       "      <td>87d0ccd3-2019-04-17T11:47:45Z-00047-000</td>\n",
       "      <td>0.831818</td>\n",
       "      <td>0.995368</td>\n",
       "    </tr>\n",
       "    <tr>\n",
       "      <th>530</th>\n",
       "      <td>87d0ccd3-2019-04-17T11:47:45Z-00063-000</td>\n",
       "      <td>0.573685</td>\n",
       "      <td>0.481558</td>\n",
       "    </tr>\n",
       "    <tr>\n",
       "      <th>531</th>\n",
       "      <td>a7c47a5c-2019-04-17T11:47:49Z-00026-000</td>\n",
       "      <td>0.847082</td>\n",
       "      <td>0.974026</td>\n",
       "    </tr>\n",
       "    <tr>\n",
       "      <th>532</th>\n",
       "      <td>36fa654a-2019-04-17T11:47:28Z-00004-000</td>\n",
       "      <td>0.839187</td>\n",
       "      <td>0.963993</td>\n",
       "    </tr>\n",
       "  </tbody>\n",
       "</table>\n",
       "<p>533 rows × 3 columns</p>\n",
       "</div>"
      ],
      "text/plain": [
       "                                     arg_ids      mean    median\n",
       "0    cb76cede-2019-04-18T11:58:57Z-00001-000  0.126117  0.027077\n",
       "1    242e2ea6-2019-04-18T11:32:58Z-00001-000  0.469289  0.248732\n",
       "2     6737184-2019-04-18T15:34:09Z-00002-000  0.505933  0.536868\n",
       "3    c4ac5612-2019-04-18T12:54:27Z-00005-000  0.258220  0.350304\n",
       "4    b1852c44-2019-04-18T18:27:05Z-00005-000  0.667831  0.604580\n",
       "..                                       ...       ...       ...\n",
       "528  87d0ccd3-2019-04-17T11:47:45Z-00062-000  0.451419  0.359522\n",
       "529  87d0ccd3-2019-04-17T11:47:45Z-00047-000  0.831818  0.995368\n",
       "530  87d0ccd3-2019-04-17T11:47:45Z-00063-000  0.573685  0.481558\n",
       "531  a7c47a5c-2019-04-17T11:47:49Z-00026-000  0.847082  0.974026\n",
       "532  36fa654a-2019-04-17T11:47:28Z-00004-000  0.839187  0.963993\n",
       "\n",
       "[533 rows x 3 columns]"
      ]
     },
     "execution_count": 259,
     "metadata": {},
     "output_type": "execute_result"
    }
   ],
   "source": [
    "scaler = MinMaxScaler()\n",
    "all_scores = np.hstack([scaler.fit_transform(use_reranked[['relevance', 'binary', 'aux']]), scaler.fit_transform(db_reranked[['relevance', 'binary']])])\n",
    "final_ranks = pd.DataFrame({'arg_ids':use_reranked['id'], 'mean':pd.Series(np.mean(all_scores, axis=1)), 'median':pd.Series(np.median(all_scores, axis=1))})\n",
    "final_ranks"
   ]
  },
  {
   "cell_type": "code",
   "execution_count": 260,
   "metadata": {},
   "outputs": [
    {
     "data": {
      "text/html": [
       "<div>\n",
       "<style scoped>\n",
       "    .dataframe tbody tr th:only-of-type {\n",
       "        vertical-align: middle;\n",
       "    }\n",
       "\n",
       "    .dataframe tbody tr th {\n",
       "        vertical-align: top;\n",
       "    }\n",
       "\n",
       "    .dataframe thead th {\n",
       "        text-align: right;\n",
       "    }\n",
       "</style>\n",
       "<table border=\"1\" class=\"dataframe\">\n",
       "  <thead>\n",
       "    <tr style=\"text-align: right;\">\n",
       "      <th></th>\n",
       "      <th>arg_ids</th>\n",
       "      <th>mean</th>\n",
       "      <th>median</th>\n",
       "    </tr>\n",
       "  </thead>\n",
       "  <tbody>\n",
       "    <tr>\n",
       "      <th>8</th>\n",
       "      <td>53fcdf2e-2019-04-18T11:15:19Z-00002-000</td>\n",
       "      <td>0.086013</td>\n",
       "      <td>0.063137</td>\n",
       "    </tr>\n",
       "    <tr>\n",
       "      <th>11</th>\n",
       "      <td>b18614c4-2019-04-18T15:36:50Z-00003-000</td>\n",
       "      <td>0.115511</td>\n",
       "      <td>0.059338</td>\n",
       "    </tr>\n",
       "    <tr>\n",
       "      <th>115</th>\n",
       "      <td>1fce0d2d-2019-04-15T20:24:15Z-00004-000</td>\n",
       "      <td>0.115831</td>\n",
       "      <td>0.066849</td>\n",
       "    </tr>\n",
       "    <tr>\n",
       "      <th>113</th>\n",
       "      <td>1fce0d2d-2019-04-15T20:24:15Z-00007-000</td>\n",
       "      <td>0.121149</td>\n",
       "      <td>0.121743</td>\n",
       "    </tr>\n",
       "    <tr>\n",
       "      <th>189</th>\n",
       "      <td>d66b8937-2019-04-15T20:22:46Z-00005-000</td>\n",
       "      <td>0.123123</td>\n",
       "      <td>0.054322</td>\n",
       "    </tr>\n",
       "    <tr>\n",
       "      <th>...</th>\n",
       "      <td>...</td>\n",
       "      <td>...</td>\n",
       "      <td>...</td>\n",
       "    </tr>\n",
       "    <tr>\n",
       "      <th>531</th>\n",
       "      <td>a7c47a5c-2019-04-17T11:47:49Z-00026-000</td>\n",
       "      <td>0.847082</td>\n",
       "      <td>0.974026</td>\n",
       "    </tr>\n",
       "    <tr>\n",
       "      <th>478</th>\n",
       "      <td>c4e8d546-2019-04-17T11:47:34Z-00101-000</td>\n",
       "      <td>0.850499</td>\n",
       "      <td>0.928091</td>\n",
       "    </tr>\n",
       "    <tr>\n",
       "      <th>486</th>\n",
       "      <td>c4e8d546-2019-04-17T11:47:34Z-00111-000</td>\n",
       "      <td>0.856114</td>\n",
       "      <td>0.963035</td>\n",
       "    </tr>\n",
       "    <tr>\n",
       "      <th>429</th>\n",
       "      <td>d8150fb5-2019-04-17T11:47:48Z-00039-000</td>\n",
       "      <td>0.863684</td>\n",
       "      <td>0.921121</td>\n",
       "    </tr>\n",
       "    <tr>\n",
       "      <th>57</th>\n",
       "      <td>1859c0d6-2019-04-18T14:19:02Z-00002-000</td>\n",
       "      <td>0.925727</td>\n",
       "      <td>0.954305</td>\n",
       "    </tr>\n",
       "  </tbody>\n",
       "</table>\n",
       "<p>533 rows × 3 columns</p>\n",
       "</div>"
      ],
      "text/plain": [
       "                                     arg_ids      mean    median\n",
       "8    53fcdf2e-2019-04-18T11:15:19Z-00002-000  0.086013  0.063137\n",
       "11   b18614c4-2019-04-18T15:36:50Z-00003-000  0.115511  0.059338\n",
       "115  1fce0d2d-2019-04-15T20:24:15Z-00004-000  0.115831  0.066849\n",
       "113  1fce0d2d-2019-04-15T20:24:15Z-00007-000  0.121149  0.121743\n",
       "189  d66b8937-2019-04-15T20:22:46Z-00005-000  0.123123  0.054322\n",
       "..                                       ...       ...       ...\n",
       "531  a7c47a5c-2019-04-17T11:47:49Z-00026-000  0.847082  0.974026\n",
       "478  c4e8d546-2019-04-17T11:47:34Z-00101-000  0.850499  0.928091\n",
       "486  c4e8d546-2019-04-17T11:47:34Z-00111-000  0.856114  0.963035\n",
       "429  d8150fb5-2019-04-17T11:47:48Z-00039-000  0.863684  0.921121\n",
       "57   1859c0d6-2019-04-18T14:19:02Z-00002-000  0.925727  0.954305\n",
       "\n",
       "[533 rows x 3 columns]"
      ]
     },
     "execution_count": 260,
     "metadata": {},
     "output_type": "execute_result"
    }
   ],
   "source": [
    "final_ranks.sort_values(by='mean')"
   ]
  },
  {
   "cell_type": "code",
   "execution_count": 258,
   "metadata": {},
   "outputs": [
    {
     "data": {
      "text/html": [
       "<div>\n",
       "<style scoped>\n",
       "    .dataframe tbody tr th:only-of-type {\n",
       "        vertical-align: middle;\n",
       "    }\n",
       "\n",
       "    .dataframe tbody tr th {\n",
       "        vertical-align: top;\n",
       "    }\n",
       "\n",
       "    .dataframe thead th {\n",
       "        text-align: right;\n",
       "    }\n",
       "</style>\n",
       "<table border=\"1\" class=\"dataframe\">\n",
       "  <thead>\n",
       "    <tr style=\"text-align: right;\">\n",
       "      <th></th>\n",
       "      <th>arg_ids</th>\n",
       "      <th>mean</th>\n",
       "      <th>median</th>\n",
       "    </tr>\n",
       "  </thead>\n",
       "  <tbody>\n",
       "    <tr>\n",
       "      <th>36</th>\n",
       "      <td>47ca0144-2019-04-18T15:38:01Z-00002-000</td>\n",
       "      <td>0.154978</td>\n",
       "      <td>0.026419</td>\n",
       "    </tr>\n",
       "    <tr>\n",
       "      <th>0</th>\n",
       "      <td>cb76cede-2019-04-18T11:58:57Z-00001-000</td>\n",
       "      <td>0.126117</td>\n",
       "      <td>0.027077</td>\n",
       "    </tr>\n",
       "    <tr>\n",
       "      <th>89</th>\n",
       "      <td>c5dcd8ac-2019-04-18T18:48:18Z-00005-000</td>\n",
       "      <td>0.292210</td>\n",
       "      <td>0.033648</td>\n",
       "    </tr>\n",
       "    <tr>\n",
       "      <th>37</th>\n",
       "      <td>d952cd48-2019-04-18T12:45:38Z-00001-000</td>\n",
       "      <td>0.147782</td>\n",
       "      <td>0.035299</td>\n",
       "    </tr>\n",
       "    <tr>\n",
       "      <th>374</th>\n",
       "      <td>b67fc3fb-2019-04-17T11:47:41Z-00079-000</td>\n",
       "      <td>0.126919</td>\n",
       "      <td>0.045069</td>\n",
       "    </tr>\n",
       "    <tr>\n",
       "      <th>...</th>\n",
       "      <td>...</td>\n",
       "      <td>...</td>\n",
       "      <td>...</td>\n",
       "    </tr>\n",
       "    <tr>\n",
       "      <th>68</th>\n",
       "      <td>70fa99e5-2019-04-18T11:07:40Z-00001-000</td>\n",
       "      <td>0.791173</td>\n",
       "      <td>0.976830</td>\n",
       "    </tr>\n",
       "    <tr>\n",
       "      <th>277</th>\n",
       "      <td>c297a6b3-2019-04-17T11:47:23Z-00034-000</td>\n",
       "      <td>0.802204</td>\n",
       "      <td>0.978417</td>\n",
       "    </tr>\n",
       "    <tr>\n",
       "      <th>206</th>\n",
       "      <td>bb88f107-2019-04-15T20:22:39Z-00001-000</td>\n",
       "      <td>0.811195</td>\n",
       "      <td>0.979332</td>\n",
       "    </tr>\n",
       "    <tr>\n",
       "      <th>88</th>\n",
       "      <td>cbde2446-2019-04-18T20:01:18Z-00002-000</td>\n",
       "      <td>0.759873</td>\n",
       "      <td>0.981733</td>\n",
       "    </tr>\n",
       "    <tr>\n",
       "      <th>529</th>\n",
       "      <td>87d0ccd3-2019-04-17T11:47:45Z-00047-000</td>\n",
       "      <td>0.831818</td>\n",
       "      <td>0.995368</td>\n",
       "    </tr>\n",
       "  </tbody>\n",
       "</table>\n",
       "<p>533 rows × 3 columns</p>\n",
       "</div>"
      ],
      "text/plain": [
       "                                     arg_ids      mean    median\n",
       "36   47ca0144-2019-04-18T15:38:01Z-00002-000  0.154978  0.026419\n",
       "0    cb76cede-2019-04-18T11:58:57Z-00001-000  0.126117  0.027077\n",
       "89   c5dcd8ac-2019-04-18T18:48:18Z-00005-000  0.292210  0.033648\n",
       "37   d952cd48-2019-04-18T12:45:38Z-00001-000  0.147782  0.035299\n",
       "374  b67fc3fb-2019-04-17T11:47:41Z-00079-000  0.126919  0.045069\n",
       "..                                       ...       ...       ...\n",
       "68   70fa99e5-2019-04-18T11:07:40Z-00001-000  0.791173  0.976830\n",
       "277  c297a6b3-2019-04-17T11:47:23Z-00034-000  0.802204  0.978417\n",
       "206  bb88f107-2019-04-15T20:22:39Z-00001-000  0.811195  0.979332\n",
       "88   cbde2446-2019-04-18T20:01:18Z-00002-000  0.759873  0.981733\n",
       "529  87d0ccd3-2019-04-17T11:47:45Z-00047-000  0.831818  0.995368\n",
       "\n",
       "[533 rows x 3 columns]"
      ]
     },
     "execution_count": 258,
     "metadata": {},
     "output_type": "execute_result"
    }
   ],
   "source": [
    "final_ranks.sort_values(by='median')"
   ]
  },
  {
   "cell_type": "code",
   "execution_count": 268,
   "metadata": {},
   "outputs": [
    {
     "data": {
      "text/plain": [
       "130"
      ]
     },
     "execution_count": 268,
     "metadata": {},
     "output_type": "execute_result"
    }
   ],
   "source": [
    "sum(use_reranked['relevance'] < -0.5)"
   ]
  },
  {
   "cell_type": "code",
   "execution_count": null,
   "metadata": {},
   "outputs": [],
   "source": []
  }
 ],
 "metadata": {
  "kernelspec": {
   "display_name": "Python 3",
   "language": "python",
   "name": "python3"
  },
  "language_info": {
   "codemirror_mode": {
    "name": "ipython",
    "version": 3
   },
   "file_extension": ".py",
   "mimetype": "text/x-python",
   "name": "python",
   "nbconvert_exporter": "python",
   "pygments_lexer": "ipython3",
   "version": "3.6.9"
  }
 },
 "nbformat": 4,
 "nbformat_minor": 4
}
