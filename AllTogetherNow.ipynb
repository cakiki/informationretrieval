{
 "cells": [
  {
   "cell_type": "code",
   "execution_count": 1,
   "metadata": {},
   "outputs": [
    {
     "data": {
      "text/html": [
       "<style>.container { width:95% !important; }</style>"
      ],
      "text/plain": [
       "<IPython.core.display.HTML object>"
      ]
     },
     "metadata": {},
     "output_type": "display_data"
    }
   ],
   "source": [
    "from IPython.core.display import display, HTML\n",
    "display(HTML(\"<style>.container { width:95% !important; }</style>\"))\n",
    "from ipywidgets import Output\n",
    "out = Output()"
   ]
  },
  {
   "cell_type": "code",
   "execution_count": 2,
   "metadata": {},
   "outputs": [],
   "source": [
    "!pip install --disable-pip-version-check -q pandas transformers seaborn tensorflow_hub elasticsearch elasticsearch-dsl torch annoy faiss-cpu\n",
    "!pip install --disable-pip-version-check -qU scikit-learn nltk spacy\n",
    "!pip -q install --disable-pip-version-check --no-warn-script-location --user tensorflow-text \n",
    "with out:\n",
    "    !python -m spacy download en_core_web_sm\n",
    "#UNCOMMENT IF RUNNING ON GPU BECAUSE TENSORFLOW TEXT DISABLES GPU ACCESS \n",
    "#!pip -q uninstall -y tensorflow"
   ]
  },
  {
   "cell_type": "code",
   "execution_count": 40,
   "metadata": {},
   "outputs": [],
   "source": [
    "from utils import *\n",
    "\n",
    "def return_args(id_set):\n",
    "    l = list(id_set)\n",
    "    return arguments[arguments['id'].isin(l)].copy()"
   ]
  },
  {
   "cell_type": "markdown",
   "metadata": {},
   "source": [
    "# Make sure Elasticsearch is alive"
   ]
  },
  {
   "cell_type": "code",
   "execution_count": 3,
   "metadata": {},
   "outputs": [
    {
     "data": {
      "text/plain": [
       "True"
      ]
     },
     "execution_count": 3,
     "metadata": {},
     "output_type": "execute_result"
    }
   ],
   "source": [
    "es = Elasticsearch(timeout=100)\n",
    "es.ping()"
   ]
  },
  {
   "cell_type": "code",
   "execution_count": 6,
   "metadata": {
    "scrolled": true
   },
   "outputs": [
    {
     "data": {
      "text/plain": [
       "{'arg_index': {'mappings': {'properties': {'conclusion': {'type': 'text'},\n",
       "    'context': {'properties': {'sourceId': {'type': 'keyword'}}},\n",
       "    'stance': {'type': 'keyword'},\n",
       "    'text': {'type': 'text', 'similarity': 'my_dirichlet'}}}}}"
      ]
     },
     "metadata": {},
     "output_type": "display_data"
    }
   ],
   "source": [
    "display(es.indices.get_mapping(index=\"arg_index\"))"
   ]
  },
  {
   "cell_type": "markdown",
   "metadata": {},
   "source": [
    "# Load the Topics, Judgments and Arguments into DataFrames"
   ]
  },
  {
   "cell_type": "code",
   "execution_count": 8,
   "metadata": {},
   "outputs": [
    {
     "data": {
      "text/html": [
       "<div>\n",
       "<style scoped>\n",
       "    .dataframe tbody tr th:only-of-type {\n",
       "        vertical-align: middle;\n",
       "    }\n",
       "\n",
       "    .dataframe tbody tr th {\n",
       "        vertical-align: top;\n",
       "    }\n",
       "\n",
       "    .dataframe thead th {\n",
       "        text-align: right;\n",
       "    }\n",
       "</style>\n",
       "<table border=\"1\" class=\"dataframe\">\n",
       "  <thead>\n",
       "    <tr style=\"text-align: right;\">\n",
       "      <th></th>\n",
       "      <th>topic</th>\n",
       "      <th>query</th>\n",
       "    </tr>\n",
       "  </thead>\n",
       "  <tbody>\n",
       "    <tr>\n",
       "      <th>0</th>\n",
       "      <td>1</td>\n",
       "      <td>Should Teachers Get Tenure?</td>\n",
       "    </tr>\n",
       "    <tr>\n",
       "      <th>1</th>\n",
       "      <td>2</td>\n",
       "      <td>Is Vaping with E-Cigarettes Safe?</td>\n",
       "    </tr>\n",
       "  </tbody>\n",
       "</table>\n",
       "</div>"
      ],
      "text/plain": [
       "   topic                              query\n",
       "0      1        Should Teachers Get Tenure?\n",
       "1      2  Is Vaping with E-Cigarettes Safe?"
      ]
     },
     "metadata": {},
     "output_type": "display_data"
    },
    {
     "data": {
      "text/html": [
       "<div>\n",
       "<style scoped>\n",
       "    .dataframe tbody tr th:only-of-type {\n",
       "        vertical-align: middle;\n",
       "    }\n",
       "\n",
       "    .dataframe tbody tr th {\n",
       "        vertical-align: top;\n",
       "    }\n",
       "\n",
       "    .dataframe thead th {\n",
       "        text-align: right;\n",
       "    }\n",
       "</style>\n",
       "<table border=\"1\" class=\"dataframe\">\n",
       "  <thead>\n",
       "    <tr style=\"text-align: right;\">\n",
       "      <th></th>\n",
       "      <th>topic</th>\n",
       "      <th>iteration</th>\n",
       "      <th>id</th>\n",
       "      <th>relevance</th>\n",
       "    </tr>\n",
       "  </thead>\n",
       "  <tbody>\n",
       "    <tr>\n",
       "      <th>0</th>\n",
       "      <td>9</td>\n",
       "      <td>0</td>\n",
       "      <td>5f1c7022-2019-04-18T15:36:48Z-00005-000</td>\n",
       "      <td>3</td>\n",
       "    </tr>\n",
       "    <tr>\n",
       "      <th>1</th>\n",
       "      <td>30</td>\n",
       "      <td>0</td>\n",
       "      <td>8e2fdd07-2019-04-18T15:40:20Z-00003-000</td>\n",
       "      <td>3</td>\n",
       "    </tr>\n",
       "  </tbody>\n",
       "</table>\n",
       "</div>"
      ],
      "text/plain": [
       "   topic  iteration                                       id  relevance\n",
       "0      9          0  5f1c7022-2019-04-18T15:36:48Z-00005-000          3\n",
       "1     30          0  8e2fdd07-2019-04-18T15:40:20Z-00003-000          3"
      ]
     },
     "metadata": {},
     "output_type": "display_data"
    },
    {
     "data": {
      "text/html": [
       "<div>\n",
       "<style scoped>\n",
       "    .dataframe tbody tr th:only-of-type {\n",
       "        vertical-align: middle;\n",
       "    }\n",
       "\n",
       "    .dataframe tbody tr th {\n",
       "        vertical-align: top;\n",
       "    }\n",
       "\n",
       "    .dataframe thead th {\n",
       "        text-align: right;\n",
       "    }\n",
       "</style>\n",
       "<table border=\"1\" class=\"dataframe\">\n",
       "  <thead>\n",
       "    <tr style=\"text-align: right;\">\n",
       "      <th></th>\n",
       "      <th>text</th>\n",
       "      <th>stance</th>\n",
       "      <th>id</th>\n",
       "      <th>conclusion</th>\n",
       "      <th>context.sourceId</th>\n",
       "      <th>context.previousArgumentInSourceId</th>\n",
       "      <th>context.acquisitionTime</th>\n",
       "      <th>context.discussionTitle</th>\n",
       "      <th>context.sourceTitle</th>\n",
       "      <th>context.sourceUrl</th>\n",
       "      <th>context.nextArgumentInSourceId</th>\n",
       "    </tr>\n",
       "  </thead>\n",
       "  <tbody>\n",
       "    <tr>\n",
       "      <th>0</th>\n",
       "      <td>My opponent forfeited every round. None of my ...</td>\n",
       "      <td>CON</td>\n",
       "      <td>c67482ba-2019-04-18T13:32:05Z-00000-000</td>\n",
       "      <td>Contraceptive Forms for High School Students</td>\n",
       "      <td>c67482ba-2019-04-18T13:32:05Z</td>\n",
       "      <td></td>\n",
       "      <td>2019-04-18T13:32:05Z</td>\n",
       "      <td>Contraceptive Forms for High School Students</td>\n",
       "      <td>Debate Argument: Contraceptive Forms for High ...</td>\n",
       "      <td>https://www.debate.org/debates/Contraceptive-F...</td>\n",
       "      <td>c67482ba-2019-04-18T13:32:05Z-00001-000</td>\n",
       "    </tr>\n",
       "    <tr>\n",
       "      <th>1</th>\n",
       "      <td>How do you propose the school will fund your p...</td>\n",
       "      <td>CON</td>\n",
       "      <td>c67482ba-2019-04-18T13:32:05Z-00001-000</td>\n",
       "      <td>Contraceptive Forms for High School Students</td>\n",
       "      <td>c67482ba-2019-04-18T13:32:05Z</td>\n",
       "      <td>c67482ba-2019-04-18T13:32:05Z-00000-000</td>\n",
       "      <td>2019-04-18T13:32:05Z</td>\n",
       "      <td>Contraceptive Forms for High School Students</td>\n",
       "      <td>Debate Argument: Contraceptive Forms for High ...</td>\n",
       "      <td>https://www.debate.org/debates/Contraceptive-F...</td>\n",
       "      <td>c67482ba-2019-04-18T13:32:05Z-00002-000</td>\n",
       "    </tr>\n",
       "  </tbody>\n",
       "</table>\n",
       "</div>"
      ],
      "text/plain": [
       "                                                text stance  \\\n",
       "0  My opponent forfeited every round. None of my ...    CON   \n",
       "1  How do you propose the school will fund your p...    CON   \n",
       "\n",
       "                                        id  \\\n",
       "0  c67482ba-2019-04-18T13:32:05Z-00000-000   \n",
       "1  c67482ba-2019-04-18T13:32:05Z-00001-000   \n",
       "\n",
       "                                     conclusion  \\\n",
       "0  Contraceptive Forms for High School Students   \n",
       "1  Contraceptive Forms for High School Students   \n",
       "\n",
       "                context.sourceId       context.previousArgumentInSourceId  \\\n",
       "0  c67482ba-2019-04-18T13:32:05Z                                            \n",
       "1  c67482ba-2019-04-18T13:32:05Z  c67482ba-2019-04-18T13:32:05Z-00000-000   \n",
       "\n",
       "  context.acquisitionTime                       context.discussionTitle  \\\n",
       "0    2019-04-18T13:32:05Z  Contraceptive Forms for High School Students   \n",
       "1    2019-04-18T13:32:05Z  Contraceptive Forms for High School Students   \n",
       "\n",
       "                                 context.sourceTitle  \\\n",
       "0  Debate Argument: Contraceptive Forms for High ...   \n",
       "1  Debate Argument: Contraceptive Forms for High ...   \n",
       "\n",
       "                                   context.sourceUrl  \\\n",
       "0  https://www.debate.org/debates/Contraceptive-F...   \n",
       "1  https://www.debate.org/debates/Contraceptive-F...   \n",
       "\n",
       "            context.nextArgumentInSourceId  \n",
       "0  c67482ba-2019-04-18T13:32:05Z-00001-000  \n",
       "1  c67482ba-2019-04-18T13:32:05Z-00002-000  "
      ]
     },
     "metadata": {},
     "output_type": "display_data"
    },
    {
     "name": "stdout",
     "output_type": "stream",
     "text": [
      "CPU times: user 691 ms, sys: 443 ms, total: 1.13 s\n",
      "Wall time: 1.13 s\n"
     ]
    }
   ],
   "source": [
    "%%time\n",
    "judgments = pd.read_csv('Data/tira-qrels', delim_whitespace=True, names=['topic','iteration','id','relevance'])\n",
    "arguments = pd.read_pickle('Data/dataset.pkl')\n",
    "\n",
    "tree = ET.parse('Data/topics-automatic-runs-task-1.xml')\n",
    "root = tree.getroot()\n",
    "\n",
    "topics = []\n",
    "for child in root:\n",
    "    d = {'topic':int(child[0].text), 'query':child[1].text}\n",
    "    topics.append(d)\n",
    "topics = pd.DataFrame(topics)\n",
    "display(topics[:2])\n",
    "display(judgments[:2])\n",
    "display(arguments[:2])"
   ]
  },
  {
   "cell_type": "markdown",
   "metadata": {},
   "source": [
    "# Load the semantic indices"
   ]
  },
  {
   "cell_type": "code",
   "execution_count": 9,
   "metadata": {},
   "outputs": [
    {
     "name": "stdout",
     "output_type": "stream",
     "text": [
      "Index already exists, now loading UniversalSentenceEncoderEmbeddings_angular_500\n",
      "Now reading in argument ids\n",
      "No tokenized pickle. Reading original dataset.\n",
      "-------------------\n",
      "-------ANNOY-------\n",
      "-------------------\n",
      "Index already exists, now loading UniversalSentenceEncoderEmbeddings_64_8\n",
      "Now reading in argument ids\n",
      "No tokenized pickle. Reading original dataset.\n",
      "-------------------\n",
      "-------FAISS-------\n",
      "-------------------\n",
      "Index already exists, now loading autoencoded_distilbert-base-uncased_1024_angular_500\n",
      "Now reading in argument ids\n",
      "Found tokenized pickle.\n",
      "-------------------\n",
      "-------ANNOY-------\n",
      "-------------------\n",
      "Index already exists, now loading autoencoded_distilbert-base-uncased_1024_64_8\n",
      "Now reading in argument ids\n",
      "Found tokenized pickle.\n",
      "-------------------\n",
      "-------FAISS-------\n",
      "-------------------\n",
      "Index already exists, now loading distilbert-base-uncased_angular_500_0_to_2\n",
      "Now reading in argument ids\n",
      "Found tokenized pickle.\n",
      "-------------------\n",
      "-------ANNOY-------\n",
      "-------------------\n",
      "Index already exists, now loading distilbert-base-uncased_64_8_0_to_2\n",
      "Now reading in argument ids\n",
      "Found tokenized pickle.\n",
      "-------------------\n",
      "-------FAISS-------\n",
      "-------------------\n",
      "CPU times: user 12.2 s, sys: 4.91 s, total: 17.1 s\n",
      "Wall time: 17.8 s\n"
     ]
    }
   ],
   "source": [
    "%%time\n",
    "current_dir = Path(\".\")\n",
    "encoded_dir = current_dir / \"Encoded\"\n",
    "tokenized_dir = current_dir / \"Tokenized\"\n",
    "indices = {}\n",
    "for file in encoded_dir.iterdir():\n",
    "    annoy_index, arg_ids = make_or_load_annoy(embedding_posix=file, n_trees=500, b=2)\n",
    "    pq_index, _ = make_or_load_pq(embedding_posix=file, b=2)\n",
    "    indices[file.stem] = {\"annoy_index\":annoy_index, \"pq_index\":pq_index, \"arg_ids\":arg_ids}\n",
    "\n",
    "annoy_d = indices['distilbert-base-uncased']['annoy_index']\n",
    "pq_d = indices['distilbert-base-uncased']['pq_index']\n",
    "ids_d = indices['distilbert-base-uncased']['arg_ids']\n",
    "\n",
    "annoy_a = indices['autoencoded_distilbert-base-uncased_1024']['annoy_index']\n",
    "pq_a = indices['autoencoded_distilbert-base-uncased_1024']['pq_index']\n",
    "ids_a = indices['autoencoded_distilbert-base-uncased_1024']['arg_ids']\n",
    "\n",
    "annoy_g = indices['UniversalSentenceEncoderEmbeddings']['annoy_index']\n",
    "pq_g = indices['UniversalSentenceEncoderEmbeddings']['pq_index']\n",
    "ids_g = indices['UniversalSentenceEncoderEmbeddings']['arg_ids']"
   ]
  },
  {
   "cell_type": "markdown",
   "metadata": {},
   "source": [
    "# Load the embedding neural networks"
   ]
  },
  {
   "cell_type": "code",
   "execution_count": 10,
   "metadata": {},
   "outputs": [
    {
     "data": {
      "application/vnd.jupyter.widget-view+json": {
       "model_id": "127a51b0604344b4a0ae542d5efa48f5",
       "version_major": 2,
       "version_minor": 0
      },
      "text/plain": [
       "HBox(children=(FloatProgress(value=0.0, description='Downloading', max=231508.0, style=ProgressStyle(descripti…"
      ]
     },
     "metadata": {},
     "output_type": "display_data"
    },
    {
     "name": "stdout",
     "output_type": "stream",
     "text": [
      "\n"
     ]
    },
    {
     "data": {
      "application/vnd.jupyter.widget-view+json": {
       "model_id": "fa2eeaa1f52b49fbacc4a06409be989f",
       "version_major": 2,
       "version_minor": 0
      },
      "text/plain": [
       "HBox(children=(FloatProgress(value=0.0, description='Downloading', max=363423424.0, style=ProgressStyle(descri…"
      ]
     },
     "metadata": {},
     "output_type": "display_data"
    },
    {
     "name": "stdout",
     "output_type": "stream",
     "text": [
      "\n"
     ]
    },
    {
     "name": "stderr",
     "output_type": "stream",
     "text": [
      "INFO:absl:Using /tmp/tfhub_modules to cache modules.\n",
      "INFO:absl:Downloading TF-Hub Module 'https://tfhub.dev/google/universal-sentence-encoder/4'.\n",
      "INFO:absl:Downloading https://tfhub.dev/google/universal-sentence-encoder/4: 180.00MB\n",
      "INFO:absl:Downloading https://tfhub.dev/google/universal-sentence-encoder/4: 350.00MB\n",
      "INFO:absl:Downloading https://tfhub.dev/google/universal-sentence-encoder/4: 530.00MB\n",
      "INFO:absl:Downloading https://tfhub.dev/google/universal-sentence-encoder/4: 700.00MB\n",
      "INFO:absl:Downloading https://tfhub.dev/google/universal-sentence-encoder/4: 880.00MB\n",
      "INFO:absl:Downloaded https://tfhub.dev/google/universal-sentence-encoder/4, Total size: 987.47MB\n",
      "INFO:absl:Downloaded TF-Hub Module 'https://tfhub.dev/google/universal-sentence-encoder/4'.\n"
     ]
    }
   ],
   "source": [
    "%%time\n",
    "\n",
    "#LOAD DISTILBERT\n",
    "config = AutoConfig.from_pretrained('distilbert-base-uncased')\n",
    "config.output_hidden_states=True\n",
    "tokenizer = AutoTokenizer.from_pretrained('distilbert-base-uncased')\n",
    "dbert = TFAutoModel.from_pretrained('distilbert-base-uncased', config=config)\n",
    "\n",
    "#LOAD UNIVERSAL SENTENCE ENCODER\n",
    "embed = hub.load(\"https://tfhub.dev/google/universal-sentence-encoder/4\")\n",
    "\n",
    "#LOAD AUTOENCODER\n",
    "MODEL_TO_USE = 'distilbert-base-uncased'\n",
    "model_version = \"0001\"\n",
    "model_name = f\"Encoder{MODEL_TO_USE}_1024\"\n",
    "folder_name = \"Autoencoder_encoder\"\n",
    "model_path = Path('.') / folder_name / model_name / model_version\n",
    "ae_e = tf.saved_model.load(str(model_path))"
   ]
  },
  {
   "cell_type": "markdown",
   "metadata": {},
   "source": [
    "# Enter a query or choose one at random from the topics dataframe"
   ]
  },
  {
   "cell_type": "code",
   "execution_count": 21,
   "metadata": {},
   "outputs": [
    {
     "name": "stdout",
     "output_type": "stream",
     "text": [
      "Can Alternative Energy Effectively Replace Fossil Fuels?\n"
     ]
    }
   ],
   "source": [
    "topic_number, query = topics.sample(1).values.squeeze()\n",
    "print(query)"
   ]
  },
  {
   "cell_type": "code",
   "execution_count": 22,
   "metadata": {},
   "outputs": [],
   "source": [
    "num_vectors_to_find = 10000"
   ]
  },
  {
   "cell_type": "markdown",
   "metadata": {},
   "source": [
    "# Embed the query using every one of the embedders"
   ]
  },
  {
   "cell_type": "code",
   "execution_count": 23,
   "metadata": {},
   "outputs": [
    {
     "name": "stdout",
     "output_type": "stream",
     "text": [
      "CPU times: user 535 ms, sys: 38.7 ms, total: 574 ms\n",
      "Wall time: 460 ms\n"
     ]
    }
   ],
   "source": [
    "%%time\n",
    "#GET EMBEDDING FROM DISTILBERT\n",
    "mod_input = tokenizer.encode_plus(query)\n",
    "i = tf.constant(mod_input['input_ids'])[None, :]\n",
    "m = tf.constant(mod_input['attention_mask'])[None, :]\n",
    "output = dbert(i, attention_mask=m, training=False)\n",
    "embedding = np.hstack([thing.numpy()[:,0,:] for thing in reversed(output[-1])])\n",
    "d_embedding = embedding[:, 0*config.dim:2*config.dim]\n",
    "\n",
    "#GET EMBEDDING FROM UNIVERSAL SENTENCE ENCODER\n",
    "g_embedding = embed([query]).numpy()\n",
    "\n",
    "#GET EMBEDDING FROM AUTOENCODER\n",
    "a_embedding = embedding[:,:-config.dim]\n",
    "a_embedding = ae_e(tf.constant(a_embedding)).numpy()"
   ]
  },
  {
   "cell_type": "markdown",
   "metadata": {},
   "source": [
    "# Query FAISS and ANNOY for every embedding (6 different indices: 2 per embedding) and store the returned argument ids in a resultset corresponding to the index"
   ]
  },
  {
   "cell_type": "code",
   "execution_count": 26,
   "metadata": {},
   "outputs": [
    {
     "name": "stdout",
     "output_type": "stream",
     "text": [
      "CPU times: user 4.33 s, sys: 0 ns, total: 4.33 s\n",
      "Wall time: 1.43 s\n"
     ]
    }
   ],
   "source": [
    "%%time\n",
    "result_indices = annoy_d.get_nns_by_vector(d_embedding.squeeze(), num_vectors_to_find, search_k=-1, include_distances=False)\n",
    "set_d_annoy = set(ids_d['id'][result_indices].values)\n",
    "\n",
    "result_indices = annoy_a.get_nns_by_vector(a_embedding.squeeze(), num_vectors_to_find, search_k=-1, include_distances=False)\n",
    "set_a_annoy = set(ids_d['id'][result_indices].values)\n",
    "\n",
    "result_indices = annoy_g.get_nns_by_vector(g_embedding.squeeze(), num_vectors_to_find, search_k=-1, include_distances=False)\n",
    "set_g_annoy = set(ids_d['id'][result_indices].values)\n",
    "\n",
    "_, result_indices = pq_d.search(d_embedding, num_vectors_to_find)  \n",
    "result_indices = result_indices.squeeze()\n",
    "set_d_pq = set(ids_d['id'][result_indices].values)\n",
    "\n",
    "_, result_indices = pq_a.search(a_embedding, num_vectors_to_find)  \n",
    "result_indices = result_indices.squeeze()\n",
    "set_a_pq = set(ids_a['id'][result_indices].values)\n",
    "\n",
    "_, result_indices = pq_g.search(g_embedding, num_vectors_to_find)  \n",
    "result_indices = result_indices.squeeze()\n",
    "set_g_pq = set(ids_g['id'][result_indices].values)"
   ]
  },
  {
   "cell_type": "markdown",
   "metadata": {},
   "source": [
    "## Inspect the top most frequent (not necessarily closest to the query) conclusion titles for each one of the 6 indices:"
   ]
  },
  {
   "cell_type": "code",
   "execution_count": 63,
   "metadata": {},
   "outputs": [
    {
     "name": "stdout",
     "output_type": "stream",
     "text": [
      "Distilbert with Annoy:\n",
      "---------------------\n",
      "\n",
      "['Single-payer universal health care', 'Animal testing', 'Capitalism vs socialism', 'Nuclear energy', 'Free trade', 'Public health insurance option', 'Abortion', 'Progressive tax vs. flat tax', 'Solar energy', 'Legalization of Marijuana', 'Gay marriage', 'Vegetarianism', 'Corporate free speech', 'Multiculturalism vs. assimilation', 'Health insurance cooperatives', 'Hydrogen vehicles', 'Bailout of US automakers', 'Dollarization', 'Kyoto Protocol', 'Abolition of nuclear weapons', 'Libertarianism', 'Withdrawing from Iraq', 'Medical marijuana dispensaries', 'US offshore oil drilling', 'Hunting for sport']\n",
      "\n",
      "Autoencoder with Annoy:\n",
      "----------------------\n",
      "\n",
      "['Single-payer universal health care', 'Animal testing', 'Abortion', 'Capitalism vs socialism', 'Public health insurance option', 'Gay marriage', 'Legalization of Marijuana', 'Progressive tax vs. flat tax', 'Free trade', 'Nuclear energy', 'Medical marijuana dispensaries', 'Death penalty', 'Vegetarianism', 'Solar energy', 'Assisted suicide', 'Bailout of US automakers', 'Corporate free speech', 'Law school', 'Assassination of a Dictator', 'Health insurance cooperatives', 'Kyoto Protocol', 'Prostitution', 'Banning Muslim hijab', 'Ban on human reproductive cloning', 'Withdrawing from Iraq']\n",
      "\n",
      "Google Encoder with Annoy:\n",
      "-------------------------\n",
      "\n",
      "['Abortion', 'Rap Battle', 'God is real', 'Gay Marriage', 'I will not contradict myself.', 'God Exists', 'Gun Control', 'IVF Debate', 'Abortion should be illegal', 'God exists', 'Rap battle', 'gay marriage', 'I will not contradict myself', 'Reclassify Hezbullah from Terrorists to Resctiance/Liberation movment', 'Death Penalty', 'Death penalty', 'Wonderking is good!', 'Christians (According to the Bible) Must Be Obedient', 'Adolf Hitler was a Christian', 'Automation has made the existing market system untenable.', 'abortion', 'Continue the sentence', 'legalize cannabis', 'existence is absolute', 'My photographs are, on the overall, \"better\" than my opponent\\'s.']\n",
      "\n",
      "Distilbert with PQ:\n",
      "------------------\n",
      "\n",
      "['Single-payer universal health care', 'Capitalism vs socialism', 'Public health insurance option', 'Animal testing', 'Nuclear energy', 'Progressive tax vs. flat tax', 'Free trade', 'Solar energy', 'Gay marriage', 'Legalization of Marijuana', 'Medical marijuana dispensaries', 'Abortion', 'Corporate free speech', 'Hydroelectric dams', 'Bailout of US automakers', 'Hydrogen vehicles', 'Charter schools', 'Health insurance cooperatives', 'Wind energy', 'US offshore oil drilling', 'Death penalty', 'Libertarianism', 'Kyoto Protocol', 'Tidal energy', 'Vegetarianism']\n",
      "\n",
      "Autoencoder with PQ:\n",
      "-------------------\n",
      "\n",
      "['Single-payer universal health care', 'Animal testing', 'Capitalism vs socialism', 'Public health insurance option', 'Abortion', 'Legalization of Marijuana', 'Infant male circumcision', 'Death penalty', 'Progressive tax vs. flat tax', 'Medical marijuana dispensaries', 'Gay marriage', 'Nuclear energy', 'Free trade', 'Solar energy', 'Bailout of US automakers', 'Withdrawing from Iraq', 'Banning Muslim hijab', 'Vegetarianism', 'Prostitution', 'Corporate free speech', 'Assisted suicide', 'Law school', 'International Criminal Court', 'Tibet independence', 'Health insurance cooperatives']\n",
      "\n",
      "Google Encoder with PQ:\n",
      "----------------------\n",
      "\n",
      "['Nuclear energy', 'Solar energy', 'Withdrawing from Iraq', 'Hydrogen vehicles', 'Wind energy', 'Hydroelectric dams', 'US offshore oil drilling', 'Tidal energy', 'Natural gas vehicles', 'Corn ethanol', 'Kyoto Protocol', 'Bailout of US automakers', 'Abolition of nuclear weapons', 'Natural gas', 'Electric vehicles', 'Algae biofuel', 'Capitalism vs socialism', 'Geoengineering', 'Oil sands', 'Wave power', 'Geoengineering, solar shading', 'Hybrid vehicles', 'Carbon capture and storage', 'Colonization of the Moon', 'Geoengineering, iron fertilization of algae blooms']\n",
      "\n"
     ]
    }
   ],
   "source": [
    "#Display the top-K most frequent discussion titles\n",
    "k = 25\n",
    "\n",
    "for resultset, name in zip([set_d_annoy, set_a_annoy, set_g_annoy, set_d_pq, set_a_pq, set_g_pq], [\"Distilbert with Annoy\", \"Autoencoder with Annoy\", \"Google Encoder with Annoy\", \"Distilbert with PQ\", \"Autoencoder with PQ\", \"Google Encoder with PQ\"]):\n",
    "    print(f\"{name}:\")\n",
    "    print(len(name)*\"-\")\n",
    "    print(\"\")\n",
    "    print(list(return_args(resultset)['conclusion'].value_counts().index)[:k])\n",
    "    print(\"\")"
   ]
  },
  {
   "cell_type": "markdown",
   "metadata": {},
   "source": [
    "# Run query against the Elasticsearch index and store the resulting argument ids in a set"
   ]
  },
  {
   "cell_type": "code",
   "execution_count": 64,
   "metadata": {},
   "outputs": [
    {
     "name": "stdout",
     "output_type": "stream",
     "text": [
      "CON ARGUMENT CONCLUSION: Establishing a $15 per ton carbon tax that increases by 3.5% each year until capped at $80 per ton\n",
      "CON ARGUMENT CONCLUSION: The United States should change towards the use of alternative fuel and away from fossil fuels.\n",
      "PRO ARGUMENT CONCLUSION: Nuclear power is beneficial for society\n",
      "CON ARGUMENT CONCLUSION: fossil fuel\n",
      "PRO ARGUMENT CONCLUSION: Steps to stop \"Global Warming\" will kill far more people then it will save\n",
      "CON ARGUMENT CONCLUSION: Steps to stop \"Global Warming\" will kill far more people then it will save\n",
      "CON ARGUMENT CONCLUSION: fossil fuel\n",
      "PRO ARGUMENT CONCLUSION: The United States should change towards the use of alternative fuel and away from fossil fuels.\n",
      "CON ARGUMENT CONCLUSION: There is currently an enviromental crisis in the United States\n",
      "PRO ARGUMENT CONCLUSION: Nuclear energy is a crucial alternative energy source that is too valuable to be restricted.\n",
      "CON ARGUMENT CONCLUSION: Wind power is unlikely to be economical within ten years\n",
      "CON ARGUMENT CONCLUSION: Nuclear Energy\n",
      "PRO ARGUMENT CONCLUSION: Nuclear Power is the most viable substitute from fossil fuels\n",
      "PRO ARGUMENT CONCLUSION: Nuclear Energy Is Beneficial to Society\n",
      "PRO ARGUMENT CONCLUSION: The United States should change towards the use of alternative fuel and away from fossil fuels.\n",
      "CON ARGUMENT CONCLUSION: Should the world stop using Oil/gas\n",
      "PRO ARGUMENT CONCLUSION: Increasing Funding for Micropower (Alternative Energy)\n",
      "PRO ARGUMENT CONCLUSION: The USFG should ban hydraulic fracturing\n",
      "PRO ARGUMENT CONCLUSION: fossil fuel\n",
      "PRO ARGUMENT CONCLUSION: Steps to stop \"Global Warming\" will kill far more people then it will save\n",
      "CPU times: user 295 ms, sys: 15.6 ms, total: 311 ms\n",
      "Wall time: 884 ms\n"
     ]
    }
   ],
   "source": [
    "%%time\n",
    "s = Search(using=es, index=\"arg_index\")\n",
    "s.query = Q(\"match\", text=query)\n",
    "s = s[:10000]\n",
    "response = s.execute()\n",
    "\n",
    "elastic_set = set()\n",
    "elastic_dic = {}\n",
    "for hit in response:\n",
    "    elastic_set.add(hit.meta.id)\n",
    "    elastic_dic[hit.meta.id] = hit.meta.score\n",
    "\n",
    "for hit in response[:20]:\n",
    "    print(f\"{hit.stance} ARGUMENT CONCLUSION: {hit.conclusion}\")    "
   ]
  },
  {
   "cell_type": "markdown",
   "metadata": {},
   "source": [
    "# Expand the original query using transformer-based language models, both causal and not"
   ]
  },
  {
   "cell_type": "markdown",
   "metadata": {},
   "source": [
    "## Use a Cloze (Masked, BERT-like) Language Model to generate a list of keywords relevant to the original query and run those against the Elasticsearch index"
   ]
  },
  {
   "cell_type": "code",
   "execution_count": 34,
   "metadata": {},
   "outputs": [],
   "source": [
    "tokenizer_mlm = AutoTokenizer.from_pretrained('bert-large-uncased')\n",
    "model_mlm = BertForMaskedLM.from_pretrained('bert-large-uncased')"
   ]
  },
  {
   "cell_type": "code",
   "execution_count": 65,
   "metadata": {},
   "outputs": [
    {
     "name": "stdout",
     "output_type": "stream",
     "text": [
      "Augmenting the query with the following keywords:\n",
      "\n",
      " ['diesel', 'cost', 'nuclear', 'consumption', 'hydrogen', 'technologies', 'energy', 'future', 'electricity', 'pregnancy', 'coal', 'alternative', 'migration', 'emissions', 'efficiency', 'economics', 'technology', 'growth', 'wartime', 'earthquakes', 'green', 'environmental', 'accidents', 'costs', 'renewable', 'winter', 'development', 'pollution', 'new', 'stress', 'water', 'oil', 'accident', 'death', 'health', 'warming', 'sustainability', 'accidental', 'fires', 'competition']\n",
      "\n",
      "\n",
      "CPU times: user 39.8 s, sys: 469 ms, total: 40.2 s\n",
      "Wall time: 2.97 s\n"
     ]
    }
   ],
   "source": [
    "%%time\n",
    "keywords = expand_mlm(model=model_mlm, tokenizer=tokenizer_mlm, query=query, k=5)\n",
    "print(f\"Augmenting the query with the following keywords:\\n\\n {keywords}\\n\\n\")"
   ]
  },
  {
   "cell_type": "code",
   "execution_count": 66,
   "metadata": {},
   "outputs": [
    {
     "name": "stdout",
     "output_type": "stream",
     "text": [
      "PRO ARGUMENT CONCLUSION: Resolved: hydraulic fracturing should continue to be used\n",
      "PRO ARGUMENT CONCLUSION: Free Trade Benefits the United States\n",
      "CON ARGUMENT CONCLUSION: The US Should Subsidize Nuclear Power\n",
      "PRO ARGUMENT CONCLUSION: Nuclear power is the least cost and fastest way to substantially cut GHG emissions from electricity\n",
      "CON ARGUMENT CONCLUSION: Nuclear Energy Is Beneficial to Society\n",
      "CON ARGUMENT CONCLUSION: the government should interevene in the transition to alternative fuels\n",
      "PRO ARGUMENT CONCLUSION: Resolved: On balance, the benefits of nuclear power outweigh the risks\n",
      "CON ARGUMENT CONCLUSION: There is currently an enviromental crisis in the United States\n",
      "CON ARGUMENT CONCLUSION: Nuclear Power\n",
      "CON ARGUMENT CONCLUSION: America should expand nuclear energy production.\n",
      "CON ARGUMENT CONCLUSION: fossil fuel\n",
      "CON ARGUMENT CONCLUSION: Nuclear Power\n",
      "PRO ARGUMENT CONCLUSION: The US should increase its use of nuclear energy\n",
      "CON ARGUMENT CONCLUSION: Developing countries should prioritize environmental protection over resource extraction\n",
      "PRO ARGUMENT CONCLUSION: Nuclear power.\n",
      "CON ARGUMENT CONCLUSION: Nuclear Energy should be the primary alternative energy\n",
      "PRO ARGUMENT CONCLUSION: Resolved: The USFG should substantially increase alternative energy incentives in the US.\n",
      "CON ARGUMENT CONCLUSION: Wave Carpet Renewable Energy\n",
      "PRO ARGUMENT CONCLUSION: The USFG ought to prioritize the development of clean energy over (continued...)\n",
      "PRO ARGUMENT CONCLUSION: Nuclear power is a reasonable approach to generating electricity\n",
      "CPU times: user 372 ms, sys: 12.3 ms, total: 384 ms\n",
      "Wall time: 1.22 s\n"
     ]
    }
   ],
   "source": [
    "%%time\n",
    "s = Search(using=es, index=\"arguments_index\")\n",
    "s.query = Q(\"match\", text=' '.join(keywords))\n",
    "s = s[:10000]\n",
    "\n",
    "response = s.execute()\n",
    "mlm_set = set()\n",
    "mlm_dic = {}\n",
    "for hit in response:\n",
    "    mlm_set.add(hit.meta.id)\n",
    "    mlm_dic[hit.meta.id] =hit.meta.score\n",
    "\n",
    "for hit in response[:20]:\n",
    "    print(f\"{hit.stance} ARGUMENT CONCLUSION: {hit.conclusion}\")    "
   ]
  },
  {
   "cell_type": "markdown",
   "metadata": {},
   "source": [
    "## Use a causal transformer language model (GPT2-like) to hallucinate new queries and run those against the Elasticsearch index"
   ]
  },
  {
   "cell_type": "code",
   "execution_count": 39,
   "metadata": {},
   "outputs": [],
   "source": [
    "LM_MODEL_TO_USE = \"gpt2\"\n",
    "tokenizer_lm = AutoTokenizer.from_pretrained(LM_MODEL_TO_USE)\n",
    "model_lm = AutoModelWithLMHead.from_pretrained(LM_MODEL_TO_USE)"
   ]
  },
  {
   "cell_type": "code",
   "execution_count": 68,
   "metadata": {
    "scrolled": false
   },
   "outputs": [
    {
     "name": "stdout",
     "output_type": "stream",
     "text": [
      "\n",
      "Greedily hallucinated for query 0:\n",
      "  there is no evidence that alternative energy can be used to replace fossil fuels. However, it has been shown in a number of studies (e.g., Janssen et al.) and the results are consistent with what we have seen so far from conventional sources such as wind turbines or solar panels on our planet's surface.\"This article originally appeared at The Daily Caller News Foundation:\n",
      "\n",
      "\n",
      "\n",
      "\n",
      "\n",
      "Greedily hallucinated for query 1:\n",
      "  In fact, it may be possible to replace fossil fuels with renewable sources of energy such as wind and solar power in the near future.\"\n",
      "\"We believe that alternative energies can have a significant impact on our planet's climate system by reducing greenhouse gas emissions,\" he said at an event held earlier this month hosted jointly between UMass-Amherst (UMD) Chancellor Nicholas Dirksen &\n",
      "\n",
      "\n",
      "Greedily hallucinated for query 2:\n",
      "  there is no evidence that alternative energy will replace fossil fuels in the foreseeable future. However, it may be possible to reduce emissions of carbon dioxide and other greenhouse gases by using renewable sources such as wind or solar power for electricity generation at a lower cost than traditional coal plants (e:g., with less reliance on natural gas). It would also make sense not only economically but environmentally if we could use\n",
      "\n",
      "\n",
      "Greedily hallucinated for query 3:\n",
      "  In fact, it's not even a question of whether alternative energy will replace fossil fuels in the long run but rather how quickly and efficiently they can be replaced by renewable sources such as wind or solar power to meet growing demand for electricity from renewables like coal-fired plants.\"\n",
      "\"Alternative energies have been around since ancient times,\" he said with an airy grin on his face when asked if there\n",
      "\n",
      "\n",
      "Greedily hallucinated for query 4:\n",
      "  if it's possible to replace fossil fuels with renewable energy, but there are a lot of things that can be done in the future. For example: Renewable sources such as wind and solar have been around for quite some time now because they're cheaper than coal or natural gas (which is much more expensive). There will always come an end point when we need them all back up again\n",
      "\n",
      "\n",
      "Greedily hallucinated for query 5:\n",
      "  what to make of this idea, but it seems like a good one. I don't know if there is any evidence that alternative energy can actually replace fossil fuels in the long run or not and so far we haven`t heard from anyone who has done research on how much they would save by using renewable sources such as wind turbines for power generation (or even solar panels). But at least some\n",
      "\n",
      " \n",
      "Hallucinated 1 for query 1:  it has proven to be a significant and lasting improvement in fuel efficiency, carbon neutrality. The only other thing that could possibly help this energy is the need for nuclear reactors at low cost which would require more than 20 percent of current generation electricity by 2030 (currently under construction), plus less renewable resources like wind or solar power as well but with sufficient amounts of coal/solar panels if there are enough\n",
      " \n",
      " \n",
      "Hallucinated 2 for query 1:  I've heard of a few that don't seem to have the benefit, but if there is an alternative energy effect on our society we can try it.From Wowpedia\n",
      "\n",
      " - Guide Contents Edit Source Damage and Mana Cost Basic Attack Physical 20% Base Duration (5s) 10 sec Notes Last updated July 25th 2013 This section covers basic attacks from Diablo II's minions in addition with some\n",
      " \n",
      " \n",
      "Hallucinated 3 for query 1:  there is currently very little research to prove that alternative energy does any good for us or will save anything from our climate crisis. It would be a big step forward, and if it were actually proven right the planet wouldn't suffer as much by burning fossil fuels again - but even with this we can still burn up oil quickly in most places of production (i:p)\n",
      "\n",
      "'It's also\n",
      " \n",
      " \n",
      "Hallucinated 1 for query 2:  While there are numerous options for reducing carbon emissions in the world today, it seems that most people choose to reduce their energy consumption or consume more renewable fuels as an alternative source of fuel when faced with climate change challenges,\" said Eichler on Twitter at 4:55 p!m., before adding he had found a solution \"to be met only by solar and wind.\"\n",
      "[See also this\n",
      " \n",
      " \n",
      "Hallucinated 2 for query 2:  We're on a transition that's going to be very, extremely fast because of the enormous amount we have and how much it takes for all those people in need – including myself! I'm really excited about what these two folks can bring us together as part Of The Earth Alliance!\"\n",
      "-Kathryn Fagan (Earthquakes), author\n",
      "\n",
      "AUSTIN — It was one\n",
      " \n",
      " \n",
      "Hallucinated 3 for query 2:  While alternative fuels are increasingly being developed, it seems the energy that can be used for electricity generation will always have to come from renewable resources such as natural gas or nuclear power stations and wind farms (or even small scale solar photovoltaic systems). If we look at other forms of renewables with low carbon efficiency today they include biomass sources: coal in North Dakota; hydro byproduct produced mainly via\n",
      " \n",
      " \n",
      "Hallucinated 1 for query 3:  there are no significant studies on this.\n",
      "\n",
      "\"We've just been told that the only energy sources with a high degree of success in creating an atmosphere around it will be fossil fuels,\" he said at Tuesday's conference.\"If we're going to create more renewable resources and less greenhouse gas pollution, then what kind [of climate impact] is actually happening here?\"The question remains unanswered but experts say\n",
      " \n",
      " \n",
      "Hallucinated 2 for query 3:  it doesn't. This is just an idea of how energy works and we need to figure out a way for alternative power systems in our world that can replace fossil fuels by generating more electricity (without sacrificing CO 2 ).In the days leading up Donald Trump's election, Democrats began claiming their nominee was racist after comparing his birther campaign platform with what many Republicans believed were lies on social media:\n",
      " \n",
      " \n",
      "Hallucinated 3 for query 3:  there is no evidence for that. There are a few possible alternative energy options available to people who would like to cut down fossil fuels, and I believe those include wind or solar power.\"The main thing we want in our future climate policies has to be better use of resources instead on these things than if they weren't used at the moment,\" said Kieferlein. \"We need clean air\n",
      " \n",
      " \n",
      "Hallucinated 1 for query 4:  It may be the best way to prevent climate change, but in fact fossil fuels can't help reduce greenhouse gas emissions because they are not as efficient or effective and also there's little need for them.\"\n",
      "\n",
      "\n",
      "If your iPhone 5s doesn-have an Android notification system on its screen (which I know of), that means this device will only show one app at a time – with just\n",
      " \n",
      " \n",
      "Hallucinated 2 for query 4:  We have an energy crisis that's just too great for everyone and it would be the wrong thing to ignore, especially as a society today.\" (Source)\n",
      "If there was one big takeaway from this event or any other climate summit I can see: If fossil fuels are not being replaced with clean alternatives we will all end up at some point experiencing our first natural disasters of 2014! That may sound\n",
      " \n",
      " \n",
      "Hallucinated 3 for query 4:  However, many scientists have made the point that alternative sources of power are already producing more carbon emissions than they would otherwise (and it seems like such a small number in our country). There has been some debate about whether this was actually true or if there simply wasn't much coal available at all to replace fossil fuels and other forms thereof as an environmentally sustainable form... In fact, recent studies suggest we\n",
      " \n",
      " \n",
      "Hallucinated 1 for query 5: . Is there any evidence to back this up or not and is the issue of alternative energy causing global climate change really overrated in your view? - The fact it's important doesn`t negate anything for me either because, hey look what we're seeing now right here are many nations who have developed more fossil fuels than us as a result...\n",
      "\n",
      "When my husband went out last\n",
      " \n",
      " \n",
      "Hallucinated 2 for query 5:  if this will happen, and the cost is still going to go up. Can it be used at all without having CO2 emitted by human consumption from burning fossil fuels or not? Also there are plenty of natural resources in Asia where coal plants aren`t available,so maybe that might make some difference as well. Is India also interested because they can get more than a few thousand acres\n",
      " \n",
      " \n",
      "Hallucinated 3 for query 5: . Can alternative fuels actually be the answer, because there's no real evidence that fossil energy will ever replace us with renewable resources...I mean we've had some of these \"climate\" changes over a long time period and now this is going to happen in 2045 or 2050 if all our solar panels come on line by 2020....maybe more importantly maybe 2030!But then what about wind\n",
      " \n"
     ]
    },
    {
     "name": "stdout",
     "output_type": "stream",
     "text": [
      " \n",
      "Hallucinated 1 for query 6: . I'd prefer that it was renewable energy, like wind or solar and hydro instead (or something similar) because fossil fuels are not so toxic to humans as they would be if burned off in the atmosphere at such high temperatures of CO2 alone.[3][4]What's up with all these people saying we should have had more power back then!? Is there any reason why even those\n",
      " \n",
      " \n",
      "Hallucinated 2 for query 6:  what I'm talking about.But that's probably the right answer... If this can be reversed, then we should definitely start working on alternatives to fossil fuels - which means removing emissions of carbon dioxide from our atmosphere and also reducing energy use (as long as they don't contribute significantly towards climate change)BENGHAZI/WASHINGTON—An Afghan judge has sentenced a Uttarak district court\n",
      " \n",
      " \n",
      "Hallucinated 3 for query 6:  what to make of it yet but I don't know for how long.In my opinion, \"Hinduism and Islam\" are very similar concepts: they both share an overarching philosophy (or a concept), which is about the importance that each individual has in society - something called karma; hence there may be some differences between them depending on their own culture/culture or religion.\" A recent\n",
      " \n",
      "CPU times: user 34min 42s, sys: 20.4 s, total: 35min 3s\n",
      "Wall time: 3min 12s\n"
     ]
    }
   ],
   "source": [
    "%%time\n",
    "greedy, sampled = expand_lm(model=model_lm, tokenizer=tokenizer_lm, query=query, print_generated=True)"
   ]
  },
  {
   "cell_type": "code",
   "execution_count": 72,
   "metadata": {},
   "outputs": [
    {
     "name": "stdout",
     "output_type": "stream",
     "text": [
      "CON ARGUMENT CONCLUSION: the government should interevene in the transition to alternative fuels\n",
      "CON ARGUMENT CONCLUSION: fossil fuel\n",
      "CON ARGUMENT CONCLUSION: The USFG ought to prioritize the development of clean energy over (continued...)\n",
      "PRO ARGUMENT CONCLUSION: Resolved: On balance, the benefits of nuclear power outweigh the risks\n",
      "PRO ARGUMENT CONCLUSION: The USFG ought to prioritize the development of clean energy over (continued...)\n",
      "CON ARGUMENT CONCLUSION: Nuclear Power\n",
      "CON ARGUMENT CONCLUSION: Nuclear Power\n",
      "PRO ARGUMENT CONCLUSION: Nuclear Power\n",
      "CON ARGUMENT CONCLUSION: There is currently an enviromental crisis in the United States\n",
      "CON ARGUMENT CONCLUSION: fossil fuel\n",
      "CON ARGUMENT CONCLUSION: Nuclear Power\n",
      "PRO ARGUMENT CONCLUSION: fossil fuel\n",
      "CON ARGUMENT CONCLUSION: Nuclear power.\n",
      "CON ARGUMENT CONCLUSION: Establishing a $15 per ton carbon tax that increases by 3.5% each year until capped at $80 per ton\n",
      "PRO ARGUMENT CONCLUSION: The US should encourage more nuclear energy use over current widely used energy forms.\n",
      "PRO ARGUMENT CONCLUSION: Resolved: The United States should Significantly Increase its Use of Nuclear Energy\n",
      "CON ARGUMENT CONCLUSION: Countries ought to prohibit the production of nuclear power\n",
      "CON ARGUMENT CONCLUSION: fossil fuel\n",
      "PRO ARGUMENT CONCLUSION: The United States should change towards the use of alternative fuel and away from fossil fuels.\n",
      "PRO ARGUMENT CONCLUSION: The US should adopt a carbon tax\n",
      "CPU times: user 649 ms, sys: 90.1 ms, total: 739 ms\n",
      "Wall time: 32.4 s\n"
     ]
    }
   ],
   "source": [
    "%%time\n",
    "s = Search(using=es, index=\"arguments_index\")\n",
    "s.query = Q('bool', should=[Q(\"match\", text=query) for query in chain(*[greedy, sampled])], minimum_should_match=int(len(list(chain(*[greedy, sampled])))/2))\n",
    "s = s[:10000]\n",
    "response = s.execute()\n",
    "lm_set = set()\n",
    "lm_dic = {}\n",
    "for hit in response:\n",
    "    lm_set.add(hit.meta.id)\n",
    "    lm_dic[hit.meta.id] =hit.meta.score\n",
    "\n",
    "for hit in response[:20]:\n",
    "    print(f\"{hit.stance} ARGUMENT CONCLUSION: {hit.conclusion}\")    "
   ]
  },
  {
   "cell_type": "code",
   "execution_count": 54,
   "metadata": {},
   "outputs": [
    {
     "data": {
      "text/plain": [
       "True"
      ]
     },
     "execution_count": 54,
     "metadata": {},
     "output_type": "execute_result"
    }
   ],
   "source": [
    "#Interestingly, (lm_dic.keys() & mlm_dic.keys()) returns a set! Same as doing lm_set.intersect(mlm_set)\n",
    "len(lm_dic.keys() & mlm_dic.keys()) == len(lm_set.intersection(mlm_set))"
   ]
  },
  {
   "cell_type": "markdown",
   "metadata": {},
   "source": [
    "## Use a Bag-of-Words (arg_bow) enhanced GPT2 model (Uber's PPLM: Plug-and-Play Language Model) to hallucinate queries and run those against the Elasticsearch index"
   ]
  },
  {
   "cell_type": "markdown",
   "metadata": {},
   "source": [
    "### The Bag of Words used attempts to steer the hallucinated text into sounding like an argument:"
   ]
  },
  {
   "cell_type": "code",
   "execution_count": 74,
   "metadata": {},
   "outputs": [
    {
     "name": "stdout",
     "output_type": "stream",
     "text": [
      "['accept', 'according', 'accordingly', 'affirm', 'agree', 'argue', 'argument', 'argumentation', 'assert', 'assumption', 'attack', 'attest', 'backing', 'basis', 'because', 'belief', 'believe', 'bias', 'biased', 'challenge', 'cite', 'claim', 'clear', 'con', 'concede', 'conclude', 'conclusion', 'concur', 'consequence', 'consequently', 'considering', 'context', 'controversial', 'convince', 'corroborate', 'convincing', 'corroboration', 'credibility', 'credible', 'criteria', 'criterion', 'debatable', 'debate', 'deduce', 'definition', 'determine', 'disagree', 'disprove', 'ergo', 'evidence', 'example', 'facts', 'fallacy', 'fallible', 'faulty', 'general', 'hence', 'hypothetical', 'imply', 'inconsistent', 'infer', 'irrelevant', 'justify', 'knowledge', 'logical', 'naturally', 'objectively ', 'opinion', 'perspective', 'persuade', 'persuasive', 'point', 'position', 'precisely', 'premise', 'pro', 'probable', 'proof', 'prove', 'rational', 'reason', 'rebuttal', 'reiterate', 'relevant', 'rhetoric', 'rhetorical', 'right', 'rumors', 'sure', 'surely', 'skeptical', 'skepticsm', 'sources', 'specific', 'stance', 'statistically', 'statistics', 'study', 'subjective ', 'subjectively', 'suppose', 'testimonial', 'theory', 'therefore', 'thesis', 'think', 'thought', 'thus', 'trustworthy', 'unconvinced', 'undermine', 'unsubstantiated', 'valid', 'warrant', 'whereas', 'wrong']\n"
     ]
    }
   ],
   "source": [
    "with open('arg_bow') as f:\n",
    "    bow = f.read().splitlines()\n",
    "print(bow)"
   ]
  },
  {
   "cell_type": "code",
   "execution_count": 73,
   "metadata": {},
   "outputs": [],
   "source": [
    "config = AutoConfig.from_pretrained(\"gpt2\")\n",
    "config.output_hidden_states = True\n",
    "tokenizer_pplm = AutoTokenizer.from_pretrained(\"gpt2\")\n",
    "model_pplm = AutoModelWithLMHead.from_pretrained(\"gpt2\", config=config)\n",
    "model_pplm.eval()    \n",
    "for param in model_pplm.parameters():\n",
    "    param.requires_grad = False"
   ]
  },
  {
   "cell_type": "code",
   "execution_count": 75,
   "metadata": {},
   "outputs": [
    {
     "name": "stdout",
     "output_type": "stream",
     "text": [
      ", but it's not a good idea.<|endoftext|>The following is an excerpt from the book \"A Brief History of American Politics\" by John Dickson (University Press), which\n",
      ", it does! The alternative energy industry has been working hard to convince the public that fossil fuels are not a viable option for our planet and we should be concerned about their impact\n",
      " Because of the fact that we are not using fossil fuels. We have to use alternative energy sources, and I believe it is important for us as a society in order be able\n",
      ", it's a good idea to use alternative energy sources like wind and solar power as well because they are cheaper than fossil fuels due in part (and this has been proven)\n",
      ", but it's not clear. It is possible to use alternative energy sources like solar and wind because they are cheaper than fossil fuels (and therefore more efficient). But there isn\n",
      ", but I'm not convinced.\n",
      "\n",
      " (I don't know if it's because of the fact that there are no fossil fuels in this country or just due to a lack\n",
      "CPU times: user 1h 46min 16s, sys: 1min 29s, total: 1h 47min 45s\n",
      "Wall time: 9min 42s\n"
     ]
    }
   ],
   "source": [
    "%%time\n",
    "pplm_hallucinated = expand_pplm(model=model_pplm, tokenizer=tokenizer_pplm, query=query, length=35, num_iterations=4)"
   ]
  },
  {
   "cell_type": "code",
   "execution_count": 77,
   "metadata": {},
   "outputs": [
    {
     "name": "stdout",
     "output_type": "stream",
     "text": [
      "CON ARGUMENT CONCLUSION: the government should interevene in the transition to alternative fuels\n",
      "CON ARGUMENT CONCLUSION: fossil fuel\n",
      "PRO ARGUMENT CONCLUSION: The United States should change towards the use of alternative fuel and away from fossil fuels.\n",
      "PRO ARGUMENT CONCLUSION: fossil fuel\n",
      "CON ARGUMENT CONCLUSION: The USFG ought to prioritize the development of clean energy over (continued...)\n",
      "CON ARGUMENT CONCLUSION: fossil fuel\n",
      "CON ARGUMENT CONCLUSION: The United States should change towards the use of alternative fuel and away from fossil fuels.\n",
      "CON ARGUMENT CONCLUSION: Nuclear Power\n",
      "PRO ARGUMENT CONCLUSION: The US should encourage more nuclear energy use over current widely used energy forms.\n",
      "PRO ARGUMENT CONCLUSION: Resolved: On balance, the benefits of nuclear power outweigh the risks\n",
      "CON ARGUMENT CONCLUSION: Should the world stop using Oil/gas\n",
      "CON ARGUMENT CONCLUSION: Are Renewable Energy Sources Better than Fossil Fuels\n",
      "PRO ARGUMENT CONCLUSION: fossil fuel\n",
      "CON ARGUMENT CONCLUSION: The USFG ought to prioritize the development of clean energy over (continued...)\n",
      "CON ARGUMENT CONCLUSION: There is currently an enviromental crisis in the United States\n",
      "PRO ARGUMENT CONCLUSION: ODT: The U.S. should increase its nuclear energy development.\n",
      "PRO ARGUMENT CONCLUSION: Nuclear Energy Is Beneficial to Society\n",
      "CON ARGUMENT CONCLUSION: Establishing a $15 per ton carbon tax that increases by 3.5% each year until capped at $80 per ton\n",
      "PRO ARGUMENT CONCLUSION: Nuclear power is beneficial for society\n",
      "PRO ARGUMENT CONCLUSION: Steps to stop \"Global Warming\" will kill far more people then it will save\n",
      "CPU times: user 330 ms, sys: 77.3 ms, total: 407 ms\n",
      "Wall time: 3.92 s\n"
     ]
    }
   ],
   "source": [
    "%%time\n",
    "s = Search(using=es, index=\"arguments_index\")\n",
    "s.query = Q('bool', should=[Q(\"match\", text=query) for query in pplm_hallucinated], minimum_should_match=int(len(pplm_hallucinated)/2))\n",
    "s = s[:10000]\n",
    "response = s.execute()\n",
    "pplm_set = set()\n",
    "pplm_dic = {}\n",
    "for hit in response:\n",
    "    pplm_set.add(hit.meta.id)\n",
    "    pplm_dic[hit.meta.id] =hit.meta.score\n",
    "for hit in response[:20]:\n",
    "    print(f\"{hit.stance} ARGUMENT CONCLUSION: {hit.conclusion}\")"
   ]
  },
  {
   "cell_type": "markdown",
   "metadata": {},
   "source": [
    "# Get union and k-wise intersection of the resultsets of argument ids"
   ]
  },
  {
   "cell_type": "markdown",
   "metadata": {},
   "source": [
    "The k-wise intersection takes all possible combinations of k out of kmax resultsets and produces the intersection. The result is the union of all these intersections"
   ]
  },
  {
   "cell_type": "code",
   "execution_count": 169,
   "metadata": {},
   "outputs": [
    {
     "data": {
      "text/plain": [
       "47571"
      ]
     },
     "execution_count": 169,
     "metadata": {},
     "output_type": "execute_result"
    }
   ],
   "source": [
    "union = set.union(*[set_d_annoy, set_a_annoy, set_g_annoy, set_d_pq, set_a_pq, set_g_pq, lm_set, mlm_set, pplm_set])\n",
    "len(union)"
   ]
  },
  {
   "cell_type": "markdown",
   "metadata": {},
   "source": [
    "The union seems to be noisy"
   ]
  },
  {
   "cell_type": "code",
   "execution_count": 174,
   "metadata": {},
   "outputs": [
    {
     "data": {
      "text/plain": [
       "Abortion                              310\n",
       "Single-payer universal health care    136\n",
       "Animal testing                        134\n",
       "Capitalism vs socialism               113\n",
       "Death penalty                         111\n",
       "Withdrawing from Iraq                 103\n",
       "Legalization of Marijuana             103\n",
       "Public health insurance option        101\n",
       "Gay marriage                           97\n",
       "Nuclear energy                         88\n",
       "Medical marijuana dispensaries         86\n",
       "Infant male circumcision               83\n",
       "Progressive tax vs. flat tax           81\n",
       "Vegetarianism                          80\n",
       "Death Penalty                          78\n",
       "Free trade                             76\n",
       "God Exists                             76\n",
       "Solar energy                           73\n",
       "Bailout of US automakers               67\n",
       "Law school                             66\n",
       "Name: conclusion, dtype: int64"
      ]
     },
     "execution_count": 174,
     "metadata": {},
     "output_type": "execute_result"
    }
   ],
   "source": [
    "return_args(union)['conclusion'].value_counts()[:20]"
   ]
  },
  {
   "cell_type": "code",
   "execution_count": 162,
   "metadata": {},
   "outputs": [],
   "source": [
    "all_sets = [set_d_annoy, set_a_annoy, set_g_annoy, set_d_pq, set_a_pq, set_g_pq, lm_set, mlm_set, pplm_set]\n",
    "L = len(all_sets)\n",
    "\n",
    "cartesian_up_to_L = [combination for r in range(L-5,L) for combination in combinations(all_sets,r+1)] # this returns a list of combinations of L-5 elements up the intersection of all L sets. 5 is a hyperparameter\n",
    "intersections = set.union(*[set.intersection(*thing) for thing in cartesian_up_to_L]) #This computes the intersection of every combination in that list then takes the union"
   ]
  },
  {
   "cell_type": "markdown",
   "metadata": {},
   "source": [
    "tuple wise intersections seem to filter out the noise"
   ]
  },
  {
   "cell_type": "code",
   "execution_count": 166,
   "metadata": {},
   "outputs": [
    {
     "data": {
      "text/plain": [
       "Nuclear energy                                                           67\n",
       "Solar energy                                                             53\n",
       "Hydrogen vehicles                                                        35\n",
       "US offshore oil drilling                                                 35\n",
       "Kyoto Protocol                                                           33\n",
       "Abolition of nuclear weapons                                             31\n",
       "Capitalism vs socialism                                                  31\n",
       "Geoengineering                                                           29\n",
       "Natural gas vehicles                                                     29\n",
       "Algae biofuel                                                            28\n",
       "Wind energy                                                              28\n",
       "Single-payer universal health care                                       28\n",
       "Bailout of US automakers                                                 27\n",
       "Phasing out fossil fuel subsidies                                        26\n",
       "Tidal energy                                                             25\n",
       "Electric vehicles                                                        25\n",
       "Natural gas                                                              24\n",
       "Health insurance cooperatives                                            24\n",
       "Geoengineering, solar shading                                            23\n",
       "Vehicle fuel economy standards                                           23\n",
       "Corn ethanol                                                             23\n",
       "Oil sands                                                                22\n",
       "Carbon capture and storage                                               21\n",
       "Free trade                                                               19\n",
       "Animal testing                                                           19\n",
       "Hydroelectric dams                                                       19\n",
       "Hybrid vehicles                                                          17\n",
       "Wave power                                                               16\n",
       "US Renewable Electricity Standard                                        16\n",
       "Pickens US energy plan                                                   15\n",
       "Developed countries have a higher obligation to combat climate change    14\n",
       "Geoengineering, iron fertilization of algae blooms                       14\n",
       "Cellulosic ethanol                                                       14\n",
       "Carbon emissions trading                                                 14\n",
       "Corporate free speech                                                    13\n",
       "Medical marijuana dispensaries                                           12\n",
       "Public health insurance option                                           12\n",
       "Withdrawing from Iraq                                                    11\n",
       "Comprehensive Nuclear-Test-Ban Treaty                                    11\n",
       "Vegetarianism                                                            11\n",
       "Ban on human reproductive cloning                                        11\n",
       "Superdelegates                                                           10\n",
       "Funding for space exploration                                            10\n",
       "Underground nuclear waste storage                                        10\n",
       "Ecotourism                                                               10\n",
       "Earmarks                                                                 10\n",
       "Legalization of Marijuana                                                 9\n",
       "Oil Companies Should Not Be Allowed To Drill Offshore                     9\n",
       "Progressive tax vs. flat tax                                              9\n",
       "Mandatory calorie counts on menus                                         9\n",
       "Name: conclusion, dtype: int64"
      ]
     },
     "execution_count": 166,
     "metadata": {},
     "output_type": "execute_result"
    }
   ],
   "source": [
    "return_args(intersections)['conclusion'].value_counts()[:50]"
   ]
  },
  {
   "cell_type": "code",
   "execution_count": 167,
   "metadata": {
    "scrolled": false
   },
   "outputs": [
    {
     "data": {
      "text/html": [
       "<div>\n",
       "<style scoped>\n",
       "    .dataframe tbody tr th:only-of-type {\n",
       "        vertical-align: middle;\n",
       "    }\n",
       "\n",
       "    .dataframe tbody tr th {\n",
       "        vertical-align: top;\n",
       "    }\n",
       "\n",
       "    .dataframe thead th {\n",
       "        text-align: right;\n",
       "    }\n",
       "</style>\n",
       "<table border=\"1\" class=\"dataframe\">\n",
       "  <thead>\n",
       "    <tr style=\"text-align: right;\">\n",
       "      <th></th>\n",
       "      <th>text</th>\n",
       "      <th>stance</th>\n",
       "      <th>id</th>\n",
       "      <th>conclusion</th>\n",
       "      <th>context.sourceId</th>\n",
       "      <th>context.previousArgumentInSourceId</th>\n",
       "      <th>context.acquisitionTime</th>\n",
       "      <th>context.discussionTitle</th>\n",
       "      <th>context.sourceTitle</th>\n",
       "      <th>context.sourceUrl</th>\n",
       "      <th>context.nextArgumentInSourceId</th>\n",
       "    </tr>\n",
       "  </thead>\n",
       "  <tbody>\n",
       "    <tr>\n",
       "      <th>10266</th>\n",
       "      <td>Burning coal is much cheaper than renewable op...</td>\n",
       "      <td>CON</td>\n",
       "      <td>cf63c6bb-2019-04-18T16:09:29Z-00004-000</td>\n",
       "      <td>Renewable Resource Energy</td>\n",
       "      <td>cf63c6bb-2019-04-18T16:09:29Z</td>\n",
       "      <td></td>\n",
       "      <td>2019-04-18T16:09:29Z</td>\n",
       "      <td>Renewable Resource Energy</td>\n",
       "      <td>Debate Topic: Renewable Resource Energy | Deba...</td>\n",
       "      <td>https://www.debate.org/debates/Renewable-Resou...</td>\n",
       "      <td>cf63c6bb-2019-04-18T16:09:29Z-00005-000</td>\n",
       "    </tr>\n",
       "    <tr>\n",
       "      <th>13373</th>\n",
       "      <td>should cloning of a extinct animals be allowed</td>\n",
       "      <td>CON</td>\n",
       "      <td>b129938-2019-04-18T17:27:14Z-00003-000</td>\n",
       "      <td>cloning animals</td>\n",
       "      <td>b129938-2019-04-18T17:27:14Z</td>\n",
       "      <td>b129938-2019-04-18T17:27:14Z-00002-000</td>\n",
       "      <td>2019-04-18T17:27:14Z</td>\n",
       "      <td>cloning animals</td>\n",
       "      <td>Debate Argument: cloning animals | Debate.org</td>\n",
       "      <td>https://www.debate.org/debates/cloning-animals/1/</td>\n",
       "      <td>b129938-2019-04-18T17:27:14Z-00000-000</td>\n",
       "    </tr>\n",
       "    <tr>\n",
       "      <th>13567</th>\n",
       "      <td>I would like to thank my opponent for the chal...</td>\n",
       "      <td>CON</td>\n",
       "      <td>bb8a50de-2019-04-18T18:52:28Z-00003-000</td>\n",
       "      <td>free trade should be valued above protectionism</td>\n",
       "      <td>bb8a50de-2019-04-18T18:52:28Z</td>\n",
       "      <td>bb8a50de-2019-04-18T18:52:28Z-00002-000</td>\n",
       "      <td>2019-04-18T18:52:28Z</td>\n",
       "      <td>free trade should be valued above protectionism</td>\n",
       "      <td>Debate Argument: free trade should be valued a...</td>\n",
       "      <td>https://www.debate.org/debates/free-trade-shou...</td>\n",
       "      <td>bb8a50de-2019-04-18T18:52:28Z-00004-000</td>\n",
       "    </tr>\n",
       "    <tr>\n",
       "      <th>16727</th>\n",
       "      <td>I'll go paragraph by paragraph: INHERENCY: Inh...</td>\n",
       "      <td>PRO</td>\n",
       "      <td>f1a21db5-2019-04-18T19:44:42Z-00003-000</td>\n",
       "      <td>Resolved: The USFG should substantially increa...</td>\n",
       "      <td>f1a21db5-2019-04-18T19:44:42Z</td>\n",
       "      <td>f1a21db5-2019-04-18T19:44:42Z-00002-000</td>\n",
       "      <td>2019-04-18T19:44:42Z</td>\n",
       "      <td>Resolved: The USFG should substantially increa...</td>\n",
       "      <td>Online Debate: Resolved: The USFG should subst...</td>\n",
       "      <td>https://www.debate.org/debates/Resolved-The-US...</td>\n",
       "      <td>f1a21db5-2019-04-18T19:44:42Z-00004-000</td>\n",
       "    </tr>\n",
       "    <tr>\n",
       "      <th>16899</th>\n",
       "      <td>I thank my opponent for accepting this debate....</td>\n",
       "      <td>CON</td>\n",
       "      <td>f8fc8c9e-2019-04-18T19:30:17Z-00003-000</td>\n",
       "      <td>government should mandate that by 2040 all new...</td>\n",
       "      <td>f8fc8c9e-2019-04-18T19:30:17Z</td>\n",
       "      <td>f8fc8c9e-2019-04-18T19:30:17Z-00002-000</td>\n",
       "      <td>2019-04-18T19:30:17Z</td>\n",
       "      <td>government should mandate that by 2040 all new...</td>\n",
       "      <td>Debate: government should mandate that by 2040...</td>\n",
       "      <td>https://www.debate.org/debates/government-shou...</td>\n",
       "      <td>f8fc8c9e-2019-04-18T19:30:17Z-00004-000</td>\n",
       "    </tr>\n",
       "    <tr>\n",
       "      <th>...</th>\n",
       "      <td>...</td>\n",
       "      <td>...</td>\n",
       "      <td>...</td>\n",
       "      <td>...</td>\n",
       "      <td>...</td>\n",
       "      <td>...</td>\n",
       "      <td>...</td>\n",
       "      <td>...</td>\n",
       "      <td>...</td>\n",
       "      <td>...</td>\n",
       "      <td>...</td>\n",
       "    </tr>\n",
       "    <tr>\n",
       "      <th>387374</th>\n",
       "      <td>Legalization would change drug consumption fro...</td>\n",
       "      <td>PRO</td>\n",
       "      <td>a7c47a5c-2019-04-17T11:47:49Z-00020-000</td>\n",
       "      <td>Legalization of drugs</td>\n",
       "      <td>a7c47a5c-2019-04-17T11:47:49Z</td>\n",
       "      <td>a7c47a5c-2019-04-17T11:47:49Z-00035-000</td>\n",
       "      <td>2019-04-17T11:47:49Z</td>\n",
       "      <td>Legalization of drugs</td>\n",
       "      <td>Debate: Legalization of drugs - Debatepedia</td>\n",
       "      <td>http://www.debatepedia.org/en/index.php/Debate...</td>\n",
       "      <td>a7c47a5c-2019-04-17T11:47:49Z-00005-000</td>\n",
       "    </tr>\n",
       "    <tr>\n",
       "      <th>387397</th>\n",
       "      <td>The legalization of drugs will increase consum...</td>\n",
       "      <td>CON</td>\n",
       "      <td>a7c47a5c-2019-04-17T11:47:49Z-00015-000</td>\n",
       "      <td>Legalization of drugs</td>\n",
       "      <td>a7c47a5c-2019-04-17T11:47:49Z</td>\n",
       "      <td>a7c47a5c-2019-04-17T11:47:49Z-00030-000</td>\n",
       "      <td>2019-04-17T11:47:49Z</td>\n",
       "      <td>Legalization of drugs</td>\n",
       "      <td>Debate: Legalization of drugs - Debatepedia</td>\n",
       "      <td>http://www.debatepedia.org/en/index.php/Debate...</td>\n",
       "      <td>a7c47a5c-2019-04-17T11:47:49Z-00000-000</td>\n",
       "    </tr>\n",
       "    <tr>\n",
       "      <th>387407</th>\n",
       "      <td>Lower prices due to legalization of drugs will...</td>\n",
       "      <td>CON</td>\n",
       "      <td>a7c47a5c-2019-04-17T11:47:49Z-00016-000</td>\n",
       "      <td>Legalization of drugs</td>\n",
       "      <td>a7c47a5c-2019-04-17T11:47:49Z</td>\n",
       "      <td>a7c47a5c-2019-04-17T11:47:49Z-00031-000</td>\n",
       "      <td>2019-04-17T11:47:49Z</td>\n",
       "      <td>Legalization of drugs</td>\n",
       "      <td>Debate: Legalization of drugs - Debatepedia</td>\n",
       "      <td>http://www.debatepedia.org/en/index.php/Debate...</td>\n",
       "      <td>a7c47a5c-2019-04-17T11:47:49Z-00001-000</td>\n",
       "    </tr>\n",
       "    <tr>\n",
       "      <th>387418</th>\n",
       "      <td>Legalizing drugs would eliminate an industry t...</td>\n",
       "      <td>PRO</td>\n",
       "      <td>a7c47a5c-2019-04-17T11:47:49Z-00002-000</td>\n",
       "      <td>Legalization of drugs</td>\n",
       "      <td>a7c47a5c-2019-04-17T11:47:49Z</td>\n",
       "      <td>a7c47a5c-2019-04-17T11:47:49Z-00017-000</td>\n",
       "      <td>2019-04-17T11:47:49Z</td>\n",
       "      <td>Legalization of drugs</td>\n",
       "      <td>Debate: Legalization of drugs - Debatepedia</td>\n",
       "      <td>http://www.debatepedia.org/en/index.php/Debate...</td>\n",
       "      <td>a7c47a5c-2019-04-17T11:47:49Z-00025-000</td>\n",
       "    </tr>\n",
       "    <tr>\n",
       "      <th>387423</th>\n",
       "      <td>Regulated legalization of drugs will improve p...</td>\n",
       "      <td>PRO</td>\n",
       "      <td>a7c47a5c-2019-04-17T11:47:49Z-00010-000</td>\n",
       "      <td>Legalization of drugs</td>\n",
       "      <td>a7c47a5c-2019-04-17T11:47:49Z</td>\n",
       "      <td>a7c47a5c-2019-04-17T11:47:49Z-00025-000</td>\n",
       "      <td>2019-04-17T11:47:49Z</td>\n",
       "      <td>Legalization of drugs</td>\n",
       "      <td>Debate: Legalization of drugs - Debatepedia</td>\n",
       "      <td>http://www.debatepedia.org/en/index.php/Debate...</td>\n",
       "      <td>a7c47a5c-2019-04-17T11:47:49Z-00033-000</td>\n",
       "    </tr>\n",
       "  </tbody>\n",
       "</table>\n",
       "<p>1916 rows × 11 columns</p>\n",
       "</div>"
      ],
      "text/plain": [
       "                                                     text stance  \\\n",
       "10266   Burning coal is much cheaper than renewable op...    CON   \n",
       "13373      should cloning of a extinct animals be allowed    CON   \n",
       "13567   I would like to thank my opponent for the chal...    CON   \n",
       "16727   I'll go paragraph by paragraph: INHERENCY: Inh...    PRO   \n",
       "16899   I thank my opponent for accepting this debate....    CON   \n",
       "...                                                   ...    ...   \n",
       "387374  Legalization would change drug consumption fro...    PRO   \n",
       "387397  The legalization of drugs will increase consum...    CON   \n",
       "387407  Lower prices due to legalization of drugs will...    CON   \n",
       "387418  Legalizing drugs would eliminate an industry t...    PRO   \n",
       "387423  Regulated legalization of drugs will improve p...    PRO   \n",
       "\n",
       "                                             id  \\\n",
       "10266   cf63c6bb-2019-04-18T16:09:29Z-00004-000   \n",
       "13373    b129938-2019-04-18T17:27:14Z-00003-000   \n",
       "13567   bb8a50de-2019-04-18T18:52:28Z-00003-000   \n",
       "16727   f1a21db5-2019-04-18T19:44:42Z-00003-000   \n",
       "16899   f8fc8c9e-2019-04-18T19:30:17Z-00003-000   \n",
       "...                                         ...   \n",
       "387374  a7c47a5c-2019-04-17T11:47:49Z-00020-000   \n",
       "387397  a7c47a5c-2019-04-17T11:47:49Z-00015-000   \n",
       "387407  a7c47a5c-2019-04-17T11:47:49Z-00016-000   \n",
       "387418  a7c47a5c-2019-04-17T11:47:49Z-00002-000   \n",
       "387423  a7c47a5c-2019-04-17T11:47:49Z-00010-000   \n",
       "\n",
       "                                               conclusion  \\\n",
       "10266                           Renewable Resource Energy   \n",
       "13373                                     cloning animals   \n",
       "13567     free trade should be valued above protectionism   \n",
       "16727   Resolved: The USFG should substantially increa...   \n",
       "16899   government should mandate that by 2040 all new...   \n",
       "...                                                   ...   \n",
       "387374                              Legalization of drugs   \n",
       "387397                              Legalization of drugs   \n",
       "387407                              Legalization of drugs   \n",
       "387418                              Legalization of drugs   \n",
       "387423                              Legalization of drugs   \n",
       "\n",
       "                     context.sourceId  \\\n",
       "10266   cf63c6bb-2019-04-18T16:09:29Z   \n",
       "13373    b129938-2019-04-18T17:27:14Z   \n",
       "13567   bb8a50de-2019-04-18T18:52:28Z   \n",
       "16727   f1a21db5-2019-04-18T19:44:42Z   \n",
       "16899   f8fc8c9e-2019-04-18T19:30:17Z   \n",
       "...                               ...   \n",
       "387374  a7c47a5c-2019-04-17T11:47:49Z   \n",
       "387397  a7c47a5c-2019-04-17T11:47:49Z   \n",
       "387407  a7c47a5c-2019-04-17T11:47:49Z   \n",
       "387418  a7c47a5c-2019-04-17T11:47:49Z   \n",
       "387423  a7c47a5c-2019-04-17T11:47:49Z   \n",
       "\n",
       "             context.previousArgumentInSourceId context.acquisitionTime  \\\n",
       "10266                                              2019-04-18T16:09:29Z   \n",
       "13373    b129938-2019-04-18T17:27:14Z-00002-000    2019-04-18T17:27:14Z   \n",
       "13567   bb8a50de-2019-04-18T18:52:28Z-00002-000    2019-04-18T18:52:28Z   \n",
       "16727   f1a21db5-2019-04-18T19:44:42Z-00002-000    2019-04-18T19:44:42Z   \n",
       "16899   f8fc8c9e-2019-04-18T19:30:17Z-00002-000    2019-04-18T19:30:17Z   \n",
       "...                                         ...                     ...   \n",
       "387374  a7c47a5c-2019-04-17T11:47:49Z-00035-000    2019-04-17T11:47:49Z   \n",
       "387397  a7c47a5c-2019-04-17T11:47:49Z-00030-000    2019-04-17T11:47:49Z   \n",
       "387407  a7c47a5c-2019-04-17T11:47:49Z-00031-000    2019-04-17T11:47:49Z   \n",
       "387418  a7c47a5c-2019-04-17T11:47:49Z-00017-000    2019-04-17T11:47:49Z   \n",
       "387423  a7c47a5c-2019-04-17T11:47:49Z-00025-000    2019-04-17T11:47:49Z   \n",
       "\n",
       "                                  context.discussionTitle  \\\n",
       "10266                           Renewable Resource Energy   \n",
       "13373                                     cloning animals   \n",
       "13567     free trade should be valued above protectionism   \n",
       "16727   Resolved: The USFG should substantially increa...   \n",
       "16899   government should mandate that by 2040 all new...   \n",
       "...                                                   ...   \n",
       "387374                              Legalization of drugs   \n",
       "387397                              Legalization of drugs   \n",
       "387407                              Legalization of drugs   \n",
       "387418                              Legalization of drugs   \n",
       "387423                              Legalization of drugs   \n",
       "\n",
       "                                      context.sourceTitle  \\\n",
       "10266   Debate Topic: Renewable Resource Energy | Deba...   \n",
       "13373       Debate Argument: cloning animals | Debate.org   \n",
       "13567   Debate Argument: free trade should be valued a...   \n",
       "16727   Online Debate: Resolved: The USFG should subst...   \n",
       "16899   Debate: government should mandate that by 2040...   \n",
       "...                                                   ...   \n",
       "387374        Debate: Legalization of drugs - Debatepedia   \n",
       "387397        Debate: Legalization of drugs - Debatepedia   \n",
       "387407        Debate: Legalization of drugs - Debatepedia   \n",
       "387418        Debate: Legalization of drugs - Debatepedia   \n",
       "387423        Debate: Legalization of drugs - Debatepedia   \n",
       "\n",
       "                                        context.sourceUrl  \\\n",
       "10266   https://www.debate.org/debates/Renewable-Resou...   \n",
       "13373   https://www.debate.org/debates/cloning-animals/1/   \n",
       "13567   https://www.debate.org/debates/free-trade-shou...   \n",
       "16727   https://www.debate.org/debates/Resolved-The-US...   \n",
       "16899   https://www.debate.org/debates/government-shou...   \n",
       "...                                                   ...   \n",
       "387374  http://www.debatepedia.org/en/index.php/Debate...   \n",
       "387397  http://www.debatepedia.org/en/index.php/Debate...   \n",
       "387407  http://www.debatepedia.org/en/index.php/Debate...   \n",
       "387418  http://www.debatepedia.org/en/index.php/Debate...   \n",
       "387423  http://www.debatepedia.org/en/index.php/Debate...   \n",
       "\n",
       "                 context.nextArgumentInSourceId  \n",
       "10266   cf63c6bb-2019-04-18T16:09:29Z-00005-000  \n",
       "13373    b129938-2019-04-18T17:27:14Z-00000-000  \n",
       "13567   bb8a50de-2019-04-18T18:52:28Z-00004-000  \n",
       "16727   f1a21db5-2019-04-18T19:44:42Z-00004-000  \n",
       "16899   f8fc8c9e-2019-04-18T19:30:17Z-00004-000  \n",
       "...                                         ...  \n",
       "387374  a7c47a5c-2019-04-17T11:47:49Z-00005-000  \n",
       "387397  a7c47a5c-2019-04-17T11:47:49Z-00000-000  \n",
       "387407  a7c47a5c-2019-04-17T11:47:49Z-00001-000  \n",
       "387418  a7c47a5c-2019-04-17T11:47:49Z-00025-000  \n",
       "387423  a7c47a5c-2019-04-17T11:47:49Z-00033-000  \n",
       "\n",
       "[1916 rows x 11 columns]"
      ]
     },
     "execution_count": 167,
     "metadata": {},
     "output_type": "execute_result"
    }
   ],
   "source": [
    "return_args(intersections)"
   ]
  },
  {
   "cell_type": "markdown",
   "metadata": {},
   "source": [
    "# Rerank a list of arguments using Distilbert and/or the Wide and Deep Network"
   ]
  },
  {
   "cell_type": "markdown",
   "metadata": {},
   "source": [
    "## Load the Distilbert ranker"
   ]
  },
  {
   "cell_type": "code",
   "execution_count": 168,
   "metadata": {},
   "outputs": [],
   "source": [
    "model_version = \"0002\"\n",
    "model_name = f\"distilbert-base-uncased_for_sequence_classification\"\n",
    "folder_name = \"Ranker\"\n",
    "model_path = Path('.') / folder_name / model_name / model_version\n",
    "db_rank = tf.saved_model.load(str(model_path))"
   ]
  },
  {
   "cell_type": "markdown",
   "metadata": {},
   "source": [
    "## Rerank the intersection set with Distilbert"
   ]
  },
  {
   "cell_type": "code",
   "execution_count": 175,
   "metadata": {},
   "outputs": [
    {
     "name": "stdout",
     "output_type": "stream",
     "text": [
      "CPU times: user 58min, sys: 7min 24s, total: 1h 5min 24s\n",
      "Wall time: 4min\n"
     ]
    }
   ],
   "source": [
    "%%time\n",
    "db_reranked = []\n",
    "for i, arg in return_args(intersections).iterrows():\n",
    "    tokenized = tokenizer.encode_plus(query, arg['text'], max_length=tokenizer.max_len, pad_to_max_length=True)\n",
    "    i= tf.constant(tokenized['input_ids'], dtype=tf.int64)[None, :]\n",
    "    m= tf.constant(tokenized['attention_mask'], dtype=tf.int64)[None, :]\n",
    "    r,b = (np.array(db_rank([i,m], training=False)).squeeze())\n",
    "    db_reranked.append({\"id\": arg['id'], 'relevance':r, 'binary':b})"
   ]
  },
  {
   "cell_type": "code",
   "execution_count": 176,
   "metadata": {},
   "outputs": [
    {
     "data": {
      "text/html": [
       "<div>\n",
       "<style scoped>\n",
       "    .dataframe tbody tr th:only-of-type {\n",
       "        vertical-align: middle;\n",
       "    }\n",
       "\n",
       "    .dataframe tbody tr th {\n",
       "        vertical-align: top;\n",
       "    }\n",
       "\n",
       "    .dataframe thead th {\n",
       "        text-align: right;\n",
       "    }\n",
       "</style>\n",
       "<table border=\"1\" class=\"dataframe\">\n",
       "  <thead>\n",
       "    <tr style=\"text-align: right;\">\n",
       "      <th></th>\n",
       "      <th>id</th>\n",
       "      <th>relevance</th>\n",
       "      <th>binary</th>\n",
       "    </tr>\n",
       "  </thead>\n",
       "  <tbody>\n",
       "    <tr>\n",
       "      <th>0</th>\n",
       "      <td>cf63c6bb-2019-04-18T16:09:29Z-00004-000</td>\n",
       "      <td>2.636328</td>\n",
       "      <td>0.988542</td>\n",
       "    </tr>\n",
       "    <tr>\n",
       "      <th>1</th>\n",
       "      <td>b129938-2019-04-18T17:27:14Z-00003-000</td>\n",
       "      <td>-0.981731</td>\n",
       "      <td>0.227259</td>\n",
       "    </tr>\n",
       "    <tr>\n",
       "      <th>2</th>\n",
       "      <td>bb8a50de-2019-04-18T18:52:28Z-00003-000</td>\n",
       "      <td>2.408162</td>\n",
       "      <td>0.986205</td>\n",
       "    </tr>\n",
       "    <tr>\n",
       "      <th>3</th>\n",
       "      <td>f1a21db5-2019-04-18T19:44:42Z-00003-000</td>\n",
       "      <td>2.642425</td>\n",
       "      <td>0.988530</td>\n",
       "    </tr>\n",
       "    <tr>\n",
       "      <th>4</th>\n",
       "      <td>f8fc8c9e-2019-04-18T19:30:17Z-00003-000</td>\n",
       "      <td>2.562882</td>\n",
       "      <td>0.991478</td>\n",
       "    </tr>\n",
       "    <tr>\n",
       "      <th>...</th>\n",
       "      <td>...</td>\n",
       "      <td>...</td>\n",
       "      <td>...</td>\n",
       "    </tr>\n",
       "    <tr>\n",
       "      <th>1911</th>\n",
       "      <td>a7c47a5c-2019-04-17T11:47:49Z-00020-000</td>\n",
       "      <td>-1.688570</td>\n",
       "      <td>0.076038</td>\n",
       "    </tr>\n",
       "    <tr>\n",
       "      <th>1912</th>\n",
       "      <td>a7c47a5c-2019-04-17T11:47:49Z-00015-000</td>\n",
       "      <td>-1.542947</td>\n",
       "      <td>0.120951</td>\n",
       "    </tr>\n",
       "    <tr>\n",
       "      <th>1913</th>\n",
       "      <td>a7c47a5c-2019-04-17T11:47:49Z-00016-000</td>\n",
       "      <td>2.334604</td>\n",
       "      <td>0.985321</td>\n",
       "    </tr>\n",
       "    <tr>\n",
       "      <th>1914</th>\n",
       "      <td>a7c47a5c-2019-04-17T11:47:49Z-00002-000</td>\n",
       "      <td>1.881718</td>\n",
       "      <td>0.963452</td>\n",
       "    </tr>\n",
       "    <tr>\n",
       "      <th>1915</th>\n",
       "      <td>a7c47a5c-2019-04-17T11:47:49Z-00010-000</td>\n",
       "      <td>-1.234786</td>\n",
       "      <td>0.196148</td>\n",
       "    </tr>\n",
       "  </tbody>\n",
       "</table>\n",
       "<p>1916 rows × 3 columns</p>\n",
       "</div>"
      ],
      "text/plain": [
       "                                           id  relevance    binary\n",
       "0     cf63c6bb-2019-04-18T16:09:29Z-00004-000   2.636328  0.988542\n",
       "1      b129938-2019-04-18T17:27:14Z-00003-000  -0.981731  0.227259\n",
       "2     bb8a50de-2019-04-18T18:52:28Z-00003-000   2.408162  0.986205\n",
       "3     f1a21db5-2019-04-18T19:44:42Z-00003-000   2.642425  0.988530\n",
       "4     f8fc8c9e-2019-04-18T19:30:17Z-00003-000   2.562882  0.991478\n",
       "...                                       ...        ...       ...\n",
       "1911  a7c47a5c-2019-04-17T11:47:49Z-00020-000  -1.688570  0.076038\n",
       "1912  a7c47a5c-2019-04-17T11:47:49Z-00015-000  -1.542947  0.120951\n",
       "1913  a7c47a5c-2019-04-17T11:47:49Z-00016-000   2.334604  0.985321\n",
       "1914  a7c47a5c-2019-04-17T11:47:49Z-00002-000   1.881718  0.963452\n",
       "1915  a7c47a5c-2019-04-17T11:47:49Z-00010-000  -1.234786  0.196148\n",
       "\n",
       "[1916 rows x 3 columns]"
      ]
     },
     "execution_count": 176,
     "metadata": {},
     "output_type": "execute_result"
    }
   ],
   "source": [
    "db_reranked = pd.DataFrame(db_reranked)\n",
    "db_reranked"
   ]
  },
  {
   "cell_type": "markdown",
   "metadata": {},
   "source": [
    "## Load the Wide and Deep ranker"
   ]
  },
  {
   "cell_type": "code",
   "execution_count": 177,
   "metadata": {},
   "outputs": [],
   "source": [
    "model_version = \"0001\"\n",
    "model_name = f\"Wide_and_deep\"\n",
    "folder_name = \"Ranker\"\n",
    "model_path = Path('.') / folder_name / model_name / model_version\n",
    "wnd_rank = tf.saved_model.load(str(model_path))"
   ]
  },
  {
   "cell_type": "markdown",
   "metadata": {},
   "source": [
    "## Load the QA version of the Universal Sentence Encoder"
   ]
  },
  {
   "cell_type": "code",
   "execution_count": 178,
   "metadata": {},
   "outputs": [
    {
     "name": "stderr",
     "output_type": "stream",
     "text": [
      "INFO:absl:Downloading TF-Hub Module 'https://tfhub.dev/google/universal-sentence-encoder-qa/3'.\n",
      "INFO:absl:Downloading https://tfhub.dev/google/universal-sentence-encoder-qa/3: 170.04MB\n",
      "INFO:absl:Downloading https://tfhub.dev/google/universal-sentence-encoder-qa/3: 340.04MB\n",
      "INFO:absl:Downloading https://tfhub.dev/google/universal-sentence-encoder-qa/3: 500.04MB\n",
      "INFO:absl:Downloaded https://tfhub.dev/google/universal-sentence-encoder-qa/3, Total size: 588.94MB\n",
      "INFO:absl:Downloaded TF-Hub Module 'https://tfhub.dev/google/universal-sentence-encoder-qa/3'.\n"
     ]
    }
   ],
   "source": [
    "module = hub.load('https://tfhub.dev/google/universal-sentence-encoder-qa/3')\n",
    "query_embedder = module.signatures['question_encoder']\n",
    "arg_embedder = module.signatures['response_encoder']"
   ]
  },
  {
   "cell_type": "code",
   "execution_count": 182,
   "metadata": {},
   "outputs": [
    {
     "name": "stdout",
     "output_type": "stream",
     "text": [
      "CPU times: user 15min 25s, sys: 2min 30s, total: 17min 55s\n",
      "Wall time: 2min 59s\n"
     ]
    }
   ],
   "source": [
    "%%time\n",
    "use_reranked = []\n",
    "for i, arg in return_args(intersections).iterrows():\n",
    "    q = query_embedder(tf.constant([query]))['outputs'].numpy()\n",
    "    a = arg_embedder(input=tf.constant([arg['text']]), context=tf.constant([arg['conclusion']]))['outputs'].numpy()\n",
    "    dp = np.dot(q.squeeze(),a.squeeze())\n",
    "    deep_input = np.hstack([q,a])\n",
    "    s = Search(using=es, index='arg_index')\n",
    "    s.query = Q(\"match\", text=query) & Q(\"term\", _id=arg['id'])\n",
    "    response = s.execute()\n",
    "    length = len(arg['text'])\n",
    "    ds = 0\n",
    "    if not response.hits.total.value == 0:\n",
    "        ds = response[0].meta.score\n",
    "    wide_input = np.hstack([dp, ds, length])\n",
    "    r,b,aux = np.array(wnd_rank([tf.constant(wide_input, dtype=tf.float32)[None,:], tf.constant(deep_input, dtype=tf.float32)], training=False)).squeeze()\n",
    "    use_reranked.append({\"id\": arg['id'], 'relevance':r, 'binary':b, 'aux':aux})"
   ]
  },
  {
   "cell_type": "code",
   "execution_count": 183,
   "metadata": {},
   "outputs": [
    {
     "data": {
      "text/html": [
       "<div>\n",
       "<style scoped>\n",
       "    .dataframe tbody tr th:only-of-type {\n",
       "        vertical-align: middle;\n",
       "    }\n",
       "\n",
       "    .dataframe tbody tr th {\n",
       "        vertical-align: top;\n",
       "    }\n",
       "\n",
       "    .dataframe thead th {\n",
       "        text-align: right;\n",
       "    }\n",
       "</style>\n",
       "<table border=\"1\" class=\"dataframe\">\n",
       "  <thead>\n",
       "    <tr style=\"text-align: right;\">\n",
       "      <th></th>\n",
       "      <th>id</th>\n",
       "      <th>relevance</th>\n",
       "      <th>binary</th>\n",
       "      <th>aux</th>\n",
       "    </tr>\n",
       "  </thead>\n",
       "  <tbody>\n",
       "    <tr>\n",
       "      <th>0</th>\n",
       "      <td>cf63c6bb-2019-04-18T16:09:29Z-00004-000</td>\n",
       "      <td>2.267275</td>\n",
       "      <td>0.632976</td>\n",
       "      <td>0.992779</td>\n",
       "    </tr>\n",
       "    <tr>\n",
       "      <th>1</th>\n",
       "      <td>b129938-2019-04-18T17:27:14Z-00003-000</td>\n",
       "      <td>-1.504922</td>\n",
       "      <td>0.516634</td>\n",
       "      <td>0.165707</td>\n",
       "    </tr>\n",
       "    <tr>\n",
       "      <th>2</th>\n",
       "      <td>bb8a50de-2019-04-18T18:52:28Z-00003-000</td>\n",
       "      <td>1.375458</td>\n",
       "      <td>1.000000</td>\n",
       "      <td>0.277443</td>\n",
       "    </tr>\n",
       "    <tr>\n",
       "      <th>3</th>\n",
       "      <td>f1a21db5-2019-04-18T19:44:42Z-00003-000</td>\n",
       "      <td>2.949860</td>\n",
       "      <td>1.000000</td>\n",
       "      <td>0.924030</td>\n",
       "    </tr>\n",
       "    <tr>\n",
       "      <th>4</th>\n",
       "      <td>f8fc8c9e-2019-04-18T19:30:17Z-00003-000</td>\n",
       "      <td>2.467835</td>\n",
       "      <td>1.000000</td>\n",
       "      <td>0.870499</td>\n",
       "    </tr>\n",
       "    <tr>\n",
       "      <th>...</th>\n",
       "      <td>...</td>\n",
       "      <td>...</td>\n",
       "      <td>...</td>\n",
       "      <td>...</td>\n",
       "    </tr>\n",
       "    <tr>\n",
       "      <th>1911</th>\n",
       "      <td>a7c47a5c-2019-04-17T11:47:49Z-00020-000</td>\n",
       "      <td>-1.710224</td>\n",
       "      <td>0.542446</td>\n",
       "      <td>0.096710</td>\n",
       "    </tr>\n",
       "    <tr>\n",
       "      <th>1912</th>\n",
       "      <td>a7c47a5c-2019-04-17T11:47:49Z-00015-000</td>\n",
       "      <td>-0.724441</td>\n",
       "      <td>0.430645</td>\n",
       "      <td>0.734148</td>\n",
       "    </tr>\n",
       "    <tr>\n",
       "      <th>1913</th>\n",
       "      <td>a7c47a5c-2019-04-17T11:47:49Z-00016-000</td>\n",
       "      <td>-0.749373</td>\n",
       "      <td>0.499491</td>\n",
       "      <td>0.768408</td>\n",
       "    </tr>\n",
       "    <tr>\n",
       "      <th>1914</th>\n",
       "      <td>a7c47a5c-2019-04-17T11:47:49Z-00002-000</td>\n",
       "      <td>2.192319</td>\n",
       "      <td>0.545298</td>\n",
       "      <td>0.988674</td>\n",
       "    </tr>\n",
       "    <tr>\n",
       "      <th>1915</th>\n",
       "      <td>a7c47a5c-2019-04-17T11:47:49Z-00010-000</td>\n",
       "      <td>1.171846</td>\n",
       "      <td>0.433140</td>\n",
       "      <td>0.965132</td>\n",
       "    </tr>\n",
       "  </tbody>\n",
       "</table>\n",
       "<p>1916 rows × 4 columns</p>\n",
       "</div>"
      ],
      "text/plain": [
       "                                           id  relevance    binary       aux\n",
       "0     cf63c6bb-2019-04-18T16:09:29Z-00004-000   2.267275  0.632976  0.992779\n",
       "1      b129938-2019-04-18T17:27:14Z-00003-000  -1.504922  0.516634  0.165707\n",
       "2     bb8a50de-2019-04-18T18:52:28Z-00003-000   1.375458  1.000000  0.277443\n",
       "3     f1a21db5-2019-04-18T19:44:42Z-00003-000   2.949860  1.000000  0.924030\n",
       "4     f8fc8c9e-2019-04-18T19:30:17Z-00003-000   2.467835  1.000000  0.870499\n",
       "...                                       ...        ...       ...       ...\n",
       "1911  a7c47a5c-2019-04-17T11:47:49Z-00020-000  -1.710224  0.542446  0.096710\n",
       "1912  a7c47a5c-2019-04-17T11:47:49Z-00015-000  -0.724441  0.430645  0.734148\n",
       "1913  a7c47a5c-2019-04-17T11:47:49Z-00016-000  -0.749373  0.499491  0.768408\n",
       "1914  a7c47a5c-2019-04-17T11:47:49Z-00002-000   2.192319  0.545298  0.988674\n",
       "1915  a7c47a5c-2019-04-17T11:47:49Z-00010-000   1.171846  0.433140  0.965132\n",
       "\n",
       "[1916 rows x 4 columns]"
      ]
     },
     "execution_count": 183,
     "metadata": {},
     "output_type": "execute_result"
    }
   ],
   "source": [
    "use_reranked = pd.DataFrame(use_reranked)\n",
    "use_reranked"
   ]
  },
  {
   "cell_type": "markdown",
   "metadata": {},
   "source": [
    "# Combine the two rankings using the scaled scores"
   ]
  },
  {
   "cell_type": "code",
   "execution_count": 184,
   "metadata": {},
   "outputs": [
    {
     "data": {
      "text/html": [
       "<div>\n",
       "<style scoped>\n",
       "    .dataframe tbody tr th:only-of-type {\n",
       "        vertical-align: middle;\n",
       "    }\n",
       "\n",
       "    .dataframe tbody tr th {\n",
       "        vertical-align: top;\n",
       "    }\n",
       "\n",
       "    .dataframe thead th {\n",
       "        text-align: right;\n",
       "    }\n",
       "</style>\n",
       "<table border=\"1\" class=\"dataframe\">\n",
       "  <thead>\n",
       "    <tr style=\"text-align: right;\">\n",
       "      <th></th>\n",
       "      <th>arg_ids</th>\n",
       "      <th>mean</th>\n",
       "      <th>median</th>\n",
       "    </tr>\n",
       "  </thead>\n",
       "  <tbody>\n",
       "    <tr>\n",
       "      <th>0</th>\n",
       "      <td>cf63c6bb-2019-04-18T16:09:29Z-00004-000</td>\n",
       "      <td>0.829133</td>\n",
       "      <td>0.892579</td>\n",
       "    </tr>\n",
       "    <tr>\n",
       "      <th>1</th>\n",
       "      <td>b129938-2019-04-18T17:27:14Z-00003-000</td>\n",
       "      <td>0.214735</td>\n",
       "      <td>0.200753</td>\n",
       "    </tr>\n",
       "    <tr>\n",
       "      <th>2</th>\n",
       "      <td>bb8a50de-2019-04-18T18:52:28Z-00003-000</td>\n",
       "      <td>0.748457</td>\n",
       "      <td>0.851136</td>\n",
       "    </tr>\n",
       "    <tr>\n",
       "      <th>3</th>\n",
       "      <td>f1a21db5-2019-04-18T19:44:42Z-00003-000</td>\n",
       "      <td>0.940014</td>\n",
       "      <td>0.927205</td>\n",
       "    </tr>\n",
       "    <tr>\n",
       "      <th>4</th>\n",
       "      <td>f8fc8c9e-2019-04-18T19:30:17Z-00003-000</td>\n",
       "      <td>0.910836</td>\n",
       "      <td>0.879238</td>\n",
       "    </tr>\n",
       "    <tr>\n",
       "      <th>...</th>\n",
       "      <td>...</td>\n",
       "      <td>...</td>\n",
       "      <td>...</td>\n",
       "    </tr>\n",
       "    <tr>\n",
       "      <th>1911</th>\n",
       "      <td>a7c47a5c-2019-04-17T11:47:49Z-00020-000</td>\n",
       "      <td>0.144024</td>\n",
       "      <td>0.105948</td>\n",
       "    </tr>\n",
       "    <tr>\n",
       "      <th>1912</th>\n",
       "      <td>a7c47a5c-2019-04-17T11:47:49Z-00015-000</td>\n",
       "      <td>0.288707</td>\n",
       "      <td>0.212077</td>\n",
       "    </tr>\n",
       "    <tr>\n",
       "      <th>1913</th>\n",
       "      <td>a7c47a5c-2019-04-17T11:47:49Z-00016-000</td>\n",
       "      <td>0.634408</td>\n",
       "      <td>0.771009</td>\n",
       "    </tr>\n",
       "    <tr>\n",
       "      <th>1914</th>\n",
       "      <td>a7c47a5c-2019-04-17T11:47:49Z-00002-000</td>\n",
       "      <td>0.768899</td>\n",
       "      <td>0.759956</td>\n",
       "    </tr>\n",
       "    <tr>\n",
       "      <th>1915</th>\n",
       "      <td>a7c47a5c-2019-04-17T11:47:49Z-00010-000</td>\n",
       "      <td>0.426154</td>\n",
       "      <td>0.215530</td>\n",
       "    </tr>\n",
       "  </tbody>\n",
       "</table>\n",
       "<p>1916 rows × 3 columns</p>\n",
       "</div>"
      ],
      "text/plain": [
       "                                      arg_ids      mean    median\n",
       "0     cf63c6bb-2019-04-18T16:09:29Z-00004-000  0.829133  0.892579\n",
       "1      b129938-2019-04-18T17:27:14Z-00003-000  0.214735  0.200753\n",
       "2     bb8a50de-2019-04-18T18:52:28Z-00003-000  0.748457  0.851136\n",
       "3     f1a21db5-2019-04-18T19:44:42Z-00003-000  0.940014  0.927205\n",
       "4     f8fc8c9e-2019-04-18T19:30:17Z-00003-000  0.910836  0.879238\n",
       "...                                       ...       ...       ...\n",
       "1911  a7c47a5c-2019-04-17T11:47:49Z-00020-000  0.144024  0.105948\n",
       "1912  a7c47a5c-2019-04-17T11:47:49Z-00015-000  0.288707  0.212077\n",
       "1913  a7c47a5c-2019-04-17T11:47:49Z-00016-000  0.634408  0.771009\n",
       "1914  a7c47a5c-2019-04-17T11:47:49Z-00002-000  0.768899  0.759956\n",
       "1915  a7c47a5c-2019-04-17T11:47:49Z-00010-000  0.426154  0.215530\n",
       "\n",
       "[1916 rows x 3 columns]"
      ]
     },
     "execution_count": 184,
     "metadata": {},
     "output_type": "execute_result"
    }
   ],
   "source": [
    "scaler = MinMaxScaler()\n",
    "all_scores = np.hstack([scaler.fit_transform(use_reranked[['relevance', 'binary', 'aux']]), scaler.fit_transform(db_reranked[['relevance', 'binary']])])\n",
    "final_ranks = pd.DataFrame({'arg_ids':use_reranked['id'], 'mean':pd.Series(np.mean(all_scores, axis=1)), 'median':pd.Series(np.median(all_scores, axis=1))})\n",
    "final_ranks"
   ]
  },
  {
   "cell_type": "markdown",
   "metadata": {},
   "source": [
    "## Sort by mean"
   ]
  },
  {
   "cell_type": "code",
   "execution_count": 186,
   "metadata": {},
   "outputs": [
    {
     "data": {
      "text/html": [
       "<div>\n",
       "<style scoped>\n",
       "    .dataframe tbody tr th:only-of-type {\n",
       "        vertical-align: middle;\n",
       "    }\n",
       "\n",
       "    .dataframe tbody tr th {\n",
       "        vertical-align: top;\n",
       "    }\n",
       "\n",
       "    .dataframe thead th {\n",
       "        text-align: right;\n",
       "    }\n",
       "</style>\n",
       "<table border=\"1\" class=\"dataframe\">\n",
       "  <thead>\n",
       "    <tr style=\"text-align: right;\">\n",
       "      <th></th>\n",
       "      <th>arg_ids</th>\n",
       "      <th>mean</th>\n",
       "      <th>median</th>\n",
       "    </tr>\n",
       "  </thead>\n",
       "  <tbody>\n",
       "    <tr>\n",
       "      <th>597</th>\n",
       "      <td>e7056476-2019-04-19T12:47:46Z-00019-000</td>\n",
       "      <td>0.991811</td>\n",
       "      <td>0.997550</td>\n",
       "    </tr>\n",
       "    <tr>\n",
       "      <th>125</th>\n",
       "      <td>4c6aab06-2019-04-18T17:04:35Z-00000-000</td>\n",
       "      <td>0.982555</td>\n",
       "      <td>0.995139</td>\n",
       "    </tr>\n",
       "    <tr>\n",
       "      <th>126</th>\n",
       "      <td>4c6aab06-2019-04-18T17:04:35Z-00001-000</td>\n",
       "      <td>0.977574</td>\n",
       "      <td>0.993606</td>\n",
       "    </tr>\n",
       "    <tr>\n",
       "      <th>55</th>\n",
       "      <td>d926f811-2019-04-18T19:43:34Z-00004-000</td>\n",
       "      <td>0.976536</td>\n",
       "      <td>0.987507</td>\n",
       "    </tr>\n",
       "    <tr>\n",
       "      <th>47</th>\n",
       "      <td>4911d42e-2019-04-18T12:51:15Z-00000-000</td>\n",
       "      <td>0.975741</td>\n",
       "      <td>0.991463</td>\n",
       "    </tr>\n",
       "    <tr>\n",
       "      <th>...</th>\n",
       "      <td>...</td>\n",
       "      <td>...</td>\n",
       "      <td>...</td>\n",
       "    </tr>\n",
       "    <tr>\n",
       "      <th>755</th>\n",
       "      <td>9bc8d269-2019-04-17T11:47:38Z-00035-000</td>\n",
       "      <td>0.083325</td>\n",
       "      <td>0.053266</td>\n",
       "    </tr>\n",
       "    <tr>\n",
       "      <th>688</th>\n",
       "      <td>7785529c-2019-04-17T11:47:37Z-00029-000</td>\n",
       "      <td>0.077810</td>\n",
       "      <td>0.065996</td>\n",
       "    </tr>\n",
       "    <tr>\n",
       "      <th>1495</th>\n",
       "      <td>8b68ae4-2019-04-17T11:47:47Z-00001-000</td>\n",
       "      <td>0.073651</td>\n",
       "      <td>0.023386</td>\n",
       "    </tr>\n",
       "    <tr>\n",
       "      <th>705</th>\n",
       "      <td>7785529c-2019-04-17T11:47:37Z-00037-000</td>\n",
       "      <td>0.071746</td>\n",
       "      <td>0.033995</td>\n",
       "    </tr>\n",
       "    <tr>\n",
       "      <th>708</th>\n",
       "      <td>7785529c-2019-04-17T11:47:37Z-00024-000</td>\n",
       "      <td>0.070669</td>\n",
       "      <td>0.051411</td>\n",
       "    </tr>\n",
       "  </tbody>\n",
       "</table>\n",
       "<p>1916 rows × 3 columns</p>\n",
       "</div>"
      ],
      "text/plain": [
       "                                      arg_ids      mean    median\n",
       "597   e7056476-2019-04-19T12:47:46Z-00019-000  0.991811  0.997550\n",
       "125   4c6aab06-2019-04-18T17:04:35Z-00000-000  0.982555  0.995139\n",
       "126   4c6aab06-2019-04-18T17:04:35Z-00001-000  0.977574  0.993606\n",
       "55    d926f811-2019-04-18T19:43:34Z-00004-000  0.976536  0.987507\n",
       "47    4911d42e-2019-04-18T12:51:15Z-00000-000  0.975741  0.991463\n",
       "...                                       ...       ...       ...\n",
       "755   9bc8d269-2019-04-17T11:47:38Z-00035-000  0.083325  0.053266\n",
       "688   7785529c-2019-04-17T11:47:37Z-00029-000  0.077810  0.065996\n",
       "1495   8b68ae4-2019-04-17T11:47:47Z-00001-000  0.073651  0.023386\n",
       "705   7785529c-2019-04-17T11:47:37Z-00037-000  0.071746  0.033995\n",
       "708   7785529c-2019-04-17T11:47:37Z-00024-000  0.070669  0.051411\n",
       "\n",
       "[1916 rows x 3 columns]"
      ]
     },
     "execution_count": 186,
     "metadata": {},
     "output_type": "execute_result"
    }
   ],
   "source": [
    "final_ranks.sort_values(by='mean', ascending=False)"
   ]
  },
  {
   "cell_type": "markdown",
   "metadata": {},
   "source": [
    "## Sort by median"
   ]
  },
  {
   "cell_type": "code",
   "execution_count": 187,
   "metadata": {},
   "outputs": [
    {
     "data": {
      "text/html": [
       "<div>\n",
       "<style scoped>\n",
       "    .dataframe tbody tr th:only-of-type {\n",
       "        vertical-align: middle;\n",
       "    }\n",
       "\n",
       "    .dataframe tbody tr th {\n",
       "        vertical-align: top;\n",
       "    }\n",
       "\n",
       "    .dataframe thead th {\n",
       "        text-align: right;\n",
       "    }\n",
       "</style>\n",
       "<table border=\"1\" class=\"dataframe\">\n",
       "  <thead>\n",
       "    <tr style=\"text-align: right;\">\n",
       "      <th></th>\n",
       "      <th>arg_ids</th>\n",
       "      <th>mean</th>\n",
       "      <th>median</th>\n",
       "    </tr>\n",
       "  </thead>\n",
       "  <tbody>\n",
       "    <tr>\n",
       "      <th>144</th>\n",
       "      <td>b3cf5511-2019-04-18T18:44:32Z-00004-000</td>\n",
       "      <td>0.923510</td>\n",
       "      <td>0.998179</td>\n",
       "    </tr>\n",
       "    <tr>\n",
       "      <th>597</th>\n",
       "      <td>e7056476-2019-04-19T12:47:46Z-00019-000</td>\n",
       "      <td>0.991811</td>\n",
       "      <td>0.997550</td>\n",
       "    </tr>\n",
       "    <tr>\n",
       "      <th>29</th>\n",
       "      <td>996dd88-2019-04-18T16:58:08Z-00002-000</td>\n",
       "      <td>0.960776</td>\n",
       "      <td>0.997307</td>\n",
       "    </tr>\n",
       "    <tr>\n",
       "      <th>117</th>\n",
       "      <td>2b6bd5cb-2019-04-18T11:43:36Z-00000-000</td>\n",
       "      <td>0.958431</td>\n",
       "      <td>0.995921</td>\n",
       "    </tr>\n",
       "    <tr>\n",
       "      <th>538</th>\n",
       "      <td>a69e9d5b-2019-04-19T12:46:24Z-00016-000</td>\n",
       "      <td>0.946301</td>\n",
       "      <td>0.995918</td>\n",
       "    </tr>\n",
       "    <tr>\n",
       "      <th>...</th>\n",
       "      <td>...</td>\n",
       "      <td>...</td>\n",
       "      <td>...</td>\n",
       "    </tr>\n",
       "    <tr>\n",
       "      <th>1747</th>\n",
       "      <td>e3d235e2-2019-04-17T11:47:41Z-00031-000</td>\n",
       "      <td>0.150586</td>\n",
       "      <td>0.043986</td>\n",
       "    </tr>\n",
       "    <tr>\n",
       "      <th>705</th>\n",
       "      <td>7785529c-2019-04-17T11:47:37Z-00037-000</td>\n",
       "      <td>0.071746</td>\n",
       "      <td>0.033995</td>\n",
       "    </tr>\n",
       "    <tr>\n",
       "      <th>402</th>\n",
       "      <td>e4c52b1f-2019-04-15T20:22:58Z-00000-000</td>\n",
       "      <td>0.150817</td>\n",
       "      <td>0.029450</td>\n",
       "    </tr>\n",
       "    <tr>\n",
       "      <th>1495</th>\n",
       "      <td>8b68ae4-2019-04-17T11:47:47Z-00001-000</td>\n",
       "      <td>0.073651</td>\n",
       "      <td>0.023386</td>\n",
       "    </tr>\n",
       "    <tr>\n",
       "      <th>797</th>\n",
       "      <td>412c152b-2019-04-17T11:47:24Z-00031-000</td>\n",
       "      <td>0.084489</td>\n",
       "      <td>0.020439</td>\n",
       "    </tr>\n",
       "  </tbody>\n",
       "</table>\n",
       "<p>1916 rows × 3 columns</p>\n",
       "</div>"
      ],
      "text/plain": [
       "                                      arg_ids      mean    median\n",
       "144   b3cf5511-2019-04-18T18:44:32Z-00004-000  0.923510  0.998179\n",
       "597   e7056476-2019-04-19T12:47:46Z-00019-000  0.991811  0.997550\n",
       "29     996dd88-2019-04-18T16:58:08Z-00002-000  0.960776  0.997307\n",
       "117   2b6bd5cb-2019-04-18T11:43:36Z-00000-000  0.958431  0.995921\n",
       "538   a69e9d5b-2019-04-19T12:46:24Z-00016-000  0.946301  0.995918\n",
       "...                                       ...       ...       ...\n",
       "1747  e3d235e2-2019-04-17T11:47:41Z-00031-000  0.150586  0.043986\n",
       "705   7785529c-2019-04-17T11:47:37Z-00037-000  0.071746  0.033995\n",
       "402   e4c52b1f-2019-04-15T20:22:58Z-00000-000  0.150817  0.029450\n",
       "1495   8b68ae4-2019-04-17T11:47:47Z-00001-000  0.073651  0.023386\n",
       "797   412c152b-2019-04-17T11:47:24Z-00031-000  0.084489  0.020439\n",
       "\n",
       "[1916 rows x 3 columns]"
      ]
     },
     "execution_count": 187,
     "metadata": {},
     "output_type": "execute_result"
    }
   ],
   "source": [
    "final_ranks.sort_values(by='median', ascending=False)"
   ]
  }
 ],
 "metadata": {
  "kernelspec": {
   "display_name": "Python 3",
   "language": "python",
   "name": "python3"
  },
  "language_info": {
   "codemirror_mode": {
    "name": "ipython",
    "version": 3
   },
   "file_extension": ".py",
   "mimetype": "text/x-python",
   "name": "python",
   "nbconvert_exporter": "python",
   "pygments_lexer": "ipython3",
   "version": "3.6.9"
  }
 },
 "nbformat": 4,
 "nbformat_minor": 4
}
